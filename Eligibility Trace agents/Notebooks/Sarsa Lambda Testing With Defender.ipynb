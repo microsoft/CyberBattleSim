{
 "cells": [
  {
   "cell_type": "code",
   "execution_count": null,
   "id": "19563726",
   "metadata": {},
   "outputs": [],
   "source": [
    "import sys\n",
    "import logging\n",
    "import gym\n",
    "import importlib\n",
    "\n",
    "from cyberbattle._env.defender import ScanAndReimageCompromisedMachines\n",
    "from cyberbattle._env.cyberbattle_env import AttackerGoal, DefenderConstraint\n",
    "import cyberbattle.agents.baseline.plotting as p\n",
    "sys.path.insert(0, '/Users/freddiebarrell/Desktop/Repository/Sarsa(Lambda)')\n",
    "import agent_sarsa_lambda as a\n",
    "import agent_wrapper as w\n",
    "import learner as learner\n",
    "from agent_wrapper import Verbosity\n",
    "\n",
    "importlib.reload(learner)\n",
    "importlib.reload(p)\n",
    "\n",
    "logging.basicConfig(stream=sys.stdout, level=logging.ERROR, format=\"%(levelname)s: %(message)s\")"
   ]
  },
  {
   "cell_type": "code",
   "execution_count": null,
   "id": "2793e70b",
   "metadata": {},
   "outputs": [],
   "source": [
    "gym_env = gym.make(\"CyberBattleToyCtf-v0\",\n",
    "                   attacker_goal=AttackerGoal(\n",
    "                       #reward=430,\n",
    "                       own_atleast_percent=1),\n",
    "                  defender_constraint=DefenderConstraint(\n",
    "                                         maintain_sla=0.80\n",
    "                                     ),\n",
    "                                     defender_agent=ScanAndReimageCompromisedMachines(\n",
    "                                         probability=0.6,\n",
    "                                         scan_capacity=2,\n",
    "                                         scan_frequency=5))\n",
    "\n",
    "ep = w.EnvironmentBounds.of_identifiers(\n",
    "    maximum_node_count=12,\n",
    "    maximum_total_credentials=10,\n",
    "    identifiers=gym_env.identifiers\n",
    ")"
   ]
  },
  {
   "cell_type": "code",
   "execution_count": null,
   "id": "3cac15ff",
   "metadata": {},
   "outputs": [],
   "source": [
    "iteration_count = 1000\n",
    "training_episode_count = 15"
   ]
  },
  {
   "cell_type": "code",
   "execution_count": null,
   "id": "e5523c34",
   "metadata": {},
   "outputs": [],
   "source": [
    "sarsa_lambda_with_defender = learner.epsilon_greedy_search(\n",
    "    gym_env,\n",
    "    ep,\n",
    "    learner=a.SarsaLambdaPolicy(\n",
    "        ep,\n",
    "        gamma=0.015, λ=0.5, learning_rate=0.01, hash_size=98689),\n",
    "    episode_count=training_episode_count,\n",
    "    iteration_count=iteration_count,\n",
    "    epsilon=0.9,\n",
    "    render=False,\n",
    "    epsilon_exponential_decay=1000,\n",
    "    epsilon_minimum=0.01,\n",
    "    verbosity=Verbosity.Quiet,\n",
    "    title=\"Sarsa_Lambda with defender\"\n",
    ")"
   ]
  },
  {
   "cell_type": "code",
   "execution_count": null,
   "id": "4e5f58fe",
   "metadata": {},
   "outputs": [],
   "source": [
    "sarsa_lambda_exploit_with_defender = learner.epsilon_greedy_search(\n",
    "gym_env,\n",
    "ep,\n",
    "learner=sarsa_lambda_with_defender['learner'],\n",
    "episode_count=10,\n",
    "iteration_count=1000,\n",
    "epsilon=0,\n",
    "render=False,\n",
    "epsilon_minimum=0,\n",
    "verbosity=Verbosity.Quiet,\n",
    "title=\"Exploiting Sarsa_lambda with defender\"\n",
    ")"
   ]
  },
  {
   "cell_type": "code",
   "execution_count": null,
   "id": "06793ce8",
   "metadata": {},
   "outputs": [],
   "source": []
  }
 ],
 "metadata": {
  "kernelspec": {
   "display_name": "Python 3 (ipykernel)",
   "language": "python",
   "name": "python3"
  },
  "language_info": {
   "codemirror_mode": {
    "name": "ipython",
    "version": 3
   },
   "file_extension": ".py",
   "mimetype": "text/x-python",
   "name": "python",
   "nbconvert_exporter": "python",
   "pygments_lexer": "ipython3",
   "version": "3.9.12"
  }
 },
 "nbformat": 4,
 "nbformat_minor": 5
}
