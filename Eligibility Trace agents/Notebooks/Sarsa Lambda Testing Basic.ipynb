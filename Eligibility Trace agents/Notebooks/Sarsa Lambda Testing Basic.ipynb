{
 "cells": [
  {
   "cell_type": "code",
   "execution_count": null,
   "id": "fae4d125",
   "metadata": {},
   "outputs": [],
   "source": [
    "import sys\n",
    "import logging\n",
    "import gym\n",
    "from cyberbattle._env.cyberbattle_env import AttackerGoal\n",
    "sys.path.insert(0, '/Users/freddiebarrell/Desktop/Repository/Sarsa(Lambda)')\n",
    "import agent_sarsa_lambda as a\n",
    "import agent_wrapper as w\n",
    "import learner as learner\n",
    "from agent_wrapper import Verbosity\n",
    "\n",
    "logging.basicConfig(stream=sys.stdout, level=logging.ERROR, format=\"%(levelname)s: %(message)s\")"
   ]
  },
  {
   "cell_type": "code",
   "execution_count": null,
   "id": "c3928c9e",
   "metadata": {},
   "outputs": [],
   "source": [
    "gym_env = gym.make(\"CyberBattleToyCtf-v0\",\n",
    "                   attacker_goal=AttackerGoal(\n",
    "                       reward=430,\n",
    "                       own_atleast_percent=0.6))\n",
    "\n",
    "ep = w.EnvironmentBounds.of_identifiers(\n",
    "    maximum_node_count=12,\n",
    "    maximum_total_credentials=10,\n",
    "    identifiers=gym_env.identifiers\n",
    ")"
   ]
  },
  {
   "cell_type": "code",
   "execution_count": null,
   "id": "0fca12ff",
   "metadata": {},
   "outputs": [],
   "source": [
    "sarsa_lambda_five_episodes = learner.epsilon_greedy_search(\n",
    "    gym_env,\n",
    "    ep,\n",
    "    learner=a.SarsaLambdaPolicy(\n",
    "        ep,\n",
    "        gamma=0.015, λ=0.5, learning_rate=0.01, hash_size=98689),\n",
    "    episode_count=5,\n",
    "    iteration_count=1000,\n",
    "    epsilon=0.9,\n",
    "    render=False,\n",
    "    epsilon_exponential_decay=1000,\n",
    "    epsilon_minimum=0.01,\n",
    "    verbosity=Verbosity.Quiet,\n",
    "    title=\"Sarsa_Lambda five\"\n",
    ")"
   ]
  },
  {
   "cell_type": "code",
   "execution_count": null,
   "id": "0c7cc52d",
   "metadata": {},
   "outputs": [],
   "source": [
    "sarsa_lambda_exploit_five = learner.epsilon_greedy_search(\n",
    "gym_env,\n",
    "ep,\n",
    "learner=sarsa_lambda_five_episodes['learner'],\n",
    "episode_count=10,\n",
    "iteration_count=50,\n",
    "epsilon=0,\n",
    "render=False,\n",
    "epsilon_minimum=0,\n",
    "verbosity=Verbosity.Quiet,\n",
    "title=\"Exploiting Sarsa_Lambda five\"\n",
    ")"
   ]
  },
  {
   "cell_type": "code",
   "execution_count": null,
   "id": "26cefa42",
   "metadata": {},
   "outputs": [],
   "source": [
    "sarsa_lambda_ten_episodes = learner.epsilon_greedy_search(\n",
    "    gym_env,\n",
    "    ep,\n",
    "    learner=a.SarsaLambdaPolicy(\n",
    "        ep,\n",
    "        gamma=0.015, λ=0.5, learning_rate=0.01, hash_size=98689),\n",
    "    episode_count=10,\n",
    "    iteration_count=1000,\n",
    "    epsilon=0.9,\n",
    "    render=False,\n",
    "    epsilon_exponential_decay=1000,\n",
    "    epsilon_minimum=0.01,\n",
    "    verbosity=Verbosity.Quiet,\n",
    "    title=\"Sarsa_Lambda ten\"\n",
    ")"
   ]
  },
  {
   "cell_type": "code",
   "execution_count": null,
   "id": "809d50f5",
   "metadata": {},
   "outputs": [],
   "source": [
    "sarsa_lambda_exploit_ten = learner.epsilon_greedy_search(\n",
    "gym_env,\n",
    "ep,\n",
    "learner=sarsa_lambda_ten_episodes['learner'],\n",
    "episode_count=10,\n",
    "iteration_count=50,\n",
    "epsilon=0,\n",
    "render=False,\n",
    "epsilon_minimum=0,\n",
    "verbosity=Verbosity.Quiet,\n",
    "title=\"Exploiting Sarsa_Lambda ten\"\n",
    ")"
   ]
  },
  {
   "cell_type": "code",
   "execution_count": null,
   "id": "a1f68a6d",
   "metadata": {},
   "outputs": [],
   "source": [
    "sarsa_lambda_fifteen_episodes = learner.epsilon_greedy_search(\n",
    "    gym_env,\n",
    "    ep,\n",
    "    learner=a.SarsaLambdaPolicy(\n",
    "        ep,\n",
    "        gamma=0.015, λ=0.5, learning_rate=0.01, hash_size=98689),\n",
    "    episode_count=15,\n",
    "    iteration_count=1000,\n",
    "    epsilon=0.9,\n",
    "    render=False,\n",
    "    epsilon_exponential_decay=1000,\n",
    "    epsilon_minimum=0.01,\n",
    "    verbosity=Verbosity.Quiet,\n",
    "    title=\"Sarsa_Lambda fifteen\"\n",
    ")"
   ]
  },
  {
   "cell_type": "code",
   "execution_count": null,
   "id": "b0614bcc",
   "metadata": {},
   "outputs": [],
   "source": [
    "sarsa_lambda_exploit_fifteen = learner.epsilon_greedy_search(\n",
    "gym_env,\n",
    "ep,\n",
    "learner=sarsa_lambda_fifteen_episodes['learner'],\n",
    "episode_count=10,\n",
    "iteration_count=50,\n",
    "epsilon=0,\n",
    "render=False,\n",
    "epsilon_minimum=0,\n",
    "verbosity=Verbosity.Quiet,\n",
    "title=\"Exploiting Sarsa_Lambda fifteen\"\n",
    ")"
   ]
  },
  {
   "cell_type": "code",
   "execution_count": null,
   "id": "09551250",
   "metadata": {},
   "outputs": [],
   "source": []
  }
 ],
 "metadata": {
  "kernelspec": {
   "display_name": "Python 3 (ipykernel)",
   "language": "python",
   "name": "python3"
  },
  "language_info": {
   "codemirror_mode": {
    "name": "ipython",
    "version": 3
   },
   "file_extension": ".py",
   "mimetype": "text/x-python",
   "name": "python",
   "nbconvert_exporter": "python",
   "pygments_lexer": "ipython3",
   "version": "3.9.12"
  }
 },
 "nbformat": 4,
 "nbformat_minor": 5
}
