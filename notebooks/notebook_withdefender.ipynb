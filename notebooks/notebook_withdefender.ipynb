{
 "cells": [
  {
   "cell_type": "code",
   "execution_count": 1,
   "id": "seven-brave",
   "metadata": {
    "execution": {
     "iopub.execute_input": "2021-09-06T21:30:26.160852Z",
     "iopub.status.busy": "2021-09-06T21:30:26.160206Z",
     "iopub.status.idle": "2021-09-06T21:30:26.164014Z",
     "shell.execute_reply": "2021-09-06T21:30:26.164519Z"
    },
    "papermill": {
     "duration": 0.0212,
     "end_time": "2021-09-06T21:30:26.164779",
     "exception": false,
     "start_time": "2021-09-06T21:30:26.143579",
     "status": "completed"
    },
    "tags": []
   },
   "outputs": [
    {
     "data": {
      "text/plain": [
       "'Attacker agent benchmark comparison in presence of a basic defender\\n\\nThis notebooks can be run directly from VSCode, to generate a\\ntraditional Jupyter Notebook to open in your browser\\n you can run the VSCode command `Export Currenty Python File As Jupyter Notebook`.\\n'"
      ]
     },
     "execution_count": 1,
     "metadata": {},
     "output_type": "execute_result"
    }
   ],
   "source": [
    "# Copyright (c) Microsoft Corporation.\n",
    "# Licensed under the MIT License.\n",
    "\n",
    "\"\"\"Attacker agent benchmark comparison in presence of a basic defender\n",
    "\n",
    "This notebooks can be run directly from VSCode, to generate a\n",
    "traditional Jupyter Notebook to open in your browser\n",
    " you can run the VSCode command `Export Currenty Python File As Jupyter Notebook`.\n",
    "\"\"\""
   ]
  },
  {
   "cell_type": "code",
   "execution_count": 2,
   "id": "macro-definition",
   "metadata": {
    "execution": {
     "iopub.execute_input": "2021-09-06T21:30:26.189987Z",
     "iopub.status.busy": "2021-09-06T21:30:26.189388Z",
     "iopub.status.idle": "2021-09-06T21:30:27.462678Z",
     "shell.execute_reply": "2021-09-06T21:30:27.463163Z"
    },
    "lines_to_next_cell": 2,
    "papermill": {
     "duration": 1.289318,
     "end_time": "2021-09-06T21:30:27.463323",
     "exception": false,
     "start_time": "2021-09-06T21:30:26.174005",
     "status": "completed"
    },
    "tags": []
   },
   "outputs": [],
   "source": [
    "import sys\n",
    "import logging\n",
    "import gym\n",
    "import importlib\n",
    "\n",
    "import cyberbattle.agents.baseline.learner as learner\n",
    "import cyberbattle.agents.baseline.plotting as p\n",
    "import cyberbattle.agents.baseline.agent_wrapper as w\n",
    "import cyberbattle.agents.baseline.agent_dql as dqla\n",
    "import cyberbattle.agents.baseline.agent_randomcredlookup as rca\n",
    "from cyberbattle.agents.baseline.agent_wrapper import Verbosity\n",
    "from cyberbattle._env.defender import ScanAndReimageCompromisedMachines\n",
    "from cyberbattle._env.cyberbattle_env import AttackerGoal, DefenderConstraint\n",
    "\n",
    "importlib.reload(learner)\n",
    "importlib.reload(p)\n",
    "\n",
    "logging.basicConfig(stream=sys.stdout, level=logging.ERROR, format=\"%(levelname)s: %(message)s\")\n",
    "\n",
    "\n",
    "cyberbattlechain_defender = gym.make('CyberBattleChain-v0',\n",
    "                                     size=10,\n",
    "                                     attacker_goal=AttackerGoal(\n",
    "                                         own_atleast=0,\n",
    "                                         own_atleast_percent=1.0\n",
    "                                     ),\n",
    "                                     defender_constraint=DefenderConstraint(\n",
    "                                         maintain_sla=0.80\n",
    "                                     ),\n",
    "                                     defender_agent=ScanAndReimageCompromisedMachines(\n",
    "                                         probability=0.6,\n",
    "                                         scan_capacity=2,\n",
    "                                         scan_frequency=5))\n",
    "\n",
    "\n",
    "ep = w.EnvironmentBounds.of_identifiers(\n",
    "    maximum_total_credentials=22,\n",
    "    maximum_node_count=22,\n",
    "    identifiers=cyberbattlechain_defender.identifiers\n",
    ")\n",
    "\n",
    "iteration_count = 600\n",
    "training_episode_count = 10"
   ]
  },
  {
   "cell_type": "code",
   "execution_count": 3,
   "id": "floating-cambridge",
   "metadata": {
    "execution": {
     "iopub.execute_input": "2021-09-06T21:30:27.483522Z",
     "iopub.status.busy": "2021-09-06T21:30:27.482924Z",
     "iopub.status.idle": "2021-09-06T21:31:15.629422Z",
     "shell.execute_reply": "2021-09-06T21:31:15.629934Z"
    },
    "lines_to_next_cell": 2,
    "papermill": {
     "duration": 48.159492,
     "end_time": "2021-09-06T21:31:15.630154",
     "exception": false,
     "start_time": "2021-09-06T21:30:27.470662",
     "status": "completed"
    },
    "tags": []
   },
   "outputs": [
    {
     "name": "stdout",
     "output_type": "stream",
     "text": [
      "###### DQL\n",
      "Learning with: episode_count=10,iteration_count=600,ϵ=0.9,ϵ_min=0.1, ϵ_expdecay=5000,γ=0.15, lr=0.01, replaymemory=10000,\n",
      "batch=256, target_update=5\n",
      "  ## Episode: 1/10 'DQL' ϵ=0.9000, γ=0.15, lr=0.01, replaymemory=10000,\n",
      "batch=256, target_update=5\n"
     ]
    },
    {
     "name": "stderr",
     "output_type": "stream",
     "text": [
      "\r",
      "Episode 1|Iteration 0|reward: ------|last_reward_at: ----|Elapsed Time: 0:00:00||"
     ]
    },
    {
     "name": "stderr",
     "output_type": "stream",
     "text": [
      "\r",
      "Episode 1|Iteration 1|reward:    0.0|last_reward_at: ----|Elapsed Time: 0:00:00||"
     ]
    },
    {
     "name": "stderr",
     "output_type": "stream",
     "text": [
      "\r",
      "Episode 1|Iteration 7|reward:    9.0|last_reward_at: ----|Elapsed Time: 0:00:00||"
     ]
    },
    {
     "name": "stderr",
     "output_type": "stream",
     "text": [
      "\r",
      "Episode 1|Iteration 7|reward:    9.0|last_reward_at:    7|Elapsed Time: 0:00:00||"
     ]
    },
    {
     "name": "stderr",
     "output_type": "stream",
     "text": [
      "\r",
      "Episode 1|Iteration 15|reward:   13.0|last_reward_at:    7|Elapsed Time: 0:00:00||"
     ]
    },
    {
     "name": "stderr",
     "output_type": "stream",
     "text": [
      "\r",
      "Episode 1|Iteration 15|reward:   13.0|last_reward_at:   15|Elapsed Time: 0:00:00||"
     ]
    },
    {
     "name": "stderr",
     "output_type": "stream",
     "text": [
      "\r",
      "Episode 1|Iteration 17|reward:   15.0|last_reward_at:   15|Elapsed Time: 0:00:00||"
     ]
    },
    {
     "name": "stderr",
     "output_type": "stream",
     "text": [
      "\r",
      "Episode 1|Iteration 17|reward:   15.0|last_reward_at:   17|Elapsed Time: 0:00:00||"
     ]
    },
    {
     "name": "stderr",
     "output_type": "stream",
     "text": [
      "\r",
      "Episode 1|Iteration 38|reward:   15.0|last_reward_at:   17|Elapsed Time: 0:00:00||"
     ]
    },
    {
     "name": "stderr",
     "output_type": "stream",
     "text": [
      "\r",
      "Episode 1|Iteration 54|reward:  115.0|last_reward_at:   17|Elapsed Time: 0:00:00||"
     ]
    },
    {
     "name": "stderr",
     "output_type": "stream",
     "text": [
      "\r",
      "Episode 1|Iteration 54|reward:  115.0|last_reward_at:   54|Elapsed Time: 0:00:00||"
     ]
    },
    {
     "name": "stderr",
     "output_type": "stream",
     "text": [
      "\r",
      "Episode 1|Iteration 56|reward:  121.0|last_reward_at:   54|Elapsed Time: 0:00:00||"
     ]
    },
    {
     "name": "stderr",
     "output_type": "stream",
     "text": [
      "\r",
      "Episode 1|Iteration 56|reward:  121.0|last_reward_at:   56|Elapsed Time: 0:00:00||"
     ]
    },
    {
     "name": "stderr",
     "output_type": "stream",
     "text": [
      "\r",
      "Episode 1|Iteration 61|reward:  129.0|last_reward_at:   56|Elapsed Time: 0:00:00||"
     ]
    },
    {
     "name": "stderr",
     "output_type": "stream",
     "text": [
      "\r",
      "Episode 1|Iteration 61|reward:  129.0|last_reward_at:   61|Elapsed Time: 0:00:00||"
     ]
    },
    {
     "name": "stderr",
     "output_type": "stream",
     "text": [
      "\r",
      "Episode 1|Iteration 66|reward:  138.0|last_reward_at:   61|Elapsed Time: 0:00:00||"
     ]
    },
    {
     "name": "stderr",
     "output_type": "stream",
     "text": [
      "\r",
      "Episode 1|Iteration 66|reward:  138.0|last_reward_at:   66|Elapsed Time: 0:00:00||"
     ]
    },
    {
     "name": "stderr",
     "output_type": "stream",
     "text": [
      "\r",
      "Episode 1|Iteration 77|reward:  144.0|last_reward_at:   66|Elapsed Time: 0:00:00||"
     ]
    },
    {
     "name": "stderr",
     "output_type": "stream",
     "text": [
      "\r",
      "Episode 1|Iteration 77|reward:  144.0|last_reward_at:   77|Elapsed Time: 0:00:00||"
     ]
    },
    {
     "name": "stderr",
     "output_type": "stream",
     "text": [
      "\r",
      "Episode 1|Iteration 95|reward:  244.0|last_reward_at:   77|Elapsed Time: 0:00:00||"
     ]
    },
    {
     "name": "stderr",
     "output_type": "stream",
     "text": [
      "\r",
      "Episode 1|Iteration 95|reward:  244.0|last_reward_at:   95|Elapsed Time: 0:00:00||"
     ]
    },
    {
     "name": "stderr",
     "output_type": "stream",
     "text": [
      "\r",
      "Episode 1|Iteration 101|reward:  250.0|last_reward_at:   95|Elapsed Time: 0:00:00||"
     ]
    },
    {
     "name": "stderr",
     "output_type": "stream",
     "text": [
      "\r",
      "Episode 1|Iteration 101|reward:  250.0|last_reward_at:  101|Elapsed Time: 0:00:00||"
     ]
    },
    {
     "name": "stderr",
     "output_type": "stream",
     "text": [
      "\r",
      "Episode 1|Iteration 109|reward:  259.0|last_reward_at:  101|Elapsed Time: 0:00:00||"
     ]
    },
    {
     "name": "stderr",
     "output_type": "stream",
     "text": [
      "\r",
      "Episode 1|Iteration 109|reward:  259.0|last_reward_at:  109|Elapsed Time: 0:00:00||"
     ]
    },
    {
     "name": "stderr",
     "output_type": "stream",
     "text": [
      "\r",
      "Episode 1|Iteration 123|reward:  263.0|last_reward_at:  109|Elapsed Time: 0:00:00||"
     ]
    },
    {
     "name": "stderr",
     "output_type": "stream",
     "text": [
      "\r",
      "Episode 1|Iteration 123|reward:  263.0|last_reward_at:  123|Elapsed Time: 0:00:00||"
     ]
    },
    {
     "name": "stderr",
     "output_type": "stream",
     "text": [
      "\r",
      "Episode 1|Iteration 128|reward:  265.0|last_reward_at:  123|Elapsed Time: 0:00:00||"
     ]
    },
    {
     "name": "stderr",
     "output_type": "stream",
     "text": [
      "\r",
      "Episode 1|Iteration 128|reward:  265.0|last_reward_at:  128|Elapsed Time: 0:00:00||"
     ]
    },
    {
     "name": "stderr",
     "output_type": "stream",
     "text": [
      "\r",
      "Episode 1|Iteration 145|reward:  265.0|last_reward_at:  128|Elapsed Time: 0:00:00||"
     ]
    },
    {
     "name": "stderr",
     "output_type": "stream",
     "text": [
      "\r",
      "Episode 1|Iteration 168|reward:  265.0|last_reward_at:  128|Elapsed Time: 0:00:00||"
     ]
    },
    {
     "name": "stderr",
     "output_type": "stream",
     "text": [
      "\r",
      "Episode 1|Iteration 190|reward:  265.0|last_reward_at:  128|Elapsed Time: 0:00:00||"
     ]
    },
    {
     "name": "stderr",
     "output_type": "stream",
     "text": [
      "\r",
      "Episode 1|Iteration 213|reward:  265.0|last_reward_at:  128|Elapsed Time: 0:00:00||"
     ]
    },
    {
     "name": "stderr",
     "output_type": "stream",
     "text": [
      "\r",
      "Episode 1|Iteration 236|reward:  265.0|last_reward_at:  128|Elapsed Time: 0:00:00||"
     ]
    },
    {
     "name": "stderr",
     "output_type": "stream",
     "text": [
      "\r",
      "Episode 1|Iteration 257|reward:  265.0|last_reward_at:  128|Elapsed Time: 0:00:00||"
     ]
    },
    {
     "name": "stderr",
     "output_type": "stream",
     "text": [
      "\r",
      "Episode 1|Iteration 266|reward:  265.0|last_reward_at:  128|Elapsed Time: 0:00:00||"
     ]
    },
    {
     "name": "stderr",
     "output_type": "stream",
     "text": [
      "\r",
      "Episode 1|Iteration 274|reward:  265.0|last_reward_at:  128|Elapsed Time: 0:00:00||"
     ]
    },
    {
     "name": "stderr",
     "output_type": "stream",
     "text": [
      "\r",
      "Episode 1|Iteration 282|reward:  265.0|last_reward_at:  128|Elapsed Time: 0:00:01||"
     ]
    },
    {
     "name": "stderr",
     "output_type": "stream",
     "text": [
      "\r",
      "Episode 1|Iteration 289|reward:  265.0|last_reward_at:  128|Elapsed Time: 0:00:01||"
     ]
    },
    {
     "name": "stderr",
     "output_type": "stream",
     "text": [
      "\r",
      "Episode 1|Iteration 297|reward:  265.0|last_reward_at:  128|Elapsed Time: 0:00:01||"
     ]
    },
    {
     "name": "stderr",
     "output_type": "stream",
     "text": [
      "\r",
      "Episode 1|Iteration 304|reward:  265.0|last_reward_at:  128|Elapsed Time: 0:00:01||"
     ]
    },
    {
     "name": "stderr",
     "output_type": "stream",
     "text": [
      "\r",
      "Episode 1|Iteration 312|reward:  265.0|last_reward_at:  128|Elapsed Time: 0:00:01||"
     ]
    },
    {
     "name": "stderr",
     "output_type": "stream",
     "text": [
      "\r",
      "Episode 1|Iteration 319|reward:  265.0|last_reward_at:  128|Elapsed Time: 0:00:01||"
     ]
    },
    {
     "name": "stderr",
     "output_type": "stream",
     "text": [
      "\r",
      "Episode 1|Iteration 327|reward:  265.0|last_reward_at:  128|Elapsed Time: 0:00:01||"
     ]
    },
    {
     "name": "stderr",
     "output_type": "stream",
     "text": [
      "\r",
      "Episode 1|Iteration 335|reward:  265.0|last_reward_at:  128|Elapsed Time: 0:00:01||"
     ]
    },
    {
     "name": "stderr",
     "output_type": "stream",
     "text": [
      "\r",
      "Episode 1|Iteration 342|reward:  265.0|last_reward_at:  128|Elapsed Time: 0:00:01||"
     ]
    },
    {
     "name": "stderr",
     "output_type": "stream",
     "text": [
      "\r",
      "Episode 1|Iteration 350|reward:  265.0|last_reward_at:  128|Elapsed Time: 0:00:01||"
     ]
    },
    {
     "name": "stderr",
     "output_type": "stream",
     "text": [
      "\r",
      "Episode 1|Iteration 357|reward:  265.0|last_reward_at:  128|Elapsed Time: 0:00:01||"
     ]
    },
    {
     "name": "stderr",
     "output_type": "stream",
     "text": [
      "\r",
      "Episode 1|Iteration 365|reward:  265.0|last_reward_at:  128|Elapsed Time: 0:00:01||"
     ]
    },
    {
     "name": "stderr",
     "output_type": "stream",
     "text": [
      "\r",
      "Episode 1|Iteration 373|reward:  265.0|last_reward_at:  128|Elapsed Time: 0:00:01||"
     ]
    },
    {
     "name": "stderr",
     "output_type": "stream",
     "text": [
      "\r",
      "Episode 1|Iteration 380|reward:  265.0|last_reward_at:  128|Elapsed Time: 0:00:02||"
     ]
    },
    {
     "name": "stderr",
     "output_type": "stream",
     "text": [
      "\r",
      "Episode 1|Iteration 388|reward:  265.0|last_reward_at:  128|Elapsed Time: 0:00:02||"
     ]
    },
    {
     "name": "stderr",
     "output_type": "stream",
     "text": [
      "\r",
      "Episode 1|Iteration 395|reward:  265.0|last_reward_at:  128|Elapsed Time: 0:00:02||"
     ]
    },
    {
     "name": "stderr",
     "output_type": "stream",
     "text": [
      "\r",
      "Episode 1|Iteration 403|reward:  265.0|last_reward_at:  128|Elapsed Time: 0:00:02||"
     ]
    },
    {
     "name": "stderr",
     "output_type": "stream",
     "text": [
      "\r",
      "Episode 1|Iteration 406|reward:  365.0|last_reward_at:  128|Elapsed Time: 0:00:02||"
     ]
    },
    {
     "name": "stderr",
     "output_type": "stream",
     "text": [
      "\r",
      "Episode 1|Iteration 406|reward:  365.0|last_reward_at:  406|Elapsed Time: 0:00:02||"
     ]
    },
    {
     "name": "stderr",
     "output_type": "stream",
     "text": [
      "\r",
      "Episode 1|Iteration 414|reward:  371.0|last_reward_at:  406|Elapsed Time: 0:00:02||"
     ]
    },
    {
     "name": "stderr",
     "output_type": "stream",
     "text": [
      "\r",
      "Episode 1|Iteration 414|reward:  371.0|last_reward_at:  414|Elapsed Time: 0:00:02||"
     ]
    },
    {
     "name": "stderr",
     "output_type": "stream",
     "text": [
      "\r",
      "Episode 1|Iteration 417|reward:  379.0|last_reward_at:  414|Elapsed Time: 0:00:02||"
     ]
    },
    {
     "name": "stderr",
     "output_type": "stream",
     "text": [
      "\r",
      "Episode 1|Iteration 417|reward:  379.0|last_reward_at:  417|Elapsed Time: 0:00:02||"
     ]
    },
    {
     "name": "stderr",
     "output_type": "stream",
     "text": [
      "\r",
      "Episode 1|Iteration 421|reward:  388.0|last_reward_at:  417|Elapsed Time: 0:00:02||"
     ]
    },
    {
     "name": "stderr",
     "output_type": "stream",
     "text": [
      "\r",
      "Episode 1|Iteration 421|reward:  388.0|last_reward_at:  421|Elapsed Time: 0:00:02||"
     ]
    },
    {
     "name": "stderr",
     "output_type": "stream",
     "text": [
      "\r",
      "Episode 1|Iteration 433|reward:  388.0|last_reward_at:  421|Elapsed Time: 0:00:02||"
     ]
    },
    {
     "name": "stderr",
     "output_type": "stream",
     "text": [
      "\r",
      "Episode 1|Iteration 438|reward:  394.0|last_reward_at:  421|Elapsed Time: 0:00:02||"
     ]
    },
    {
     "name": "stderr",
     "output_type": "stream",
     "text": [
      "\r",
      "Episode 1|Iteration 438|reward:  394.0|last_reward_at:  438|Elapsed Time: 0:00:02||"
     ]
    },
    {
     "name": "stderr",
     "output_type": "stream",
     "text": [
      "\r",
      "Episode 1|Iteration 449|reward:  394.0|last_reward_at:  438|Elapsed Time: 0:00:02||"
     ]
    },
    {
     "name": "stderr",
     "output_type": "stream",
     "text": [
      "\r",
      "Episode 1|Iteration 456|reward:  394.0|last_reward_at:  438|Elapsed Time: 0:00:02||"
     ]
    },
    {
     "name": "stderr",
     "output_type": "stream",
     "text": [
      "\r",
      "Episode 1|Iteration 464|reward:  394.0|last_reward_at:  438|Elapsed Time: 0:00:02||"
     ]
    },
    {
     "name": "stderr",
     "output_type": "stream",
     "text": [
      "\r",
      "Episode 1|Iteration 471|reward:  394.0|last_reward_at:  438|Elapsed Time: 0:00:02||"
     ]
    },
    {
     "name": "stderr",
     "output_type": "stream",
     "text": [
      "\r",
      "Episode 1|Iteration 479|reward:  394.0|last_reward_at:  438|Elapsed Time: 0:00:02||"
     ]
    },
    {
     "name": "stderr",
     "output_type": "stream",
     "text": [
      "\r",
      "Episode 1|Iteration 487|reward:  394.0|last_reward_at:  438|Elapsed Time: 0:00:02||"
     ]
    },
    {
     "name": "stderr",
     "output_type": "stream",
     "text": [
      "\r",
      "Episode 1|Iteration 494|reward:  394.0|last_reward_at:  438|Elapsed Time: 0:00:03||"
     ]
    },
    {
     "name": "stderr",
     "output_type": "stream",
     "text": [
      "\r",
      "Episode 1|Iteration 502|reward:  394.0|last_reward_at:  438|Elapsed Time: 0:00:03||"
     ]
    },
    {
     "name": "stderr",
     "output_type": "stream",
     "text": [
      "\r",
      "Episode 1|Iteration 509|reward:  394.0|last_reward_at:  438|Elapsed Time: 0:00:03||"
     ]
    },
    {
     "name": "stderr",
     "output_type": "stream",
     "text": [
      "\r",
      "Episode 1|Iteration 517|reward:  394.0|last_reward_at:  438|Elapsed Time: 0:00:03||"
     ]
    },
    {
     "name": "stderr",
     "output_type": "stream",
     "text": [
      "\r",
      "Episode 1|Iteration 525|reward:  394.0|last_reward_at:  438|Elapsed Time: 0:00:03||"
     ]
    },
    {
     "name": "stderr",
     "output_type": "stream",
     "text": [
      "\r",
      "Episode 1|Iteration 532|reward:  394.0|last_reward_at:  438|Elapsed Time: 0:00:03||"
     ]
    },
    {
     "name": "stderr",
     "output_type": "stream",
     "text": [
      "\r",
      "Episode 1|Iteration 540|reward:  394.0|last_reward_at:  438|Elapsed Time: 0:00:03||"
     ]
    },
    {
     "name": "stderr",
     "output_type": "stream",
     "text": [
      "\r",
      "Episode 1|Iteration 547|reward:  394.0|last_reward_at:  438|Elapsed Time: 0:00:03||"
     ]
    },
    {
     "name": "stderr",
     "output_type": "stream",
     "text": [
      "\r",
      "Episode 1|Iteration 555|reward:  394.0|last_reward_at:  438|Elapsed Time: 0:00:03||"
     ]
    },
    {
     "name": "stderr",
     "output_type": "stream",
     "text": [
      "\r",
      "Episode 1|Iteration 563|reward:  394.0|last_reward_at:  438|Elapsed Time: 0:00:03||"
     ]
    },
    {
     "name": "stderr",
     "output_type": "stream",
     "text": [
      "\r",
      "Episode 1|Iteration 570|reward:  394.0|last_reward_at:  438|Elapsed Time: 0:00:03||"
     ]
    },
    {
     "name": "stderr",
     "output_type": "stream",
     "text": [
      "\r",
      "Episode 1|Iteration 578|reward:  394.0|last_reward_at:  438|Elapsed Time: 0:00:03||"
     ]
    },
    {
     "name": "stderr",
     "output_type": "stream",
     "text": [
      "\r",
      "Episode 1|Iteration 585|reward:  394.0|last_reward_at:  438|Elapsed Time: 0:00:03||"
     ]
    },
    {
     "name": "stderr",
     "output_type": "stream",
     "text": [
      "\r",
      "Episode 1|Iteration 593|reward:  394.0|last_reward_at:  438|Elapsed Time: 0:00:03||"
     ]
    },
    {
     "name": "stderr",
     "output_type": "stream",
     "text": [
      "\r",
      "Episode 1|Iteration 600|reward:  394.0|last_reward_at:  438|Elapsed Time: 0:00:03||"
     ]
    },
    {
     "name": "stderr",
     "output_type": "stream",
     "text": [
      "\r",
      "Episode 1|Iteration 600|reward:  394.0|last_reward_at:  438|Elapsed Time: 0:00:04||"
     ]
    },
    {
     "name": "stderr",
     "output_type": "stream",
     "text": [
      "\n"
     ]
    },
    {
     "name": "stdout",
     "output_type": "stream",
     "text": [
      "  Episode 1 stopped at t=600 \n",
      "  Breakdown [Reward/NoReward (Success rate)]\n",
      "    explore-local: 6/49 (0.11)\n",
      "    explore-remote: 8/241 (0.03)\n",
      "    explore-connect: 2/230 (0.01)\n",
      "    exploit-local: 1/0 (1.00)\n",
      "    exploit-remote: 0/0 (NaN)\n",
      "    exploit-connect: 1/62 (0.02)\n",
      "  exploit deflected to exploration: 29\n",
      "  ## Episode: 2/10 'DQL' ϵ=0.8097, γ=0.15, lr=0.01, replaymemory=10000,\n",
      "batch=256, target_update=5\n"
     ]
    },
    {
     "name": "stderr",
     "output_type": "stream",
     "text": [
      "\r",
      "Episode 2|Iteration 0|reward: ------|last_reward_at: ----|Elapsed Time: 0:00:00||"
     ]
    },
    {
     "name": "stderr",
     "output_type": "stream",
     "text": [
      "\r",
      "Episode 2|Iteration 1|reward:    9.0|last_reward_at: ----|Elapsed Time: 0:00:00||"
     ]
    },
    {
     "name": "stderr",
     "output_type": "stream",
     "text": [
      "\r",
      "Episode 2|Iteration 1|reward:    9.0|last_reward_at:    1|Elapsed Time: 0:00:00||"
     ]
    },
    {
     "name": "stderr",
     "output_type": "stream",
     "text": [
      "\r",
      "Episode 2|Iteration 6|reward:   11.0|last_reward_at:    1|Elapsed Time: 0:00:00||"
     ]
    },
    {
     "name": "stderr",
     "output_type": "stream",
     "text": [
      "\r",
      "Episode 2|Iteration 6|reward:   11.0|last_reward_at:    6|Elapsed Time: 0:00:00||"
     ]
    },
    {
     "name": "stderr",
     "output_type": "stream",
     "text": [
      "\r",
      "Episode 2|Iteration 13|reward:   15.0|last_reward_at:    6|Elapsed Time: 0:00:00||"
     ]
    },
    {
     "name": "stderr",
     "output_type": "stream",
     "text": [
      "\r",
      "Episode 2|Iteration 13|reward:   15.0|last_reward_at:   13|Elapsed Time: 0:00:00||"
     ]
    },
    {
     "name": "stderr",
     "output_type": "stream",
     "text": [
      "\r",
      "Episode 2|Iteration 23|reward:   15.0|last_reward_at:   13|Elapsed Time: 0:00:00||"
     ]
    },
    {
     "name": "stderr",
     "output_type": "stream",
     "text": [
      "\r",
      "Episode 2|Iteration 26|reward:  115.0|last_reward_at:   13|Elapsed Time: 0:00:00||"
     ]
    },
    {
     "name": "stderr",
     "output_type": "stream",
     "text": [
      "\r",
      "Episode 2|Iteration 26|reward:  115.0|last_reward_at:   26|Elapsed Time: 0:00:00||"
     ]
    },
    {
     "name": "stderr",
     "output_type": "stream",
     "text": [
      "\r",
      "Episode 2|Iteration 30|reward:  121.0|last_reward_at:   26|Elapsed Time: 0:00:00||"
     ]
    },
    {
     "name": "stderr",
     "output_type": "stream",
     "text": [
      "\r",
      "Episode 2|Iteration 30|reward:  121.0|last_reward_at:   30|Elapsed Time: 0:00:00||"
     ]
    },
    {
     "name": "stderr",
     "output_type": "stream",
     "text": [
      "\r",
      "Episode 2|Iteration 34|reward:  129.0|last_reward_at:   30|Elapsed Time: 0:00:00||"
     ]
    },
    {
     "name": "stderr",
     "output_type": "stream",
     "text": [
      "\r",
      "Episode 2|Iteration 34|reward:  129.0|last_reward_at:   34|Elapsed Time: 0:00:00||"
     ]
    },
    {
     "name": "stderr",
     "output_type": "stream",
     "text": [
      "\r",
      "Episode 2|Iteration 39|reward:  138.0|last_reward_at:   34|Elapsed Time: 0:00:00||"
     ]
    },
    {
     "name": "stderr",
     "output_type": "stream",
     "text": [
      "\r",
      "Episode 2|Iteration 39|reward:  138.0|last_reward_at:   39|Elapsed Time: 0:00:00||"
     ]
    },
    {
     "name": "stderr",
     "output_type": "stream",
     "text": [
      "\r",
      "Episode 2|Iteration 44|reward:  144.0|last_reward_at:   39|Elapsed Time: 0:00:00||"
     ]
    },
    {
     "name": "stderr",
     "output_type": "stream",
     "text": [
      "\r",
      "Episode 2|Iteration 44|reward:  144.0|last_reward_at:   44|Elapsed Time: 0:00:00||"
     ]
    },
    {
     "name": "stderr",
     "output_type": "stream",
     "text": [
      "\r",
      "Episode 2|Iteration 54|reward:  144.0|last_reward_at:   44|Elapsed Time: 0:00:00||"
     ]
    },
    {
     "name": "stderr",
     "output_type": "stream",
     "text": [
      "\r",
      "Episode 2|Iteration 61|reward:  144.0|last_reward_at:   44|Elapsed Time: 0:00:00||"
     ]
    },
    {
     "name": "stderr",
     "output_type": "stream",
     "text": [
      "\r",
      "Episode 2|Iteration 69|reward:  144.0|last_reward_at:   44|Elapsed Time: 0:00:00||"
     ]
    },
    {
     "name": "stderr",
     "output_type": "stream",
     "text": [
      "\r",
      "Episode 2|Iteration 76|reward:  144.0|last_reward_at:   44|Elapsed Time: 0:00:00||"
     ]
    },
    {
     "name": "stderr",
     "output_type": "stream",
     "text": [
      "\r",
      "Episode 2|Iteration 84|reward:  144.0|last_reward_at:   44|Elapsed Time: 0:00:00||"
     ]
    },
    {
     "name": "stderr",
     "output_type": "stream",
     "text": [
      "\r",
      "Episode 2|Iteration 92|reward:  144.0|last_reward_at:   44|Elapsed Time: 0:00:00||"
     ]
    },
    {
     "name": "stderr",
     "output_type": "stream",
     "text": [
      "\r",
      "Episode 2|Iteration 99|reward:  144.0|last_reward_at:   44|Elapsed Time: 0:00:00||"
     ]
    },
    {
     "name": "stderr",
     "output_type": "stream",
     "text": [
      "\r",
      "Episode 2|Iteration 107|reward:  144.0|last_reward_at:   44|Elapsed Time: 0:00:01||"
     ]
    },
    {
     "name": "stderr",
     "output_type": "stream",
     "text": [
      "\r",
      "Episode 2|Iteration 114|reward:  144.0|last_reward_at:   44|Elapsed Time: 0:00:01||"
     ]
    },
    {
     "name": "stderr",
     "output_type": "stream",
     "text": [
      "\r",
      "Episode 2|Iteration 122|reward:  144.0|last_reward_at:   44|Elapsed Time: 0:00:01||"
     ]
    },
    {
     "name": "stderr",
     "output_type": "stream",
     "text": [
      "\r",
      "Episode 2|Iteration 130|reward:  144.0|last_reward_at:   44|Elapsed Time: 0:00:01||"
     ]
    },
    {
     "name": "stderr",
     "output_type": "stream",
     "text": [
      "\r",
      "Episode 2|Iteration 137|reward:  144.0|last_reward_at:   44|Elapsed Time: 0:00:01||"
     ]
    },
    {
     "name": "stderr",
     "output_type": "stream",
     "text": [
      "\r",
      "Episode 2|Iteration 141|reward:  244.0|last_reward_at:   44|Elapsed Time: 0:00:01||"
     ]
    },
    {
     "name": "stderr",
     "output_type": "stream",
     "text": [
      "\r",
      "Episode 2|Iteration 141|reward:  244.0|last_reward_at:  141|Elapsed Time: 0:00:01||"
     ]
    },
    {
     "name": "stderr",
     "output_type": "stream",
     "text": [
      "\r",
      "Episode 2|Iteration 143|reward:  250.0|last_reward_at:  141|Elapsed Time: 0:00:01||"
     ]
    },
    {
     "name": "stderr",
     "output_type": "stream",
     "text": [
      "\r",
      "Episode 2|Iteration 143|reward:  250.0|last_reward_at:  143|Elapsed Time: 0:00:01||"
     ]
    },
    {
     "name": "stderr",
     "output_type": "stream",
     "text": [
      "\r",
      "Episode 2|Iteration 147|reward:  259.0|last_reward_at:  143|Elapsed Time: 0:00:01||"
     ]
    },
    {
     "name": "stderr",
     "output_type": "stream",
     "text": [
      "\r",
      "Episode 2|Iteration 147|reward:  259.0|last_reward_at:  147|Elapsed Time: 0:00:01||"
     ]
    },
    {
     "name": "stderr",
     "output_type": "stream",
     "text": [
      "\r",
      "Episode 2|Iteration 159|reward:  263.0|last_reward_at:  147|Elapsed Time: 0:00:01||"
     ]
    },
    {
     "name": "stderr",
     "output_type": "stream",
     "text": [
      "\r",
      "Episode 2|Iteration 159|reward:  263.0|last_reward_at:  159|Elapsed Time: 0:00:01||"
     ]
    },
    {
     "name": "stderr",
     "output_type": "stream",
     "text": [
      "\r",
      "Episode 2|Iteration 168|reward:  263.0|last_reward_at:  159|Elapsed Time: 0:00:01||"
     ]
    },
    {
     "name": "stderr",
     "output_type": "stream",
     "text": [
      "\r",
      "Episode 2|Iteration 172|reward:  265.0|last_reward_at:  159|Elapsed Time: 0:00:01||"
     ]
    },
    {
     "name": "stderr",
     "output_type": "stream",
     "text": [
      "\r",
      "Episode 2|Iteration 172|reward:  265.0|last_reward_at:  172|Elapsed Time: 0:00:01||"
     ]
    },
    {
     "name": "stderr",
     "output_type": "stream",
     "text": [
      "\r",
      "Episode 2|Iteration 183|reward:  265.0|last_reward_at:  172|Elapsed Time: 0:00:01||"
     ]
    },
    {
     "name": "stderr",
     "output_type": "stream",
     "text": [
      "\r",
      "Episode 2|Iteration 187|reward:  365.0|last_reward_at:  172|Elapsed Time: 0:00:01||"
     ]
    },
    {
     "name": "stderr",
     "output_type": "stream",
     "text": [
      "\r",
      "Episode 2|Iteration 187|reward:  365.0|last_reward_at:  187|Elapsed Time: 0:00:01||"
     ]
    },
    {
     "name": "stderr",
     "output_type": "stream",
     "text": [
      "\r",
      "Episode 2|Iteration 188|reward:  371.0|last_reward_at:  187|Elapsed Time: 0:00:01||"
     ]
    },
    {
     "name": "stderr",
     "output_type": "stream",
     "text": [
      "\r",
      "Episode 2|Iteration 188|reward:  371.0|last_reward_at:  188|Elapsed Time: 0:00:01||"
     ]
    },
    {
     "name": "stderr",
     "output_type": "stream",
     "text": [
      "\r",
      "Episode 2|Iteration 192|reward:  380.0|last_reward_at:  188|Elapsed Time: 0:00:01||"
     ]
    },
    {
     "name": "stderr",
     "output_type": "stream",
     "text": [
      "\r",
      "Episode 2|Iteration 192|reward:  380.0|last_reward_at:  192|Elapsed Time: 0:00:01||"
     ]
    },
    {
     "name": "stderr",
     "output_type": "stream",
     "text": [
      "\r",
      "Episode 2|Iteration 201|reward:  388.0|last_reward_at:  192|Elapsed Time: 0:00:01||"
     ]
    },
    {
     "name": "stderr",
     "output_type": "stream",
     "text": [
      "\r",
      "Episode 2|Iteration 201|reward:  388.0|last_reward_at:  201|Elapsed Time: 0:00:01||"
     ]
    },
    {
     "name": "stderr",
     "output_type": "stream",
     "text": [
      "\r",
      "Episode 2|Iteration 213|reward:  388.0|last_reward_at:  201|Elapsed Time: 0:00:02||"
     ]
    },
    {
     "name": "stderr",
     "output_type": "stream",
     "text": [
      "\r",
      "Episode 2|Iteration 221|reward:  388.0|last_reward_at:  201|Elapsed Time: 0:00:02||"
     ]
    },
    {
     "name": "stderr",
     "output_type": "stream",
     "text": [
      "\r",
      "Episode 2|Iteration 223|reward:  394.0|last_reward_at:  201|Elapsed Time: 0:00:02||"
     ]
    },
    {
     "name": "stderr",
     "output_type": "stream",
     "text": [
      "\r",
      "Episode 2|Iteration 223|reward:  394.0|last_reward_at:  223|Elapsed Time: 0:00:02||"
     ]
    },
    {
     "name": "stderr",
     "output_type": "stream",
     "text": [
      "\r",
      "Episode 2|Iteration 235|reward:  394.0|last_reward_at:  223|Elapsed Time: 0:00:02||"
     ]
    },
    {
     "name": "stderr",
     "output_type": "stream",
     "text": [
      "\r",
      "Episode 2|Iteration 244|reward:  394.0|last_reward_at:  223|Elapsed Time: 0:00:02||"
     ]
    },
    {
     "name": "stderr",
     "output_type": "stream",
     "text": [
      "\r",
      "Episode 2|Iteration 251|reward:  394.0|last_reward_at:  223|Elapsed Time: 0:00:02||"
     ]
    },
    {
     "name": "stderr",
     "output_type": "stream",
     "text": [
      "\r",
      "Episode 2|Iteration 259|reward:  394.0|last_reward_at:  223|Elapsed Time: 0:00:02||"
     ]
    },
    {
     "name": "stderr",
     "output_type": "stream",
     "text": [
      "\r",
      "Episode 2|Iteration 266|reward:  394.0|last_reward_at:  223|Elapsed Time: 0:00:02||"
     ]
    },
    {
     "name": "stderr",
     "output_type": "stream",
     "text": [
      "\r",
      "Episode 2|Iteration 274|reward:  394.0|last_reward_at:  223|Elapsed Time: 0:00:02||"
     ]
    },
    {
     "name": "stderr",
     "output_type": "stream",
     "text": [
      "\r",
      "Episode 2|Iteration 282|reward:  394.0|last_reward_at:  223|Elapsed Time: 0:00:02||"
     ]
    },
    {
     "name": "stderr",
     "output_type": "stream",
     "text": [
      "\r",
      "Episode 2|Iteration 289|reward:  394.0|last_reward_at:  223|Elapsed Time: 0:00:02||"
     ]
    },
    {
     "name": "stderr",
     "output_type": "stream",
     "text": [
      "\r",
      "Episode 2|Iteration 297|reward:  394.0|last_reward_at:  223|Elapsed Time: 0:00:02||"
     ]
    },
    {
     "name": "stderr",
     "output_type": "stream",
     "text": [
      "\r",
      "Episode 2|Iteration 304|reward:  394.0|last_reward_at:  223|Elapsed Time: 0:00:02||"
     ]
    },
    {
     "name": "stderr",
     "output_type": "stream",
     "text": [
      "\r",
      "Episode 2|Iteration 312|reward:  394.0|last_reward_at:  223|Elapsed Time: 0:00:02||"
     ]
    },
    {
     "name": "stderr",
     "output_type": "stream",
     "text": [
      "\r",
      "Episode 2|Iteration 319|reward:  394.0|last_reward_at:  223|Elapsed Time: 0:00:02||"
     ]
    },
    {
     "name": "stderr",
     "output_type": "stream",
     "text": [
      "\r",
      "Episode 2|Iteration 327|reward:  394.0|last_reward_at:  223|Elapsed Time: 0:00:03||"
     ]
    },
    {
     "name": "stderr",
     "output_type": "stream",
     "text": [
      "\r",
      "Episode 2|Iteration 335|reward:  394.0|last_reward_at:  223|Elapsed Time: 0:00:03||"
     ]
    },
    {
     "name": "stderr",
     "output_type": "stream",
     "text": [
      "\r",
      "Episode 2|Iteration 342|reward:  394.0|last_reward_at:  223|Elapsed Time: 0:00:03||"
     ]
    },
    {
     "name": "stderr",
     "output_type": "stream",
     "text": [
      "\r",
      "Episode 2|Iteration 350|reward:  394.0|last_reward_at:  223|Elapsed Time: 0:00:03||"
     ]
    },
    {
     "name": "stderr",
     "output_type": "stream",
     "text": [
      "\r",
      "Episode 2|Iteration 357|reward:  394.0|last_reward_at:  223|Elapsed Time: 0:00:03||"
     ]
    },
    {
     "name": "stderr",
     "output_type": "stream",
     "text": [
      "\r",
      "Episode 2|Iteration 365|reward:  394.0|last_reward_at:  223|Elapsed Time: 0:00:03||"
     ]
    },
    {
     "name": "stderr",
     "output_type": "stream",
     "text": [
      "\r",
      "Episode 2|Iteration 373|reward:  394.0|last_reward_at:  223|Elapsed Time: 0:00:03||"
     ]
    },
    {
     "name": "stderr",
     "output_type": "stream",
     "text": [
      "\r",
      "Episode 2|Iteration 380|reward:  394.0|last_reward_at:  223|Elapsed Time: 0:00:03||"
     ]
    },
    {
     "name": "stderr",
     "output_type": "stream",
     "text": [
      "\r",
      "Episode 2|Iteration 388|reward:  394.0|last_reward_at:  223|Elapsed Time: 0:00:03||"
     ]
    },
    {
     "name": "stderr",
     "output_type": "stream",
     "text": [
      "\r",
      "Episode 2|Iteration 395|reward:  394.0|last_reward_at:  223|Elapsed Time: 0:00:03||"
     ]
    },
    {
     "name": "stderr",
     "output_type": "stream",
     "text": [
      "\r",
      "Episode 2|Iteration 403|reward:  394.0|last_reward_at:  223|Elapsed Time: 0:00:03||"
     ]
    },
    {
     "name": "stderr",
     "output_type": "stream",
     "text": [
      "\r",
      "Episode 2|Iteration 411|reward:  394.0|last_reward_at:  223|Elapsed Time: 0:00:03||"
     ]
    },
    {
     "name": "stderr",
     "output_type": "stream",
     "text": [
      "\r",
      "Episode 2|Iteration 418|reward:  394.0|last_reward_at:  223|Elapsed Time: 0:00:03||"
     ]
    },
    {
     "name": "stderr",
     "output_type": "stream",
     "text": [
      "\r",
      "Episode 2|Iteration 426|reward:  394.0|last_reward_at:  223|Elapsed Time: 0:00:03||"
     ]
    },
    {
     "name": "stderr",
     "output_type": "stream",
     "text": [
      "\r",
      "Episode 2|Iteration 433|reward:  394.0|last_reward_at:  223|Elapsed Time: 0:00:04||"
     ]
    },
    {
     "name": "stderr",
     "output_type": "stream",
     "text": [
      "\r",
      "Episode 2|Iteration 441|reward:  394.0|last_reward_at:  223|Elapsed Time: 0:00:04||"
     ]
    },
    {
     "name": "stderr",
     "output_type": "stream",
     "text": [
      "\r",
      "Episode 2|Iteration 449|reward:  394.0|last_reward_at:  223|Elapsed Time: 0:00:04||"
     ]
    },
    {
     "name": "stderr",
     "output_type": "stream",
     "text": [
      "\r",
      "Episode 2|Iteration 456|reward:  394.0|last_reward_at:  223|Elapsed Time: 0:00:04||"
     ]
    },
    {
     "name": "stderr",
     "output_type": "stream",
     "text": [
      "\r",
      "Episode 2|Iteration 464|reward:  394.0|last_reward_at:  223|Elapsed Time: 0:00:04||"
     ]
    },
    {
     "name": "stderr",
     "output_type": "stream",
     "text": [
      "\r",
      "Episode 2|Iteration 471|reward:  394.0|last_reward_at:  223|Elapsed Time: 0:00:04||"
     ]
    },
    {
     "name": "stderr",
     "output_type": "stream",
     "text": [
      "\r",
      "Episode 2|Iteration 479|reward:  394.0|last_reward_at:  223|Elapsed Time: 0:00:04||"
     ]
    },
    {
     "name": "stderr",
     "output_type": "stream",
     "text": [
      "\r",
      "Episode 2|Iteration 487|reward:  394.0|last_reward_at:  223|Elapsed Time: 0:00:04||"
     ]
    },
    {
     "name": "stderr",
     "output_type": "stream",
     "text": [
      "\r",
      "Episode 2|Iteration 494|reward:  394.0|last_reward_at:  223|Elapsed Time: 0:00:04||"
     ]
    },
    {
     "name": "stderr",
     "output_type": "stream",
     "text": [
      "\r",
      "Episode 2|Iteration 502|reward:  394.0|last_reward_at:  223|Elapsed Time: 0:00:04||"
     ]
    },
    {
     "name": "stderr",
     "output_type": "stream",
     "text": [
      "\r",
      "Episode 2|Iteration 509|reward:  394.0|last_reward_at:  223|Elapsed Time: 0:00:04||"
     ]
    },
    {
     "name": "stderr",
     "output_type": "stream",
     "text": [
      "\r",
      "Episode 2|Iteration 517|reward:  394.0|last_reward_at:  223|Elapsed Time: 0:00:04||"
     ]
    },
    {
     "name": "stderr",
     "output_type": "stream",
     "text": [
      "\r",
      "Episode 2|Iteration 525|reward:  394.0|last_reward_at:  223|Elapsed Time: 0:00:04||"
     ]
    },
    {
     "name": "stderr",
     "output_type": "stream",
     "text": [
      "\r",
      "Episode 2|Iteration 532|reward:  394.0|last_reward_at:  223|Elapsed Time: 0:00:04||"
     ]
    },
    {
     "name": "stderr",
     "output_type": "stream",
     "text": [
      "\r",
      "Episode 2|Iteration 540|reward:  394.0|last_reward_at:  223|Elapsed Time: 0:00:04||"
     ]
    },
    {
     "name": "stderr",
     "output_type": "stream",
     "text": [
      "\r",
      "Episode 2|Iteration 547|reward:  394.0|last_reward_at:  223|Elapsed Time: 0:00:05||"
     ]
    },
    {
     "name": "stderr",
     "output_type": "stream",
     "text": [
      "\r",
      "Episode 2|Iteration 555|reward:  394.0|last_reward_at:  223|Elapsed Time: 0:00:05||"
     ]
    },
    {
     "name": "stderr",
     "output_type": "stream",
     "text": [
      "\r",
      "Episode 2|Iteration 563|reward:  394.0|last_reward_at:  223|Elapsed Time: 0:00:05||"
     ]
    },
    {
     "name": "stderr",
     "output_type": "stream",
     "text": [
      "\r",
      "Episode 2|Iteration 570|reward:  394.0|last_reward_at:  223|Elapsed Time: 0:00:05||"
     ]
    },
    {
     "name": "stderr",
     "output_type": "stream",
     "text": [
      "\r",
      "Episode 2|Iteration 578|reward:  394.0|last_reward_at:  223|Elapsed Time: 0:00:05||"
     ]
    },
    {
     "name": "stderr",
     "output_type": "stream",
     "text": [
      "\r",
      "Episode 2|Iteration 585|reward:  394.0|last_reward_at:  223|Elapsed Time: 0:00:05||"
     ]
    },
    {
     "name": "stderr",
     "output_type": "stream",
     "text": [
      "\r",
      "Episode 2|Iteration 593|reward:  394.0|last_reward_at:  223|Elapsed Time: 0:00:05||"
     ]
    },
    {
     "name": "stderr",
     "output_type": "stream",
     "text": [
      "\r",
      "Episode 2|Iteration 600|reward:  394.0|last_reward_at:  223|Elapsed Time: 0:00:05||"
     ]
    },
    {
     "name": "stderr",
     "output_type": "stream",
     "text": [
      "\r",
      "Episode 2|Iteration 600|reward:  394.0|last_reward_at:  223|Elapsed Time: 0:00:05||"
     ]
    },
    {
     "name": "stderr",
     "output_type": "stream",
     "text": [
      "\n"
     ]
    },
    {
     "name": "stdout",
     "output_type": "stream",
     "text": [
      "  Episode 2 stopped at t=600 \n",
      "  Breakdown [Reward/NoReward (Success rate)]\n",
      "    explore-local: 4/66 (0.06)\n",
      "    explore-remote: 6/196 (0.03)\n",
      "    explore-connect: 1/196 (0.01)\n",
      "    exploit-local: 3/12 (0.20)\n",
      "    exploit-remote: 2/11 (0.15)\n",
      "    exploit-connect: 2/101 (0.02)\n",
      "  exploit deflected to exploration: 7\n",
      "  ## Episode: 3/10 'DQL' ϵ=0.7294, γ=0.15, lr=0.01, replaymemory=10000,\n",
      "batch=256, target_update=5\n"
     ]
    },
    {
     "name": "stderr",
     "output_type": "stream",
     "text": [
      "\r",
      "Episode 3|Iteration 0|reward: ------|last_reward_at: ----|Elapsed Time: 0:00:00||"
     ]
    },
    {
     "name": "stderr",
     "output_type": "stream",
     "text": [
      "\r",
      "Episode 3|Iteration 1|reward:    9.0|last_reward_at: ----|Elapsed Time: 0:00:00||"
     ]
    },
    {
     "name": "stderr",
     "output_type": "stream",
     "text": [
      "\r",
      "Episode 3|Iteration 1|reward:    9.0|last_reward_at:    1|Elapsed Time: 0:00:00||"
     ]
    },
    {
     "name": "stderr",
     "output_type": "stream",
     "text": [
      "\r",
      "Episode 3|Iteration 5|reward:   11.0|last_reward_at:    1|Elapsed Time: 0:00:00||"
     ]
    },
    {
     "name": "stderr",
     "output_type": "stream",
     "text": [
      "\r",
      "Episode 3|Iteration 5|reward:   11.0|last_reward_at:    5|Elapsed Time: 0:00:00||"
     ]
    },
    {
     "name": "stderr",
     "output_type": "stream",
     "text": [
      "\r",
      "Episode 3|Iteration 7|reward:  111.0|last_reward_at:    5|Elapsed Time: 0:00:00||"
     ]
    },
    {
     "name": "stderr",
     "output_type": "stream",
     "text": [
      "\r",
      "Episode 3|Iteration 7|reward:  111.0|last_reward_at:    7|Elapsed Time: 0:00:00||"
     ]
    },
    {
     "name": "stderr",
     "output_type": "stream",
     "text": [
      "\r",
      "Episode 3|Iteration 9|reward:  113.0|last_reward_at:    7|Elapsed Time: 0:00:00||"
     ]
    },
    {
     "name": "stderr",
     "output_type": "stream",
     "text": [
      "\r",
      "Episode 3|Iteration 9|reward:  113.0|last_reward_at:    9|Elapsed Time: 0:00:00||"
     ]
    },
    {
     "name": "stderr",
     "output_type": "stream",
     "text": [
      "\r",
      "Episode 3|Iteration 10|reward:  119.0|last_reward_at:    9|Elapsed Time: 0:00:00||"
     ]
    },
    {
     "name": "stderr",
     "output_type": "stream",
     "text": [
      "\r",
      "Episode 3|Iteration 10|reward:  119.0|last_reward_at:   10|Elapsed Time: 0:00:00||"
     ]
    },
    {
     "name": "stderr",
     "output_type": "stream",
     "text": [
      "\r",
      "Episode 3|Iteration 11|reward:  128.0|last_reward_at:   10|Elapsed Time: 0:00:00||"
     ]
    },
    {
     "name": "stderr",
     "output_type": "stream",
     "text": [
      "\r",
      "Episode 3|Iteration 11|reward:  128.0|last_reward_at:   11|Elapsed Time: 0:00:00||"
     ]
    },
    {
     "name": "stderr",
     "output_type": "stream",
     "text": [
      "\r",
      "Episode 3|Iteration 16|reward:  128.0|last_reward_at:   11|Elapsed Time: 0:00:00||"
     ]
    },
    {
     "name": "stderr",
     "output_type": "stream",
     "text": [
      "\r",
      "Episode 3|Iteration 19|reward:  136.0|last_reward_at:   11|Elapsed Time: 0:00:00||"
     ]
    },
    {
     "name": "stderr",
     "output_type": "stream",
     "text": [
      "\r",
      "Episode 3|Iteration 19|reward:  136.0|last_reward_at:   19|Elapsed Time: 0:00:00||"
     ]
    },
    {
     "name": "stderr",
     "output_type": "stream",
     "text": [
      "\r",
      "Episode 3|Iteration 23|reward:  142.0|last_reward_at:   19|Elapsed Time: 0:00:00||"
     ]
    },
    {
     "name": "stderr",
     "output_type": "stream",
     "text": [
      "\r",
      "Episode 3|Iteration 23|reward:  142.0|last_reward_at:   23|Elapsed Time: 0:00:00||"
     ]
    },
    {
     "name": "stderr",
     "output_type": "stream",
     "text": [
      "\r",
      "Episode 3|Iteration 31|reward:  142.0|last_reward_at:   23|Elapsed Time: 0:00:00||"
     ]
    },
    {
     "name": "stderr",
     "output_type": "stream",
     "text": [
      "\r",
      "Episode 3|Iteration 38|reward:  142.0|last_reward_at:   23|Elapsed Time: 0:00:00||"
     ]
    },
    {
     "name": "stderr",
     "output_type": "stream",
     "text": [
      "\r",
      "Episode 3|Iteration 46|reward:  142.0|last_reward_at:   23|Elapsed Time: 0:00:00||"
     ]
    },
    {
     "name": "stderr",
     "output_type": "stream",
     "text": [
      "\r",
      "Episode 3|Iteration 54|reward:  142.0|last_reward_at:   23|Elapsed Time: 0:00:00||"
     ]
    },
    {
     "name": "stderr",
     "output_type": "stream",
     "text": [
      "\r",
      "Episode 3|Iteration 61|reward:  142.0|last_reward_at:   23|Elapsed Time: 0:00:00||"
     ]
    },
    {
     "name": "stderr",
     "output_type": "stream",
     "text": [
      "\r",
      "Episode 3|Iteration 69|reward:  142.0|last_reward_at:   23|Elapsed Time: 0:00:00||"
     ]
    },
    {
     "name": "stderr",
     "output_type": "stream",
     "text": [
      "\r",
      "Episode 3|Iteration 76|reward:  142.0|last_reward_at:   23|Elapsed Time: 0:00:00||"
     ]
    },
    {
     "name": "stderr",
     "output_type": "stream",
     "text": [
      "\r",
      "Episode 3|Iteration 84|reward:  142.0|last_reward_at:   23|Elapsed Time: 0:00:00||"
     ]
    },
    {
     "name": "stderr",
     "output_type": "stream",
     "text": [
      "\r",
      "Episode 3|Iteration 92|reward:  142.0|last_reward_at:   23|Elapsed Time: 0:00:00||"
     ]
    },
    {
     "name": "stderr",
     "output_type": "stream",
     "text": [
      "\r",
      "Episode 3|Iteration 99|reward:  142.0|last_reward_at:   23|Elapsed Time: 0:00:00||"
     ]
    },
    {
     "name": "stderr",
     "output_type": "stream",
     "text": [
      "\r",
      "Episode 3|Iteration 107|reward:  142.0|last_reward_at:   23|Elapsed Time: 0:00:01||"
     ]
    },
    {
     "name": "stderr",
     "output_type": "stream",
     "text": [
      "\r",
      "Episode 3|Iteration 114|reward:  142.0|last_reward_at:   23|Elapsed Time: 0:00:01||"
     ]
    },
    {
     "name": "stderr",
     "output_type": "stream",
     "text": [
      "\r",
      "Episode 3|Iteration 122|reward:  142.0|last_reward_at:   23|Elapsed Time: 0:00:01||"
     ]
    },
    {
     "name": "stderr",
     "output_type": "stream",
     "text": [
      "\r",
      "Episode 3|Iteration 130|reward:  142.0|last_reward_at:   23|Elapsed Time: 0:00:01||"
     ]
    },
    {
     "name": "stderr",
     "output_type": "stream",
     "text": [
      "\r",
      "Episode 3|Iteration 137|reward:  142.0|last_reward_at:   23|Elapsed Time: 0:00:01||"
     ]
    },
    {
     "name": "stderr",
     "output_type": "stream",
     "text": [
      "\r",
      "Episode 3|Iteration 145|reward:  142.0|last_reward_at:   23|Elapsed Time: 0:00:01||"
     ]
    },
    {
     "name": "stderr",
     "output_type": "stream",
     "text": [
      "\r",
      "Episode 3|Iteration 152|reward:  142.0|last_reward_at:   23|Elapsed Time: 0:00:01||"
     ]
    },
    {
     "name": "stderr",
     "output_type": "stream",
     "text": [
      "\r",
      "Episode 3|Iteration 160|reward:  142.0|last_reward_at:   23|Elapsed Time: 0:00:01||"
     ]
    },
    {
     "name": "stderr",
     "output_type": "stream",
     "text": [
      "\r",
      "Episode 3|Iteration 168|reward:  142.0|last_reward_at:   23|Elapsed Time: 0:00:01||"
     ]
    },
    {
     "name": "stderr",
     "output_type": "stream",
     "text": [
      "\r",
      "Episode 3|Iteration 175|reward:  142.0|last_reward_at:   23|Elapsed Time: 0:00:01||"
     ]
    },
    {
     "name": "stderr",
     "output_type": "stream",
     "text": [
      "\r",
      "Episode 3|Iteration 183|reward:  142.0|last_reward_at:   23|Elapsed Time: 0:00:01||"
     ]
    },
    {
     "name": "stderr",
     "output_type": "stream",
     "text": [
      "\r",
      "Episode 3|Iteration 190|reward:  142.0|last_reward_at:   23|Elapsed Time: 0:00:01||"
     ]
    },
    {
     "name": "stderr",
     "output_type": "stream",
     "text": [
      "\r",
      "Episode 3|Iteration 191|reward:  242.0|last_reward_at:   23|Elapsed Time: 0:00:01||"
     ]
    },
    {
     "name": "stderr",
     "output_type": "stream",
     "text": [
      "\r",
      "Episode 3|Iteration 191|reward:  242.0|last_reward_at:  191|Elapsed Time: 0:00:01||"
     ]
    },
    {
     "name": "stderr",
     "output_type": "stream",
     "text": [
      "\r",
      "Episode 3|Iteration 202|reward:  248.0|last_reward_at:  191|Elapsed Time: 0:00:01||"
     ]
    },
    {
     "name": "stderr",
     "output_type": "stream",
     "text": [
      "\r",
      "Episode 3|Iteration 202|reward:  248.0|last_reward_at:  202|Elapsed Time: 0:00:01||"
     ]
    },
    {
     "name": "stderr",
     "output_type": "stream",
     "text": [
      "\r",
      "Episode 3|Iteration 206|reward:  250.0|last_reward_at:  202|Elapsed Time: 0:00:01||"
     ]
    },
    {
     "name": "stderr",
     "output_type": "stream",
     "text": [
      "\r",
      "Episode 3|Iteration 206|reward:  250.0|last_reward_at:  206|Elapsed Time: 0:00:01||"
     ]
    },
    {
     "name": "stderr",
     "output_type": "stream",
     "text": [
      "\r",
      "Episode 3|Iteration 213|reward:  250.0|last_reward_at:  206|Elapsed Time: 0:00:01||"
     ]
    },
    {
     "name": "stderr",
     "output_type": "stream",
     "text": [
      "\r",
      "Episode 3|Iteration 221|reward:  250.0|last_reward_at:  206|Elapsed Time: 0:00:02||"
     ]
    },
    {
     "name": "stderr",
     "output_type": "stream",
     "text": [
      "\r",
      "Episode 3|Iteration 228|reward:  250.0|last_reward_at:  206|Elapsed Time: 0:00:02||"
     ]
    },
    {
     "name": "stderr",
     "output_type": "stream",
     "text": [
      "\r",
      "Episode 3|Iteration 236|reward:  250.0|last_reward_at:  206|Elapsed Time: 0:00:02||"
     ]
    },
    {
     "name": "stderr",
     "output_type": "stream",
     "text": [
      "\r",
      "Episode 3|Iteration 244|reward:  250.0|last_reward_at:  206|Elapsed Time: 0:00:02||"
     ]
    },
    {
     "name": "stderr",
     "output_type": "stream",
     "text": [
      "\r",
      "Episode 3|Iteration 251|reward:  250.0|last_reward_at:  206|Elapsed Time: 0:00:02||"
     ]
    },
    {
     "name": "stderr",
     "output_type": "stream",
     "text": [
      "\r",
      "Episode 3|Iteration 259|reward:  250.0|last_reward_at:  206|Elapsed Time: 0:00:02||"
     ]
    },
    {
     "name": "stderr",
     "output_type": "stream",
     "text": [
      "\r",
      "Episode 3|Iteration 263|reward:  254.0|last_reward_at:  206|Elapsed Time: 0:00:02||"
     ]
    },
    {
     "name": "stderr",
     "output_type": "stream",
     "text": [
      "\r",
      "Episode 3|Iteration 263|reward:  254.0|last_reward_at:  263|Elapsed Time: 0:00:02||"
     ]
    },
    {
     "name": "stderr",
     "output_type": "stream",
     "text": [
      "\r",
      "Episode 3|Iteration 274|reward:  254.0|last_reward_at:  263|Elapsed Time: 0:00:02||"
     ]
    },
    {
     "name": "stderr",
     "output_type": "stream",
     "text": [
      "\r",
      "Episode 3|Iteration 282|reward:  254.0|last_reward_at:  263|Elapsed Time: 0:00:02||"
     ]
    },
    {
     "name": "stderr",
     "output_type": "stream",
     "text": [
      "\r",
      "Episode 3|Iteration 289|reward:  254.0|last_reward_at:  263|Elapsed Time: 0:00:02||"
     ]
    },
    {
     "name": "stderr",
     "output_type": "stream",
     "text": [
      "\r",
      "Episode 3|Iteration 297|reward:  254.0|last_reward_at:  263|Elapsed Time: 0:00:02||"
     ]
    },
    {
     "name": "stderr",
     "output_type": "stream",
     "text": [
      "\r",
      "Episode 3|Iteration 304|reward:  254.0|last_reward_at:  263|Elapsed Time: 0:00:02||"
     ]
    },
    {
     "name": "stderr",
     "output_type": "stream",
     "text": [
      "\r",
      "Episode 3|Iteration 312|reward:  254.0|last_reward_at:  263|Elapsed Time: 0:00:02||"
     ]
    },
    {
     "name": "stderr",
     "output_type": "stream",
     "text": [
      "\r",
      "Episode 3|Iteration 319|reward:  254.0|last_reward_at:  263|Elapsed Time: 0:00:02||"
     ]
    },
    {
     "name": "stderr",
     "output_type": "stream",
     "text": [
      "\r",
      "Episode 3|Iteration 327|reward:  254.0|last_reward_at:  263|Elapsed Time: 0:00:03||"
     ]
    },
    {
     "name": "stderr",
     "output_type": "stream",
     "text": [
      "\r",
      "Episode 3|Iteration 335|reward:  254.0|last_reward_at:  263|Elapsed Time: 0:00:03||"
     ]
    },
    {
     "name": "stderr",
     "output_type": "stream",
     "text": [
      "\r",
      "Episode 3|Iteration 342|reward:  254.0|last_reward_at:  263|Elapsed Time: 0:00:03||"
     ]
    },
    {
     "name": "stderr",
     "output_type": "stream",
     "text": [
      "\r",
      "Episode 3|Iteration 350|reward:  254.0|last_reward_at:  263|Elapsed Time: 0:00:03||"
     ]
    },
    {
     "name": "stderr",
     "output_type": "stream",
     "text": [
      "\r",
      "Episode 3|Iteration 357|reward:  254.0|last_reward_at:  263|Elapsed Time: 0:00:03||"
     ]
    },
    {
     "name": "stderr",
     "output_type": "stream",
     "text": [
      "\r",
      "Episode 3|Iteration 365|reward:  254.0|last_reward_at:  263|Elapsed Time: 0:00:03||"
     ]
    },
    {
     "name": "stderr",
     "output_type": "stream",
     "text": [
      "\r",
      "Episode 3|Iteration 373|reward:  254.0|last_reward_at:  263|Elapsed Time: 0:00:03||"
     ]
    },
    {
     "name": "stderr",
     "output_type": "stream",
     "text": [
      "\r",
      "Episode 3|Iteration 380|reward:  254.0|last_reward_at:  263|Elapsed Time: 0:00:03||"
     ]
    },
    {
     "name": "stderr",
     "output_type": "stream",
     "text": [
      "\r",
      "Episode 3|Iteration 388|reward:  254.0|last_reward_at:  263|Elapsed Time: 0:00:03||"
     ]
    },
    {
     "name": "stderr",
     "output_type": "stream",
     "text": [
      "\r",
      "Episode 3|Iteration 395|reward:  254.0|last_reward_at:  263|Elapsed Time: 0:00:03||"
     ]
    },
    {
     "name": "stderr",
     "output_type": "stream",
     "text": [
      "\r",
      "Episode 3|Iteration 403|reward:  254.0|last_reward_at:  263|Elapsed Time: 0:00:03||"
     ]
    },
    {
     "name": "stderr",
     "output_type": "stream",
     "text": [
      "\r",
      "Episode 3|Iteration 411|reward:  254.0|last_reward_at:  263|Elapsed Time: 0:00:03||"
     ]
    },
    {
     "name": "stderr",
     "output_type": "stream",
     "text": [
      "\r",
      "Episode 3|Iteration 418|reward:  254.0|last_reward_at:  263|Elapsed Time: 0:00:03||"
     ]
    },
    {
     "name": "stderr",
     "output_type": "stream",
     "text": [
      "\r",
      "Episode 3|Iteration 426|reward:  254.0|last_reward_at:  263|Elapsed Time: 0:00:03||"
     ]
    },
    {
     "name": "stderr",
     "output_type": "stream",
     "text": [
      "\r",
      "Episode 3|Iteration 433|reward:  254.0|last_reward_at:  263|Elapsed Time: 0:00:03||"
     ]
    },
    {
     "name": "stderr",
     "output_type": "stream",
     "text": [
      "\r",
      "Episode 3|Iteration 441|reward:  254.0|last_reward_at:  263|Elapsed Time: 0:00:04||"
     ]
    },
    {
     "name": "stderr",
     "output_type": "stream",
     "text": [
      "\r",
      "Episode 3|Iteration 449|reward:  254.0|last_reward_at:  263|Elapsed Time: 0:00:04||"
     ]
    },
    {
     "name": "stderr",
     "output_type": "stream",
     "text": [
      "\r",
      "Episode 3|Iteration 456|reward:  254.0|last_reward_at:  263|Elapsed Time: 0:00:04||"
     ]
    },
    {
     "name": "stderr",
     "output_type": "stream",
     "text": [
      "\r",
      "Episode 3|Iteration 464|reward:  254.0|last_reward_at:  263|Elapsed Time: 0:00:04||"
     ]
    },
    {
     "name": "stderr",
     "output_type": "stream",
     "text": [
      "\r",
      "Episode 3|Iteration 471|reward:  254.0|last_reward_at:  263|Elapsed Time: 0:00:04||"
     ]
    },
    {
     "name": "stderr",
     "output_type": "stream",
     "text": [
      "\r",
      "Episode 3|Iteration 479|reward:  254.0|last_reward_at:  263|Elapsed Time: 0:00:04||"
     ]
    },
    {
     "name": "stderr",
     "output_type": "stream",
     "text": [
      "\r",
      "Episode 3|Iteration 486|reward:  254.0|last_reward_at:  263|Elapsed Time: 0:00:04||"
     ]
    },
    {
     "name": "stderr",
     "output_type": "stream",
     "text": [
      "\r",
      "Episode 3|Iteration 494|reward:  254.0|last_reward_at:  263|Elapsed Time: 0:00:04||"
     ]
    },
    {
     "name": "stderr",
     "output_type": "stream",
     "text": [
      "\r",
      "Episode 3|Iteration 502|reward:  254.0|last_reward_at:  263|Elapsed Time: 0:00:04||"
     ]
    },
    {
     "name": "stderr",
     "output_type": "stream",
     "text": [
      "\r",
      "Episode 3|Iteration 509|reward:  254.0|last_reward_at:  263|Elapsed Time: 0:00:04||"
     ]
    },
    {
     "name": "stderr",
     "output_type": "stream",
     "text": [
      "\r",
      "Episode 3|Iteration 517|reward:  254.0|last_reward_at:  263|Elapsed Time: 0:00:04||"
     ]
    },
    {
     "name": "stderr",
     "output_type": "stream",
     "text": [
      "\r",
      "Episode 3|Iteration 525|reward:  254.0|last_reward_at:  263|Elapsed Time: 0:00:04||"
     ]
    },
    {
     "name": "stderr",
     "output_type": "stream",
     "text": [
      "\r",
      "Episode 3|Iteration 532|reward:  254.0|last_reward_at:  263|Elapsed Time: 0:00:04||"
     ]
    },
    {
     "name": "stderr",
     "output_type": "stream",
     "text": [
      "\r",
      "Episode 3|Iteration 540|reward:  254.0|last_reward_at:  263|Elapsed Time: 0:00:04||"
     ]
    },
    {
     "name": "stderr",
     "output_type": "stream",
     "text": [
      "\r",
      "Episode 3|Iteration 547|reward:  254.0|last_reward_at:  263|Elapsed Time: 0:00:05||"
     ]
    },
    {
     "name": "stderr",
     "output_type": "stream",
     "text": [
      "\r",
      "Episode 3|Iteration 555|reward:  254.0|last_reward_at:  263|Elapsed Time: 0:00:05||"
     ]
    },
    {
     "name": "stderr",
     "output_type": "stream",
     "text": [
      "\r",
      "Episode 3|Iteration 563|reward:  254.0|last_reward_at:  263|Elapsed Time: 0:00:05||"
     ]
    },
    {
     "name": "stderr",
     "output_type": "stream",
     "text": [
      "\r",
      "Episode 3|Iteration 570|reward:  254.0|last_reward_at:  263|Elapsed Time: 0:00:05||"
     ]
    },
    {
     "name": "stderr",
     "output_type": "stream",
     "text": [
      "\r",
      "Episode 3|Iteration 578|reward:  254.0|last_reward_at:  263|Elapsed Time: 0:00:05||"
     ]
    },
    {
     "name": "stderr",
     "output_type": "stream",
     "text": [
      "\r",
      "Episode 3|Iteration 585|reward:  254.0|last_reward_at:  263|Elapsed Time: 0:00:05||"
     ]
    },
    {
     "name": "stderr",
     "output_type": "stream",
     "text": [
      "\r",
      "Episode 3|Iteration 593|reward:  254.0|last_reward_at:  263|Elapsed Time: 0:00:05||"
     ]
    },
    {
     "name": "stderr",
     "output_type": "stream",
     "text": [
      "\r",
      "Episode 3|Iteration 600|reward:  254.0|last_reward_at:  263|Elapsed Time: 0:00:05||"
     ]
    },
    {
     "name": "stderr",
     "output_type": "stream",
     "text": [
      "\r",
      "Episode 3|Iteration 600|reward:  254.0|last_reward_at:  263|Elapsed Time: 0:00:05||"
     ]
    },
    {
     "name": "stderr",
     "output_type": "stream",
     "text": [
      "\n"
     ]
    },
    {
     "name": "stdout",
     "output_type": "stream",
     "text": [
      "  Episode 3 stopped at t=600 \n",
      "  Breakdown [Reward/NoReward (Success rate)]\n",
      "    explore-local: 0/40 (0.00)\n",
      "    explore-remote: 5/165 (0.03)\n",
      "    explore-connect: 1/194 (0.01)\n",
      "    exploit-local: 4/3 (0.57)\n",
      "    exploit-remote: 1/43 (0.02)\n",
      "    exploit-connect: 1/143 (0.01)\n",
      "  exploit deflected to exploration: 2\n",
      "  ## Episode: 4/10 'DQL' ϵ=0.6583, γ=0.15, lr=0.01, replaymemory=10000,\n",
      "batch=256, target_update=5\n"
     ]
    },
    {
     "name": "stderr",
     "output_type": "stream",
     "text": [
      "\r",
      "Episode 4|Iteration 0|reward: ------|last_reward_at: ----|Elapsed Time: 0:00:00||"
     ]
    },
    {
     "name": "stderr",
     "output_type": "stream",
     "text": [
      "\r",
      "Episode 4|Iteration 1|reward:    9.0|last_reward_at: ----|Elapsed Time: 0:00:00||"
     ]
    },
    {
     "name": "stderr",
     "output_type": "stream",
     "text": [
      "\r",
      "Episode 4|Iteration 1|reward:    9.0|last_reward_at:    1|Elapsed Time: 0:00:00||"
     ]
    },
    {
     "name": "stderr",
     "output_type": "stream",
     "text": [
      "\r",
      "Episode 4|Iteration 4|reward:  109.0|last_reward_at:    1|Elapsed Time: 0:00:00||"
     ]
    },
    {
     "name": "stderr",
     "output_type": "stream",
     "text": [
      "\r",
      "Episode 4|Iteration 4|reward:  109.0|last_reward_at:    4|Elapsed Time: 0:00:00||"
     ]
    },
    {
     "name": "stderr",
     "output_type": "stream",
     "text": [
      "\r",
      "Episode 4|Iteration 5|reward:  118.0|last_reward_at:    4|Elapsed Time: 0:00:00||"
     ]
    },
    {
     "name": "stderr",
     "output_type": "stream",
     "text": [
      "\r",
      "Episode 4|Iteration 5|reward:  118.0|last_reward_at:    5|Elapsed Time: 0:00:00||"
     ]
    },
    {
     "name": "stderr",
     "output_type": "stream",
     "text": [
      "\r",
      "Episode 4|Iteration 12|reward:  124.0|last_reward_at:    5|Elapsed Time: 0:00:00||"
     ]
    },
    {
     "name": "stderr",
     "output_type": "stream",
     "text": [
      "\r",
      "Episode 4|Iteration 12|reward:  124.0|last_reward_at:   12|Elapsed Time: 0:00:00||"
     ]
    },
    {
     "name": "stderr",
     "output_type": "stream",
     "text": [
      "\r",
      "Episode 4|Iteration 18|reward:  126.0|last_reward_at:   12|Elapsed Time: 0:00:00||"
     ]
    },
    {
     "name": "stderr",
     "output_type": "stream",
     "text": [
      "\r",
      "Episode 4|Iteration 18|reward:  126.0|last_reward_at:   18|Elapsed Time: 0:00:00||"
     ]
    },
    {
     "name": "stderr",
     "output_type": "stream",
     "text": [
      "\r",
      "Episode 4|Iteration 20|reward:  128.0|last_reward_at:   18|Elapsed Time: 0:00:00||"
     ]
    },
    {
     "name": "stderr",
     "output_type": "stream",
     "text": [
      "\r",
      "Episode 4|Iteration 20|reward:  128.0|last_reward_at:   20|Elapsed Time: 0:00:00||"
     ]
    },
    {
     "name": "stderr",
     "output_type": "stream",
     "text": [
      "\r",
      "Episode 4|Iteration 22|reward:  136.0|last_reward_at:   20|Elapsed Time: 0:00:00||"
     ]
    },
    {
     "name": "stderr",
     "output_type": "stream",
     "text": [
      "\r",
      "Episode 4|Iteration 22|reward:  136.0|last_reward_at:   22|Elapsed Time: 0:00:00||"
     ]
    },
    {
     "name": "stderr",
     "output_type": "stream",
     "text": [
      "\r",
      "Episode 4|Iteration 30|reward:  236.0|last_reward_at:   22|Elapsed Time: 0:00:00||"
     ]
    },
    {
     "name": "stderr",
     "output_type": "stream",
     "text": [
      "\r",
      "Episode 4|Iteration 30|reward:  236.0|last_reward_at:   30|Elapsed Time: 0:00:00||"
     ]
    },
    {
     "name": "stderr",
     "output_type": "stream",
     "text": [
      "\r",
      "Episode 4|Iteration 31|reward:  242.0|last_reward_at:   30|Elapsed Time: 0:00:00||"
     ]
    },
    {
     "name": "stderr",
     "output_type": "stream",
     "text": [
      "\r",
      "Episode 4|Iteration 31|reward:  242.0|last_reward_at:   31|Elapsed Time: 0:00:00||"
     ]
    },
    {
     "name": "stderr",
     "output_type": "stream",
     "text": [
      "\r",
      "Episode 4|Iteration 32|reward:  251.0|last_reward_at:   31|Elapsed Time: 0:00:00||"
     ]
    },
    {
     "name": "stderr",
     "output_type": "stream",
     "text": [
      "\r",
      "Episode 4|Iteration 32|reward:  251.0|last_reward_at:   32|Elapsed Time: 0:00:00||"
     ]
    },
    {
     "name": "stderr",
     "output_type": "stream",
     "text": [
      "\r",
      "Episode 4|Iteration 40|reward:  351.0|last_reward_at:   32|Elapsed Time: 0:00:00||"
     ]
    },
    {
     "name": "stderr",
     "output_type": "stream",
     "text": [
      "\r",
      "Episode 4|Iteration 40|reward:  351.0|last_reward_at:   40|Elapsed Time: 0:00:00||"
     ]
    },
    {
     "name": "stderr",
     "output_type": "stream",
     "text": [
      "\r",
      "Episode 4|Iteration 41|reward:  360.0|last_reward_at:   40|Elapsed Time: 0:00:00||"
     ]
    },
    {
     "name": "stderr",
     "output_type": "stream",
     "text": [
      "\r",
      "Episode 4|Iteration 41|reward:  360.0|last_reward_at:   41|Elapsed Time: 0:00:00||"
     ]
    },
    {
     "name": "stderr",
     "output_type": "stream",
     "text": [
      "\r",
      "Episode 4|Iteration 43|reward:  366.0|last_reward_at:   41|Elapsed Time: 0:00:00||"
     ]
    },
    {
     "name": "stderr",
     "output_type": "stream",
     "text": [
      "\r",
      "Episode 4|Iteration 43|reward:  366.0|last_reward_at:   43|Elapsed Time: 0:00:00||"
     ]
    },
    {
     "name": "stderr",
     "output_type": "stream",
     "text": [
      "\r",
      "Episode 4|Iteration 47|reward:  368.0|last_reward_at:   43|Elapsed Time: 0:00:00||"
     ]
    },
    {
     "name": "stderr",
     "output_type": "stream",
     "text": [
      "\r",
      "Episode 4|Iteration 47|reward:  368.0|last_reward_at:   47|Elapsed Time: 0:00:00||"
     ]
    },
    {
     "name": "stderr",
     "output_type": "stream",
     "text": [
      "\r",
      "Episode 4|Iteration 54|reward:  368.0|last_reward_at:   47|Elapsed Time: 0:00:00||"
     ]
    },
    {
     "name": "stderr",
     "output_type": "stream",
     "text": [
      "\r",
      "Episode 4|Iteration 58|reward:  376.0|last_reward_at:   47|Elapsed Time: 0:00:00||"
     ]
    },
    {
     "name": "stderr",
     "output_type": "stream",
     "text": [
      "\r",
      "Episode 4|Iteration 58|reward:  376.0|last_reward_at:   58|Elapsed Time: 0:00:00||"
     ]
    },
    {
     "name": "stderr",
     "output_type": "stream",
     "text": [
      "\r",
      "Episode 4|Iteration 68|reward:  476.0|last_reward_at:   58|Elapsed Time: 0:00:00||"
     ]
    },
    {
     "name": "stderr",
     "output_type": "stream",
     "text": [
      "\r",
      "Episode 4|Iteration 68|reward:  476.0|last_reward_at:   68|Elapsed Time: 0:00:00||"
     ]
    },
    {
     "name": "stderr",
     "output_type": "stream",
     "text": [
      "\r",
      "Episode 4|Iteration 69|reward:  482.0|last_reward_at:   68|Elapsed Time: 0:00:00||"
     ]
    },
    {
     "name": "stderr",
     "output_type": "stream",
     "text": [
      "\r",
      "Episode 4|Iteration 69|reward:  482.0|last_reward_at:   69|Elapsed Time: 0:00:00||"
     ]
    },
    {
     "name": "stderr",
     "output_type": "stream",
     "text": [
      "\r",
      "Episode 4|Iteration 70|reward:  488.0|last_reward_at:   69|Elapsed Time: 0:00:00||"
     ]
    },
    {
     "name": "stderr",
     "output_type": "stream",
     "text": [
      "\r",
      "Episode 4|Iteration 70|reward:  488.0|last_reward_at:   70|Elapsed Time: 0:00:00||"
     ]
    },
    {
     "name": "stderr",
     "output_type": "stream",
     "text": [
      "\r",
      "Episode 4|Iteration 71|reward:  497.0|last_reward_at:   70|Elapsed Time: 0:00:00||"
     ]
    },
    {
     "name": "stderr",
     "output_type": "stream",
     "text": [
      "\r",
      "Episode 4|Iteration 71|reward:  497.0|last_reward_at:   71|Elapsed Time: 0:00:00||"
     ]
    },
    {
     "name": "stderr",
     "output_type": "stream",
     "text": [
      "\r",
      "Episode 4|Iteration 75|reward:  503.0|last_reward_at:   71|Elapsed Time: 0:00:00||"
     ]
    },
    {
     "name": "stderr",
     "output_type": "stream",
     "text": [
      "\r",
      "Episode 4|Iteration 75|reward:  503.0|last_reward_at:   75|Elapsed Time: 0:00:00||"
     ]
    },
    {
     "name": "stderr",
     "output_type": "stream",
     "text": [
      "\r",
      "Episode 4|Iteration 78|reward:  603.0|last_reward_at:   75|Elapsed Time: 0:00:00||"
     ]
    },
    {
     "name": "stderr",
     "output_type": "stream",
     "text": [
      "\r",
      "Episode 4|Iteration 78|reward:  603.0|last_reward_at:   78|Elapsed Time: 0:00:00||"
     ]
    },
    {
     "name": "stderr",
     "output_type": "stream",
     "text": [
      "\r",
      "Episode 4|Iteration 82|reward:  612.0|last_reward_at:   78|Elapsed Time: 0:00:00||"
     ]
    },
    {
     "name": "stderr",
     "output_type": "stream",
     "text": [
      "\r",
      "Episode 4|Iteration 82|reward:  612.0|last_reward_at:   82|Elapsed Time: 0:00:00||"
     ]
    },
    {
     "name": "stderr",
     "output_type": "stream",
     "text": [
      "\r",
      "Episode 4|Iteration 88|reward:  614.0|last_reward_at:   82|Elapsed Time: 0:00:00||"
     ]
    },
    {
     "name": "stderr",
     "output_type": "stream",
     "text": [
      "\r",
      "Episode 4|Iteration 88|reward:  614.0|last_reward_at:   88|Elapsed Time: 0:00:00||"
     ]
    },
    {
     "name": "stderr",
     "output_type": "stream",
     "text": [
      "\r",
      "Episode 4|Iteration 89|reward:  622.0|last_reward_at:   88|Elapsed Time: 0:00:00||"
     ]
    },
    {
     "name": "stderr",
     "output_type": "stream",
     "text": [
      "\r",
      "Episode 4|Iteration 89|reward:  622.0|last_reward_at:   89|Elapsed Time: 0:00:00||"
     ]
    },
    {
     "name": "stderr",
     "output_type": "stream",
     "text": [
      "\r",
      "Episode 4|Iteration 99|reward:  622.0|last_reward_at:   89|Elapsed Time: 0:00:00||"
     ]
    },
    {
     "name": "stderr",
     "output_type": "stream",
     "text": [
      "\r",
      "Episode 4|Iteration 101|reward:  722.0|last_reward_at:   89|Elapsed Time: 0:00:00||"
     ]
    },
    {
     "name": "stderr",
     "output_type": "stream",
     "text": [
      "\r",
      "Episode 4|Iteration 101|reward:  722.0|last_reward_at:  101|Elapsed Time: 0:00:00||"
     ]
    },
    {
     "name": "stderr",
     "output_type": "stream",
     "text": [
      "\r",
      "Episode 4|Iteration 103|reward:  728.0|last_reward_at:  101|Elapsed Time: 0:00:01||"
     ]
    },
    {
     "name": "stderr",
     "output_type": "stream",
     "text": [
      "\r",
      "Episode 4|Iteration 103|reward:  728.0|last_reward_at:  103|Elapsed Time: 0:00:01||"
     ]
    },
    {
     "name": "stderr",
     "output_type": "stream",
     "text": [
      "\r",
      "Episode 4|Iteration 106|reward:  737.0|last_reward_at:  103|Elapsed Time: 0:00:01||"
     ]
    },
    {
     "name": "stderr",
     "output_type": "stream",
     "text": [
      "\r",
      "Episode 4|Iteration 106|reward:  737.0|last_reward_at:  106|Elapsed Time: 0:00:01||"
     ]
    },
    {
     "name": "stderr",
     "output_type": "stream",
     "text": [
      "\r",
      "Episode 4|Iteration 109|reward:  743.0|last_reward_at:  106|Elapsed Time: 0:00:01||"
     ]
    },
    {
     "name": "stderr",
     "output_type": "stream",
     "text": [
      "\r",
      "Episode 4|Iteration 109|reward:  743.0|last_reward_at:  109|Elapsed Time: 0:00:01||"
     ]
    },
    {
     "name": "stderr",
     "output_type": "stream",
     "text": [
      "\r",
      "Episode 4|Iteration 115|reward:  843.0|last_reward_at:  109|Elapsed Time: 0:00:01||"
     ]
    },
    {
     "name": "stderr",
     "output_type": "stream",
     "text": [
      "\r",
      "Episode 4|Iteration 115|reward:  843.0|last_reward_at:  115|Elapsed Time: 0:00:01||"
     ]
    },
    {
     "name": "stderr",
     "output_type": "stream",
     "text": [
      "\r",
      "Episode 4|Iteration 116|reward:  852.0|last_reward_at:  115|Elapsed Time: 0:00:01||"
     ]
    },
    {
     "name": "stderr",
     "output_type": "stream",
     "text": [
      "\r",
      "Episode 4|Iteration 116|reward:  852.0|last_reward_at:  116|Elapsed Time: 0:00:01||"
     ]
    },
    {
     "name": "stderr",
     "output_type": "stream",
     "text": [
      "\r",
      "Episode 4|Iteration 120|reward:  858.0|last_reward_at:  116|Elapsed Time: 0:00:01||"
     ]
    },
    {
     "name": "stderr",
     "output_type": "stream",
     "text": [
      "\r",
      "Episode 4|Iteration 120|reward:  858.0|last_reward_at:  120|Elapsed Time: 0:00:01||"
     ]
    },
    {
     "name": "stderr",
     "output_type": "stream",
     "text": [
      "\r",
      "Episode 4|Iteration 129|reward:  858.0|last_reward_at:  120|Elapsed Time: 0:00:01||"
     ]
    },
    {
     "name": "stderr",
     "output_type": "stream",
     "text": [
      "\r",
      "Episode 4|Iteration 137|reward:  858.0|last_reward_at:  120|Elapsed Time: 0:00:01||"
     ]
    },
    {
     "name": "stderr",
     "output_type": "stream",
     "text": [
      "\r",
      "Episode 4|Iteration 138|reward:  958.0|last_reward_at:  120|Elapsed Time: 0:00:01||"
     ]
    },
    {
     "name": "stderr",
     "output_type": "stream",
     "text": [
      "\r",
      "Episode 4|Iteration 138|reward:  958.0|last_reward_at:  138|Elapsed Time: 0:00:01||"
     ]
    },
    {
     "name": "stderr",
     "output_type": "stream",
     "text": [
      "\r",
      "Episode 4|Iteration 143|reward:  964.0|last_reward_at:  138|Elapsed Time: 0:00:01||"
     ]
    },
    {
     "name": "stderr",
     "output_type": "stream",
     "text": [
      "\r",
      "Episode 4|Iteration 143|reward:  964.0|last_reward_at:  143|Elapsed Time: 0:00:01||"
     ]
    },
    {
     "name": "stderr",
     "output_type": "stream",
     "text": [
      "\r",
      "Episode 4|Iteration 144|reward:  973.0|last_reward_at:  143|Elapsed Time: 0:00:01||"
     ]
    },
    {
     "name": "stderr",
     "output_type": "stream",
     "text": [
      "\r",
      "Episode 4|Iteration 144|reward:  973.0|last_reward_at:  144|Elapsed Time: 0:00:01||"
     ]
    },
    {
     "name": "stderr",
     "output_type": "stream",
     "text": [
      "\r",
      "Episode 4|Iteration 147|reward:  979.0|last_reward_at:  144|Elapsed Time: 0:00:01||"
     ]
    },
    {
     "name": "stderr",
     "output_type": "stream",
     "text": [
      "\r",
      "Episode 4|Iteration 147|reward:  979.0|last_reward_at:  147|Elapsed Time: 0:00:01||"
     ]
    },
    {
     "name": "stderr",
     "output_type": "stream",
     "text": [
      "\r",
      "Episode 4|Iteration 157|reward:  979.0|last_reward_at:  147|Elapsed Time: 0:00:01||"
     ]
    },
    {
     "name": "stderr",
     "output_type": "stream",
     "text": [
      "\r",
      "Episode 4|Iteration 166|reward:  979.0|last_reward_at:  147|Elapsed Time: 0:00:01||"
     ]
    },
    {
     "name": "stderr",
     "output_type": "stream",
     "text": [
      "\r",
      "Episode 4|Iteration 175|reward:  979.0|last_reward_at:  147|Elapsed Time: 0:00:01||"
     ]
    },
    {
     "name": "stderr",
     "output_type": "stream",
     "text": [
      "\r",
      "Episode 4|Iteration 175|reward:  985.0|last_reward_at:  147|Elapsed Time: 0:00:01||"
     ]
    },
    {
     "name": "stderr",
     "output_type": "stream",
     "text": [
      "\r",
      "Episode 4|Iteration 175|reward:  985.0|last_reward_at:  175|Elapsed Time: 0:00:01||"
     ]
    },
    {
     "name": "stderr",
     "output_type": "stream",
     "text": [
      "\r",
      "Episode 4|Iteration 183|reward:  985.0|last_reward_at:  175|Elapsed Time: 0:00:01||"
     ]
    },
    {
     "name": "stderr",
     "output_type": "stream",
     "text": [
      "\r",
      "Episode 4|Iteration 185|reward:  987.0|last_reward_at:  175|Elapsed Time: 0:00:01||"
     ]
    },
    {
     "name": "stderr",
     "output_type": "stream",
     "text": [
      "\r",
      "Episode 4|Iteration 185|reward:  987.0|last_reward_at:  185|Elapsed Time: 0:00:01||"
     ]
    },
    {
     "name": "stderr",
     "output_type": "stream",
     "text": [
      "\r",
      "Episode 4|Iteration 193|reward:  987.0|last_reward_at:  185|Elapsed Time: 0:00:01||"
     ]
    },
    {
     "name": "stderr",
     "output_type": "stream",
     "text": [
      "\r",
      "Episode 4|Iteration 194|reward:  991.0|last_reward_at:  185|Elapsed Time: 0:00:01||"
     ]
    },
    {
     "name": "stderr",
     "output_type": "stream",
     "text": [
      "\r",
      "Episode 4|Iteration 194|reward:  991.0|last_reward_at:  194|Elapsed Time: 0:00:01||"
     ]
    },
    {
     "name": "stderr",
     "output_type": "stream",
     "text": [
      "\r",
      "Episode 4|Iteration 197|reward:  993.0|last_reward_at:  194|Elapsed Time: 0:00:02||"
     ]
    },
    {
     "name": "stderr",
     "output_type": "stream",
     "text": [
      "\r",
      "Episode 4|Iteration 197|reward:  993.0|last_reward_at:  197|Elapsed Time: 0:00:02||"
     ]
    },
    {
     "name": "stderr",
     "output_type": "stream",
     "text": [
      "\r",
      "Episode 4|Iteration 206|reward:  993.0|last_reward_at:  197|Elapsed Time: 0:00:02||"
     ]
    },
    {
     "name": "stderr",
     "output_type": "stream",
     "text": [
      "\r",
      "Episode 4|Iteration 209|reward:  995.0|last_reward_at:  197|Elapsed Time: 0:00:02||"
     ]
    },
    {
     "name": "stderr",
     "output_type": "stream",
     "text": [
      "\r",
      "Episode 4|Iteration 209|reward:  995.0|last_reward_at:  209|Elapsed Time: 0:00:02||"
     ]
    },
    {
     "name": "stderr",
     "output_type": "stream",
     "text": [
      "\r",
      "Episode 4|Iteration 211|reward:  997.0|last_reward_at:  209|Elapsed Time: 0:00:02||"
     ]
    },
    {
     "name": "stderr",
     "output_type": "stream",
     "text": [
      "\r",
      "Episode 4|Iteration 211|reward:  997.0|last_reward_at:  211|Elapsed Time: 0:00:02||"
     ]
    },
    {
     "name": "stderr",
     "output_type": "stream",
     "text": [
      "\r",
      "Episode 4|Iteration 221|reward:  997.0|last_reward_at:  211|Elapsed Time: 0:00:02||"
     ]
    },
    {
     "name": "stderr",
     "output_type": "stream",
     "text": [
      "\r",
      "Episode 4|Iteration 228|reward:  997.0|last_reward_at:  211|Elapsed Time: 0:00:02||"
     ]
    },
    {
     "name": "stderr",
     "output_type": "stream",
     "text": [
      "\r",
      "Episode 4|Iteration 236|reward:  997.0|last_reward_at:  211|Elapsed Time: 0:00:02||"
     ]
    },
    {
     "name": "stderr",
     "output_type": "stream",
     "text": [
      "\r",
      "Episode 4|Iteration 244|reward:  997.0|last_reward_at:  211|Elapsed Time: 0:00:02||"
     ]
    },
    {
     "name": "stderr",
     "output_type": "stream",
     "text": [
      "\r",
      "Episode 4|Iteration 251|reward:  997.0|last_reward_at:  211|Elapsed Time: 0:00:02||"
     ]
    },
    {
     "name": "stderr",
     "output_type": "stream",
     "text": [
      "\r",
      "Episode 4|Iteration 259|reward:  997.0|last_reward_at:  211|Elapsed Time: 0:00:02||"
     ]
    },
    {
     "name": "stderr",
     "output_type": "stream",
     "text": [
      "\r",
      "Episode 4|Iteration 266|reward:  997.0|last_reward_at:  211|Elapsed Time: 0:00:02||"
     ]
    },
    {
     "name": "stderr",
     "output_type": "stream",
     "text": [
      "\r",
      "Episode 4|Iteration 267|reward:  999.0|last_reward_at:  211|Elapsed Time: 0:00:02||"
     ]
    },
    {
     "name": "stderr",
     "output_type": "stream",
     "text": [
      "\r",
      "Episode 4|Iteration 267|reward:  999.0|last_reward_at:  267|Elapsed Time: 0:00:02||"
     ]
    },
    {
     "name": "stderr",
     "output_type": "stream",
     "text": [
      "\r",
      "Episode 4|Iteration 274|reward:  999.0|last_reward_at:  267|Elapsed Time: 0:00:02||"
     ]
    },
    {
     "name": "stderr",
     "output_type": "stream",
     "text": [
      "\r",
      "Episode 4|Iteration 282|reward:  999.0|last_reward_at:  267|Elapsed Time: 0:00:02||"
     ]
    },
    {
     "name": "stderr",
     "output_type": "stream",
     "text": [
      "\r",
      "Episode 4|Iteration 287|reward: 1099.0|last_reward_at:  267|Elapsed Time: 0:00:02||"
     ]
    },
    {
     "name": "stderr",
     "output_type": "stream",
     "text": [
      "\r",
      "Episode 4|Iteration 287|reward: 1099.0|last_reward_at:  287|Elapsed Time: 0:00:02||"
     ]
    },
    {
     "name": "stderr",
     "output_type": "stream",
     "text": [
      "\r",
      "Episode 4|Iteration 288|reward: 1108.0|last_reward_at:  287|Elapsed Time: 0:00:02||"
     ]
    },
    {
     "name": "stderr",
     "output_type": "stream",
     "text": [
      "\r",
      "Episode 4|Iteration 288|reward: 1108.0|last_reward_at:  288|Elapsed Time: 0:00:02||"
     ]
    },
    {
     "name": "stderr",
     "output_type": "stream",
     "text": [
      "\r",
      "Episode 4|Iteration 291|reward: 1114.0|last_reward_at:  288|Elapsed Time: 0:00:02||"
     ]
    },
    {
     "name": "stderr",
     "output_type": "stream",
     "text": [
      "\r",
      "Episode 4|Iteration 291|reward: 1114.0|last_reward_at:  291|Elapsed Time: 0:00:02||"
     ]
    },
    {
     "name": "stderr",
     "output_type": "stream",
     "text": [
      "\r",
      "Episode 4|Iteration 297|reward: 1114.0|last_reward_at:  291|Elapsed Time: 0:00:03||"
     ]
    },
    {
     "name": "stderr",
     "output_type": "stream",
     "text": [
      "\r",
      "Episode 4|Iteration 297|reward: 1214.0|last_reward_at:  291|Elapsed Time: 0:00:03||"
     ]
    },
    {
     "name": "stderr",
     "output_type": "stream",
     "text": [
      "\r",
      "Episode 4|Iteration 297|reward: 1214.0|last_reward_at:  297|Elapsed Time: 0:00:03||"
     ]
    },
    {
     "name": "stderr",
     "output_type": "stream",
     "text": [
      "\r",
      "Episode 4|Iteration 298|reward: 1220.0|last_reward_at:  297|Elapsed Time: 0:00:03||"
     ]
    },
    {
     "name": "stderr",
     "output_type": "stream",
     "text": [
      "\r",
      "Episode 4|Iteration 298|reward: 1220.0|last_reward_at:  298|Elapsed Time: 0:00:03||"
     ]
    },
    {
     "name": "stderr",
     "output_type": "stream",
     "text": [
      "\r",
      "Episode 4|Iteration 302|reward: 1229.0|last_reward_at:  298|Elapsed Time: 0:00:03||"
     ]
    },
    {
     "name": "stderr",
     "output_type": "stream",
     "text": [
      "\r",
      "Episode 4|Iteration 302|reward: 1229.0|last_reward_at:  302|Elapsed Time: 0:00:03||"
     ]
    },
    {
     "name": "stderr",
     "output_type": "stream",
     "text": [
      "\r",
      "Episode 4|Iteration 311|reward: 2229.0|last_reward_at:  302|Elapsed Time: 0:00:03||"
     ]
    },
    {
     "name": "stderr",
     "output_type": "stream",
     "text": [
      "\r",
      "Episode 4|Iteration 311|reward: 2229.0|last_reward_at:  311|Elapsed Time: 0:00:03||"
     ]
    },
    {
     "name": "stderr",
     "output_type": "stream",
     "text": [
      "\r",
      "Episode 4|Iteration 319|reward: 2229.0|last_reward_at:  311|Elapsed Time: 0:00:03||"
     ]
    },
    {
     "name": "stderr",
     "output_type": "stream",
     "text": [
      "\r",
      "Episode 4|Iteration 327|reward: 2229.0|last_reward_at:  311|Elapsed Time: 0:00:03||"
     ]
    },
    {
     "name": "stderr",
     "output_type": "stream",
     "text": [
      "\r",
      "Episode 4|Iteration 335|reward: 2229.0|last_reward_at:  311|Elapsed Time: 0:00:03||"
     ]
    },
    {
     "name": "stderr",
     "output_type": "stream",
     "text": [
      "\r",
      "Episode 4|Iteration 342|reward: 2229.0|last_reward_at:  311|Elapsed Time: 0:00:03||"
     ]
    },
    {
     "name": "stderr",
     "output_type": "stream",
     "text": [
      "\r",
      "Episode 4|Iteration 350|reward: 2229.0|last_reward_at:  311|Elapsed Time: 0:00:03||"
     ]
    },
    {
     "name": "stderr",
     "output_type": "stream",
     "text": [
      "\r",
      "Episode 4|Iteration 357|reward: 2229.0|last_reward_at:  311|Elapsed Time: 0:00:03||"
     ]
    },
    {
     "name": "stderr",
     "output_type": "stream",
     "text": [
      "\r",
      "Episode 4|Iteration 365|reward: 2229.0|last_reward_at:  311|Elapsed Time: 0:00:03||"
     ]
    },
    {
     "name": "stderr",
     "output_type": "stream",
     "text": [
      "\r",
      "Episode 4|Iteration 373|reward: 2229.0|last_reward_at:  311|Elapsed Time: 0:00:03||"
     ]
    },
    {
     "name": "stderr",
     "output_type": "stream",
     "text": [
      "\r",
      "Episode 4|Iteration 380|reward: 2229.0|last_reward_at:  311|Elapsed Time: 0:00:03||"
     ]
    },
    {
     "name": "stderr",
     "output_type": "stream",
     "text": [
      "\r",
      "Episode 4|Iteration 388|reward: 2229.0|last_reward_at:  311|Elapsed Time: 0:00:03||"
     ]
    },
    {
     "name": "stderr",
     "output_type": "stream",
     "text": [
      "\r",
      "Episode 4|Iteration 395|reward: 2229.0|last_reward_at:  311|Elapsed Time: 0:00:04||"
     ]
    },
    {
     "name": "stderr",
     "output_type": "stream",
     "text": [
      "\r",
      "Episode 4|Iteration 397|reward: 2235.0|last_reward_at:  311|Elapsed Time: 0:00:04||"
     ]
    },
    {
     "name": "stderr",
     "output_type": "stream",
     "text": [
      "\r",
      "Episode 4|Iteration 397|reward: 2235.0|last_reward_at:  397|Elapsed Time: 0:00:04||"
     ]
    },
    {
     "name": "stderr",
     "output_type": "stream",
     "text": [
      "\r",
      "Episode 4|Iteration 408|reward: 2235.0|last_reward_at:  397|Elapsed Time: 0:00:04||"
     ]
    },
    {
     "name": "stderr",
     "output_type": "stream",
     "text": [
      "\r",
      "Episode 4|Iteration 418|reward: 2235.0|last_reward_at:  397|Elapsed Time: 0:00:04||"
     ]
    },
    {
     "name": "stderr",
     "output_type": "stream",
     "text": [
      "\r",
      "Episode 4|Iteration 426|reward: 2235.0|last_reward_at:  397|Elapsed Time: 0:00:04||"
     ]
    },
    {
     "name": "stderr",
     "output_type": "stream",
     "text": [
      "\r",
      "Episode 4|Iteration 433|reward: 2235.0|last_reward_at:  397|Elapsed Time: 0:00:04||"
     ]
    },
    {
     "name": "stderr",
     "output_type": "stream",
     "text": [
      "\r",
      "Episode 4|Iteration 441|reward: 2235.0|last_reward_at:  397|Elapsed Time: 0:00:04||"
     ]
    },
    {
     "name": "stderr",
     "output_type": "stream",
     "text": [
      "\r",
      "Episode 4|Iteration 449|reward: 2235.0|last_reward_at:  397|Elapsed Time: 0:00:04||"
     ]
    },
    {
     "name": "stderr",
     "output_type": "stream",
     "text": [
      "\r",
      "Episode 4|Iteration 456|reward: 2235.0|last_reward_at:  397|Elapsed Time: 0:00:04||"
     ]
    },
    {
     "name": "stderr",
     "output_type": "stream",
     "text": [
      "\r",
      "Episode 4|Iteration 464|reward: 2235.0|last_reward_at:  397|Elapsed Time: 0:00:04||"
     ]
    },
    {
     "name": "stderr",
     "output_type": "stream",
     "text": [
      "\r",
      "Episode 4|Iteration 471|reward: 2235.0|last_reward_at:  397|Elapsed Time: 0:00:04||"
     ]
    },
    {
     "name": "stderr",
     "output_type": "stream",
     "text": [
      "\r",
      "Episode 4|Iteration 479|reward: 2235.0|last_reward_at:  397|Elapsed Time: 0:00:04||"
     ]
    },
    {
     "name": "stderr",
     "output_type": "stream",
     "text": [
      "\r",
      "Episode 4|Iteration 487|reward: 2235.0|last_reward_at:  397|Elapsed Time: 0:00:04||"
     ]
    },
    {
     "name": "stderr",
     "output_type": "stream",
     "text": [
      "\r",
      "Episode 4|Iteration 494|reward: 2235.0|last_reward_at:  397|Elapsed Time: 0:00:05||"
     ]
    },
    {
     "name": "stderr",
     "output_type": "stream",
     "text": [
      "\r",
      "Episode 4|Iteration 502|reward: 2235.0|last_reward_at:  397|Elapsed Time: 0:00:05||"
     ]
    },
    {
     "name": "stderr",
     "output_type": "stream",
     "text": [
      "\r",
      "Episode 4|Iteration 509|reward: 2235.0|last_reward_at:  397|Elapsed Time: 0:00:05||"
     ]
    },
    {
     "name": "stderr",
     "output_type": "stream",
     "text": [
      "\r",
      "Episode 4|Iteration 517|reward: 2235.0|last_reward_at:  397|Elapsed Time: 0:00:05||"
     ]
    },
    {
     "name": "stderr",
     "output_type": "stream",
     "text": [
      "\r",
      "Episode 4|Iteration 525|reward: 2235.0|last_reward_at:  397|Elapsed Time: 0:00:05||"
     ]
    },
    {
     "name": "stderr",
     "output_type": "stream",
     "text": [
      "\r",
      "Episode 4|Iteration 532|reward: 2235.0|last_reward_at:  397|Elapsed Time: 0:00:05||"
     ]
    },
    {
     "name": "stderr",
     "output_type": "stream",
     "text": [
      "\r",
      "Episode 4|Iteration 540|reward: 2235.0|last_reward_at:  397|Elapsed Time: 0:00:05||"
     ]
    },
    {
     "name": "stderr",
     "output_type": "stream",
     "text": [
      "\r",
      "Episode 4|Iteration 547|reward: 2235.0|last_reward_at:  397|Elapsed Time: 0:00:05||"
     ]
    },
    {
     "name": "stderr",
     "output_type": "stream",
     "text": [
      "\r",
      "Episode 4|Iteration 555|reward: 2235.0|last_reward_at:  397|Elapsed Time: 0:00:05||"
     ]
    },
    {
     "name": "stderr",
     "output_type": "stream",
     "text": [
      "\r",
      "Episode 4|Iteration 563|reward: 2235.0|last_reward_at:  397|Elapsed Time: 0:00:05||"
     ]
    },
    {
     "name": "stderr",
     "output_type": "stream",
     "text": [
      "\r",
      "Episode 4|Iteration 570|reward: 2235.0|last_reward_at:  397|Elapsed Time: 0:00:05||"
     ]
    },
    {
     "name": "stderr",
     "output_type": "stream",
     "text": [
      "\r",
      "Episode 4|Iteration 578|reward: 2235.0|last_reward_at:  397|Elapsed Time: 0:00:05||"
     ]
    },
    {
     "name": "stderr",
     "output_type": "stream",
     "text": [
      "\r",
      "Episode 4|Iteration 585|reward: 2235.0|last_reward_at:  397|Elapsed Time: 0:00:06||"
     ]
    },
    {
     "name": "stderr",
     "output_type": "stream",
     "text": [
      "\r",
      "Episode 4|Iteration 593|reward: 2235.0|last_reward_at:  397|Elapsed Time: 0:00:06||"
     ]
    },
    {
     "name": "stderr",
     "output_type": "stream",
     "text": [
      "\r",
      "Episode 4|Iteration 600|reward: 2235.0|last_reward_at:  397|Elapsed Time: 0:00:06||"
     ]
    },
    {
     "name": "stderr",
     "output_type": "stream",
     "text": [
      "\r",
      "Episode 4|Iteration 600|reward: 2235.0|last_reward_at:  397|Elapsed Time: 0:00:06||"
     ]
    },
    {
     "name": "stderr",
     "output_type": "stream",
     "text": [
      "\n"
     ]
    },
    {
     "name": "stdout",
     "output_type": "stream",
     "text": [
      "  Episode 4 stopped at t=600 \n",
      "  Breakdown [Reward/NoReward (Success rate)]\n",
      "    explore-local: 2/50 (0.04)\n",
      "    explore-remote: 16/142 (0.10)\n",
      "    explore-connect: 1/186 (0.01)\n",
      "    exploit-local: 17/16 (0.52)\n",
      "    exploit-remote: 4/57 (0.07)\n",
      "    exploit-connect: 10/99 (0.09)\n",
      "  exploit deflected to exploration: 8\n",
      "  ## Episode: 5/10 'DQL' ϵ=0.5951, γ=0.15, lr=0.01, replaymemory=10000,\n",
      "batch=256, target_update=5\n"
     ]
    },
    {
     "name": "stderr",
     "output_type": "stream",
     "text": [
      "\r",
      "Episode 5|Iteration 0|reward: ------|last_reward_at: ----|Elapsed Time: 0:00:00||"
     ]
    },
    {
     "name": "stderr",
     "output_type": "stream",
     "text": [
      "\r",
      "Episode 5|Iteration 1|reward:    9.0|last_reward_at: ----|Elapsed Time: 0:00:00||"
     ]
    },
    {
     "name": "stderr",
     "output_type": "stream",
     "text": [
      "\r",
      "Episode 5|Iteration 1|reward:    9.0|last_reward_at:    1|Elapsed Time: 0:00:00||"
     ]
    },
    {
     "name": "stderr",
     "output_type": "stream",
     "text": [
      "\r",
      "Episode 5|Iteration 2|reward:  109.0|last_reward_at:    1|Elapsed Time: 0:00:00||"
     ]
    },
    {
     "name": "stderr",
     "output_type": "stream",
     "text": [
      "\r",
      "Episode 5|Iteration 2|reward:  109.0|last_reward_at:    2|Elapsed Time: 0:00:00||"
     ]
    },
    {
     "name": "stderr",
     "output_type": "stream",
     "text": [
      "\r",
      "Episode 5|Iteration 3|reward:  118.0|last_reward_at:    2|Elapsed Time: 0:00:00||"
     ]
    },
    {
     "name": "stderr",
     "output_type": "stream",
     "text": [
      "\r",
      "Episode 5|Iteration 3|reward:  118.0|last_reward_at:    3|Elapsed Time: 0:00:00||"
     ]
    },
    {
     "name": "stderr",
     "output_type": "stream",
     "text": [
      "\r",
      "Episode 5|Iteration 4|reward:  126.0|last_reward_at:    3|Elapsed Time: 0:00:00||"
     ]
    },
    {
     "name": "stderr",
     "output_type": "stream",
     "text": [
      "\r",
      "Episode 5|Iteration 4|reward:  126.0|last_reward_at:    4|Elapsed Time: 0:00:00||"
     ]
    },
    {
     "name": "stderr",
     "output_type": "stream",
     "text": [
      "\r",
      "Episode 5|Iteration 5|reward:  132.0|last_reward_at:    4|Elapsed Time: 0:00:00||"
     ]
    },
    {
     "name": "stderr",
     "output_type": "stream",
     "text": [
      "\r",
      "Episode 5|Iteration 5|reward:  132.0|last_reward_at:    5|Elapsed Time: 0:00:00||"
     ]
    },
    {
     "name": "stderr",
     "output_type": "stream",
     "text": [
      "\r",
      "Episode 5|Iteration 8|reward:  134.0|last_reward_at:    5|Elapsed Time: 0:00:00||"
     ]
    },
    {
     "name": "stderr",
     "output_type": "stream",
     "text": [
      "\r",
      "Episode 5|Iteration 8|reward:  134.0|last_reward_at:    8|Elapsed Time: 0:00:00||"
     ]
    },
    {
     "name": "stderr",
     "output_type": "stream",
     "text": [
      "\r",
      "Episode 5|Iteration 9|reward:  136.0|last_reward_at:    8|Elapsed Time: 0:00:00||"
     ]
    },
    {
     "name": "stderr",
     "output_type": "stream",
     "text": [
      "\r",
      "Episode 5|Iteration 9|reward:  136.0|last_reward_at:    9|Elapsed Time: 0:00:00||"
     ]
    },
    {
     "name": "stderr",
     "output_type": "stream",
     "text": [
      "\r",
      "Episode 5|Iteration 15|reward:  142.0|last_reward_at:    9|Elapsed Time: 0:00:00||"
     ]
    },
    {
     "name": "stderr",
     "output_type": "stream",
     "text": [
      "\r",
      "Episode 5|Iteration 15|reward:  142.0|last_reward_at:   15|Elapsed Time: 0:00:00||"
     ]
    },
    {
     "name": "stderr",
     "output_type": "stream",
     "text": [
      "\r",
      "Episode 5|Iteration 23|reward:  142.0|last_reward_at:   15|Elapsed Time: 0:00:00||"
     ]
    },
    {
     "name": "stderr",
     "output_type": "stream",
     "text": [
      "\r",
      "Episode 5|Iteration 31|reward:  142.0|last_reward_at:   15|Elapsed Time: 0:00:00||"
     ]
    },
    {
     "name": "stderr",
     "output_type": "stream",
     "text": [
      "\r",
      "Episode 5|Iteration 38|reward:  142.0|last_reward_at:   15|Elapsed Time: 0:00:00||"
     ]
    },
    {
     "name": "stderr",
     "output_type": "stream",
     "text": [
      "\r",
      "Episode 5|Iteration 46|reward:  142.0|last_reward_at:   15|Elapsed Time: 0:00:00||"
     ]
    },
    {
     "name": "stderr",
     "output_type": "stream",
     "text": [
      "\r",
      "Episode 5|Iteration 50|reward:  242.0|last_reward_at:   15|Elapsed Time: 0:00:00||"
     ]
    },
    {
     "name": "stderr",
     "output_type": "stream",
     "text": [
      "\r",
      "Episode 5|Iteration 50|reward:  242.0|last_reward_at:   50|Elapsed Time: 0:00:00||"
     ]
    },
    {
     "name": "stderr",
     "output_type": "stream",
     "text": [
      "\r",
      "Episode 5|Iteration 51|reward:  248.0|last_reward_at:   50|Elapsed Time: 0:00:00||"
     ]
    },
    {
     "name": "stderr",
     "output_type": "stream",
     "text": [
      "\r",
      "Episode 5|Iteration 51|reward:  248.0|last_reward_at:   51|Elapsed Time: 0:00:00||"
     ]
    },
    {
     "name": "stderr",
     "output_type": "stream",
     "text": [
      "\r",
      "Episode 5|Iteration 53|reward:  257.0|last_reward_at:   51|Elapsed Time: 0:00:00||"
     ]
    },
    {
     "name": "stderr",
     "output_type": "stream",
     "text": [
      "\r",
      "Episode 5|Iteration 53|reward:  257.0|last_reward_at:   53|Elapsed Time: 0:00:00||"
     ]
    },
    {
     "name": "stderr",
     "output_type": "stream",
     "text": [
      "\r",
      "Episode 5|Iteration 54|reward:  357.0|last_reward_at:   53|Elapsed Time: 0:00:00||"
     ]
    },
    {
     "name": "stderr",
     "output_type": "stream",
     "text": [
      "\r",
      "Episode 5|Iteration 54|reward:  357.0|last_reward_at:   54|Elapsed Time: 0:00:00||"
     ]
    },
    {
     "name": "stderr",
     "output_type": "stream",
     "text": [
      "\r",
      "Episode 5|Iteration 61|reward:  357.0|last_reward_at:   54|Elapsed Time: 0:00:00||"
     ]
    },
    {
     "name": "stderr",
     "output_type": "stream",
     "text": [
      "\r",
      "Episode 5|Iteration 69|reward:  357.0|last_reward_at:   54|Elapsed Time: 0:00:00||"
     ]
    },
    {
     "name": "stderr",
     "output_type": "stream",
     "text": [
      "\r",
      "Episode 5|Iteration 76|reward:  357.0|last_reward_at:   54|Elapsed Time: 0:00:00||"
     ]
    },
    {
     "name": "stderr",
     "output_type": "stream",
     "text": [
      "\r",
      "Episode 5|Iteration 76|reward:  359.0|last_reward_at:   54|Elapsed Time: 0:00:00||"
     ]
    },
    {
     "name": "stderr",
     "output_type": "stream",
     "text": [
      "\r",
      "Episode 5|Iteration 76|reward:  359.0|last_reward_at:   76|Elapsed Time: 0:00:00||"
     ]
    },
    {
     "name": "stderr",
     "output_type": "stream",
     "text": [
      "\r",
      "Episode 5|Iteration 78|reward:  361.0|last_reward_at:   76|Elapsed Time: 0:00:00||"
     ]
    },
    {
     "name": "stderr",
     "output_type": "stream",
     "text": [
      "\r",
      "Episode 5|Iteration 78|reward:  361.0|last_reward_at:   78|Elapsed Time: 0:00:00||"
     ]
    },
    {
     "name": "stderr",
     "output_type": "stream",
     "text": [
      "\r",
      "Episode 5|Iteration 90|reward:  361.0|last_reward_at:   78|Elapsed Time: 0:00:00||"
     ]
    },
    {
     "name": "stderr",
     "output_type": "stream",
     "text": [
      "\r",
      "Episode 5|Iteration 99|reward:  361.0|last_reward_at:   78|Elapsed Time: 0:00:00||"
     ]
    },
    {
     "name": "stderr",
     "output_type": "stream",
     "text": [
      "\r",
      "Episode 5|Iteration 107|reward:  361.0|last_reward_at:   78|Elapsed Time: 0:00:01||"
     ]
    },
    {
     "name": "stderr",
     "output_type": "stream",
     "text": [
      "\r",
      "Episode 5|Iteration 114|reward:  361.0|last_reward_at:   78|Elapsed Time: 0:00:01||"
     ]
    },
    {
     "name": "stderr",
     "output_type": "stream",
     "text": [
      "\r",
      "Episode 5|Iteration 122|reward:  361.0|last_reward_at:   78|Elapsed Time: 0:00:01||"
     ]
    },
    {
     "name": "stderr",
     "output_type": "stream",
     "text": [
      "\r",
      "Episode 5|Iteration 130|reward:  361.0|last_reward_at:   78|Elapsed Time: 0:00:01||"
     ]
    },
    {
     "name": "stderr",
     "output_type": "stream",
     "text": [
      "\r",
      "Episode 5|Iteration 137|reward:  361.0|last_reward_at:   78|Elapsed Time: 0:00:01||"
     ]
    },
    {
     "name": "stderr",
     "output_type": "stream",
     "text": [
      "\r",
      "Episode 5|Iteration 145|reward:  361.0|last_reward_at:   78|Elapsed Time: 0:00:01||"
     ]
    },
    {
     "name": "stderr",
     "output_type": "stream",
     "text": [
      "\r",
      "Episode 5|Iteration 152|reward:  361.0|last_reward_at:   78|Elapsed Time: 0:00:01||"
     ]
    },
    {
     "name": "stderr",
     "output_type": "stream",
     "text": [
      "\r",
      "Episode 5|Iteration 160|reward:  361.0|last_reward_at:   78|Elapsed Time: 0:00:01||"
     ]
    },
    {
     "name": "stderr",
     "output_type": "stream",
     "text": [
      "\r",
      "Episode 5|Iteration 168|reward:  361.0|last_reward_at:   78|Elapsed Time: 0:00:01||"
     ]
    },
    {
     "name": "stderr",
     "output_type": "stream",
     "text": [
      "\r",
      "Episode 5|Iteration 175|reward:  361.0|last_reward_at:   78|Elapsed Time: 0:00:01||"
     ]
    },
    {
     "name": "stderr",
     "output_type": "stream",
     "text": [
      "\r",
      "Episode 5|Iteration 183|reward:  361.0|last_reward_at:   78|Elapsed Time: 0:00:01||"
     ]
    },
    {
     "name": "stderr",
     "output_type": "stream",
     "text": [
      "\r",
      "Episode 5|Iteration 190|reward:  361.0|last_reward_at:   78|Elapsed Time: 0:00:01||"
     ]
    },
    {
     "name": "stderr",
     "output_type": "stream",
     "text": [
      "\r",
      "Episode 5|Iteration 198|reward:  361.0|last_reward_at:   78|Elapsed Time: 0:00:01||"
     ]
    },
    {
     "name": "stderr",
     "output_type": "stream",
     "text": [
      "\r",
      "Episode 5|Iteration 206|reward:  361.0|last_reward_at:   78|Elapsed Time: 0:00:01||"
     ]
    },
    {
     "name": "stderr",
     "output_type": "stream",
     "text": [
      "\r",
      "Episode 5|Iteration 213|reward:  361.0|last_reward_at:   78|Elapsed Time: 0:00:01||"
     ]
    },
    {
     "name": "stderr",
     "output_type": "stream",
     "text": [
      "\r",
      "Episode 5|Iteration 221|reward:  361.0|last_reward_at:   78|Elapsed Time: 0:00:02||"
     ]
    },
    {
     "name": "stderr",
     "output_type": "stream",
     "text": [
      "\r",
      "Episode 5|Iteration 228|reward:  361.0|last_reward_at:   78|Elapsed Time: 0:00:02||"
     ]
    },
    {
     "name": "stderr",
     "output_type": "stream",
     "text": [
      "\r",
      "Episode 5|Iteration 236|reward:  361.0|last_reward_at:   78|Elapsed Time: 0:00:02||"
     ]
    },
    {
     "name": "stderr",
     "output_type": "stream",
     "text": [
      "\r",
      "Episode 5|Iteration 244|reward:  361.0|last_reward_at:   78|Elapsed Time: 0:00:02||"
     ]
    },
    {
     "name": "stderr",
     "output_type": "stream",
     "text": [
      "\r",
      "Episode 5|Iteration 251|reward:  361.0|last_reward_at:   78|Elapsed Time: 0:00:02||"
     ]
    },
    {
     "name": "stderr",
     "output_type": "stream",
     "text": [
      "\r",
      "Episode 5|Iteration 259|reward:  361.0|last_reward_at:   78|Elapsed Time: 0:00:02||"
     ]
    },
    {
     "name": "stderr",
     "output_type": "stream",
     "text": [
      "\r",
      "Episode 5|Iteration 266|reward:  361.0|last_reward_at:   78|Elapsed Time: 0:00:02||"
     ]
    },
    {
     "name": "stderr",
     "output_type": "stream",
     "text": [
      "\r",
      "Episode 5|Iteration 274|reward:  361.0|last_reward_at:   78|Elapsed Time: 0:00:02||"
     ]
    },
    {
     "name": "stderr",
     "output_type": "stream",
     "text": [
      "\r",
      "Episode 5|Iteration 282|reward:  361.0|last_reward_at:   78|Elapsed Time: 0:00:02||"
     ]
    },
    {
     "name": "stderr",
     "output_type": "stream",
     "text": [
      "\r",
      "Episode 5|Iteration 289|reward:  361.0|last_reward_at:   78|Elapsed Time: 0:00:02||"
     ]
    },
    {
     "name": "stderr",
     "output_type": "stream",
     "text": [
      "\r",
      "Episode 5|Iteration 297|reward:  361.0|last_reward_at:   78|Elapsed Time: 0:00:02||"
     ]
    },
    {
     "name": "stderr",
     "output_type": "stream",
     "text": [
      "\r",
      "Episode 5|Iteration 304|reward:  361.0|last_reward_at:   78|Elapsed Time: 0:00:02||"
     ]
    },
    {
     "name": "stderr",
     "output_type": "stream",
     "text": [
      "\r",
      "Episode 5|Iteration 312|reward:  361.0|last_reward_at:   78|Elapsed Time: 0:00:02||"
     ]
    },
    {
     "name": "stderr",
     "output_type": "stream",
     "text": [
      "\r",
      "Episode 5|Iteration 319|reward:  361.0|last_reward_at:   78|Elapsed Time: 0:00:02||"
     ]
    },
    {
     "name": "stderr",
     "output_type": "stream",
     "text": [
      "\r",
      "Episode 5|Iteration 327|reward:  361.0|last_reward_at:   78|Elapsed Time: 0:00:03||"
     ]
    },
    {
     "name": "stderr",
     "output_type": "stream",
     "text": [
      "\r",
      "Episode 5|Iteration 335|reward:  361.0|last_reward_at:   78|Elapsed Time: 0:00:03||"
     ]
    },
    {
     "name": "stderr",
     "output_type": "stream",
     "text": [
      "\r",
      "Episode 5|Iteration 342|reward:  361.0|last_reward_at:   78|Elapsed Time: 0:00:03||"
     ]
    },
    {
     "name": "stderr",
     "output_type": "stream",
     "text": [
      "\r",
      "Episode 5|Iteration 350|reward:  361.0|last_reward_at:   78|Elapsed Time: 0:00:03||"
     ]
    },
    {
     "name": "stderr",
     "output_type": "stream",
     "text": [
      "\r",
      "Episode 5|Iteration 357|reward:  361.0|last_reward_at:   78|Elapsed Time: 0:00:03||"
     ]
    },
    {
     "name": "stderr",
     "output_type": "stream",
     "text": [
      "\r",
      "Episode 5|Iteration 365|reward:  361.0|last_reward_at:   78|Elapsed Time: 0:00:03||"
     ]
    },
    {
     "name": "stderr",
     "output_type": "stream",
     "text": [
      "\r",
      "Episode 5|Iteration 373|reward:  361.0|last_reward_at:   78|Elapsed Time: 0:00:03||"
     ]
    },
    {
     "name": "stderr",
     "output_type": "stream",
     "text": [
      "\r",
      "Episode 5|Iteration 380|reward:  361.0|last_reward_at:   78|Elapsed Time: 0:00:03||"
     ]
    },
    {
     "name": "stderr",
     "output_type": "stream",
     "text": [
      "\r",
      "Episode 5|Iteration 388|reward:  361.0|last_reward_at:   78|Elapsed Time: 0:00:03||"
     ]
    },
    {
     "name": "stderr",
     "output_type": "stream",
     "text": [
      "\r",
      "Episode 5|Iteration 395|reward:  361.0|last_reward_at:   78|Elapsed Time: 0:00:03||"
     ]
    },
    {
     "name": "stderr",
     "output_type": "stream",
     "text": [
      "\r",
      "Episode 5|Iteration 403|reward:  361.0|last_reward_at:   78|Elapsed Time: 0:00:03||"
     ]
    },
    {
     "name": "stderr",
     "output_type": "stream",
     "text": [
      "\r",
      "Episode 5|Iteration 411|reward:  361.0|last_reward_at:   78|Elapsed Time: 0:00:03||"
     ]
    },
    {
     "name": "stderr",
     "output_type": "stream",
     "text": [
      "\r",
      "Episode 5|Iteration 418|reward:  361.0|last_reward_at:   78|Elapsed Time: 0:00:03||"
     ]
    },
    {
     "name": "stderr",
     "output_type": "stream",
     "text": [
      "\r",
      "Episode 5|Iteration 426|reward:  361.0|last_reward_at:   78|Elapsed Time: 0:00:03||"
     ]
    },
    {
     "name": "stderr",
     "output_type": "stream",
     "text": [
      "\r",
      "Episode 5|Iteration 433|reward:  361.0|last_reward_at:   78|Elapsed Time: 0:00:04||"
     ]
    },
    {
     "name": "stderr",
     "output_type": "stream",
     "text": [
      "\r",
      "Episode 5|Iteration 441|reward:  361.0|last_reward_at:   78|Elapsed Time: 0:00:04||"
     ]
    },
    {
     "name": "stderr",
     "output_type": "stream",
     "text": [
      "\r",
      "Episode 5|Iteration 449|reward:  361.0|last_reward_at:   78|Elapsed Time: 0:00:04||"
     ]
    },
    {
     "name": "stderr",
     "output_type": "stream",
     "text": [
      "\r",
      "Episode 5|Iteration 456|reward:  361.0|last_reward_at:   78|Elapsed Time: 0:00:04||"
     ]
    },
    {
     "name": "stderr",
     "output_type": "stream",
     "text": [
      "\r",
      "Episode 5|Iteration 464|reward:  361.0|last_reward_at:   78|Elapsed Time: 0:00:04||"
     ]
    },
    {
     "name": "stderr",
     "output_type": "stream",
     "text": [
      "\r",
      "Episode 5|Iteration 471|reward:  361.0|last_reward_at:   78|Elapsed Time: 0:00:04||"
     ]
    },
    {
     "name": "stderr",
     "output_type": "stream",
     "text": [
      "\r",
      "Episode 5|Iteration 479|reward:  361.0|last_reward_at:   78|Elapsed Time: 0:00:04||"
     ]
    },
    {
     "name": "stderr",
     "output_type": "stream",
     "text": [
      "\r",
      "Episode 5|Iteration 487|reward:  361.0|last_reward_at:   78|Elapsed Time: 0:00:04||"
     ]
    },
    {
     "name": "stderr",
     "output_type": "stream",
     "text": [
      "\r",
      "Episode 5|Iteration 494|reward:  361.0|last_reward_at:   78|Elapsed Time: 0:00:04||"
     ]
    },
    {
     "name": "stderr",
     "output_type": "stream",
     "text": [
      "\r",
      "Episode 5|Iteration 502|reward:  361.0|last_reward_at:   78|Elapsed Time: 0:00:04||"
     ]
    },
    {
     "name": "stderr",
     "output_type": "stream",
     "text": [
      "\r",
      "Episode 5|Iteration 509|reward:  361.0|last_reward_at:   78|Elapsed Time: 0:00:04||"
     ]
    },
    {
     "name": "stderr",
     "output_type": "stream",
     "text": [
      "\r",
      "Episode 5|Iteration 517|reward:  361.0|last_reward_at:   78|Elapsed Time: 0:00:04||"
     ]
    },
    {
     "name": "stderr",
     "output_type": "stream",
     "text": [
      "\r",
      "Episode 5|Iteration 525|reward:  361.0|last_reward_at:   78|Elapsed Time: 0:00:04||"
     ]
    },
    {
     "name": "stderr",
     "output_type": "stream",
     "text": [
      "\r",
      "Episode 5|Iteration 532|reward:  361.0|last_reward_at:   78|Elapsed Time: 0:00:04||"
     ]
    },
    {
     "name": "stderr",
     "output_type": "stream",
     "text": [
      "\r",
      "Episode 5|Iteration 540|reward:  361.0|last_reward_at:   78|Elapsed Time: 0:00:05||"
     ]
    },
    {
     "name": "stderr",
     "output_type": "stream",
     "text": [
      "\r",
      "Episode 5|Iteration 547|reward:  361.0|last_reward_at:   78|Elapsed Time: 0:00:05||"
     ]
    },
    {
     "name": "stderr",
     "output_type": "stream",
     "text": [
      "\r",
      "Episode 5|Iteration 555|reward:  361.0|last_reward_at:   78|Elapsed Time: 0:00:05||"
     ]
    },
    {
     "name": "stderr",
     "output_type": "stream",
     "text": [
      "\r",
      "Episode 5|Iteration 563|reward:  361.0|last_reward_at:   78|Elapsed Time: 0:00:05||"
     ]
    },
    {
     "name": "stderr",
     "output_type": "stream",
     "text": [
      "\r",
      "Episode 5|Iteration 570|reward:  361.0|last_reward_at:   78|Elapsed Time: 0:00:05||"
     ]
    },
    {
     "name": "stderr",
     "output_type": "stream",
     "text": [
      "\r",
      "Episode 5|Iteration 578|reward:  361.0|last_reward_at:   78|Elapsed Time: 0:00:05||"
     ]
    },
    {
     "name": "stderr",
     "output_type": "stream",
     "text": [
      "\r",
      "Episode 5|Iteration 585|reward:  361.0|last_reward_at:   78|Elapsed Time: 0:00:05||"
     ]
    },
    {
     "name": "stderr",
     "output_type": "stream",
     "text": [
      "\r",
      "Episode 5|Iteration 593|reward:  361.0|last_reward_at:   78|Elapsed Time: 0:00:05||"
     ]
    },
    {
     "name": "stderr",
     "output_type": "stream",
     "text": [
      "\r",
      "Episode 5|Iteration 600|reward:  361.0|last_reward_at:   78|Elapsed Time: 0:00:05||"
     ]
    },
    {
     "name": "stderr",
     "output_type": "stream",
     "text": [
      "\r",
      "Episode 5|Iteration 600|reward:  361.0|last_reward_at:   78|Elapsed Time: 0:00:05||"
     ]
    },
    {
     "name": "stderr",
     "output_type": "stream",
     "text": [
      "\n"
     ]
    },
    {
     "name": "stdout",
     "output_type": "stream",
     "text": [
      "  Episode 5 stopped at t=600 \n",
      "  Breakdown [Reward/NoReward (Success rate)]\n",
      "    explore-local: 1/39 (0.03)\n",
      "    explore-remote: 5/155 (0.03)\n",
      "    explore-connect: 1/157 (0.01)\n",
      "    exploit-local: 4/6 (0.40)\n",
      "    exploit-remote: 1/101 (0.01)\n",
      "    exploit-connect: 2/128 (0.02)\n",
      "  exploit deflected to exploration: 17\n",
      "  ## Episode: 6/10 'DQL' ϵ=0.5391, γ=0.15, lr=0.01, replaymemory=10000,\n",
      "batch=256, target_update=5\n"
     ]
    },
    {
     "name": "stderr",
     "output_type": "stream",
     "text": [
      "\r",
      "Episode 6|Iteration 0|reward: ------|last_reward_at: ----|Elapsed Time: 0:00:00||"
     ]
    },
    {
     "name": "stderr",
     "output_type": "stream",
     "text": [
      "\r",
      "Episode 6|Iteration 1|reward:    0.0|last_reward_at: ----|Elapsed Time: 0:00:00||"
     ]
    },
    {
     "name": "stderr",
     "output_type": "stream",
     "text": [
      "\r",
      "Episode 6|Iteration 3|reward:    9.0|last_reward_at: ----|Elapsed Time: 0:00:00||"
     ]
    },
    {
     "name": "stderr",
     "output_type": "stream",
     "text": [
      "\r",
      "Episode 6|Iteration 3|reward:    9.0|last_reward_at:    3|Elapsed Time: 0:00:00||"
     ]
    },
    {
     "name": "stderr",
     "output_type": "stream",
     "text": [
      "\r",
      "Episode 6|Iteration 4|reward:  109.0|last_reward_at:    3|Elapsed Time: 0:00:00||"
     ]
    },
    {
     "name": "stderr",
     "output_type": "stream",
     "text": [
      "\r",
      "Episode 6|Iteration 4|reward:  109.0|last_reward_at:    4|Elapsed Time: 0:00:00||"
     ]
    },
    {
     "name": "stderr",
     "output_type": "stream",
     "text": [
      "\r",
      "Episode 6|Iteration 7|reward:  118.0|last_reward_at:    4|Elapsed Time: 0:00:00||"
     ]
    },
    {
     "name": "stderr",
     "output_type": "stream",
     "text": [
      "\r",
      "Episode 6|Iteration 7|reward:  118.0|last_reward_at:    7|Elapsed Time: 0:00:00||"
     ]
    },
    {
     "name": "stderr",
     "output_type": "stream",
     "text": [
      "\r",
      "Episode 6|Iteration 9|reward:  126.0|last_reward_at:    7|Elapsed Time: 0:00:00||"
     ]
    },
    {
     "name": "stderr",
     "output_type": "stream",
     "text": [
      "\r",
      "Episode 6|Iteration 9|reward:  126.0|last_reward_at:    9|Elapsed Time: 0:00:00||"
     ]
    },
    {
     "name": "stderr",
     "output_type": "stream",
     "text": [
      "\r",
      "Episode 6|Iteration 13|reward:  132.0|last_reward_at:    9|Elapsed Time: 0:00:00||"
     ]
    },
    {
     "name": "stderr",
     "output_type": "stream",
     "text": [
      "\r",
      "Episode 6|Iteration 13|reward:  132.0|last_reward_at:   13|Elapsed Time: 0:00:00||"
     ]
    },
    {
     "name": "stderr",
     "output_type": "stream",
     "text": [
      "\r",
      "Episode 6|Iteration 22|reward:  132.0|last_reward_at:   13|Elapsed Time: 0:00:00||"
     ]
    },
    {
     "name": "stderr",
     "output_type": "stream",
     "text": [
      "\r",
      "Episode 6|Iteration 31|reward:  132.0|last_reward_at:   13|Elapsed Time: 0:00:00||"
     ]
    },
    {
     "name": "stderr",
     "output_type": "stream",
     "text": [
      "\r",
      "Episode 6|Iteration 34|reward:  134.0|last_reward_at:   13|Elapsed Time: 0:00:00||"
     ]
    },
    {
     "name": "stderr",
     "output_type": "stream",
     "text": [
      "\r",
      "Episode 6|Iteration 34|reward:  134.0|last_reward_at:   34|Elapsed Time: 0:00:00||"
     ]
    },
    {
     "name": "stderr",
     "output_type": "stream",
     "text": [
      "\r",
      "Episode 6|Iteration 36|reward:  136.0|last_reward_at:   34|Elapsed Time: 0:00:00||"
     ]
    },
    {
     "name": "stderr",
     "output_type": "stream",
     "text": [
      "\r",
      "Episode 6|Iteration 36|reward:  136.0|last_reward_at:   36|Elapsed Time: 0:00:00||"
     ]
    },
    {
     "name": "stderr",
     "output_type": "stream",
     "text": [
      "\r",
      "Episode 6|Iteration 45|reward:  136.0|last_reward_at:   36|Elapsed Time: 0:00:00||"
     ]
    },
    {
     "name": "stderr",
     "output_type": "stream",
     "text": [
      "\r",
      "Episode 6|Iteration 53|reward:  136.0|last_reward_at:   36|Elapsed Time: 0:00:00||"
     ]
    },
    {
     "name": "stderr",
     "output_type": "stream",
     "text": [
      "\r",
      "Episode 6|Iteration 54|reward:  236.0|last_reward_at:   36|Elapsed Time: 0:00:00||"
     ]
    },
    {
     "name": "stderr",
     "output_type": "stream",
     "text": [
      "\r",
      "Episode 6|Iteration 54|reward:  236.0|last_reward_at:   54|Elapsed Time: 0:00:00||"
     ]
    },
    {
     "name": "stderr",
     "output_type": "stream",
     "text": [
      "\r",
      "Episode 6|Iteration 55|reward:  242.0|last_reward_at:   54|Elapsed Time: 0:00:00||"
     ]
    },
    {
     "name": "stderr",
     "output_type": "stream",
     "text": [
      "\r",
      "Episode 6|Iteration 55|reward:  242.0|last_reward_at:   55|Elapsed Time: 0:00:00||"
     ]
    },
    {
     "name": "stderr",
     "output_type": "stream",
     "text": [
      "\r",
      "Episode 6|Iteration 57|reward:  251.0|last_reward_at:   55|Elapsed Time: 0:00:00||"
     ]
    },
    {
     "name": "stderr",
     "output_type": "stream",
     "text": [
      "\r",
      "Episode 6|Iteration 57|reward:  251.0|last_reward_at:   57|Elapsed Time: 0:00:00||"
     ]
    },
    {
     "name": "stderr",
     "output_type": "stream",
     "text": [
      "\r",
      "Episode 6|Iteration 60|reward:  351.0|last_reward_at:   57|Elapsed Time: 0:00:00||"
     ]
    },
    {
     "name": "stderr",
     "output_type": "stream",
     "text": [
      "\r",
      "Episode 6|Iteration 60|reward:  351.0|last_reward_at:   60|Elapsed Time: 0:00:00||"
     ]
    },
    {
     "name": "stderr",
     "output_type": "stream",
     "text": [
      "\r",
      "Episode 6|Iteration 61|reward:  360.0|last_reward_at:   60|Elapsed Time: 0:00:00||"
     ]
    },
    {
     "name": "stderr",
     "output_type": "stream",
     "text": [
      "\r",
      "Episode 6|Iteration 61|reward:  360.0|last_reward_at:   61|Elapsed Time: 0:00:00||"
     ]
    },
    {
     "name": "stderr",
     "output_type": "stream",
     "text": [
      "\r",
      "Episode 6|Iteration 65|reward:  362.0|last_reward_at:   61|Elapsed Time: 0:00:00||"
     ]
    },
    {
     "name": "stderr",
     "output_type": "stream",
     "text": [
      "\r",
      "Episode 6|Iteration 65|reward:  362.0|last_reward_at:   65|Elapsed Time: 0:00:00||"
     ]
    },
    {
     "name": "stderr",
     "output_type": "stream",
     "text": [
      "\r",
      "Episode 6|Iteration 76|reward:  362.0|last_reward_at:   65|Elapsed Time: 0:00:00||"
     ]
    },
    {
     "name": "stderr",
     "output_type": "stream",
     "text": [
      "\r",
      "Episode 6|Iteration 76|reward:  368.0|last_reward_at:   65|Elapsed Time: 0:00:00||"
     ]
    },
    {
     "name": "stderr",
     "output_type": "stream",
     "text": [
      "\r",
      "Episode 6|Iteration 76|reward:  368.0|last_reward_at:   76|Elapsed Time: 0:00:00||"
     ]
    },
    {
     "name": "stderr",
     "output_type": "stream",
     "text": [
      "\r",
      "Episode 6|Iteration 84|reward:  368.0|last_reward_at:   76|Elapsed Time: 0:00:00||"
     ]
    },
    {
     "name": "stderr",
     "output_type": "stream",
     "text": [
      "\r",
      "Episode 6|Iteration 90|reward:  376.0|last_reward_at:   76|Elapsed Time: 0:00:00||"
     ]
    },
    {
     "name": "stderr",
     "output_type": "stream",
     "text": [
      "\r",
      "Episode 6|Iteration 90|reward:  376.0|last_reward_at:   90|Elapsed Time: 0:00:00||"
     ]
    },
    {
     "name": "stderr",
     "output_type": "stream",
     "text": [
      "\r",
      "Episode 6|Iteration 99|reward:  376.0|last_reward_at:   90|Elapsed Time: 0:00:01||"
     ]
    },
    {
     "name": "stderr",
     "output_type": "stream",
     "text": [
      "\r",
      "Episode 6|Iteration 107|reward:  376.0|last_reward_at:   90|Elapsed Time: 0:00:01||"
     ]
    },
    {
     "name": "stderr",
     "output_type": "stream",
     "text": [
      "\r",
      "Episode 6|Iteration 109|reward:  476.0|last_reward_at:   90|Elapsed Time: 0:00:01||"
     ]
    },
    {
     "name": "stderr",
     "output_type": "stream",
     "text": [
      "\r",
      "Episode 6|Iteration 109|reward:  476.0|last_reward_at:  109|Elapsed Time: 0:00:01||"
     ]
    },
    {
     "name": "stderr",
     "output_type": "stream",
     "text": [
      "\r",
      "Episode 6|Iteration 110|reward:  482.0|last_reward_at:  109|Elapsed Time: 0:00:01||"
     ]
    },
    {
     "name": "stderr",
     "output_type": "stream",
     "text": [
      "\r",
      "Episode 6|Iteration 110|reward:  482.0|last_reward_at:  110|Elapsed Time: 0:00:01||"
     ]
    },
    {
     "name": "stderr",
     "output_type": "stream",
     "text": [
      "\r",
      "Episode 6|Iteration 112|reward:  491.0|last_reward_at:  110|Elapsed Time: 0:00:01||"
     ]
    },
    {
     "name": "stderr",
     "output_type": "stream",
     "text": [
      "\r",
      "Episode 6|Iteration 112|reward:  491.0|last_reward_at:  112|Elapsed Time: 0:00:01||"
     ]
    },
    {
     "name": "stderr",
     "output_type": "stream",
     "text": [
      "\r",
      "Episode 6|Iteration 115|reward:  591.0|last_reward_at:  112|Elapsed Time: 0:00:01||"
     ]
    },
    {
     "name": "stderr",
     "output_type": "stream",
     "text": [
      "\r",
      "Episode 6|Iteration 115|reward:  591.0|last_reward_at:  115|Elapsed Time: 0:00:01||"
     ]
    },
    {
     "name": "stderr",
     "output_type": "stream",
     "text": [
      "\r",
      "Episode 6|Iteration 116|reward:  600.0|last_reward_at:  115|Elapsed Time: 0:00:01||"
     ]
    },
    {
     "name": "stderr",
     "output_type": "stream",
     "text": [
      "\r",
      "Episode 6|Iteration 116|reward:  600.0|last_reward_at:  116|Elapsed Time: 0:00:01||"
     ]
    },
    {
     "name": "stderr",
     "output_type": "stream",
     "text": [
      "\r",
      "Episode 6|Iteration 120|reward:  700.0|last_reward_at:  116|Elapsed Time: 0:00:01||"
     ]
    },
    {
     "name": "stderr",
     "output_type": "stream",
     "text": [
      "\r",
      "Episode 6|Iteration 120|reward:  700.0|last_reward_at:  120|Elapsed Time: 0:00:01||"
     ]
    },
    {
     "name": "stderr",
     "output_type": "stream",
     "text": [
      "\r",
      "Episode 6|Iteration 125|reward:  706.0|last_reward_at:  120|Elapsed Time: 0:00:01||"
     ]
    },
    {
     "name": "stderr",
     "output_type": "stream",
     "text": [
      "\r",
      "Episode 6|Iteration 125|reward:  706.0|last_reward_at:  125|Elapsed Time: 0:00:01||"
     ]
    },
    {
     "name": "stderr",
     "output_type": "stream",
     "text": [
      "\r",
      "Episode 6|Iteration 126|reward:  708.0|last_reward_at:  125|Elapsed Time: 0:00:01||"
     ]
    },
    {
     "name": "stderr",
     "output_type": "stream",
     "text": [
      "\r",
      "Episode 6|Iteration 126|reward:  708.0|last_reward_at:  126|Elapsed Time: 0:00:01||"
     ]
    },
    {
     "name": "stderr",
     "output_type": "stream",
     "text": [
      "\r",
      "Episode 6|Iteration 127|reward:  717.0|last_reward_at:  126|Elapsed Time: 0:00:01||"
     ]
    },
    {
     "name": "stderr",
     "output_type": "stream",
     "text": [
      "\r",
      "Episode 6|Iteration 127|reward:  717.0|last_reward_at:  127|Elapsed Time: 0:00:01||"
     ]
    },
    {
     "name": "stderr",
     "output_type": "stream",
     "text": [
      "\r",
      "Episode 6|Iteration 128|reward:  723.0|last_reward_at:  127|Elapsed Time: 0:00:01||"
     ]
    },
    {
     "name": "stderr",
     "output_type": "stream",
     "text": [
      "\r",
      "Episode 6|Iteration 128|reward:  723.0|last_reward_at:  128|Elapsed Time: 0:00:01||"
     ]
    },
    {
     "name": "stderr",
     "output_type": "stream",
     "text": [
      "\r",
      "Episode 6|Iteration 130|reward:  725.0|last_reward_at:  128|Elapsed Time: 0:00:01||"
     ]
    },
    {
     "name": "stderr",
     "output_type": "stream",
     "text": [
      "\r",
      "Episode 6|Iteration 130|reward:  725.0|last_reward_at:  130|Elapsed Time: 0:00:01||"
     ]
    },
    {
     "name": "stderr",
     "output_type": "stream",
     "text": [
      "\r",
      "Episode 6|Iteration 136|reward:  729.0|last_reward_at:  130|Elapsed Time: 0:00:01||"
     ]
    },
    {
     "name": "stderr",
     "output_type": "stream",
     "text": [
      "\r",
      "Episode 6|Iteration 136|reward:  729.0|last_reward_at:  136|Elapsed Time: 0:00:01||"
     ]
    },
    {
     "name": "stderr",
     "output_type": "stream",
     "text": [
      "\r",
      "Episode 6|Iteration 139|reward:  735.0|last_reward_at:  136|Elapsed Time: 0:00:01||"
     ]
    },
    {
     "name": "stderr",
     "output_type": "stream",
     "text": [
      "\r",
      "Episode 6|Iteration 139|reward:  735.0|last_reward_at:  139|Elapsed Time: 0:00:01||"
     ]
    },
    {
     "name": "stderr",
     "output_type": "stream",
     "text": [
      "\r",
      "Episode 6|Iteration 143|reward:  737.0|last_reward_at:  139|Elapsed Time: 0:00:01||"
     ]
    },
    {
     "name": "stderr",
     "output_type": "stream",
     "text": [
      "\r",
      "Episode 6|Iteration 143|reward:  737.0|last_reward_at:  143|Elapsed Time: 0:00:01||"
     ]
    },
    {
     "name": "stderr",
     "output_type": "stream",
     "text": [
      "\r",
      "Episode 6|Iteration 152|reward:  737.0|last_reward_at:  143|Elapsed Time: 0:00:01||"
     ]
    },
    {
     "name": "stderr",
     "output_type": "stream",
     "text": [
      "\r",
      "Episode 6|Iteration 160|reward:  737.0|last_reward_at:  143|Elapsed Time: 0:00:01||"
     ]
    },
    {
     "name": "stderr",
     "output_type": "stream",
     "text": [
      "\r",
      "Episode 6|Iteration 168|reward:  737.0|last_reward_at:  143|Elapsed Time: 0:00:01||"
     ]
    },
    {
     "name": "stderr",
     "output_type": "stream",
     "text": [
      "\r",
      "Episode 6|Iteration 175|reward:  737.0|last_reward_at:  143|Elapsed Time: 0:00:01||"
     ]
    },
    {
     "name": "stderr",
     "output_type": "stream",
     "text": [
      "\r",
      "Episode 6|Iteration 178|reward:  739.0|last_reward_at:  143|Elapsed Time: 0:00:01||"
     ]
    },
    {
     "name": "stderr",
     "output_type": "stream",
     "text": [
      "\r",
      "Episode 6|Iteration 178|reward:  739.0|last_reward_at:  178|Elapsed Time: 0:00:01||"
     ]
    },
    {
     "name": "stderr",
     "output_type": "stream",
     "text": [
      "\r",
      "Episode 6|Iteration 189|reward:  739.0|last_reward_at:  178|Elapsed Time: 0:00:01||"
     ]
    },
    {
     "name": "stderr",
     "output_type": "stream",
     "text": [
      "\r",
      "Episode 6|Iteration 198|reward:  739.0|last_reward_at:  178|Elapsed Time: 0:00:02||"
     ]
    },
    {
     "name": "stderr",
     "output_type": "stream",
     "text": [
      "\r",
      "Episode 6|Iteration 200|reward:  745.0|last_reward_at:  178|Elapsed Time: 0:00:02||"
     ]
    },
    {
     "name": "stderr",
     "output_type": "stream",
     "text": [
      "\r",
      "Episode 6|Iteration 200|reward:  745.0|last_reward_at:  200|Elapsed Time: 0:00:02||"
     ]
    },
    {
     "name": "stderr",
     "output_type": "stream",
     "text": [
      "\r",
      "Episode 6|Iteration 206|reward:  745.0|last_reward_at:  200|Elapsed Time: 0:00:02||"
     ]
    },
    {
     "name": "stderr",
     "output_type": "stream",
     "text": [
      "\r",
      "Episode 6|Iteration 213|reward:  745.0|last_reward_at:  200|Elapsed Time: 0:00:02||"
     ]
    },
    {
     "name": "stderr",
     "output_type": "stream",
     "text": [
      "\r",
      "Episode 6|Iteration 221|reward:  745.0|last_reward_at:  200|Elapsed Time: 0:00:02||"
     ]
    },
    {
     "name": "stderr",
     "output_type": "stream",
     "text": [
      "\r",
      "Episode 6|Iteration 228|reward:  745.0|last_reward_at:  200|Elapsed Time: 0:00:02||"
     ]
    },
    {
     "name": "stderr",
     "output_type": "stream",
     "text": [
      "\r",
      "Episode 6|Iteration 236|reward:  745.0|last_reward_at:  200|Elapsed Time: 0:00:02||"
     ]
    },
    {
     "name": "stderr",
     "output_type": "stream",
     "text": [
      "\r",
      "Episode 6|Iteration 244|reward:  745.0|last_reward_at:  200|Elapsed Time: 0:00:02||"
     ]
    },
    {
     "name": "stderr",
     "output_type": "stream",
     "text": [
      "\r",
      "Episode 6|Iteration 251|reward:  745.0|last_reward_at:  200|Elapsed Time: 0:00:02||"
     ]
    },
    {
     "name": "stderr",
     "output_type": "stream",
     "text": [
      "\r",
      "Episode 6|Iteration 259|reward:  745.0|last_reward_at:  200|Elapsed Time: 0:00:02||"
     ]
    },
    {
     "name": "stderr",
     "output_type": "stream",
     "text": [
      "\r",
      "Episode 6|Iteration 266|reward:  745.0|last_reward_at:  200|Elapsed Time: 0:00:02||"
     ]
    },
    {
     "name": "stderr",
     "output_type": "stream",
     "text": [
      "\r",
      "Episode 6|Iteration 274|reward:  745.0|last_reward_at:  200|Elapsed Time: 0:00:02||"
     ]
    },
    {
     "name": "stderr",
     "output_type": "stream",
     "text": [
      "\r",
      "Episode 6|Iteration 282|reward:  745.0|last_reward_at:  200|Elapsed Time: 0:00:02||"
     ]
    },
    {
     "name": "stderr",
     "output_type": "stream",
     "text": [
      "\r",
      "Episode 6|Iteration 289|reward:  745.0|last_reward_at:  200|Elapsed Time: 0:00:02||"
     ]
    },
    {
     "name": "stderr",
     "output_type": "stream",
     "text": [
      "\r",
      "Episode 6|Iteration 297|reward:  745.0|last_reward_at:  200|Elapsed Time: 0:00:03||"
     ]
    },
    {
     "name": "stderr",
     "output_type": "stream",
     "text": [
      "\r",
      "Episode 6|Iteration 304|reward:  745.0|last_reward_at:  200|Elapsed Time: 0:00:03||"
     ]
    },
    {
     "name": "stderr",
     "output_type": "stream",
     "text": [
      "\r",
      "Episode 6|Iteration 312|reward:  745.0|last_reward_at:  200|Elapsed Time: 0:00:03||"
     ]
    },
    {
     "name": "stderr",
     "output_type": "stream",
     "text": [
      "\r",
      "Episode 6|Iteration 319|reward:  745.0|last_reward_at:  200|Elapsed Time: 0:00:03||"
     ]
    },
    {
     "name": "stderr",
     "output_type": "stream",
     "text": [
      "\r",
      "Episode 6|Iteration 325|reward:  745.0|last_reward_at:  200|Elapsed Time: 0:00:03||"
     ]
    },
    {
     "name": "stderr",
     "output_type": "stream",
     "text": [
      "\r",
      "Episode 6|Iteration 334|reward:  745.0|last_reward_at:  200|Elapsed Time: 0:00:03||"
     ]
    },
    {
     "name": "stderr",
     "output_type": "stream",
     "text": [
      "\r",
      "Episode 6|Iteration 342|reward:  745.0|last_reward_at:  200|Elapsed Time: 0:00:03||"
     ]
    },
    {
     "name": "stderr",
     "output_type": "stream",
     "text": [
      "\r",
      "Episode 6|Iteration 350|reward:  745.0|last_reward_at:  200|Elapsed Time: 0:00:03||"
     ]
    },
    {
     "name": "stderr",
     "output_type": "stream",
     "text": [
      "\r",
      "Episode 6|Iteration 357|reward:  745.0|last_reward_at:  200|Elapsed Time: 0:00:03||"
     ]
    },
    {
     "name": "stderr",
     "output_type": "stream",
     "text": [
      "\r",
      "Episode 6|Iteration 365|reward:  745.0|last_reward_at:  200|Elapsed Time: 0:00:03||"
     ]
    },
    {
     "name": "stderr",
     "output_type": "stream",
     "text": [
      "\r",
      "Episode 6|Iteration 373|reward:  745.0|last_reward_at:  200|Elapsed Time: 0:00:03||"
     ]
    },
    {
     "name": "stderr",
     "output_type": "stream",
     "text": [
      "\r",
      "Episode 6|Iteration 380|reward:  745.0|last_reward_at:  200|Elapsed Time: 0:00:04||"
     ]
    },
    {
     "name": "stderr",
     "output_type": "stream",
     "text": [
      "\r",
      "Episode 6|Iteration 388|reward:  745.0|last_reward_at:  200|Elapsed Time: 0:00:04||"
     ]
    },
    {
     "name": "stderr",
     "output_type": "stream",
     "text": [
      "\r",
      "Episode 6|Iteration 395|reward:  745.0|last_reward_at:  200|Elapsed Time: 0:00:04||"
     ]
    },
    {
     "name": "stderr",
     "output_type": "stream",
     "text": [
      "\r",
      "Episode 6|Iteration 403|reward:  745.0|last_reward_at:  200|Elapsed Time: 0:00:04||"
     ]
    },
    {
     "name": "stderr",
     "output_type": "stream",
     "text": [
      "\r",
      "Episode 6|Iteration 411|reward:  745.0|last_reward_at:  200|Elapsed Time: 0:00:04||"
     ]
    },
    {
     "name": "stderr",
     "output_type": "stream",
     "text": [
      "\r",
      "Episode 6|Iteration 418|reward:  745.0|last_reward_at:  200|Elapsed Time: 0:00:04||"
     ]
    },
    {
     "name": "stderr",
     "output_type": "stream",
     "text": [
      "\r",
      "Episode 6|Iteration 426|reward:  745.0|last_reward_at:  200|Elapsed Time: 0:00:04||"
     ]
    },
    {
     "name": "stderr",
     "output_type": "stream",
     "text": [
      "\r",
      "Episode 6|Iteration 433|reward:  745.0|last_reward_at:  200|Elapsed Time: 0:00:04||"
     ]
    },
    {
     "name": "stderr",
     "output_type": "stream",
     "text": [
      "\r",
      "Episode 6|Iteration 441|reward:  745.0|last_reward_at:  200|Elapsed Time: 0:00:04||"
     ]
    },
    {
     "name": "stderr",
     "output_type": "stream",
     "text": [
      "\r",
      "Episode 6|Iteration 449|reward:  745.0|last_reward_at:  200|Elapsed Time: 0:00:04||"
     ]
    },
    {
     "name": "stderr",
     "output_type": "stream",
     "text": [
      "\r",
      "Episode 6|Iteration 456|reward:  745.0|last_reward_at:  200|Elapsed Time: 0:00:04||"
     ]
    },
    {
     "name": "stderr",
     "output_type": "stream",
     "text": [
      "\r",
      "Episode 6|Iteration 464|reward:  745.0|last_reward_at:  200|Elapsed Time: 0:00:04||"
     ]
    },
    {
     "name": "stderr",
     "output_type": "stream",
     "text": [
      "\r",
      "Episode 6|Iteration 471|reward:  745.0|last_reward_at:  200|Elapsed Time: 0:00:04||"
     ]
    },
    {
     "name": "stderr",
     "output_type": "stream",
     "text": [
      "\r",
      "Episode 6|Iteration 479|reward:  745.0|last_reward_at:  200|Elapsed Time: 0:00:04||"
     ]
    },
    {
     "name": "stderr",
     "output_type": "stream",
     "text": [
      "\r",
      "Episode 6|Iteration 487|reward:  745.0|last_reward_at:  200|Elapsed Time: 0:00:05||"
     ]
    },
    {
     "name": "stderr",
     "output_type": "stream",
     "text": [
      "\r",
      "Episode 6|Iteration 494|reward:  745.0|last_reward_at:  200|Elapsed Time: 0:00:05||"
     ]
    },
    {
     "name": "stderr",
     "output_type": "stream",
     "text": [
      "\r",
      "Episode 6|Iteration 502|reward:  745.0|last_reward_at:  200|Elapsed Time: 0:00:05||"
     ]
    },
    {
     "name": "stderr",
     "output_type": "stream",
     "text": [
      "\r",
      "Episode 6|Iteration 509|reward:  745.0|last_reward_at:  200|Elapsed Time: 0:00:05||"
     ]
    },
    {
     "name": "stderr",
     "output_type": "stream",
     "text": [
      "\r",
      "Episode 6|Iteration 517|reward:  745.0|last_reward_at:  200|Elapsed Time: 0:00:05||"
     ]
    },
    {
     "name": "stderr",
     "output_type": "stream",
     "text": [
      "\r",
      "Episode 6|Iteration 525|reward:  745.0|last_reward_at:  200|Elapsed Time: 0:00:05||"
     ]
    },
    {
     "name": "stderr",
     "output_type": "stream",
     "text": [
      "\r",
      "Episode 6|Iteration 532|reward:  745.0|last_reward_at:  200|Elapsed Time: 0:00:05||"
     ]
    },
    {
     "name": "stderr",
     "output_type": "stream",
     "text": [
      "\r",
      "Episode 6|Iteration 540|reward:  745.0|last_reward_at:  200|Elapsed Time: 0:00:05||"
     ]
    },
    {
     "name": "stderr",
     "output_type": "stream",
     "text": [
      "\r",
      "Episode 6|Iteration 547|reward:  745.0|last_reward_at:  200|Elapsed Time: 0:00:05||"
     ]
    },
    {
     "name": "stderr",
     "output_type": "stream",
     "text": [
      "\r",
      "Episode 6|Iteration 555|reward:  745.0|last_reward_at:  200|Elapsed Time: 0:00:05||"
     ]
    },
    {
     "name": "stderr",
     "output_type": "stream",
     "text": [
      "\r",
      "Episode 6|Iteration 563|reward:  745.0|last_reward_at:  200|Elapsed Time: 0:00:05||"
     ]
    },
    {
     "name": "stderr",
     "output_type": "stream",
     "text": [
      "\r",
      "Episode 6|Iteration 570|reward:  745.0|last_reward_at:  200|Elapsed Time: 0:00:05||"
     ]
    },
    {
     "name": "stderr",
     "output_type": "stream",
     "text": [
      "\r",
      "Episode 6|Iteration 578|reward:  745.0|last_reward_at:  200|Elapsed Time: 0:00:06||"
     ]
    },
    {
     "name": "stderr",
     "output_type": "stream",
     "text": [
      "\r",
      "Episode 6|Iteration 585|reward:  745.0|last_reward_at:  200|Elapsed Time: 0:00:06||"
     ]
    },
    {
     "name": "stderr",
     "output_type": "stream",
     "text": [
      "\r",
      "Episode 6|Iteration 593|reward:  745.0|last_reward_at:  200|Elapsed Time: 0:00:06||"
     ]
    },
    {
     "name": "stderr",
     "output_type": "stream",
     "text": [
      "\r",
      "Episode 6|Iteration 600|reward:  745.0|last_reward_at:  200|Elapsed Time: 0:00:06||"
     ]
    },
    {
     "name": "stderr",
     "output_type": "stream",
     "text": [
      "\r",
      "Episode 6|Iteration 600|reward:  745.0|last_reward_at:  200|Elapsed Time: 0:00:06||"
     ]
    },
    {
     "name": "stderr",
     "output_type": "stream",
     "text": [
      "\n"
     ]
    },
    {
     "name": "stdout",
     "output_type": "stream",
     "text": [
      "  Episode 6 stopped at t=600 \n",
      "  Breakdown [Reward/NoReward (Success rate)]\n",
      "    explore-local: 3/48 (0.06)\n",
      "    explore-remote: 10/167 (0.06)\n",
      "    explore-connect: 2/176 (0.01)\n",
      "    exploit-local: 8/13 (0.38)\n",
      "    exploit-remote: 4/98 (0.04)\n",
      "    exploit-connect: 4/67 (0.06)\n",
      "  exploit deflected to exploration: 91\n",
      "  ## Episode: 7/10 'DQL' ϵ=0.4895, γ=0.15, lr=0.01, replaymemory=10000,\n",
      "batch=256, target_update=5\n"
     ]
    },
    {
     "name": "stderr",
     "output_type": "stream",
     "text": [
      "\r",
      "Episode 7|Iteration 0|reward: ------|last_reward_at: ----|Elapsed Time: 0:00:00||"
     ]
    },
    {
     "name": "stderr",
     "output_type": "stream",
     "text": [
      "\r",
      "Episode 7|Iteration 1|reward:    9.0|last_reward_at: ----|Elapsed Time: 0:00:00||"
     ]
    },
    {
     "name": "stderr",
     "output_type": "stream",
     "text": [
      "\r",
      "Episode 7|Iteration 1|reward:    9.0|last_reward_at:    1|Elapsed Time: 0:00:00||"
     ]
    },
    {
     "name": "stderr",
     "output_type": "stream",
     "text": [
      "\r",
      "Episode 7|Iteration 2|reward:  109.0|last_reward_at:    1|Elapsed Time: 0:00:00||"
     ]
    },
    {
     "name": "stderr",
     "output_type": "stream",
     "text": [
      "\r",
      "Episode 7|Iteration 2|reward:  109.0|last_reward_at:    2|Elapsed Time: 0:00:00||"
     ]
    },
    {
     "name": "stderr",
     "output_type": "stream",
     "text": [
      "\r",
      "Episode 7|Iteration 3|reward:  111.0|last_reward_at:    2|Elapsed Time: 0:00:00||"
     ]
    },
    {
     "name": "stderr",
     "output_type": "stream",
     "text": [
      "\r",
      "Episode 7|Iteration 3|reward:  111.0|last_reward_at:    3|Elapsed Time: 0:00:00||"
     ]
    },
    {
     "name": "stderr",
     "output_type": "stream",
     "text": [
      "\r",
      "Episode 7|Iteration 5|reward:  120.0|last_reward_at:    3|Elapsed Time: 0:00:00||"
     ]
    },
    {
     "name": "stderr",
     "output_type": "stream",
     "text": [
      "\r",
      "Episode 7|Iteration 5|reward:  120.0|last_reward_at:    5|Elapsed Time: 0:00:00||"
     ]
    },
    {
     "name": "stderr",
     "output_type": "stream",
     "text": [
      "\r",
      "Episode 7|Iteration 13|reward:  126.0|last_reward_at:    5|Elapsed Time: 0:00:00||"
     ]
    },
    {
     "name": "stderr",
     "output_type": "stream",
     "text": [
      "\r",
      "Episode 7|Iteration 13|reward:  126.0|last_reward_at:   13|Elapsed Time: 0:00:00||"
     ]
    },
    {
     "name": "stderr",
     "output_type": "stream",
     "text": [
      "\r",
      "Episode 7|Iteration 14|reward:  134.0|last_reward_at:   13|Elapsed Time: 0:00:00||"
     ]
    },
    {
     "name": "stderr",
     "output_type": "stream",
     "text": [
      "\r",
      "Episode 7|Iteration 14|reward:  134.0|last_reward_at:   14|Elapsed Time: 0:00:00||"
     ]
    },
    {
     "name": "stderr",
     "output_type": "stream",
     "text": [
      "\r",
      "Episode 7|Iteration 15|reward:  136.0|last_reward_at:   14|Elapsed Time: 0:00:00||"
     ]
    },
    {
     "name": "stderr",
     "output_type": "stream",
     "text": [
      "\r",
      "Episode 7|Iteration 15|reward:  136.0|last_reward_at:   15|Elapsed Time: 0:00:00||"
     ]
    },
    {
     "name": "stderr",
     "output_type": "stream",
     "text": [
      "\r",
      "Episode 7|Iteration 23|reward:  136.0|last_reward_at:   15|Elapsed Time: 0:00:00||"
     ]
    },
    {
     "name": "stderr",
     "output_type": "stream",
     "text": [
      "\r",
      "Episode 7|Iteration 25|reward:  142.0|last_reward_at:   15|Elapsed Time: 0:00:00||"
     ]
    },
    {
     "name": "stderr",
     "output_type": "stream",
     "text": [
      "\r",
      "Episode 7|Iteration 25|reward:  142.0|last_reward_at:   25|Elapsed Time: 0:00:00||"
     ]
    },
    {
     "name": "stderr",
     "output_type": "stream",
     "text": [
      "\r",
      "Episode 7|Iteration 31|reward:  142.0|last_reward_at:   25|Elapsed Time: 0:00:00||"
     ]
    },
    {
     "name": "stderr",
     "output_type": "stream",
     "text": [
      "\r",
      "Episode 7|Iteration 38|reward:  142.0|last_reward_at:   25|Elapsed Time: 0:00:00||"
     ]
    },
    {
     "name": "stderr",
     "output_type": "stream",
     "text": [
      "\r",
      "Episode 7|Iteration 45|reward:  242.0|last_reward_at:   25|Elapsed Time: 0:00:00||"
     ]
    },
    {
     "name": "stderr",
     "output_type": "stream",
     "text": [
      "\r",
      "Episode 7|Iteration 45|reward:  242.0|last_reward_at:   45|Elapsed Time: 0:00:00||"
     ]
    },
    {
     "name": "stderr",
     "output_type": "stream",
     "text": [
      "\r",
      "Episode 7|Iteration 46|reward:  248.0|last_reward_at:   45|Elapsed Time: 0:00:00||"
     ]
    },
    {
     "name": "stderr",
     "output_type": "stream",
     "text": [
      "\r",
      "Episode 7|Iteration 46|reward:  248.0|last_reward_at:   46|Elapsed Time: 0:00:00||"
     ]
    },
    {
     "name": "stderr",
     "output_type": "stream",
     "text": [
      "\r",
      "Episode 7|Iteration 47|reward:  257.0|last_reward_at:   46|Elapsed Time: 0:00:00||"
     ]
    },
    {
     "name": "stderr",
     "output_type": "stream",
     "text": [
      "\r",
      "Episode 7|Iteration 47|reward:  257.0|last_reward_at:   47|Elapsed Time: 0:00:00||"
     ]
    },
    {
     "name": "stderr",
     "output_type": "stream",
     "text": [
      "\r",
      "Episode 7|Iteration 48|reward:  357.0|last_reward_at:   47|Elapsed Time: 0:00:00||"
     ]
    },
    {
     "name": "stderr",
     "output_type": "stream",
     "text": [
      "\r",
      "Episode 7|Iteration 48|reward:  357.0|last_reward_at:   48|Elapsed Time: 0:00:00||"
     ]
    },
    {
     "name": "stderr",
     "output_type": "stream",
     "text": [
      "\r",
      "Episode 7|Iteration 49|reward:  366.0|last_reward_at:   48|Elapsed Time: 0:00:00||"
     ]
    },
    {
     "name": "stderr",
     "output_type": "stream",
     "text": [
      "\r",
      "Episode 7|Iteration 49|reward:  366.0|last_reward_at:   49|Elapsed Time: 0:00:00||"
     ]
    },
    {
     "name": "stderr",
     "output_type": "stream",
     "text": [
      "\r",
      "Episode 7|Iteration 51|reward:  374.0|last_reward_at:   49|Elapsed Time: 0:00:00||"
     ]
    },
    {
     "name": "stderr",
     "output_type": "stream",
     "text": [
      "\r",
      "Episode 7|Iteration 51|reward:  374.0|last_reward_at:   51|Elapsed Time: 0:00:00||"
     ]
    },
    {
     "name": "stderr",
     "output_type": "stream",
     "text": [
      "\r",
      "Episode 7|Iteration 53|reward:  380.0|last_reward_at:   51|Elapsed Time: 0:00:00||"
     ]
    },
    {
     "name": "stderr",
     "output_type": "stream",
     "text": [
      "\r",
      "Episode 7|Iteration 53|reward:  380.0|last_reward_at:   53|Elapsed Time: 0:00:00||"
     ]
    },
    {
     "name": "stderr",
     "output_type": "stream",
     "text": [
      "\r",
      "Episode 7|Iteration 54|reward:  382.0|last_reward_at:   53|Elapsed Time: 0:00:00||"
     ]
    },
    {
     "name": "stderr",
     "output_type": "stream",
     "text": [
      "\r",
      "Episode 7|Iteration 54|reward:  382.0|last_reward_at:   54|Elapsed Time: 0:00:00||"
     ]
    },
    {
     "name": "stderr",
     "output_type": "stream",
     "text": [
      "\r",
      "Episode 7|Iteration 61|reward:  382.0|last_reward_at:   54|Elapsed Time: 0:00:00||"
     ]
    },
    {
     "name": "stderr",
     "output_type": "stream",
     "text": [
      "\r",
      "Episode 7|Iteration 61|reward: 5382.0|last_reward_at:   54|Elapsed Time: 0:00:00||"
     ]
    },
    {
     "name": "stderr",
     "output_type": "stream",
     "text": [
      "\r",
      "Episode 7|Iteration 61|reward: 5382.0|last_reward_at:   61|Elapsed Time: 0:00:00||"
     ]
    },
    {
     "name": "stderr",
     "output_type": "stream",
     "text": [
      "\n"
     ]
    },
    {
     "name": "stdout",
     "output_type": "stream",
     "text": [
      "  Episode 7 ended at t=61 \n",
      "  Breakdown [Reward/NoReward (Success rate)]\n",
      "    explore-local: 1/4 (0.20)\n",
      "    explore-remote: 6/7 (0.46)\n",
      "    explore-connect: 0/10 (0.00)\n",
      "    exploit-local: 6/8 (0.43)\n",
      "    exploit-remote: 0/11 (0.00)\n",
      "    exploit-connect: 4/4 (0.50)\n",
      "  exploit deflected to exploration: 0\n",
      "  ## Episode: 8/10 'DQL' ϵ=0.4848, γ=0.15, lr=0.01, replaymemory=10000,\n",
      "batch=256, target_update=5\n"
     ]
    },
    {
     "name": "stderr",
     "output_type": "stream",
     "text": [
      "\r",
      "Episode 8|Iteration 0|reward: ------|last_reward_at: ----|Elapsed Time: 0:00:00||"
     ]
    },
    {
     "name": "stderr",
     "output_type": "stream",
     "text": [
      "\r",
      "Episode 8|Iteration 1|reward:    9.0|last_reward_at: ----|Elapsed Time: 0:00:00||"
     ]
    },
    {
     "name": "stderr",
     "output_type": "stream",
     "text": [
      "\r",
      "Episode 8|Iteration 1|reward:    9.0|last_reward_at:    1|Elapsed Time: 0:00:00||"
     ]
    },
    {
     "name": "stderr",
     "output_type": "stream",
     "text": [
      "\r",
      "Episode 8|Iteration 2|reward:  109.0|last_reward_at:    1|Elapsed Time: 0:00:00||"
     ]
    },
    {
     "name": "stderr",
     "output_type": "stream",
     "text": [
      "\r",
      "Episode 8|Iteration 2|reward:  109.0|last_reward_at:    2|Elapsed Time: 0:00:00||"
     ]
    },
    {
     "name": "stderr",
     "output_type": "stream",
     "text": [
      "\r",
      "Episode 8|Iteration 4|reward:  118.0|last_reward_at:    2|Elapsed Time: 0:00:00||"
     ]
    },
    {
     "name": "stderr",
     "output_type": "stream",
     "text": [
      "\r",
      "Episode 8|Iteration 4|reward:  118.0|last_reward_at:    4|Elapsed Time: 0:00:00||"
     ]
    },
    {
     "name": "stderr",
     "output_type": "stream",
     "text": [
      "\r",
      "Episode 8|Iteration 5|reward:  124.0|last_reward_at:    4|Elapsed Time: 0:00:00||"
     ]
    },
    {
     "name": "stderr",
     "output_type": "stream",
     "text": [
      "\r",
      "Episode 8|Iteration 5|reward:  124.0|last_reward_at:    5|Elapsed Time: 0:00:00||"
     ]
    },
    {
     "name": "stderr",
     "output_type": "stream",
     "text": [
      "\r",
      "Episode 8|Iteration 6|reward:  132.0|last_reward_at:    5|Elapsed Time: 0:00:00||"
     ]
    },
    {
     "name": "stderr",
     "output_type": "stream",
     "text": [
      "\r",
      "Episode 8|Iteration 6|reward:  132.0|last_reward_at:    6|Elapsed Time: 0:00:00||"
     ]
    },
    {
     "name": "stderr",
     "output_type": "stream",
     "text": [
      "\r",
      "Episode 8|Iteration 7|reward:  138.0|last_reward_at:    6|Elapsed Time: 0:00:00||"
     ]
    },
    {
     "name": "stderr",
     "output_type": "stream",
     "text": [
      "\r",
      "Episode 8|Iteration 7|reward:  138.0|last_reward_at:    7|Elapsed Time: 0:00:00||"
     ]
    },
    {
     "name": "stderr",
     "output_type": "stream",
     "text": [
      "\r",
      "Episode 8|Iteration 9|reward:  238.0|last_reward_at:    7|Elapsed Time: 0:00:00||"
     ]
    },
    {
     "name": "stderr",
     "output_type": "stream",
     "text": [
      "\r",
      "Episode 8|Iteration 9|reward:  238.0|last_reward_at:    9|Elapsed Time: 0:00:00||"
     ]
    },
    {
     "name": "stderr",
     "output_type": "stream",
     "text": [
      "\r",
      "Episode 8|Iteration 10|reward:  244.0|last_reward_at:    9|Elapsed Time: 0:00:00||"
     ]
    },
    {
     "name": "stderr",
     "output_type": "stream",
     "text": [
      "\r",
      "Episode 8|Iteration 10|reward:  244.0|last_reward_at:   10|Elapsed Time: 0:00:00||"
     ]
    },
    {
     "name": "stderr",
     "output_type": "stream",
     "text": [
      "\r",
      "Episode 8|Iteration 12|reward:  246.0|last_reward_at:   10|Elapsed Time: 0:00:00||"
     ]
    },
    {
     "name": "stderr",
     "output_type": "stream",
     "text": [
      "\r",
      "Episode 8|Iteration 12|reward:  246.0|last_reward_at:   12|Elapsed Time: 0:00:00||"
     ]
    },
    {
     "name": "stderr",
     "output_type": "stream",
     "text": [
      "\r",
      "Episode 8|Iteration 15|reward:  248.0|last_reward_at:   12|Elapsed Time: 0:00:00||"
     ]
    },
    {
     "name": "stderr",
     "output_type": "stream",
     "text": [
      "\r",
      "Episode 8|Iteration 15|reward:  248.0|last_reward_at:   15|Elapsed Time: 0:00:00||"
     ]
    },
    {
     "name": "stderr",
     "output_type": "stream",
     "text": [
      "\r",
      "Episode 8|Iteration 23|reward:  248.0|last_reward_at:   15|Elapsed Time: 0:00:00||"
     ]
    },
    {
     "name": "stderr",
     "output_type": "stream",
     "text": [
      "\r",
      "Episode 8|Iteration 23|reward:  257.0|last_reward_at:   15|Elapsed Time: 0:00:00||"
     ]
    },
    {
     "name": "stderr",
     "output_type": "stream",
     "text": [
      "\r",
      "Episode 8|Iteration 23|reward:  257.0|last_reward_at:   23|Elapsed Time: 0:00:00||"
     ]
    },
    {
     "name": "stderr",
     "output_type": "stream",
     "text": [
      "\r",
      "Episode 8|Iteration 24|reward:  357.0|last_reward_at:   23|Elapsed Time: 0:00:00||"
     ]
    },
    {
     "name": "stderr",
     "output_type": "stream",
     "text": [
      "\r",
      "Episode 8|Iteration 24|reward:  357.0|last_reward_at:   24|Elapsed Time: 0:00:00||"
     ]
    },
    {
     "name": "stderr",
     "output_type": "stream",
     "text": [
      "\r",
      "Episode 8|Iteration 25|reward:  366.0|last_reward_at:   24|Elapsed Time: 0:00:00||"
     ]
    },
    {
     "name": "stderr",
     "output_type": "stream",
     "text": [
      "\r",
      "Episode 8|Iteration 25|reward:  366.0|last_reward_at:   25|Elapsed Time: 0:00:00||"
     ]
    },
    {
     "name": "stderr",
     "output_type": "stream",
     "text": [
      "\r",
      "Episode 8|Iteration 28|reward:  466.0|last_reward_at:   25|Elapsed Time: 0:00:00||"
     ]
    },
    {
     "name": "stderr",
     "output_type": "stream",
     "text": [
      "\r",
      "Episode 8|Iteration 28|reward:  466.0|last_reward_at:   28|Elapsed Time: 0:00:00||"
     ]
    },
    {
     "name": "stderr",
     "output_type": "stream",
     "text": [
      "\r",
      "Episode 8|Iteration 29|reward:  472.0|last_reward_at:   28|Elapsed Time: 0:00:00||"
     ]
    },
    {
     "name": "stderr",
     "output_type": "stream",
     "text": [
      "\r",
      "Episode 8|Iteration 29|reward:  472.0|last_reward_at:   29|Elapsed Time: 0:00:00||"
     ]
    },
    {
     "name": "stderr",
     "output_type": "stream",
     "text": [
      "\r",
      "Episode 8|Iteration 30|reward:  481.0|last_reward_at:   29|Elapsed Time: 0:00:00||"
     ]
    },
    {
     "name": "stderr",
     "output_type": "stream",
     "text": [
      "\r",
      "Episode 8|Iteration 30|reward:  481.0|last_reward_at:   30|Elapsed Time: 0:00:00||"
     ]
    },
    {
     "name": "stderr",
     "output_type": "stream",
     "text": [
      "\r",
      "Episode 8|Iteration 31|reward:  581.0|last_reward_at:   30|Elapsed Time: 0:00:00||"
     ]
    },
    {
     "name": "stderr",
     "output_type": "stream",
     "text": [
      "\r",
      "Episode 8|Iteration 31|reward:  581.0|last_reward_at:   31|Elapsed Time: 0:00:00||"
     ]
    },
    {
     "name": "stderr",
     "output_type": "stream",
     "text": [
      "\r",
      "Episode 8|Iteration 32|reward:  590.0|last_reward_at:   31|Elapsed Time: 0:00:00||"
     ]
    },
    {
     "name": "stderr",
     "output_type": "stream",
     "text": [
      "\r",
      "Episode 8|Iteration 32|reward:  590.0|last_reward_at:   32|Elapsed Time: 0:00:00||"
     ]
    },
    {
     "name": "stderr",
     "output_type": "stream",
     "text": [
      "\r",
      "Episode 8|Iteration 37|reward:  596.0|last_reward_at:   32|Elapsed Time: 0:00:00||"
     ]
    },
    {
     "name": "stderr",
     "output_type": "stream",
     "text": [
      "\r",
      "Episode 8|Iteration 37|reward:  596.0|last_reward_at:   37|Elapsed Time: 0:00:00||"
     ]
    },
    {
     "name": "stderr",
     "output_type": "stream",
     "text": [
      "\r",
      "Episode 8|Iteration 44|reward:  696.0|last_reward_at:   37|Elapsed Time: 0:00:00||"
     ]
    },
    {
     "name": "stderr",
     "output_type": "stream",
     "text": [
      "\r",
      "Episode 8|Iteration 44|reward:  696.0|last_reward_at:   44|Elapsed Time: 0:00:00||"
     ]
    },
    {
     "name": "stderr",
     "output_type": "stream",
     "text": [
      "\r",
      "Episode 8|Iteration 46|reward:  702.0|last_reward_at:   44|Elapsed Time: 0:00:00||"
     ]
    },
    {
     "name": "stderr",
     "output_type": "stream",
     "text": [
      "\r",
      "Episode 8|Iteration 46|reward:  702.0|last_reward_at:   46|Elapsed Time: 0:00:00||"
     ]
    },
    {
     "name": "stderr",
     "output_type": "stream",
     "text": [
      "\r",
      "Episode 8|Iteration 47|reward:  711.0|last_reward_at:   46|Elapsed Time: 0:00:00||"
     ]
    },
    {
     "name": "stderr",
     "output_type": "stream",
     "text": [
      "\r",
      "Episode 8|Iteration 47|reward:  711.0|last_reward_at:   47|Elapsed Time: 0:00:00||"
     ]
    },
    {
     "name": "stderr",
     "output_type": "stream",
     "text": [
      "\r",
      "Episode 8|Iteration 50|reward:  811.0|last_reward_at:   47|Elapsed Time: 0:00:00||"
     ]
    },
    {
     "name": "stderr",
     "output_type": "stream",
     "text": [
      "\r",
      "Episode 8|Iteration 50|reward:  811.0|last_reward_at:   50|Elapsed Time: 0:00:00||"
     ]
    },
    {
     "name": "stderr",
     "output_type": "stream",
     "text": [
      "\r",
      "Episode 8|Iteration 51|reward:  820.0|last_reward_at:   50|Elapsed Time: 0:00:00||"
     ]
    },
    {
     "name": "stderr",
     "output_type": "stream",
     "text": [
      "\r",
      "Episode 8|Iteration 51|reward:  820.0|last_reward_at:   51|Elapsed Time: 0:00:00||"
     ]
    },
    {
     "name": "stderr",
     "output_type": "stream",
     "text": [
      "\r",
      "Episode 8|Iteration 53|reward:  826.0|last_reward_at:   51|Elapsed Time: 0:00:00||"
     ]
    },
    {
     "name": "stderr",
     "output_type": "stream",
     "text": [
      "\r",
      "Episode 8|Iteration 53|reward:  826.0|last_reward_at:   53|Elapsed Time: 0:00:00||"
     ]
    },
    {
     "name": "stderr",
     "output_type": "stream",
     "text": [
      "\r",
      "Episode 8|Iteration 61|reward:  826.0|last_reward_at:   53|Elapsed Time: 0:00:00||"
     ]
    },
    {
     "name": "stderr",
     "output_type": "stream",
     "text": [
      "\r",
      "Episode 8|Iteration 64|reward:  828.0|last_reward_at:   53|Elapsed Time: 0:00:00||"
     ]
    },
    {
     "name": "stderr",
     "output_type": "stream",
     "text": [
      "\r",
      "Episode 8|Iteration 64|reward:  828.0|last_reward_at:   64|Elapsed Time: 0:00:00||"
     ]
    },
    {
     "name": "stderr",
     "output_type": "stream",
     "text": [
      "\r",
      "Episode 8|Iteration 65|reward:  834.0|last_reward_at:   64|Elapsed Time: 0:00:00||"
     ]
    },
    {
     "name": "stderr",
     "output_type": "stream",
     "text": [
      "\r",
      "Episode 8|Iteration 65|reward:  834.0|last_reward_at:   65|Elapsed Time: 0:00:00||"
     ]
    },
    {
     "name": "stderr",
     "output_type": "stream",
     "text": [
      "\r",
      "Episode 8|Iteration 75|reward:  834.0|last_reward_at:   65|Elapsed Time: 0:00:00||"
     ]
    },
    {
     "name": "stderr",
     "output_type": "stream",
     "text": [
      "\r",
      "Episode 8|Iteration 77|reward:  840.0|last_reward_at:   65|Elapsed Time: 0:00:00||"
     ]
    },
    {
     "name": "stderr",
     "output_type": "stream",
     "text": [
      "\r",
      "Episode 8|Iteration 77|reward:  840.0|last_reward_at:   77|Elapsed Time: 0:00:00||"
     ]
    },
    {
     "name": "stderr",
     "output_type": "stream",
     "text": [
      "\r",
      "Episode 8|Iteration 84|reward:  840.0|last_reward_at:   77|Elapsed Time: 0:00:00||"
     ]
    },
    {
     "name": "stderr",
     "output_type": "stream",
     "text": [
      "\r",
      "Episode 8|Iteration 90|reward:  848.0|last_reward_at:   77|Elapsed Time: 0:00:01||"
     ]
    },
    {
     "name": "stderr",
     "output_type": "stream",
     "text": [
      "\r",
      "Episode 8|Iteration 90|reward:  848.0|last_reward_at:   90|Elapsed Time: 0:00:01||"
     ]
    },
    {
     "name": "stderr",
     "output_type": "stream",
     "text": [
      "\r",
      "Episode 8|Iteration 93|reward:  948.0|last_reward_at:   90|Elapsed Time: 0:00:01||"
     ]
    },
    {
     "name": "stderr",
     "output_type": "stream",
     "text": [
      "\r",
      "Episode 8|Iteration 93|reward:  948.0|last_reward_at:   93|Elapsed Time: 0:00:01||"
     ]
    },
    {
     "name": "stderr",
     "output_type": "stream",
     "text": [
      "\r",
      "Episode 8|Iteration 94|reward:  954.0|last_reward_at:   93|Elapsed Time: 0:00:01||"
     ]
    },
    {
     "name": "stderr",
     "output_type": "stream",
     "text": [
      "\r",
      "Episode 8|Iteration 94|reward:  954.0|last_reward_at:   94|Elapsed Time: 0:00:01||"
     ]
    },
    {
     "name": "stderr",
     "output_type": "stream",
     "text": [
      "\r",
      "Episode 8|Iteration 95|reward:  963.0|last_reward_at:   94|Elapsed Time: 0:00:01||"
     ]
    },
    {
     "name": "stderr",
     "output_type": "stream",
     "text": [
      "\r",
      "Episode 8|Iteration 95|reward:  963.0|last_reward_at:   95|Elapsed Time: 0:00:01||"
     ]
    },
    {
     "name": "stderr",
     "output_type": "stream",
     "text": [
      "\r",
      "Episode 8|Iteration 100|reward:  969.0|last_reward_at:   95|Elapsed Time: 0:00:01||"
     ]
    },
    {
     "name": "stderr",
     "output_type": "stream",
     "text": [
      "\r",
      "Episode 8|Iteration 100|reward:  969.0|last_reward_at:  100|Elapsed Time: 0:00:01||"
     ]
    },
    {
     "name": "stderr",
     "output_type": "stream",
     "text": [
      "\r",
      "Episode 8|Iteration 101|reward:  971.0|last_reward_at:  100|Elapsed Time: 0:00:01||"
     ]
    },
    {
     "name": "stderr",
     "output_type": "stream",
     "text": [
      "\r",
      "Episode 8|Iteration 101|reward:  971.0|last_reward_at:  101|Elapsed Time: 0:00:01||"
     ]
    },
    {
     "name": "stderr",
     "output_type": "stream",
     "text": [
      "\r",
      "Episode 8|Iteration 105|reward:  975.0|last_reward_at:  101|Elapsed Time: 0:00:01||"
     ]
    },
    {
     "name": "stderr",
     "output_type": "stream",
     "text": [
      "\r",
      "Episode 8|Iteration 105|reward:  975.0|last_reward_at:  105|Elapsed Time: 0:00:01||"
     ]
    },
    {
     "name": "stderr",
     "output_type": "stream",
     "text": [
      "\r",
      "Episode 8|Iteration 114|reward:  975.0|last_reward_at:  105|Elapsed Time: 0:00:01||"
     ]
    },
    {
     "name": "stderr",
     "output_type": "stream",
     "text": [
      "\r",
      "Episode 8|Iteration 121|reward:  977.0|last_reward_at:  105|Elapsed Time: 0:00:01||"
     ]
    },
    {
     "name": "stderr",
     "output_type": "stream",
     "text": [
      "\r",
      "Episode 8|Iteration 121|reward:  977.0|last_reward_at:  121|Elapsed Time: 0:00:01||"
     ]
    },
    {
     "name": "stderr",
     "output_type": "stream",
     "text": [
      "\r",
      "Episode 8|Iteration 130|reward:  977.0|last_reward_at:  121|Elapsed Time: 0:00:01||"
     ]
    },
    {
     "name": "stderr",
     "output_type": "stream",
     "text": [
      "\r",
      "Episode 8|Iteration 132|reward:  979.0|last_reward_at:  121|Elapsed Time: 0:00:01||"
     ]
    },
    {
     "name": "stderr",
     "output_type": "stream",
     "text": [
      "\r",
      "Episode 8|Iteration 132|reward:  979.0|last_reward_at:  132|Elapsed Time: 0:00:01||"
     ]
    },
    {
     "name": "stderr",
     "output_type": "stream",
     "text": [
      "\r",
      "Episode 8|Iteration 134|reward:  981.0|last_reward_at:  132|Elapsed Time: 0:00:01||"
     ]
    },
    {
     "name": "stderr",
     "output_type": "stream",
     "text": [
      "\r",
      "Episode 8|Iteration 134|reward:  981.0|last_reward_at:  134|Elapsed Time: 0:00:01||"
     ]
    },
    {
     "name": "stderr",
     "output_type": "stream",
     "text": [
      "\r",
      "Episode 8|Iteration 138|reward:  987.0|last_reward_at:  134|Elapsed Time: 0:00:01||"
     ]
    },
    {
     "name": "stderr",
     "output_type": "stream",
     "text": [
      "\r",
      "Episode 8|Iteration 138|reward:  987.0|last_reward_at:  138|Elapsed Time: 0:00:01||"
     ]
    },
    {
     "name": "stderr",
     "output_type": "stream",
     "text": [
      "\r",
      "Episode 8|Iteration 139|reward:  993.0|last_reward_at:  138|Elapsed Time: 0:00:01||"
     ]
    },
    {
     "name": "stderr",
     "output_type": "stream",
     "text": [
      "\r",
      "Episode 8|Iteration 139|reward:  993.0|last_reward_at:  139|Elapsed Time: 0:00:01||"
     ]
    },
    {
     "name": "stderr",
     "output_type": "stream",
     "text": [
      "\r",
      "Episode 8|Iteration 145|reward:  993.0|last_reward_at:  139|Elapsed Time: 0:00:01||"
     ]
    },
    {
     "name": "stderr",
     "output_type": "stream",
     "text": [
      "\r",
      "Episode 8|Iteration 152|reward:  993.0|last_reward_at:  139|Elapsed Time: 0:00:01||"
     ]
    },
    {
     "name": "stderr",
     "output_type": "stream",
     "text": [
      "\r",
      "Episode 8|Iteration 160|reward:  993.0|last_reward_at:  139|Elapsed Time: 0:00:01||"
     ]
    },
    {
     "name": "stderr",
     "output_type": "stream",
     "text": [
      "\r",
      "Episode 8|Iteration 168|reward:  993.0|last_reward_at:  139|Elapsed Time: 0:00:01||"
     ]
    },
    {
     "name": "stderr",
     "output_type": "stream",
     "text": [
      "\r",
      "Episode 8|Iteration 175|reward:  993.0|last_reward_at:  139|Elapsed Time: 0:00:01||"
     ]
    },
    {
     "name": "stderr",
     "output_type": "stream",
     "text": [
      "\r",
      "Episode 8|Iteration 178|reward:  995.0|last_reward_at:  139|Elapsed Time: 0:00:01||"
     ]
    },
    {
     "name": "stderr",
     "output_type": "stream",
     "text": [
      "\r",
      "Episode 8|Iteration 178|reward:  995.0|last_reward_at:  178|Elapsed Time: 0:00:01||"
     ]
    },
    {
     "name": "stderr",
     "output_type": "stream",
     "text": [
      "\r",
      "Episode 8|Iteration 189|reward:  995.0|last_reward_at:  178|Elapsed Time: 0:00:02||"
     ]
    },
    {
     "name": "stderr",
     "output_type": "stream",
     "text": [
      "\r",
      "Episode 8|Iteration 198|reward:  995.0|last_reward_at:  178|Elapsed Time: 0:00:02||"
     ]
    },
    {
     "name": "stderr",
     "output_type": "stream",
     "text": [
      "\r",
      "Episode 8|Iteration 206|reward:  995.0|last_reward_at:  178|Elapsed Time: 0:00:02||"
     ]
    },
    {
     "name": "stderr",
     "output_type": "stream",
     "text": [
      "\r",
      "Episode 8|Iteration 213|reward:  995.0|last_reward_at:  178|Elapsed Time: 0:00:02||"
     ]
    },
    {
     "name": "stderr",
     "output_type": "stream",
     "text": [
      "\r",
      "Episode 8|Iteration 221|reward:  995.0|last_reward_at:  178|Elapsed Time: 0:00:02||"
     ]
    },
    {
     "name": "stderr",
     "output_type": "stream",
     "text": [
      "\r",
      "Episode 8|Iteration 228|reward:  995.0|last_reward_at:  178|Elapsed Time: 0:00:02||"
     ]
    },
    {
     "name": "stderr",
     "output_type": "stream",
     "text": [
      "\r",
      "Episode 8|Iteration 236|reward:  995.0|last_reward_at:  178|Elapsed Time: 0:00:02||"
     ]
    },
    {
     "name": "stderr",
     "output_type": "stream",
     "text": [
      "\r",
      "Episode 8|Iteration 238|reward:  997.0|last_reward_at:  178|Elapsed Time: 0:00:02||"
     ]
    },
    {
     "name": "stderr",
     "output_type": "stream",
     "text": [
      "\r",
      "Episode 8|Iteration 238|reward:  997.0|last_reward_at:  238|Elapsed Time: 0:00:02||"
     ]
    },
    {
     "name": "stderr",
     "output_type": "stream",
     "text": [
      "\r",
      "Episode 8|Iteration 244|reward:  997.0|last_reward_at:  238|Elapsed Time: 0:00:02||"
     ]
    },
    {
     "name": "stderr",
     "output_type": "stream",
     "text": [
      "\r",
      "Episode 8|Iteration 251|reward:  997.0|last_reward_at:  238|Elapsed Time: 0:00:02||"
     ]
    },
    {
     "name": "stderr",
     "output_type": "stream",
     "text": [
      "\r",
      "Episode 8|Iteration 259|reward:  997.0|last_reward_at:  238|Elapsed Time: 0:00:02||"
     ]
    },
    {
     "name": "stderr",
     "output_type": "stream",
     "text": [
      "\r",
      "Episode 8|Iteration 266|reward:  997.0|last_reward_at:  238|Elapsed Time: 0:00:02||"
     ]
    },
    {
     "name": "stderr",
     "output_type": "stream",
     "text": [
      "\r",
      "Episode 8|Iteration 274|reward:  997.0|last_reward_at:  238|Elapsed Time: 0:00:02||"
     ]
    },
    {
     "name": "stderr",
     "output_type": "stream",
     "text": [
      "\r",
      "Episode 8|Iteration 282|reward:  997.0|last_reward_at:  238|Elapsed Time: 0:00:02||"
     ]
    },
    {
     "name": "stderr",
     "output_type": "stream",
     "text": [
      "\r",
      "Episode 8|Iteration 289|reward:  997.0|last_reward_at:  238|Elapsed Time: 0:00:03||"
     ]
    },
    {
     "name": "stderr",
     "output_type": "stream",
     "text": [
      "\r",
      "Episode 8|Iteration 297|reward:  997.0|last_reward_at:  238|Elapsed Time: 0:00:03||"
     ]
    },
    {
     "name": "stderr",
     "output_type": "stream",
     "text": [
      "\r",
      "Episode 8|Iteration 304|reward:  997.0|last_reward_at:  238|Elapsed Time: 0:00:03||"
     ]
    },
    {
     "name": "stderr",
     "output_type": "stream",
     "text": [
      "\r",
      "Episode 8|Iteration 312|reward:  997.0|last_reward_at:  238|Elapsed Time: 0:00:03||"
     ]
    },
    {
     "name": "stderr",
     "output_type": "stream",
     "text": [
      "\r",
      "Episode 8|Iteration 319|reward:  997.0|last_reward_at:  238|Elapsed Time: 0:00:03||"
     ]
    },
    {
     "name": "stderr",
     "output_type": "stream",
     "text": [
      "\r",
      "Episode 8|Iteration 326|reward:  997.0|last_reward_at:  238|Elapsed Time: 0:00:03||"
     ]
    },
    {
     "name": "stderr",
     "output_type": "stream",
     "text": [
      "\r",
      "Episode 8|Iteration 335|reward:  997.0|last_reward_at:  238|Elapsed Time: 0:00:03||"
     ]
    },
    {
     "name": "stderr",
     "output_type": "stream",
     "text": [
      "\r",
      "Episode 8|Iteration 342|reward:  997.0|last_reward_at:  238|Elapsed Time: 0:00:03||"
     ]
    },
    {
     "name": "stderr",
     "output_type": "stream",
     "text": [
      "\r",
      "Episode 8|Iteration 350|reward:  997.0|last_reward_at:  238|Elapsed Time: 0:00:03||"
     ]
    },
    {
     "name": "stderr",
     "output_type": "stream",
     "text": [
      "\r",
      "Episode 8|Iteration 357|reward:  997.0|last_reward_at:  238|Elapsed Time: 0:00:03||"
     ]
    },
    {
     "name": "stderr",
     "output_type": "stream",
     "text": [
      "\r",
      "Episode 8|Iteration 365|reward:  997.0|last_reward_at:  238|Elapsed Time: 0:00:03||"
     ]
    },
    {
     "name": "stderr",
     "output_type": "stream",
     "text": [
      "\r",
      "Episode 8|Iteration 373|reward:  997.0|last_reward_at:  238|Elapsed Time: 0:00:03||"
     ]
    },
    {
     "name": "stderr",
     "output_type": "stream",
     "text": [
      "\r",
      "Episode 8|Iteration 380|reward:  997.0|last_reward_at:  238|Elapsed Time: 0:00:04||"
     ]
    },
    {
     "name": "stderr",
     "output_type": "stream",
     "text": [
      "\r",
      "Episode 8|Iteration 388|reward:  997.0|last_reward_at:  238|Elapsed Time: 0:00:04||"
     ]
    },
    {
     "name": "stderr",
     "output_type": "stream",
     "text": [
      "\r",
      "Episode 8|Iteration 395|reward:  997.0|last_reward_at:  238|Elapsed Time: 0:00:04||"
     ]
    },
    {
     "name": "stderr",
     "output_type": "stream",
     "text": [
      "\r",
      "Episode 8|Iteration 403|reward:  997.0|last_reward_at:  238|Elapsed Time: 0:00:04||"
     ]
    },
    {
     "name": "stderr",
     "output_type": "stream",
     "text": [
      "\r",
      "Episode 8|Iteration 411|reward:  997.0|last_reward_at:  238|Elapsed Time: 0:00:04||"
     ]
    },
    {
     "name": "stderr",
     "output_type": "stream",
     "text": [
      "\r",
      "Episode 8|Iteration 418|reward:  997.0|last_reward_at:  238|Elapsed Time: 0:00:04||"
     ]
    },
    {
     "name": "stderr",
     "output_type": "stream",
     "text": [
      "\r",
      "Episode 8|Iteration 426|reward:  997.0|last_reward_at:  238|Elapsed Time: 0:00:04||"
     ]
    },
    {
     "name": "stderr",
     "output_type": "stream",
     "text": [
      "\r",
      "Episode 8|Iteration 433|reward:  997.0|last_reward_at:  238|Elapsed Time: 0:00:04||"
     ]
    },
    {
     "name": "stderr",
     "output_type": "stream",
     "text": [
      "\r",
      "Episode 8|Iteration 441|reward:  997.0|last_reward_at:  238|Elapsed Time: 0:00:04||"
     ]
    },
    {
     "name": "stderr",
     "output_type": "stream",
     "text": [
      "\r",
      "Episode 8|Iteration 448|reward:  997.0|last_reward_at:  238|Elapsed Time: 0:00:04||"
     ]
    },
    {
     "name": "stderr",
     "output_type": "stream",
     "text": [
      "\r",
      "Episode 8|Iteration 456|reward:  997.0|last_reward_at:  238|Elapsed Time: 0:00:04||"
     ]
    },
    {
     "name": "stderr",
     "output_type": "stream",
     "text": [
      "\r",
      "Episode 8|Iteration 464|reward:  997.0|last_reward_at:  238|Elapsed Time: 0:00:04||"
     ]
    },
    {
     "name": "stderr",
     "output_type": "stream",
     "text": [
      "\r",
      "Episode 8|Iteration 471|reward:  997.0|last_reward_at:  238|Elapsed Time: 0:00:04||"
     ]
    },
    {
     "name": "stderr",
     "output_type": "stream",
     "text": [
      "\r",
      "Episode 8|Iteration 479|reward:  997.0|last_reward_at:  238|Elapsed Time: 0:00:05||"
     ]
    },
    {
     "name": "stderr",
     "output_type": "stream",
     "text": [
      "\r",
      "Episode 8|Iteration 487|reward:  997.0|last_reward_at:  238|Elapsed Time: 0:00:05||"
     ]
    },
    {
     "name": "stderr",
     "output_type": "stream",
     "text": [
      "\r",
      "Episode 8|Iteration 494|reward:  997.0|last_reward_at:  238|Elapsed Time: 0:00:05||"
     ]
    },
    {
     "name": "stderr",
     "output_type": "stream",
     "text": [
      "\r",
      "Episode 8|Iteration 495|reward: 1097.0|last_reward_at:  238|Elapsed Time: 0:00:05||"
     ]
    },
    {
     "name": "stderr",
     "output_type": "stream",
     "text": [
      "\r",
      "Episode 8|Iteration 495|reward: 1097.0|last_reward_at:  495|Elapsed Time: 0:00:05||"
     ]
    },
    {
     "name": "stderr",
     "output_type": "stream",
     "text": [
      "\r",
      "Episode 8|Iteration 496|reward: 1106.0|last_reward_at:  495|Elapsed Time: 0:00:05||"
     ]
    },
    {
     "name": "stderr",
     "output_type": "stream",
     "text": [
      "\r",
      "Episode 8|Iteration 496|reward: 1106.0|last_reward_at:  496|Elapsed Time: 0:00:05||"
     ]
    },
    {
     "name": "stderr",
     "output_type": "stream",
     "text": [
      "\r",
      "Episode 8|Iteration 497|reward: 1112.0|last_reward_at:  496|Elapsed Time: 0:00:05||"
     ]
    },
    {
     "name": "stderr",
     "output_type": "stream",
     "text": [
      "\r",
      "Episode 8|Iteration 497|reward: 1112.0|last_reward_at:  497|Elapsed Time: 0:00:05||"
     ]
    },
    {
     "name": "stderr",
     "output_type": "stream",
     "text": [
      "\r",
      "Episode 8|Iteration 503|reward: 1120.0|last_reward_at:  497|Elapsed Time: 0:00:05||"
     ]
    },
    {
     "name": "stderr",
     "output_type": "stream",
     "text": [
      "\r",
      "Episode 8|Iteration 503|reward: 1120.0|last_reward_at:  503|Elapsed Time: 0:00:05||"
     ]
    },
    {
     "name": "stderr",
     "output_type": "stream",
     "text": [
      "\r",
      "Episode 8|Iteration 515|reward: 1120.0|last_reward_at:  503|Elapsed Time: 0:00:05||"
     ]
    },
    {
     "name": "stderr",
     "output_type": "stream",
     "text": [
      "\r",
      "Episode 8|Iteration 520|reward: 1126.0|last_reward_at:  503|Elapsed Time: 0:00:05||"
     ]
    },
    {
     "name": "stderr",
     "output_type": "stream",
     "text": [
      "\r",
      "Episode 8|Iteration 520|reward: 1126.0|last_reward_at:  520|Elapsed Time: 0:00:05||"
     ]
    },
    {
     "name": "stderr",
     "output_type": "stream",
     "text": [
      "\r",
      "Episode 8|Iteration 527|reward: 1226.0|last_reward_at:  520|Elapsed Time: 0:00:05||"
     ]
    },
    {
     "name": "stderr",
     "output_type": "stream",
     "text": [
      "\r",
      "Episode 8|Iteration 527|reward: 1226.0|last_reward_at:  527|Elapsed Time: 0:00:05||"
     ]
    },
    {
     "name": "stderr",
     "output_type": "stream",
     "text": [
      "\r",
      "Episode 8|Iteration 529|reward: 1235.0|last_reward_at:  527|Elapsed Time: 0:00:05||"
     ]
    },
    {
     "name": "stderr",
     "output_type": "stream",
     "text": [
      "\r",
      "Episode 8|Iteration 529|reward: 1235.0|last_reward_at:  529|Elapsed Time: 0:00:05||"
     ]
    },
    {
     "name": "stderr",
     "output_type": "stream",
     "text": [
      "\r",
      "Episode 8|Iteration 535|reward: 1241.0|last_reward_at:  529|Elapsed Time: 0:00:05||"
     ]
    },
    {
     "name": "stderr",
     "output_type": "stream",
     "text": [
      "\r",
      "Episode 8|Iteration 535|reward: 1241.0|last_reward_at:  535|Elapsed Time: 0:00:05||"
     ]
    },
    {
     "name": "stderr",
     "output_type": "stream",
     "text": [
      "\r",
      "Episode 8|Iteration 545|reward: 1241.0|last_reward_at:  535|Elapsed Time: 0:00:05||"
     ]
    },
    {
     "name": "stderr",
     "output_type": "stream",
     "text": [
      "\r",
      "Episode 8|Iteration 555|reward: 1241.0|last_reward_at:  535|Elapsed Time: 0:00:05||"
     ]
    },
    {
     "name": "stderr",
     "output_type": "stream",
     "text": [
      "\r",
      "Episode 8|Iteration 563|reward: 1241.0|last_reward_at:  535|Elapsed Time: 0:00:05||"
     ]
    },
    {
     "name": "stderr",
     "output_type": "stream",
     "text": [
      "\r",
      "Episode 8|Iteration 570|reward: 1241.0|last_reward_at:  535|Elapsed Time: 0:00:06||"
     ]
    },
    {
     "name": "stderr",
     "output_type": "stream",
     "text": [
      "\r",
      "Episode 8|Iteration 578|reward: 1241.0|last_reward_at:  535|Elapsed Time: 0:00:06||"
     ]
    },
    {
     "name": "stderr",
     "output_type": "stream",
     "text": [
      "\r",
      "Episode 8|Iteration 585|reward: 1241.0|last_reward_at:  535|Elapsed Time: 0:00:06||"
     ]
    },
    {
     "name": "stderr",
     "output_type": "stream",
     "text": [
      "\r",
      "Episode 8|Iteration 593|reward: 1241.0|last_reward_at:  535|Elapsed Time: 0:00:06||"
     ]
    },
    {
     "name": "stderr",
     "output_type": "stream",
     "text": [
      "\r",
      "Episode 8|Iteration 594|reward: 2241.0|last_reward_at:  535|Elapsed Time: 0:00:06||"
     ]
    },
    {
     "name": "stderr",
     "output_type": "stream",
     "text": [
      "\r",
      "Episode 8|Iteration 594|reward: 2241.0|last_reward_at:  594|Elapsed Time: 0:00:06||"
     ]
    },
    {
     "name": "stderr",
     "output_type": "stream",
     "text": [
      "\r",
      "Episode 8|Iteration 600|reward: 2241.0|last_reward_at:  594|Elapsed Time: 0:00:06||"
     ]
    },
    {
     "name": "stderr",
     "output_type": "stream",
     "text": [
      "\r",
      "Episode 8|Iteration 600|reward: 2241.0|last_reward_at:  594|Elapsed Time: 0:00:06||"
     ]
    },
    {
     "name": "stderr",
     "output_type": "stream",
     "text": [
      "\n"
     ]
    },
    {
     "name": "stdout",
     "output_type": "stream",
     "text": [
      "  Episode 8 stopped at t=600 \n",
      "  Breakdown [Reward/NoReward (Success rate)]\n",
      "    explore-local: 1/57 (0.02)\n",
      "    explore-remote: 9/112 (0.07)\n",
      "    explore-connect: 1/128 (0.01)\n",
      "    exploit-local: 19/40 (0.32)\n",
      "    exploit-remote: 11/119 (0.08)\n",
      "    exploit-connect: 10/93 (0.10)\n",
      "  exploit deflected to exploration: 39\n",
      "  ## Episode: 9/10 'DQL' ϵ=0.4412, γ=0.15, lr=0.01, replaymemory=10000,\n",
      "batch=256, target_update=5\n"
     ]
    },
    {
     "name": "stderr",
     "output_type": "stream",
     "text": [
      "\r",
      "Episode 9|Iteration 0|reward: ------|last_reward_at: ----|Elapsed Time: 0:00:00||"
     ]
    },
    {
     "name": "stderr",
     "output_type": "stream",
     "text": [
      "\r",
      "Episode 9|Iteration 1|reward:    9.0|last_reward_at: ----|Elapsed Time: 0:00:00||"
     ]
    },
    {
     "name": "stderr",
     "output_type": "stream",
     "text": [
      "\r",
      "Episode 9|Iteration 1|reward:    9.0|last_reward_at:    1|Elapsed Time: 0:00:00||"
     ]
    },
    {
     "name": "stderr",
     "output_type": "stream",
     "text": [
      "\r",
      "Episode 9|Iteration 3|reward:  109.0|last_reward_at:    1|Elapsed Time: 0:00:00||"
     ]
    },
    {
     "name": "stderr",
     "output_type": "stream",
     "text": [
      "\r",
      "Episode 9|Iteration 3|reward:  109.0|last_reward_at:    3|Elapsed Time: 0:00:00||"
     ]
    },
    {
     "name": "stderr",
     "output_type": "stream",
     "text": [
      "\r",
      "Episode 9|Iteration 5|reward:  118.0|last_reward_at:    3|Elapsed Time: 0:00:00||"
     ]
    },
    {
     "name": "stderr",
     "output_type": "stream",
     "text": [
      "\r",
      "Episode 9|Iteration 5|reward:  118.0|last_reward_at:    5|Elapsed Time: 0:00:00||"
     ]
    },
    {
     "name": "stderr",
     "output_type": "stream",
     "text": [
      "\r",
      "Episode 9|Iteration 6|reward:  218.0|last_reward_at:    5|Elapsed Time: 0:00:00||"
     ]
    },
    {
     "name": "stderr",
     "output_type": "stream",
     "text": [
      "\r",
      "Episode 9|Iteration 6|reward:  218.0|last_reward_at:    6|Elapsed Time: 0:00:00||"
     ]
    },
    {
     "name": "stderr",
     "output_type": "stream",
     "text": [
      "\r",
      "Episode 9|Iteration 7|reward:  224.0|last_reward_at:    6|Elapsed Time: 0:00:00||"
     ]
    },
    {
     "name": "stderr",
     "output_type": "stream",
     "text": [
      "\r",
      "Episode 9|Iteration 7|reward:  224.0|last_reward_at:    7|Elapsed Time: 0:00:00||"
     ]
    },
    {
     "name": "stderr",
     "output_type": "stream",
     "text": [
      "\r",
      "Episode 9|Iteration 9|reward:  233.0|last_reward_at:    7|Elapsed Time: 0:00:00||"
     ]
    },
    {
     "name": "stderr",
     "output_type": "stream",
     "text": [
      "\r",
      "Episode 9|Iteration 9|reward:  233.0|last_reward_at:    9|Elapsed Time: 0:00:00||"
     ]
    },
    {
     "name": "stderr",
     "output_type": "stream",
     "text": [
      "\r",
      "Episode 9|Iteration 10|reward:  333.0|last_reward_at:    9|Elapsed Time: 0:00:00||"
     ]
    },
    {
     "name": "stderr",
     "output_type": "stream",
     "text": [
      "\r",
      "Episode 9|Iteration 10|reward:  333.0|last_reward_at:   10|Elapsed Time: 0:00:00||"
     ]
    },
    {
     "name": "stderr",
     "output_type": "stream",
     "text": [
      "\r",
      "Episode 9|Iteration 11|reward:  342.0|last_reward_at:   10|Elapsed Time: 0:00:00||"
     ]
    },
    {
     "name": "stderr",
     "output_type": "stream",
     "text": [
      "\r",
      "Episode 9|Iteration 11|reward:  342.0|last_reward_at:   11|Elapsed Time: 0:00:00||"
     ]
    },
    {
     "name": "stderr",
     "output_type": "stream",
     "text": [
      "\r",
      "Episode 9|Iteration 12|reward:  442.0|last_reward_at:   11|Elapsed Time: 0:00:00||"
     ]
    },
    {
     "name": "stderr",
     "output_type": "stream",
     "text": [
      "\r",
      "Episode 9|Iteration 12|reward:  442.0|last_reward_at:   12|Elapsed Time: 0:00:00||"
     ]
    },
    {
     "name": "stderr",
     "output_type": "stream",
     "text": [
      "\r",
      "Episode 9|Iteration 13|reward:  448.0|last_reward_at:   12|Elapsed Time: 0:00:00||"
     ]
    },
    {
     "name": "stderr",
     "output_type": "stream",
     "text": [
      "\r",
      "Episode 9|Iteration 13|reward:  448.0|last_reward_at:   13|Elapsed Time: 0:00:00||"
     ]
    },
    {
     "name": "stderr",
     "output_type": "stream",
     "text": [
      "\r",
      "Episode 9|Iteration 14|reward:  457.0|last_reward_at:   13|Elapsed Time: 0:00:00||"
     ]
    },
    {
     "name": "stderr",
     "output_type": "stream",
     "text": [
      "\r",
      "Episode 9|Iteration 14|reward:  457.0|last_reward_at:   14|Elapsed Time: 0:00:00||"
     ]
    },
    {
     "name": "stderr",
     "output_type": "stream",
     "text": [
      "\r",
      "Episode 9|Iteration 15|reward:  461.0|last_reward_at:   14|Elapsed Time: 0:00:00||"
     ]
    },
    {
     "name": "stderr",
     "output_type": "stream",
     "text": [
      "\r",
      "Episode 9|Iteration 15|reward:  461.0|last_reward_at:   15|Elapsed Time: 0:00:00||"
     ]
    },
    {
     "name": "stderr",
     "output_type": "stream",
     "text": [
      "\r",
      "Episode 9|Iteration 23|reward:  461.0|last_reward_at:   15|Elapsed Time: 0:00:00||"
     ]
    },
    {
     "name": "stderr",
     "output_type": "stream",
     "text": [
      "\r",
      "Episode 9|Iteration 24|reward:  561.0|last_reward_at:   15|Elapsed Time: 0:00:00||"
     ]
    },
    {
     "name": "stderr",
     "output_type": "stream",
     "text": [
      "\r",
      "Episode 9|Iteration 24|reward:  561.0|last_reward_at:   24|Elapsed Time: 0:00:00||"
     ]
    },
    {
     "name": "stderr",
     "output_type": "stream",
     "text": [
      "\r",
      "Episode 9|Iteration 25|reward:  570.0|last_reward_at:   24|Elapsed Time: 0:00:00||"
     ]
    },
    {
     "name": "stderr",
     "output_type": "stream",
     "text": [
      "\r",
      "Episode 9|Iteration 25|reward:  570.0|last_reward_at:   25|Elapsed Time: 0:00:00||"
     ]
    },
    {
     "name": "stderr",
     "output_type": "stream",
     "text": [
      "\r",
      "Episode 9|Iteration 26|reward: 5570.0|last_reward_at:   25|Elapsed Time: 0:00:00||"
     ]
    },
    {
     "name": "stderr",
     "output_type": "stream",
     "text": [
      "\r",
      "Episode 9|Iteration 26|reward: 5570.0|last_reward_at:   26|Elapsed Time: 0:00:00||"
     ]
    },
    {
     "name": "stderr",
     "output_type": "stream",
     "text": [
      "\n"
     ]
    },
    {
     "name": "stdout",
     "output_type": "stream",
     "text": [
      "  Episode 9 ended at t=26 \n",
      "  Breakdown [Reward/NoReward (Success rate)]\n",
      "    explore-local: 1/2 (0.33)\n",
      "    explore-remote: 1/2 (0.33)\n",
      "    explore-connect: 0/2 (0.00)\n",
      "    exploit-local: 7/1 (0.88)\n",
      "    exploit-remote: 0/0 (NaN)\n",
      "    exploit-connect: 6/4 (0.60)\n",
      "  exploit deflected to exploration: 0\n",
      "  ## Episode: 10/10 'DQL' ϵ=0.4395, γ=0.15, lr=0.01, replaymemory=10000,\n",
      "batch=256, target_update=5\n"
     ]
    },
    {
     "name": "stderr",
     "output_type": "stream",
     "text": [
      "\r",
      "Episode 10|Iteration 0|reward: ------|last_reward_at: ----|Elapsed Time: 0:00:00||"
     ]
    },
    {
     "name": "stderr",
     "output_type": "stream",
     "text": [
      "\r",
      "Episode 10|Iteration 1|reward:    9.0|last_reward_at: ----|Elapsed Time: 0:00:00||"
     ]
    },
    {
     "name": "stderr",
     "output_type": "stream",
     "text": [
      "\r",
      "Episode 10|Iteration 1|reward:    9.0|last_reward_at:    1|Elapsed Time: 0:00:00||"
     ]
    },
    {
     "name": "stderr",
     "output_type": "stream",
     "text": [
      "\r",
      "Episode 10|Iteration 2|reward:  109.0|last_reward_at:    1|Elapsed Time: 0:00:00||"
     ]
    },
    {
     "name": "stderr",
     "output_type": "stream",
     "text": [
      "\r",
      "Episode 10|Iteration 2|reward:  109.0|last_reward_at:    2|Elapsed Time: 0:00:00||"
     ]
    },
    {
     "name": "stderr",
     "output_type": "stream",
     "text": [
      "\r",
      "Episode 10|Iteration 3|reward:  118.0|last_reward_at:    2|Elapsed Time: 0:00:00||"
     ]
    },
    {
     "name": "stderr",
     "output_type": "stream",
     "text": [
      "\r",
      "Episode 10|Iteration 3|reward:  118.0|last_reward_at:    3|Elapsed Time: 0:00:00||"
     ]
    },
    {
     "name": "stderr",
     "output_type": "stream",
     "text": [
      "\r",
      "Episode 10|Iteration 4|reward:  218.0|last_reward_at:    3|Elapsed Time: 0:00:00||"
     ]
    },
    {
     "name": "stderr",
     "output_type": "stream",
     "text": [
      "\r",
      "Episode 10|Iteration 4|reward:  218.0|last_reward_at:    4|Elapsed Time: 0:00:00||"
     ]
    },
    {
     "name": "stderr",
     "output_type": "stream",
     "text": [
      "\r",
      "Episode 10|Iteration 5|reward:  224.0|last_reward_at:    4|Elapsed Time: 0:00:00||"
     ]
    },
    {
     "name": "stderr",
     "output_type": "stream",
     "text": [
      "\r",
      "Episode 10|Iteration 5|reward:  224.0|last_reward_at:    5|Elapsed Time: 0:00:00||"
     ]
    },
    {
     "name": "stderr",
     "output_type": "stream",
     "text": [
      "\r",
      "Episode 10|Iteration 9|reward:  230.0|last_reward_at:    5|Elapsed Time: 0:00:00||"
     ]
    },
    {
     "name": "stderr",
     "output_type": "stream",
     "text": [
      "\r",
      "Episode 10|Iteration 9|reward:  230.0|last_reward_at:    9|Elapsed Time: 0:00:00||"
     ]
    },
    {
     "name": "stderr",
     "output_type": "stream",
     "text": [
      "\r",
      "Episode 10|Iteration 10|reward:  232.0|last_reward_at:    9|Elapsed Time: 0:00:00||"
     ]
    },
    {
     "name": "stderr",
     "output_type": "stream",
     "text": [
      "\r",
      "Episode 10|Iteration 10|reward:  232.0|last_reward_at:   10|Elapsed Time: 0:00:00||"
     ]
    },
    {
     "name": "stderr",
     "output_type": "stream",
     "text": [
      "\r",
      "Episode 10|Iteration 21|reward:  232.0|last_reward_at:   10|Elapsed Time: 0:00:00||"
     ]
    },
    {
     "name": "stderr",
     "output_type": "stream",
     "text": [
      "\r",
      "Episode 10|Iteration 22|reward:  238.0|last_reward_at:   10|Elapsed Time: 0:00:00||"
     ]
    },
    {
     "name": "stderr",
     "output_type": "stream",
     "text": [
      "\r",
      "Episode 10|Iteration 22|reward:  238.0|last_reward_at:   22|Elapsed Time: 0:00:00||"
     ]
    },
    {
     "name": "stderr",
     "output_type": "stream",
     "text": [
      "\r",
      "Episode 10|Iteration 24|reward:  242.0|last_reward_at:   22|Elapsed Time: 0:00:00||"
     ]
    },
    {
     "name": "stderr",
     "output_type": "stream",
     "text": [
      "\r",
      "Episode 10|Iteration 24|reward:  242.0|last_reward_at:   24|Elapsed Time: 0:00:00||"
     ]
    },
    {
     "name": "stderr",
     "output_type": "stream",
     "text": [
      "\r",
      "Episode 10|Iteration 27|reward:  244.0|last_reward_at:   24|Elapsed Time: 0:00:00||"
     ]
    },
    {
     "name": "stderr",
     "output_type": "stream",
     "text": [
      "\r",
      "Episode 10|Iteration 27|reward:  244.0|last_reward_at:   27|Elapsed Time: 0:00:00||"
     ]
    },
    {
     "name": "stderr",
     "output_type": "stream",
     "text": [
      "\r",
      "Episode 10|Iteration 37|reward:  244.0|last_reward_at:   27|Elapsed Time: 0:00:00||"
     ]
    },
    {
     "name": "stderr",
     "output_type": "stream",
     "text": [
      "\r",
      "Episode 10|Iteration 46|reward:  244.0|last_reward_at:   27|Elapsed Time: 0:00:00||"
     ]
    },
    {
     "name": "stderr",
     "output_type": "stream",
     "text": [
      "\r",
      "Episode 10|Iteration 54|reward:  244.0|last_reward_at:   27|Elapsed Time: 0:00:00||"
     ]
    },
    {
     "name": "stderr",
     "output_type": "stream",
     "text": [
      "\r",
      "Episode 10|Iteration 57|reward:  246.0|last_reward_at:   27|Elapsed Time: 0:00:00||"
     ]
    },
    {
     "name": "stderr",
     "output_type": "stream",
     "text": [
      "\r",
      "Episode 10|Iteration 57|reward:  246.0|last_reward_at:   57|Elapsed Time: 0:00:00||"
     ]
    },
    {
     "name": "stderr",
     "output_type": "stream",
     "text": [
      "\r",
      "Episode 10|Iteration 59|reward:  252.0|last_reward_at:   57|Elapsed Time: 0:00:00||"
     ]
    },
    {
     "name": "stderr",
     "output_type": "stream",
     "text": [
      "\r",
      "Episode 10|Iteration 59|reward:  252.0|last_reward_at:   59|Elapsed Time: 0:00:00||"
     ]
    },
    {
     "name": "stderr",
     "output_type": "stream",
     "text": [
      "\r",
      "Episode 10|Iteration 69|reward:  252.0|last_reward_at:   59|Elapsed Time: 0:00:00||"
     ]
    },
    {
     "name": "stderr",
     "output_type": "stream",
     "text": [
      "\r",
      "Episode 10|Iteration 76|reward:  252.0|last_reward_at:   59|Elapsed Time: 0:00:00||"
     ]
    },
    {
     "name": "stderr",
     "output_type": "stream",
     "text": [
      "\r",
      "Episode 10|Iteration 84|reward:  252.0|last_reward_at:   59|Elapsed Time: 0:00:00||"
     ]
    },
    {
     "name": "stderr",
     "output_type": "stream",
     "text": [
      "\r",
      "Episode 10|Iteration 92|reward:  252.0|last_reward_at:   59|Elapsed Time: 0:00:00||"
     ]
    },
    {
     "name": "stderr",
     "output_type": "stream",
     "text": [
      "\r",
      "Episode 10|Iteration 99|reward:  252.0|last_reward_at:   59|Elapsed Time: 0:00:01||"
     ]
    },
    {
     "name": "stderr",
     "output_type": "stream",
     "text": [
      "\r",
      "Episode 10|Iteration 107|reward:  252.0|last_reward_at:   59|Elapsed Time: 0:00:01||"
     ]
    },
    {
     "name": "stderr",
     "output_type": "stream",
     "text": [
      "\r",
      "Episode 10|Iteration 114|reward:  252.0|last_reward_at:   59|Elapsed Time: 0:00:01||"
     ]
    },
    {
     "name": "stderr",
     "output_type": "stream",
     "text": [
      "\r",
      "Episode 10|Iteration 122|reward:  252.0|last_reward_at:   59|Elapsed Time: 0:00:01||"
     ]
    },
    {
     "name": "stderr",
     "output_type": "stream",
     "text": [
      "\r",
      "Episode 10|Iteration 130|reward:  252.0|last_reward_at:   59|Elapsed Time: 0:00:01||"
     ]
    },
    {
     "name": "stderr",
     "output_type": "stream",
     "text": [
      "\r",
      "Episode 10|Iteration 137|reward:  252.0|last_reward_at:   59|Elapsed Time: 0:00:01||"
     ]
    },
    {
     "name": "stderr",
     "output_type": "stream",
     "text": [
      "\r",
      "Episode 10|Iteration 145|reward:  252.0|last_reward_at:   59|Elapsed Time: 0:00:01||"
     ]
    },
    {
     "name": "stderr",
     "output_type": "stream",
     "text": [
      "\r",
      "Episode 10|Iteration 152|reward:  252.0|last_reward_at:   59|Elapsed Time: 0:00:01||"
     ]
    },
    {
     "name": "stderr",
     "output_type": "stream",
     "text": [
      "\r",
      "Episode 10|Iteration 160|reward:  252.0|last_reward_at:   59|Elapsed Time: 0:00:01||"
     ]
    },
    {
     "name": "stderr",
     "output_type": "stream",
     "text": [
      "\r",
      "Episode 10|Iteration 168|reward:  252.0|last_reward_at:   59|Elapsed Time: 0:00:01||"
     ]
    },
    {
     "name": "stderr",
     "output_type": "stream",
     "text": [
      "\r",
      "Episode 10|Iteration 175|reward:  252.0|last_reward_at:   59|Elapsed Time: 0:00:01||"
     ]
    },
    {
     "name": "stderr",
     "output_type": "stream",
     "text": [
      "\r",
      "Episode 10|Iteration 183|reward:  252.0|last_reward_at:   59|Elapsed Time: 0:00:01||"
     ]
    },
    {
     "name": "stderr",
     "output_type": "stream",
     "text": [
      "\r",
      "Episode 10|Iteration 190|reward:  252.0|last_reward_at:   59|Elapsed Time: 0:00:01||"
     ]
    },
    {
     "name": "stderr",
     "output_type": "stream",
     "text": [
      "\r",
      "Episode 10|Iteration 198|reward:  252.0|last_reward_at:   59|Elapsed Time: 0:00:02||"
     ]
    },
    {
     "name": "stderr",
     "output_type": "stream",
     "text": [
      "\r",
      "Episode 10|Iteration 206|reward:  252.0|last_reward_at:   59|Elapsed Time: 0:00:02||"
     ]
    },
    {
     "name": "stderr",
     "output_type": "stream",
     "text": [
      "\r",
      "Episode 10|Iteration 213|reward:  252.0|last_reward_at:   59|Elapsed Time: 0:00:02||"
     ]
    },
    {
     "name": "stderr",
     "output_type": "stream",
     "text": [
      "\r",
      "Episode 10|Iteration 220|reward:  252.0|last_reward_at:   59|Elapsed Time: 0:00:02||"
     ]
    },
    {
     "name": "stderr",
     "output_type": "stream",
     "text": [
      "\r",
      "Episode 10|Iteration 228|reward:  252.0|last_reward_at:   59|Elapsed Time: 0:00:02||"
     ]
    },
    {
     "name": "stderr",
     "output_type": "stream",
     "text": [
      "\r",
      "Episode 10|Iteration 236|reward:  252.0|last_reward_at:   59|Elapsed Time: 0:00:02||"
     ]
    },
    {
     "name": "stderr",
     "output_type": "stream",
     "text": [
      "\r",
      "Episode 10|Iteration 243|reward:  252.0|last_reward_at:   59|Elapsed Time: 0:00:02||"
     ]
    },
    {
     "name": "stderr",
     "output_type": "stream",
     "text": [
      "\r",
      "Episode 10|Iteration 251|reward:  252.0|last_reward_at:   59|Elapsed Time: 0:00:02||"
     ]
    },
    {
     "name": "stderr",
     "output_type": "stream",
     "text": [
      "\r",
      "Episode 10|Iteration 259|reward:  252.0|last_reward_at:   59|Elapsed Time: 0:00:02||"
     ]
    },
    {
     "name": "stderr",
     "output_type": "stream",
     "text": [
      "\r",
      "Episode 10|Iteration 266|reward:  252.0|last_reward_at:   59|Elapsed Time: 0:00:02||"
     ]
    },
    {
     "name": "stderr",
     "output_type": "stream",
     "text": [
      "\r",
      "Episode 10|Iteration 274|reward:  252.0|last_reward_at:   59|Elapsed Time: 0:00:02||"
     ]
    },
    {
     "name": "stderr",
     "output_type": "stream",
     "text": [
      "\r",
      "Episode 10|Iteration 282|reward:  252.0|last_reward_at:   59|Elapsed Time: 0:00:02||"
     ]
    },
    {
     "name": "stderr",
     "output_type": "stream",
     "text": [
      "\r",
      "Episode 10|Iteration 289|reward:  252.0|last_reward_at:   59|Elapsed Time: 0:00:02||"
     ]
    },
    {
     "name": "stderr",
     "output_type": "stream",
     "text": [
      "\r",
      "Episode 10|Iteration 297|reward:  252.0|last_reward_at:   59|Elapsed Time: 0:00:03||"
     ]
    },
    {
     "name": "stderr",
     "output_type": "stream",
     "text": [
      "\r",
      "Episode 10|Iteration 304|reward:  252.0|last_reward_at:   59|Elapsed Time: 0:00:03||"
     ]
    },
    {
     "name": "stderr",
     "output_type": "stream",
     "text": [
      "\r",
      "Episode 10|Iteration 312|reward:  252.0|last_reward_at:   59|Elapsed Time: 0:00:03||"
     ]
    },
    {
     "name": "stderr",
     "output_type": "stream",
     "text": [
      "\r",
      "Episode 10|Iteration 319|reward:  252.0|last_reward_at:   59|Elapsed Time: 0:00:03||"
     ]
    },
    {
     "name": "stderr",
     "output_type": "stream",
     "text": [
      "\r",
      "Episode 10|Iteration 327|reward:  252.0|last_reward_at:   59|Elapsed Time: 0:00:03||"
     ]
    },
    {
     "name": "stderr",
     "output_type": "stream",
     "text": [
      "\r",
      "Episode 10|Iteration 335|reward:  252.0|last_reward_at:   59|Elapsed Time: 0:00:03||"
     ]
    },
    {
     "name": "stderr",
     "output_type": "stream",
     "text": [
      "\r",
      "Episode 10|Iteration 342|reward:  252.0|last_reward_at:   59|Elapsed Time: 0:00:03||"
     ]
    },
    {
     "name": "stderr",
     "output_type": "stream",
     "text": [
      "\r",
      "Episode 10|Iteration 350|reward:  252.0|last_reward_at:   59|Elapsed Time: 0:00:03||"
     ]
    },
    {
     "name": "stderr",
     "output_type": "stream",
     "text": [
      "\r",
      "Episode 10|Iteration 357|reward:  252.0|last_reward_at:   59|Elapsed Time: 0:00:03||"
     ]
    },
    {
     "name": "stderr",
     "output_type": "stream",
     "text": [
      "\r",
      "Episode 10|Iteration 365|reward:  252.0|last_reward_at:   59|Elapsed Time: 0:00:03||"
     ]
    },
    {
     "name": "stderr",
     "output_type": "stream",
     "text": [
      "\r",
      "Episode 10|Iteration 373|reward:  252.0|last_reward_at:   59|Elapsed Time: 0:00:03||"
     ]
    },
    {
     "name": "stderr",
     "output_type": "stream",
     "text": [
      "\r",
      "Episode 10|Iteration 380|reward:  252.0|last_reward_at:   59|Elapsed Time: 0:00:03||"
     ]
    },
    {
     "name": "stderr",
     "output_type": "stream",
     "text": [
      "\r",
      "Episode 10|Iteration 388|reward:  252.0|last_reward_at:   59|Elapsed Time: 0:00:03||"
     ]
    },
    {
     "name": "stderr",
     "output_type": "stream",
     "text": [
      "\r",
      "Episode 10|Iteration 395|reward:  252.0|last_reward_at:   59|Elapsed Time: 0:00:03||"
     ]
    },
    {
     "name": "stderr",
     "output_type": "stream",
     "text": [
      "\r",
      "Episode 10|Iteration 403|reward:  252.0|last_reward_at:   59|Elapsed Time: 0:00:04||"
     ]
    },
    {
     "name": "stderr",
     "output_type": "stream",
     "text": [
      "\r",
      "Episode 10|Iteration 411|reward:  252.0|last_reward_at:   59|Elapsed Time: 0:00:04||"
     ]
    },
    {
     "name": "stderr",
     "output_type": "stream",
     "text": [
      "\r",
      "Episode 10|Iteration 418|reward:  252.0|last_reward_at:   59|Elapsed Time: 0:00:04||"
     ]
    },
    {
     "name": "stderr",
     "output_type": "stream",
     "text": [
      "\r",
      "Episode 10|Iteration 426|reward:  252.0|last_reward_at:   59|Elapsed Time: 0:00:04||"
     ]
    },
    {
     "name": "stderr",
     "output_type": "stream",
     "text": [
      "\r",
      "Episode 10|Iteration 433|reward:  252.0|last_reward_at:   59|Elapsed Time: 0:00:04||"
     ]
    },
    {
     "name": "stderr",
     "output_type": "stream",
     "text": [
      "\r",
      "Episode 10|Iteration 441|reward:  252.0|last_reward_at:   59|Elapsed Time: 0:00:04||"
     ]
    },
    {
     "name": "stderr",
     "output_type": "stream",
     "text": [
      "\r",
      "Episode 10|Iteration 449|reward:  252.0|last_reward_at:   59|Elapsed Time: 0:00:04||"
     ]
    },
    {
     "name": "stderr",
     "output_type": "stream",
     "text": [
      "\r",
      "Episode 10|Iteration 456|reward:  252.0|last_reward_at:   59|Elapsed Time: 0:00:04||"
     ]
    },
    {
     "name": "stderr",
     "output_type": "stream",
     "text": [
      "\r",
      "Episode 10|Iteration 464|reward:  252.0|last_reward_at:   59|Elapsed Time: 0:00:04||"
     ]
    },
    {
     "name": "stderr",
     "output_type": "stream",
     "text": [
      "\r",
      "Episode 10|Iteration 471|reward:  252.0|last_reward_at:   59|Elapsed Time: 0:00:04||"
     ]
    },
    {
     "name": "stderr",
     "output_type": "stream",
     "text": [
      "\r",
      "Episode 10|Iteration 478|reward:  252.0|last_reward_at:   59|Elapsed Time: 0:00:04||"
     ]
    },
    {
     "name": "stderr",
     "output_type": "stream",
     "text": [
      "\r",
      "Episode 10|Iteration 487|reward:  252.0|last_reward_at:   59|Elapsed Time: 0:00:04||"
     ]
    },
    {
     "name": "stderr",
     "output_type": "stream",
     "text": [
      "\r",
      "Episode 10|Iteration 494|reward:  252.0|last_reward_at:   59|Elapsed Time: 0:00:04||"
     ]
    },
    {
     "name": "stderr",
     "output_type": "stream",
     "text": [
      "\r",
      "Episode 10|Iteration 502|reward:  252.0|last_reward_at:   59|Elapsed Time: 0:00:05||"
     ]
    },
    {
     "name": "stderr",
     "output_type": "stream",
     "text": [
      "\r",
      "Episode 10|Iteration 509|reward:  252.0|last_reward_at:   59|Elapsed Time: 0:00:05||"
     ]
    },
    {
     "name": "stderr",
     "output_type": "stream",
     "text": [
      "\r",
      "Episode 10|Iteration 517|reward:  252.0|last_reward_at:   59|Elapsed Time: 0:00:05||"
     ]
    },
    {
     "name": "stderr",
     "output_type": "stream",
     "text": [
      "\r",
      "Episode 10|Iteration 525|reward:  252.0|last_reward_at:   59|Elapsed Time: 0:00:05||"
     ]
    },
    {
     "name": "stderr",
     "output_type": "stream",
     "text": [
      "\r",
      "Episode 10|Iteration 532|reward:  252.0|last_reward_at:   59|Elapsed Time: 0:00:05||"
     ]
    },
    {
     "name": "stderr",
     "output_type": "stream",
     "text": [
      "\r",
      "Episode 10|Iteration 540|reward:  252.0|last_reward_at:   59|Elapsed Time: 0:00:05||"
     ]
    },
    {
     "name": "stderr",
     "output_type": "stream",
     "text": [
      "\r",
      "Episode 10|Iteration 547|reward:  252.0|last_reward_at:   59|Elapsed Time: 0:00:05||"
     ]
    },
    {
     "name": "stderr",
     "output_type": "stream",
     "text": [
      "\r",
      "Episode 10|Iteration 555|reward:  252.0|last_reward_at:   59|Elapsed Time: 0:00:05||"
     ]
    },
    {
     "name": "stderr",
     "output_type": "stream",
     "text": [
      "\r",
      "Episode 10|Iteration 563|reward:  252.0|last_reward_at:   59|Elapsed Time: 0:00:05||"
     ]
    },
    {
     "name": "stderr",
     "output_type": "stream",
     "text": [
      "\r",
      "Episode 10|Iteration 570|reward:  252.0|last_reward_at:   59|Elapsed Time: 0:00:05||"
     ]
    },
    {
     "name": "stderr",
     "output_type": "stream",
     "text": [
      "\r",
      "Episode 10|Iteration 578|reward:  252.0|last_reward_at:   59|Elapsed Time: 0:00:05||"
     ]
    },
    {
     "name": "stderr",
     "output_type": "stream",
     "text": [
      "\r",
      "Episode 10|Iteration 585|reward:  252.0|last_reward_at:   59|Elapsed Time: 0:00:05||"
     ]
    },
    {
     "name": "stderr",
     "output_type": "stream",
     "text": [
      "\r",
      "Episode 10|Iteration 593|reward:  252.0|last_reward_at:   59|Elapsed Time: 0:00:05||"
     ]
    },
    {
     "name": "stderr",
     "output_type": "stream",
     "text": [
      "\r",
      "Episode 10|Iteration 600|reward:  252.0|last_reward_at:   59|Elapsed Time: 0:00:06||"
     ]
    },
    {
     "name": "stderr",
     "output_type": "stream",
     "text": [
      "\r",
      "Episode 10|Iteration 600|reward:  252.0|last_reward_at:   59|Elapsed Time: 0:00:06||"
     ]
    },
    {
     "name": "stderr",
     "output_type": "stream",
     "text": [
      "\n"
     ]
    },
    {
     "name": "stdout",
     "output_type": "stream",
     "text": [
      "  Episode 10 stopped at t=600 \n",
      "  Breakdown [Reward/NoReward (Success rate)]\n",
      "    explore-local: 0/28 (0.00)\n",
      "    explore-remote: 4/163 (0.02)\n",
      "    explore-connect: 0/142 (0.00)\n",
      "    exploit-local: 4/16 (0.20)\n",
      "    exploit-remote: 2/171 (0.01)\n",
      "    exploit-connect: 2/68 (0.03)\n",
      "  exploit deflected to exploration: 64\n",
      "simulation ended\n"
     ]
    },
    {
     "data": {
      "image/png": "[encoded data removed]",
      "text/plain": [
       "<Figure size 432x288 with 1 Axes>"
      ]
     },
     "metadata": {
      "needs_background": "light"
     },
     "output_type": "display_data"
    }
   ],
   "source": [
    "dqn_with_defender = learner.epsilon_greedy_search(\n",
    "    cyberbattle_gym_env=cyberbattlechain_defender,\n",
    "    environment_properties=ep,\n",
    "    learner=dqla.DeepQLearnerPolicy(\n",
    "        ep=ep,\n",
    "        gamma=0.15,\n",
    "        replay_memory_size=10000,\n",
    "        target_update=5,\n",
    "        batch_size=256,\n",
    "        learning_rate=0.01),\n",
    "    episode_count=training_episode_count,\n",
    "    iteration_count=iteration_count,\n",
    "    epsilon=0.90,\n",
    "    render=False,\n",
    "    epsilon_exponential_decay=5000,\n",
    "    epsilon_minimum=0.10,\n",
    "    verbosity=Verbosity.Quiet,\n",
    "    title=\"DQL\"\n",
    ")"
   ]
  },
  {
   "cell_type": "code",
   "execution_count": 4,
   "id": "billion-transport",
   "metadata": {
    "execution": {
     "iopub.execute_input": "2021-09-06T21:31:16.271747Z",
     "iopub.status.busy": "2021-09-06T21:31:16.271144Z",
     "iopub.status.idle": "2021-09-06T21:31:35.499361Z",
     "shell.execute_reply": "2021-09-06T21:31:35.498838Z"
    },
    "papermill": {
     "duration": 19.58009,
     "end_time": "2021-09-06T21:31:35.499491",
     "exception": false,
     "start_time": "2021-09-06T21:31:15.919401",
     "status": "completed"
    },
    "tags": []
   },
   "outputs": [
    {
     "name": "stdout",
     "output_type": "stream",
     "text": [
      "###### Exploiting DQL\n",
      "Learning with: episode_count=10,iteration_count=600,ϵ=0.0,ϵ_min=0.0, γ=0.15, lr=0.01, replaymemory=10000,\n",
      "batch=256, target_update=5\n",
      "  ## Episode: 1/10 'Exploiting DQL' ϵ=0.0000, γ=0.15, lr=0.01, replaymemory=10000,\n",
      "batch=256, target_update=5\n"
     ]
    },
    {
     "name": "stderr",
     "output_type": "stream",
     "text": [
      "\r",
      "Episode 1|Iteration 0|reward: ------|last_reward_at: ----|Elapsed Time: 0:00:00||"
     ]
    },
    {
     "name": "stderr",
     "output_type": "stream",
     "text": [
      "\r",
      "Episode 1|Iteration 1|reward:    9.0|last_reward_at: ----|Elapsed Time: 0:00:00||"
     ]
    },
    {
     "name": "stderr",
     "output_type": "stream",
     "text": [
      "\r",
      "Episode 1|Iteration 1|reward:    9.0|last_reward_at:    1|Elapsed Time: 0:00:00||"
     ]
    },
    {
     "name": "stderr",
     "output_type": "stream",
     "text": [
      "\r",
      "Episode 1|Iteration 2|reward:  109.0|last_reward_at:    1|Elapsed Time: 0:00:00||"
     ]
    },
    {
     "name": "stderr",
     "output_type": "stream",
     "text": [
      "\r",
      "Episode 1|Iteration 2|reward:  109.0|last_reward_at:    2|Elapsed Time: 0:00:00||"
     ]
    },
    {
     "name": "stderr",
     "output_type": "stream",
     "text": [
      "\r",
      "Episode 1|Iteration 3|reward:  118.0|last_reward_at:    2|Elapsed Time: 0:00:00||"
     ]
    },
    {
     "name": "stderr",
     "output_type": "stream",
     "text": [
      "\r",
      "Episode 1|Iteration 3|reward:  118.0|last_reward_at:    3|Elapsed Time: 0:00:00||"
     ]
    },
    {
     "name": "stderr",
     "output_type": "stream",
     "text": [
      "\r",
      "Episode 1|Iteration 4|reward:  126.0|last_reward_at:    3|Elapsed Time: 0:00:00||"
     ]
    },
    {
     "name": "stderr",
     "output_type": "stream",
     "text": [
      "\r",
      "Episode 1|Iteration 4|reward:  126.0|last_reward_at:    4|Elapsed Time: 0:00:00||"
     ]
    },
    {
     "name": "stderr",
     "output_type": "stream",
     "text": [
      "\r",
      "Episode 1|Iteration 5|reward:  132.0|last_reward_at:    4|Elapsed Time: 0:00:00||"
     ]
    },
    {
     "name": "stderr",
     "output_type": "stream",
     "text": [
      "\r",
      "Episode 1|Iteration 5|reward:  132.0|last_reward_at:    5|Elapsed Time: 0:00:00||"
     ]
    },
    {
     "name": "stderr",
     "output_type": "stream",
     "text": [
      "\r",
      "Episode 1|Iteration 6|reward:  232.0|last_reward_at:    5|Elapsed Time: 0:00:00||"
     ]
    },
    {
     "name": "stderr",
     "output_type": "stream",
     "text": [
      "\r",
      "Episode 1|Iteration 6|reward:  232.0|last_reward_at:    6|Elapsed Time: 0:00:00||"
     ]
    },
    {
     "name": "stderr",
     "output_type": "stream",
     "text": [
      "\r",
      "Episode 1|Iteration 7|reward:  238.0|last_reward_at:    6|Elapsed Time: 0:00:00||"
     ]
    },
    {
     "name": "stderr",
     "output_type": "stream",
     "text": [
      "\r",
      "Episode 1|Iteration 7|reward:  238.0|last_reward_at:    7|Elapsed Time: 0:00:00||"
     ]
    },
    {
     "name": "stderr",
     "output_type": "stream",
     "text": [
      "\r",
      "Episode 1|Iteration 8|reward:  247.0|last_reward_at:    7|Elapsed Time: 0:00:00||"
     ]
    },
    {
     "name": "stderr",
     "output_type": "stream",
     "text": [
      "\r",
      "Episode 1|Iteration 8|reward:  247.0|last_reward_at:    8|Elapsed Time: 0:00:00||"
     ]
    },
    {
     "name": "stderr",
     "output_type": "stream",
     "text": [
      "\r",
      "Episode 1|Iteration 9|reward:  347.0|last_reward_at:    8|Elapsed Time: 0:00:00||"
     ]
    },
    {
     "name": "stderr",
     "output_type": "stream",
     "text": [
      "\r",
      "Episode 1|Iteration 9|reward:  347.0|last_reward_at:    9|Elapsed Time: 0:00:00||"
     ]
    },
    {
     "name": "stderr",
     "output_type": "stream",
     "text": [
      "\r",
      "Episode 1|Iteration 10|reward:  356.0|last_reward_at:    9|Elapsed Time: 0:00:00||"
     ]
    },
    {
     "name": "stderr",
     "output_type": "stream",
     "text": [
      "\r",
      "Episode 1|Iteration 10|reward:  356.0|last_reward_at:   10|Elapsed Time: 0:00:00||"
     ]
    },
    {
     "name": "stderr",
     "output_type": "stream",
     "text": [
      "\r",
      "Episode 1|Iteration 12|reward:  456.0|last_reward_at:   10|Elapsed Time: 0:00:00||"
     ]
    },
    {
     "name": "stderr",
     "output_type": "stream",
     "text": [
      "\r",
      "Episode 1|Iteration 12|reward:  456.0|last_reward_at:   12|Elapsed Time: 0:00:00||"
     ]
    },
    {
     "name": "stderr",
     "output_type": "stream",
     "text": [
      "\r",
      "Episode 1|Iteration 13|reward:  462.0|last_reward_at:   12|Elapsed Time: 0:00:00||"
     ]
    },
    {
     "name": "stderr",
     "output_type": "stream",
     "text": [
      "\r",
      "Episode 1|Iteration 13|reward:  462.0|last_reward_at:   13|Elapsed Time: 0:00:00||"
     ]
    },
    {
     "name": "stderr",
     "output_type": "stream",
     "text": [
      "\r",
      "Episode 1|Iteration 14|reward:  471.0|last_reward_at:   13|Elapsed Time: 0:00:00||"
     ]
    },
    {
     "name": "stderr",
     "output_type": "stream",
     "text": [
      "\r",
      "Episode 1|Iteration 14|reward:  471.0|last_reward_at:   14|Elapsed Time: 0:00:00||"
     ]
    },
    {
     "name": "stderr",
     "output_type": "stream",
     "text": [
      "\r",
      "Episode 1|Iteration 17|reward:  571.0|last_reward_at:   14|Elapsed Time: 0:00:00||"
     ]
    },
    {
     "name": "stderr",
     "output_type": "stream",
     "text": [
      "\r",
      "Episode 1|Iteration 17|reward:  571.0|last_reward_at:   17|Elapsed Time: 0:00:00||"
     ]
    },
    {
     "name": "stderr",
     "output_type": "stream",
     "text": [
      "\r",
      "Episode 1|Iteration 18|reward:  580.0|last_reward_at:   17|Elapsed Time: 0:00:00||"
     ]
    },
    {
     "name": "stderr",
     "output_type": "stream",
     "text": [
      "\r",
      "Episode 1|Iteration 18|reward:  580.0|last_reward_at:   18|Elapsed Time: 0:00:00||"
     ]
    },
    {
     "name": "stderr",
     "output_type": "stream",
     "text": [
      "\r",
      "Episode 1|Iteration 24|reward:  680.0|last_reward_at:   18|Elapsed Time: 0:00:00||"
     ]
    },
    {
     "name": "stderr",
     "output_type": "stream",
     "text": [
      "\r",
      "Episode 1|Iteration 24|reward:  680.0|last_reward_at:   24|Elapsed Time: 0:00:00||"
     ]
    },
    {
     "name": "stderr",
     "output_type": "stream",
     "text": [
      "\r",
      "Episode 1|Iteration 29|reward:  686.0|last_reward_at:   24|Elapsed Time: 0:00:00||"
     ]
    },
    {
     "name": "stderr",
     "output_type": "stream",
     "text": [
      "\r",
      "Episode 1|Iteration 29|reward:  686.0|last_reward_at:   29|Elapsed Time: 0:00:00||"
     ]
    },
    {
     "name": "stderr",
     "output_type": "stream",
     "text": [
      "\r",
      "Episode 1|Iteration 30|reward:  695.0|last_reward_at:   29|Elapsed Time: 0:00:00||"
     ]
    },
    {
     "name": "stderr",
     "output_type": "stream",
     "text": [
      "\r",
      "Episode 1|Iteration 30|reward:  695.0|last_reward_at:   30|Elapsed Time: 0:00:00||"
     ]
    },
    {
     "name": "stderr",
     "output_type": "stream",
     "text": [
      "\r",
      "Episode 1|Iteration 31|reward:  795.0|last_reward_at:   30|Elapsed Time: 0:00:00||"
     ]
    },
    {
     "name": "stderr",
     "output_type": "stream",
     "text": [
      "\r",
      "Episode 1|Iteration 31|reward:  795.0|last_reward_at:   31|Elapsed Time: 0:00:00||"
     ]
    },
    {
     "name": "stderr",
     "output_type": "stream",
     "text": [
      "\r",
      "Episode 1|Iteration 38|reward:  795.0|last_reward_at:   31|Elapsed Time: 0:00:00||"
     ]
    },
    {
     "name": "stderr",
     "output_type": "stream",
     "text": [
      "\r",
      "Episode 1|Iteration 38|reward:  804.0|last_reward_at:   31|Elapsed Time: 0:00:00||"
     ]
    },
    {
     "name": "stderr",
     "output_type": "stream",
     "text": [
      "\r",
      "Episode 1|Iteration 38|reward:  804.0|last_reward_at:   38|Elapsed Time: 0:00:00||"
     ]
    },
    {
     "name": "stderr",
     "output_type": "stream",
     "text": [
      "\r",
      "Episode 1|Iteration 41|reward:  810.0|last_reward_at:   38|Elapsed Time: 0:00:00||"
     ]
    },
    {
     "name": "stderr",
     "output_type": "stream",
     "text": [
      "\r",
      "Episode 1|Iteration 41|reward:  810.0|last_reward_at:   41|Elapsed Time: 0:00:00||"
     ]
    },
    {
     "name": "stderr",
     "output_type": "stream",
     "text": [
      "\r",
      "Episode 1|Iteration 50|reward:  810.0|last_reward_at:   41|Elapsed Time: 0:00:00||"
     ]
    },
    {
     "name": "stderr",
     "output_type": "stream",
     "text": [
      "\r",
      "Episode 1|Iteration 57|reward:  810.0|last_reward_at:   41|Elapsed Time: 0:00:00||"
     ]
    },
    {
     "name": "stderr",
     "output_type": "stream",
     "text": [
      "\r",
      "Episode 1|Iteration 59|reward:  910.0|last_reward_at:   41|Elapsed Time: 0:00:00||"
     ]
    },
    {
     "name": "stderr",
     "output_type": "stream",
     "text": [
      "\r",
      "Episode 1|Iteration 59|reward:  910.0|last_reward_at:   59|Elapsed Time: 0:00:00||"
     ]
    },
    {
     "name": "stderr",
     "output_type": "stream",
     "text": [
      "\r",
      "Episode 1|Iteration 60|reward:  919.0|last_reward_at:   59|Elapsed Time: 0:00:00||"
     ]
    },
    {
     "name": "stderr",
     "output_type": "stream",
     "text": [
      "\r",
      "Episode 1|Iteration 60|reward:  919.0|last_reward_at:   60|Elapsed Time: 0:00:00||"
     ]
    },
    {
     "name": "stderr",
     "output_type": "stream",
     "text": [
      "\r",
      "Episode 1|Iteration 62|reward:  925.0|last_reward_at:   60|Elapsed Time: 0:00:00||"
     ]
    },
    {
     "name": "stderr",
     "output_type": "stream",
     "text": [
      "\r",
      "Episode 1|Iteration 62|reward:  925.0|last_reward_at:   62|Elapsed Time: 0:00:00||"
     ]
    },
    {
     "name": "stderr",
     "output_type": "stream",
     "text": [
      "\r",
      "Episode 1|Iteration 69|reward:  925.0|last_reward_at:   62|Elapsed Time: 0:00:00||"
     ]
    },
    {
     "name": "stderr",
     "output_type": "stream",
     "text": [
      "\r",
      "Episode 1|Iteration 75|reward: 1025.0|last_reward_at:   62|Elapsed Time: 0:00:00||"
     ]
    },
    {
     "name": "stderr",
     "output_type": "stream",
     "text": [
      "\r",
      "Episode 1|Iteration 75|reward: 1025.0|last_reward_at:   75|Elapsed Time: 0:00:00||"
     ]
    },
    {
     "name": "stderr",
     "output_type": "stream",
     "text": [
      "\r",
      "Episode 1|Iteration 76|reward: 1034.0|last_reward_at:   75|Elapsed Time: 0:00:00||"
     ]
    },
    {
     "name": "stderr",
     "output_type": "stream",
     "text": [
      "\r",
      "Episode 1|Iteration 76|reward: 1034.0|last_reward_at:   76|Elapsed Time: 0:00:00||"
     ]
    },
    {
     "name": "stderr",
     "output_type": "stream",
     "text": [
      "\r",
      "Episode 1|Iteration 79|reward: 1040.0|last_reward_at:   76|Elapsed Time: 0:00:00||"
     ]
    },
    {
     "name": "stderr",
     "output_type": "stream",
     "text": [
      "\r",
      "Episode 1|Iteration 79|reward: 1040.0|last_reward_at:   79|Elapsed Time: 0:00:00||"
     ]
    },
    {
     "name": "stderr",
     "output_type": "stream",
     "text": [
      "\r",
      "Episode 1|Iteration 89|reward: 1040.0|last_reward_at:   79|Elapsed Time: 0:00:01||"
     ]
    },
    {
     "name": "stderr",
     "output_type": "stream",
     "text": [
      "\r",
      "Episode 1|Iteration 99|reward: 1040.0|last_reward_at:   79|Elapsed Time: 0:00:01||"
     ]
    },
    {
     "name": "stderr",
     "output_type": "stream",
     "text": [
      "\r",
      "Episode 1|Iteration 104|reward: 1042.0|last_reward_at:   79|Elapsed Time: 0:00:01||"
     ]
    },
    {
     "name": "stderr",
     "output_type": "stream",
     "text": [
      "\r",
      "Episode 1|Iteration 104|reward: 1042.0|last_reward_at:  104|Elapsed Time: 0:00:01||"
     ]
    },
    {
     "name": "stderr",
     "output_type": "stream",
     "text": [
      "\r",
      "Episode 1|Iteration 109|reward: 1042.0|last_reward_at:  104|Elapsed Time: 0:00:01||"
     ]
    },
    {
     "name": "stderr",
     "output_type": "stream",
     "text": [
      "\r",
      "Episode 1|Iteration 113|reward: 1044.0|last_reward_at:  104|Elapsed Time: 0:00:01||"
     ]
    },
    {
     "name": "stderr",
     "output_type": "stream",
     "text": [
      "\r",
      "Episode 1|Iteration 113|reward: 1044.0|last_reward_at:  113|Elapsed Time: 0:00:01||"
     ]
    },
    {
     "name": "stderr",
     "output_type": "stream",
     "text": [
      "\r",
      "Episode 1|Iteration 118|reward: 1044.0|last_reward_at:  113|Elapsed Time: 0:00:01||"
     ]
    },
    {
     "name": "stderr",
     "output_type": "stream",
     "text": [
      "\r",
      "Episode 1|Iteration 119|reward: 1052.0|last_reward_at:  113|Elapsed Time: 0:00:01||"
     ]
    },
    {
     "name": "stderr",
     "output_type": "stream",
     "text": [
      "\r",
      "Episode 1|Iteration 119|reward: 1052.0|last_reward_at:  119|Elapsed Time: 0:00:01||"
     ]
    },
    {
     "name": "stderr",
     "output_type": "stream",
     "text": [
      "\r",
      "Episode 1|Iteration 123|reward: 1054.0|last_reward_at:  119|Elapsed Time: 0:00:01||"
     ]
    },
    {
     "name": "stderr",
     "output_type": "stream",
     "text": [
      "\r",
      "Episode 1|Iteration 123|reward: 1054.0|last_reward_at:  123|Elapsed Time: 0:00:01||"
     ]
    },
    {
     "name": "stderr",
     "output_type": "stream",
     "text": [
      "\r",
      "Episode 1|Iteration 128|reward: 1056.0|last_reward_at:  123|Elapsed Time: 0:00:01||"
     ]
    },
    {
     "name": "stderr",
     "output_type": "stream",
     "text": [
      "\r",
      "Episode 1|Iteration 128|reward: 1056.0|last_reward_at:  128|Elapsed Time: 0:00:01||"
     ]
    },
    {
     "name": "stderr",
     "output_type": "stream",
     "text": [
      "\r",
      "Episode 1|Iteration 129|reward: 1058.0|last_reward_at:  128|Elapsed Time: 0:00:01||"
     ]
    },
    {
     "name": "stderr",
     "output_type": "stream",
     "text": [
      "\r",
      "Episode 1|Iteration 129|reward: 1058.0|last_reward_at:  129|Elapsed Time: 0:00:01||"
     ]
    },
    {
     "name": "stderr",
     "output_type": "stream",
     "text": [
      "\r",
      "Episode 1|Iteration 131|reward: 1060.0|last_reward_at:  129|Elapsed Time: 0:00:01||"
     ]
    },
    {
     "name": "stderr",
     "output_type": "stream",
     "text": [
      "\r",
      "Episode 1|Iteration 131|reward: 1060.0|last_reward_at:  131|Elapsed Time: 0:00:01||"
     ]
    },
    {
     "name": "stderr",
     "output_type": "stream",
     "text": [
      "\r",
      "Episode 1|Iteration 137|reward: 1060.0|last_reward_at:  131|Elapsed Time: 0:00:01||"
     ]
    },
    {
     "name": "stderr",
     "output_type": "stream",
     "text": [
      "\r",
      "Episode 1|Iteration 140|reward: 1066.0|last_reward_at:  131|Elapsed Time: 0:00:01||"
     ]
    },
    {
     "name": "stderr",
     "output_type": "stream",
     "text": [
      "\r",
      "Episode 1|Iteration 140|reward: 1066.0|last_reward_at:  140|Elapsed Time: 0:00:01||"
     ]
    },
    {
     "name": "stderr",
     "output_type": "stream",
     "text": [
      "\r",
      "Episode 1|Iteration 145|reward: 1066.0|last_reward_at:  140|Elapsed Time: 0:00:02||"
     ]
    },
    {
     "name": "stderr",
     "output_type": "stream",
     "text": [
      "\r",
      "Episode 1|Iteration 151|reward: 1066.0|last_reward_at:  140|Elapsed Time: 0:00:02||"
     ]
    },
    {
     "name": "stderr",
     "output_type": "stream",
     "text": [
      "\r",
      "Episode 1|Iteration 154|reward: 1068.0|last_reward_at:  140|Elapsed Time: 0:00:02||"
     ]
    },
    {
     "name": "stderr",
     "output_type": "stream",
     "text": [
      "\r",
      "Episode 1|Iteration 154|reward: 1068.0|last_reward_at:  154|Elapsed Time: 0:00:02||"
     ]
    },
    {
     "name": "stderr",
     "output_type": "stream",
     "text": [
      "\r",
      "Episode 1|Iteration 160|reward: 1068.0|last_reward_at:  154|Elapsed Time: 0:00:02||"
     ]
    },
    {
     "name": "stderr",
     "output_type": "stream",
     "text": [
      "\r",
      "Episode 1|Iteration 165|reward: 1074.0|last_reward_at:  154|Elapsed Time: 0:00:02||"
     ]
    },
    {
     "name": "stderr",
     "output_type": "stream",
     "text": [
      "\r",
      "Episode 1|Iteration 165|reward: 1074.0|last_reward_at:  165|Elapsed Time: 0:00:02||"
     ]
    },
    {
     "name": "stderr",
     "output_type": "stream",
     "text": [
      "\r",
      "Episode 1|Iteration 172|reward: 1074.0|last_reward_at:  165|Elapsed Time: 0:00:02||"
     ]
    },
    {
     "name": "stderr",
     "output_type": "stream",
     "text": [
      "\r",
      "Episode 1|Iteration 173|reward: 1080.0|last_reward_at:  165|Elapsed Time: 0:00:02||"
     ]
    },
    {
     "name": "stderr",
     "output_type": "stream",
     "text": [
      "\r",
      "Episode 1|Iteration 173|reward: 1080.0|last_reward_at:  173|Elapsed Time: 0:00:02||"
     ]
    },
    {
     "name": "stderr",
     "output_type": "stream",
     "text": [
      "\r",
      "Episode 1|Iteration 176|reward: 1086.0|last_reward_at:  173|Elapsed Time: 0:00:02||"
     ]
    },
    {
     "name": "stderr",
     "output_type": "stream",
     "text": [
      "\r",
      "Episode 1|Iteration 176|reward: 1086.0|last_reward_at:  176|Elapsed Time: 0:00:02||"
     ]
    },
    {
     "name": "stderr",
     "output_type": "stream",
     "text": [
      "\r",
      "Episode 1|Iteration 178|reward: 1092.0|last_reward_at:  176|Elapsed Time: 0:00:02||"
     ]
    },
    {
     "name": "stderr",
     "output_type": "stream",
     "text": [
      "\r",
      "Episode 1|Iteration 178|reward: 1092.0|last_reward_at:  178|Elapsed Time: 0:00:02||"
     ]
    },
    {
     "name": "stderr",
     "output_type": "stream",
     "text": [
      "\r",
      "Episode 1|Iteration 183|reward: 1092.0|last_reward_at:  178|Elapsed Time: 0:00:02||"
     ]
    },
    {
     "name": "stderr",
     "output_type": "stream",
     "text": [
      "\r",
      "Episode 1|Iteration 183|reward: 1094.0|last_reward_at:  178|Elapsed Time: 0:00:02||"
     ]
    },
    {
     "name": "stderr",
     "output_type": "stream",
     "text": [
      "\r",
      "Episode 1|Iteration 183|reward: 1094.0|last_reward_at:  183|Elapsed Time: 0:00:02||"
     ]
    },
    {
     "name": "stderr",
     "output_type": "stream",
     "text": [
      "\r",
      "Episode 1|Iteration 185|reward: 1100.0|last_reward_at:  183|Elapsed Time: 0:00:02||"
     ]
    },
    {
     "name": "stderr",
     "output_type": "stream",
     "text": [
      "\r",
      "Episode 1|Iteration 185|reward: 1100.0|last_reward_at:  185|Elapsed Time: 0:00:02||"
     ]
    },
    {
     "name": "stderr",
     "output_type": "stream",
     "text": [
      "\r",
      "Episode 1|Iteration 190|reward: 1100.0|last_reward_at:  185|Elapsed Time: 0:00:02||"
     ]
    },
    {
     "name": "stderr",
     "output_type": "stream",
     "text": [
      "\r",
      "Episode 1|Iteration 196|reward: 1100.0|last_reward_at:  185|Elapsed Time: 0:00:02||"
     ]
    },
    {
     "name": "stderr",
     "output_type": "stream",
     "text": [
      "\r",
      "Episode 1|Iteration 203|reward: 1100.0|last_reward_at:  185|Elapsed Time: 0:00:02||"
     ]
    },
    {
     "name": "stderr",
     "output_type": "stream",
     "text": [
      "\r",
      "Episode 1|Iteration 211|reward: 1100.0|last_reward_at:  185|Elapsed Time: 0:00:03||"
     ]
    },
    {
     "name": "stderr",
     "output_type": "stream",
     "text": [
      "\r",
      "Episode 1|Iteration 219|reward: 1100.0|last_reward_at:  185|Elapsed Time: 0:00:03||"
     ]
    },
    {
     "name": "stderr",
     "output_type": "stream",
     "text": [
      "\r",
      "Episode 1|Iteration 226|reward: 1100.0|last_reward_at:  185|Elapsed Time: 0:00:03||"
     ]
    },
    {
     "name": "stderr",
     "output_type": "stream",
     "text": [
      "\r",
      "Episode 1|Iteration 233|reward: 1100.0|last_reward_at:  185|Elapsed Time: 0:00:03||"
     ]
    },
    {
     "name": "stderr",
     "output_type": "stream",
     "text": [
      "\r",
      "Episode 1|Iteration 240|reward: 1100.0|last_reward_at:  185|Elapsed Time: 0:00:03||"
     ]
    },
    {
     "name": "stderr",
     "output_type": "stream",
     "text": [
      "\r",
      "Episode 1|Iteration 243|reward: 1102.0|last_reward_at:  185|Elapsed Time: 0:00:03||"
     ]
    },
    {
     "name": "stderr",
     "output_type": "stream",
     "text": [
      "\r",
      "Episode 1|Iteration 243|reward: 1102.0|last_reward_at:  243|Elapsed Time: 0:00:03||"
     ]
    },
    {
     "name": "stderr",
     "output_type": "stream",
     "text": [
      "\r",
      "Episode 1|Iteration 250|reward: 1102.0|last_reward_at:  243|Elapsed Time: 0:00:03||"
     ]
    },
    {
     "name": "stderr",
     "output_type": "stream",
     "text": [
      "\r",
      "Episode 1|Iteration 251|reward: 1108.0|last_reward_at:  243|Elapsed Time: 0:00:03||"
     ]
    },
    {
     "name": "stderr",
     "output_type": "stream",
     "text": [
      "\r",
      "Episode 1|Iteration 251|reward: 1108.0|last_reward_at:  251|Elapsed Time: 0:00:03||"
     ]
    },
    {
     "name": "stderr",
     "output_type": "stream",
     "text": [
      "\r",
      "Episode 1|Iteration 257|reward: 1108.0|last_reward_at:  251|Elapsed Time: 0:00:03||"
     ]
    },
    {
     "name": "stderr",
     "output_type": "stream",
     "text": [
      "\r",
      "Episode 1|Iteration 264|reward: 1108.0|last_reward_at:  251|Elapsed Time: 0:00:03||"
     ]
    },
    {
     "name": "stderr",
     "output_type": "stream",
     "text": [
      "\r",
      "Episode 1|Iteration 271|reward: 1108.0|last_reward_at:  251|Elapsed Time: 0:00:04||"
     ]
    },
    {
     "name": "stderr",
     "output_type": "stream",
     "text": [
      "\r",
      "Episode 1|Iteration 276|reward: 1108.0|last_reward_at:  251|Elapsed Time: 0:00:04||"
     ]
    },
    {
     "name": "stderr",
     "output_type": "stream",
     "text": [
      "\r",
      "Episode 1|Iteration 282|reward: 1108.0|last_reward_at:  251|Elapsed Time: 0:00:04||"
     ]
    },
    {
     "name": "stderr",
     "output_type": "stream",
     "text": [
      "\r",
      "Episode 1|Iteration 288|reward: 1108.0|last_reward_at:  251|Elapsed Time: 0:00:04||"
     ]
    },
    {
     "name": "stderr",
     "output_type": "stream",
     "text": [
      "\r",
      "Episode 1|Iteration 295|reward: 1108.0|last_reward_at:  251|Elapsed Time: 0:00:04||"
     ]
    },
    {
     "name": "stderr",
     "output_type": "stream",
     "text": [
      "\r",
      "Episode 1|Iteration 301|reward: 1108.0|last_reward_at:  251|Elapsed Time: 0:00:04||"
     ]
    },
    {
     "name": "stderr",
     "output_type": "stream",
     "text": [
      "\r",
      "Episode 1|Iteration 308|reward: 1108.0|last_reward_at:  251|Elapsed Time: 0:00:04||"
     ]
    },
    {
     "name": "stderr",
     "output_type": "stream",
     "text": [
      "\r",
      "Episode 1|Iteration 312|reward: 1108.0|last_reward_at:  251|Elapsed Time: 0:00:04||"
     ]
    },
    {
     "name": "stderr",
     "output_type": "stream",
     "text": [
      "\r",
      "Episode 1|Iteration 318|reward: 1108.0|last_reward_at:  251|Elapsed Time: 0:00:04||"
     ]
    },
    {
     "name": "stderr",
     "output_type": "stream",
     "text": [
      "\r",
      "Episode 1|Iteration 324|reward: 1108.0|last_reward_at:  251|Elapsed Time: 0:00:04||"
     ]
    },
    {
     "name": "stderr",
     "output_type": "stream",
     "text": [
      "\r",
      "Episode 1|Iteration 330|reward: 1108.0|last_reward_at:  251|Elapsed Time: 0:00:05||"
     ]
    },
    {
     "name": "stderr",
     "output_type": "stream",
     "text": [
      "\r",
      "Episode 1|Iteration 335|reward: 1108.0|last_reward_at:  251|Elapsed Time: 0:00:05||"
     ]
    },
    {
     "name": "stderr",
     "output_type": "stream",
     "text": [
      "\r",
      "Episode 1|Iteration 341|reward: 1108.0|last_reward_at:  251|Elapsed Time: 0:00:05||"
     ]
    },
    {
     "name": "stderr",
     "output_type": "stream",
     "text": [
      "\r",
      "Episode 1|Iteration 348|reward: 1108.0|last_reward_at:  251|Elapsed Time: 0:00:05||"
     ]
    },
    {
     "name": "stderr",
     "output_type": "stream",
     "text": [
      "\r",
      "Episode 1|Iteration 354|reward: 1108.0|last_reward_at:  251|Elapsed Time: 0:00:05||"
     ]
    },
    {
     "name": "stderr",
     "output_type": "stream",
     "text": [
      "\r",
      "Episode 1|Iteration 355|reward: 1110.0|last_reward_at:  251|Elapsed Time: 0:00:05||"
     ]
    },
    {
     "name": "stderr",
     "output_type": "stream",
     "text": [
      "\r",
      "Episode 1|Iteration 355|reward: 1110.0|last_reward_at:  355|Elapsed Time: 0:00:05||"
     ]
    },
    {
     "name": "stderr",
     "output_type": "stream",
     "text": [
      "\r",
      "Episode 1|Iteration 362|reward: 1110.0|last_reward_at:  355|Elapsed Time: 0:00:05||"
     ]
    },
    {
     "name": "stderr",
     "output_type": "stream",
     "text": [
      "\r",
      "Episode 1|Iteration 371|reward: 1110.0|last_reward_at:  355|Elapsed Time: 0:00:05||"
     ]
    },
    {
     "name": "stderr",
     "output_type": "stream",
     "text": [
      "\r",
      "Episode 1|Iteration 380|reward: 1110.0|last_reward_at:  355|Elapsed Time: 0:00:05||"
     ]
    },
    {
     "name": "stderr",
     "output_type": "stream",
     "text": [
      "\r",
      "Episode 1|Iteration 386|reward: 1110.0|last_reward_at:  355|Elapsed Time: 0:00:05||"
     ]
    },
    {
     "name": "stderr",
     "output_type": "stream",
     "text": [
      "\r",
      "Episode 1|Iteration 392|reward: 1110.0|last_reward_at:  355|Elapsed Time: 0:00:05||"
     ]
    },
    {
     "name": "stderr",
     "output_type": "stream",
     "text": [
      "\r",
      "Episode 1|Iteration 399|reward: 1110.0|last_reward_at:  355|Elapsed Time: 0:00:06||"
     ]
    },
    {
     "name": "stderr",
     "output_type": "stream",
     "text": [
      "\r",
      "Episode 1|Iteration 405|reward: 1110.0|last_reward_at:  355|Elapsed Time: 0:00:06||"
     ]
    },
    {
     "name": "stderr",
     "output_type": "stream",
     "text": [
      "\r",
      "Episode 1|Iteration 411|reward: 1110.0|last_reward_at:  355|Elapsed Time: 0:00:06||"
     ]
    },
    {
     "name": "stderr",
     "output_type": "stream",
     "text": [
      "\r",
      "Episode 1|Iteration 417|reward: 1110.0|last_reward_at:  355|Elapsed Time: 0:00:06||"
     ]
    },
    {
     "name": "stderr",
     "output_type": "stream",
     "text": [
      "\r",
      "Episode 1|Iteration 423|reward: 1110.0|last_reward_at:  355|Elapsed Time: 0:00:06||"
     ]
    },
    {
     "name": "stderr",
     "output_type": "stream",
     "text": [
      "\r",
      "Episode 1|Iteration 429|reward: 1110.0|last_reward_at:  355|Elapsed Time: 0:00:06||"
     ]
    },
    {
     "name": "stderr",
     "output_type": "stream",
     "text": [
      "\r",
      "Episode 1|Iteration 436|reward: 1110.0|last_reward_at:  355|Elapsed Time: 0:00:06||"
     ]
    },
    {
     "name": "stderr",
     "output_type": "stream",
     "text": [
      "\r",
      "Episode 1|Iteration 441|reward: 1110.0|last_reward_at:  355|Elapsed Time: 0:00:06||"
     ]
    },
    {
     "name": "stderr",
     "output_type": "stream",
     "text": [
      "\r",
      "Episode 1|Iteration 447|reward: 1110.0|last_reward_at:  355|Elapsed Time: 0:00:06||"
     ]
    },
    {
     "name": "stderr",
     "output_type": "stream",
     "text": [
      "\r",
      "Episode 1|Iteration 454|reward: 1110.0|last_reward_at:  355|Elapsed Time: 0:00:07||"
     ]
    },
    {
     "name": "stderr",
     "output_type": "stream",
     "text": [
      "\r",
      "Episode 1|Iteration 461|reward: 1110.0|last_reward_at:  355|Elapsed Time: 0:00:07||"
     ]
    },
    {
     "name": "stderr",
     "output_type": "stream",
     "text": [
      "\r",
      "Episode 1|Iteration 469|reward: 1110.0|last_reward_at:  355|Elapsed Time: 0:00:07||"
     ]
    },
    {
     "name": "stderr",
     "output_type": "stream",
     "text": [
      "\r",
      "Episode 1|Iteration 475|reward: 1210.0|last_reward_at:  355|Elapsed Time: 0:00:07||"
     ]
    },
    {
     "name": "stderr",
     "output_type": "stream",
     "text": [
      "\r",
      "Episode 1|Iteration 475|reward: 1210.0|last_reward_at:  475|Elapsed Time: 0:00:07||"
     ]
    },
    {
     "name": "stderr",
     "output_type": "stream",
     "text": [
      "\r",
      "Episode 1|Iteration 476|reward: 1219.0|last_reward_at:  475|Elapsed Time: 0:00:07||"
     ]
    },
    {
     "name": "stderr",
     "output_type": "stream",
     "text": [
      "\r",
      "Episode 1|Iteration 476|reward: 1219.0|last_reward_at:  476|Elapsed Time: 0:00:07||"
     ]
    },
    {
     "name": "stderr",
     "output_type": "stream",
     "text": [
      "\r",
      "Episode 1|Iteration 477|reward: 1225.0|last_reward_at:  476|Elapsed Time: 0:00:07||"
     ]
    },
    {
     "name": "stderr",
     "output_type": "stream",
     "text": [
      "\r",
      "Episode 1|Iteration 477|reward: 1225.0|last_reward_at:  477|Elapsed Time: 0:00:07||"
     ]
    },
    {
     "name": "stderr",
     "output_type": "stream",
     "text": [
      "\r",
      "Episode 1|Iteration 487|reward: 1225.0|last_reward_at:  477|Elapsed Time: 0:00:07||"
     ]
    },
    {
     "name": "stderr",
     "output_type": "stream",
     "text": [
      "\r",
      "Episode 1|Iteration 494|reward: 1225.0|last_reward_at:  477|Elapsed Time: 0:00:07||"
     ]
    },
    {
     "name": "stderr",
     "output_type": "stream",
     "text": [
      "\r",
      "Episode 1|Iteration 502|reward: 1225.0|last_reward_at:  477|Elapsed Time: 0:00:07||"
     ]
    },
    {
     "name": "stderr",
     "output_type": "stream",
     "text": [
      "\r",
      "Episode 1|Iteration 509|reward: 1225.0|last_reward_at:  477|Elapsed Time: 0:00:07||"
     ]
    },
    {
     "name": "stderr",
     "output_type": "stream",
     "text": [
      "\r",
      "Episode 1|Iteration 516|reward: 1225.0|last_reward_at:  477|Elapsed Time: 0:00:07||"
     ]
    },
    {
     "name": "stderr",
     "output_type": "stream",
     "text": [
      "\r",
      "Episode 1|Iteration 524|reward: 1225.0|last_reward_at:  477|Elapsed Time: 0:00:07||"
     ]
    },
    {
     "name": "stderr",
     "output_type": "stream",
     "text": [
      "\r",
      "Episode 1|Iteration 532|reward: 1225.0|last_reward_at:  477|Elapsed Time: 0:00:07||"
     ]
    },
    {
     "name": "stderr",
     "output_type": "stream",
     "text": [
      "\r",
      "Episode 1|Iteration 538|reward: 1225.0|last_reward_at:  477|Elapsed Time: 0:00:08||"
     ]
    },
    {
     "name": "stderr",
     "output_type": "stream",
     "text": [
      "\r",
      "Episode 1|Iteration 545|reward: 1225.0|last_reward_at:  477|Elapsed Time: 0:00:08||"
     ]
    },
    {
     "name": "stderr",
     "output_type": "stream",
     "text": [
      "\r",
      "Episode 1|Iteration 553|reward: 1225.0|last_reward_at:  477|Elapsed Time: 0:00:08||"
     ]
    },
    {
     "name": "stderr",
     "output_type": "stream",
     "text": [
      "\r",
      "Episode 1|Iteration 563|reward: 1225.0|last_reward_at:  477|Elapsed Time: 0:00:08||"
     ]
    },
    {
     "name": "stderr",
     "output_type": "stream",
     "text": [
      "\r",
      "Episode 1|Iteration 570|reward: 1225.0|last_reward_at:  477|Elapsed Time: 0:00:08||"
     ]
    },
    {
     "name": "stderr",
     "output_type": "stream",
     "text": [
      "\r",
      "Episode 1|Iteration 576|reward: 1225.0|last_reward_at:  477|Elapsed Time: 0:00:08||"
     ]
    },
    {
     "name": "stderr",
     "output_type": "stream",
     "text": [
      "\r",
      "Episode 1|Iteration 585|reward: 1225.0|last_reward_at:  477|Elapsed Time: 0:00:08||"
     ]
    },
    {
     "name": "stderr",
     "output_type": "stream",
     "text": [
      "\r",
      "Episode 1|Iteration 593|reward: 1225.0|last_reward_at:  477|Elapsed Time: 0:00:08||"
     ]
    },
    {
     "name": "stderr",
     "output_type": "stream",
     "text": [
      "\r",
      "Episode 1|Iteration 599|reward: 1225.0|last_reward_at:  477|Elapsed Time: 0:00:08||"
     ]
    },
    {
     "name": "stderr",
     "output_type": "stream",
     "text": [
      "\r",
      "Episode 1|Iteration 600|reward: 1225.0|last_reward_at:  477|Elapsed Time: 0:00:08||"
     ]
    },
    {
     "name": "stderr",
     "output_type": "stream",
     "text": [
      "\n"
     ]
    },
    {
     "name": "stdout",
     "output_type": "stream",
     "text": [
      "  Episode 1 stopped at t=600 \n",
      "  Breakdown [Reward/NoReward (Success rate)]\n",
      "    explore-local: 0/33 (0.00)\n",
      "    explore-remote: 17/153 (0.10)\n",
      "    explore-connect: 0/173 (0.00)\n",
      "    exploit-local: 18/62 (0.23)\n",
      "    exploit-remote: 3/36 (0.08)\n",
      "    exploit-connect: 10/95 (0.10)\n",
      "  exploit deflected to exploration: 376\n",
      "  ## Episode: 2/10 'Exploiting DQL' ϵ=0.0000, γ=0.15, lr=0.01, replaymemory=10000,\n",
      "batch=256, target_update=5\n"
     ]
    },
    {
     "name": "stderr",
     "output_type": "stream",
     "text": [
      "\r",
      "Episode 2|Iteration 0|reward: ------|last_reward_at: ----|Elapsed Time: 0:00:00||"
     ]
    },
    {
     "name": "stderr",
     "output_type": "stream",
     "text": [
      "\r",
      "Episode 2|Iteration 1|reward:    9.0|last_reward_at: ----|Elapsed Time: 0:00:00||"
     ]
    },
    {
     "name": "stderr",
     "output_type": "stream",
     "text": [
      "\r",
      "Episode 2|Iteration 1|reward:    9.0|last_reward_at:    1|Elapsed Time: 0:00:00||"
     ]
    },
    {
     "name": "stderr",
     "output_type": "stream",
     "text": [
      "\r",
      "Episode 2|Iteration 2|reward:  109.0|last_reward_at:    1|Elapsed Time: 0:00:00||"
     ]
    },
    {
     "name": "stderr",
     "output_type": "stream",
     "text": [
      "\r",
      "Episode 2|Iteration 2|reward:  109.0|last_reward_at:    2|Elapsed Time: 0:00:00||"
     ]
    },
    {
     "name": "stderr",
     "output_type": "stream",
     "text": [
      "\r",
      "Episode 2|Iteration 4|reward:  118.0|last_reward_at:    2|Elapsed Time: 0:00:00||"
     ]
    },
    {
     "name": "stderr",
     "output_type": "stream",
     "text": [
      "\r",
      "Episode 2|Iteration 4|reward:  118.0|last_reward_at:    4|Elapsed Time: 0:00:00||"
     ]
    },
    {
     "name": "stderr",
     "output_type": "stream",
     "text": [
      "\r",
      "Episode 2|Iteration 6|reward:  124.0|last_reward_at:    4|Elapsed Time: 0:00:00||"
     ]
    },
    {
     "name": "stderr",
     "output_type": "stream",
     "text": [
      "\r",
      "Episode 2|Iteration 6|reward:  124.0|last_reward_at:    6|Elapsed Time: 0:00:00||"
     ]
    },
    {
     "name": "stderr",
     "output_type": "stream",
     "text": [
      "\r",
      "Episode 2|Iteration 7|reward:  224.0|last_reward_at:    6|Elapsed Time: 0:00:00||"
     ]
    },
    {
     "name": "stderr",
     "output_type": "stream",
     "text": [
      "\r",
      "Episode 2|Iteration 7|reward:  224.0|last_reward_at:    7|Elapsed Time: 0:00:00||"
     ]
    },
    {
     "name": "stderr",
     "output_type": "stream",
     "text": [
      "\r",
      "Episode 2|Iteration 8|reward:  230.0|last_reward_at:    7|Elapsed Time: 0:00:00||"
     ]
    },
    {
     "name": "stderr",
     "output_type": "stream",
     "text": [
      "\r",
      "Episode 2|Iteration 8|reward:  230.0|last_reward_at:    8|Elapsed Time: 0:00:00||"
     ]
    },
    {
     "name": "stderr",
     "output_type": "stream",
     "text": [
      "\r",
      "Episode 2|Iteration 9|reward:  239.0|last_reward_at:    8|Elapsed Time: 0:00:00||"
     ]
    },
    {
     "name": "stderr",
     "output_type": "stream",
     "text": [
      "\r",
      "Episode 2|Iteration 9|reward:  239.0|last_reward_at:    9|Elapsed Time: 0:00:00||"
     ]
    },
    {
     "name": "stderr",
     "output_type": "stream",
     "text": [
      "\r",
      "Episode 2|Iteration 10|reward:  339.0|last_reward_at:    9|Elapsed Time: 0:00:00||"
     ]
    },
    {
     "name": "stderr",
     "output_type": "stream",
     "text": [
      "\r",
      "Episode 2|Iteration 10|reward:  339.0|last_reward_at:   10|Elapsed Time: 0:00:00||"
     ]
    },
    {
     "name": "stderr",
     "output_type": "stream",
     "text": [
      "\r",
      "Episode 2|Iteration 11|reward:  348.0|last_reward_at:   10|Elapsed Time: 0:00:00||"
     ]
    },
    {
     "name": "stderr",
     "output_type": "stream",
     "text": [
      "\r",
      "Episode 2|Iteration 11|reward:  348.0|last_reward_at:   11|Elapsed Time: 0:00:00||"
     ]
    },
    {
     "name": "stderr",
     "output_type": "stream",
     "text": [
      "\r",
      "Episode 2|Iteration 12|reward:  448.0|last_reward_at:   11|Elapsed Time: 0:00:00||"
     ]
    },
    {
     "name": "stderr",
     "output_type": "stream",
     "text": [
      "\r",
      "Episode 2|Iteration 12|reward:  448.0|last_reward_at:   12|Elapsed Time: 0:00:00||"
     ]
    },
    {
     "name": "stderr",
     "output_type": "stream",
     "text": [
      "\r",
      "Episode 2|Iteration 13|reward:  454.0|last_reward_at:   12|Elapsed Time: 0:00:00||"
     ]
    },
    {
     "name": "stderr",
     "output_type": "stream",
     "text": [
      "\r",
      "Episode 2|Iteration 13|reward:  454.0|last_reward_at:   13|Elapsed Time: 0:00:00||"
     ]
    },
    {
     "name": "stderr",
     "output_type": "stream",
     "text": [
      "\r",
      "Episode 2|Iteration 14|reward:  463.0|last_reward_at:   13|Elapsed Time: 0:00:00||"
     ]
    },
    {
     "name": "stderr",
     "output_type": "stream",
     "text": [
      "\r",
      "Episode 2|Iteration 14|reward:  463.0|last_reward_at:   14|Elapsed Time: 0:00:00||"
     ]
    },
    {
     "name": "stderr",
     "output_type": "stream",
     "text": [
      "\r",
      "Episode 2|Iteration 16|reward:  563.0|last_reward_at:   14|Elapsed Time: 0:00:00||"
     ]
    },
    {
     "name": "stderr",
     "output_type": "stream",
     "text": [
      "\r",
      "Episode 2|Iteration 16|reward:  563.0|last_reward_at:   16|Elapsed Time: 0:00:00||"
     ]
    },
    {
     "name": "stderr",
     "output_type": "stream",
     "text": [
      "\r",
      "Episode 2|Iteration 21|reward:  572.0|last_reward_at:   16|Elapsed Time: 0:00:00||"
     ]
    },
    {
     "name": "stderr",
     "output_type": "stream",
     "text": [
      "\r",
      "Episode 2|Iteration 21|reward:  572.0|last_reward_at:   21|Elapsed Time: 0:00:00||"
     ]
    },
    {
     "name": "stderr",
     "output_type": "stream",
     "text": [
      "\r",
      "Episode 2|Iteration 22|reward:  672.0|last_reward_at:   21|Elapsed Time: 0:00:00||"
     ]
    },
    {
     "name": "stderr",
     "output_type": "stream",
     "text": [
      "\r",
      "Episode 2|Iteration 22|reward:  672.0|last_reward_at:   22|Elapsed Time: 0:00:00||"
     ]
    },
    {
     "name": "stderr",
     "output_type": "stream",
     "text": [
      "\r",
      "Episode 2|Iteration 26|reward:  678.0|last_reward_at:   22|Elapsed Time: 0:00:00||"
     ]
    },
    {
     "name": "stderr",
     "output_type": "stream",
     "text": [
      "\r",
      "Episode 2|Iteration 26|reward:  678.0|last_reward_at:   26|Elapsed Time: 0:00:00||"
     ]
    },
    {
     "name": "stderr",
     "output_type": "stream",
     "text": [
      "\r",
      "Episode 2|Iteration 31|reward:  687.0|last_reward_at:   26|Elapsed Time: 0:00:00||"
     ]
    },
    {
     "name": "stderr",
     "output_type": "stream",
     "text": [
      "\r",
      "Episode 2|Iteration 31|reward:  687.0|last_reward_at:   31|Elapsed Time: 0:00:00||"
     ]
    },
    {
     "name": "stderr",
     "output_type": "stream",
     "text": [
      "\r",
      "Episode 2|Iteration 32|reward:  787.0|last_reward_at:   31|Elapsed Time: 0:00:00||"
     ]
    },
    {
     "name": "stderr",
     "output_type": "stream",
     "text": [
      "\r",
      "Episode 2|Iteration 32|reward:  787.0|last_reward_at:   32|Elapsed Time: 0:00:00||"
     ]
    },
    {
     "name": "stderr",
     "output_type": "stream",
     "text": [
      "\r",
      "Episode 2|Iteration 38|reward:  787.0|last_reward_at:   32|Elapsed Time: 0:00:00||"
     ]
    },
    {
     "name": "stderr",
     "output_type": "stream",
     "text": [
      "\r",
      "Episode 2|Iteration 38|reward:  796.0|last_reward_at:   32|Elapsed Time: 0:00:00||"
     ]
    },
    {
     "name": "stderr",
     "output_type": "stream",
     "text": [
      "\r",
      "Episode 2|Iteration 38|reward:  796.0|last_reward_at:   38|Elapsed Time: 0:00:00||"
     ]
    },
    {
     "name": "stderr",
     "output_type": "stream",
     "text": [
      "\r",
      "Episode 2|Iteration 39|reward:  896.0|last_reward_at:   38|Elapsed Time: 0:00:00||"
     ]
    },
    {
     "name": "stderr",
     "output_type": "stream",
     "text": [
      "\r",
      "Episode 2|Iteration 39|reward:  896.0|last_reward_at:   39|Elapsed Time: 0:00:00||"
     ]
    },
    {
     "name": "stderr",
     "output_type": "stream",
     "text": [
      "\r",
      "Episode 2|Iteration 42|reward:  905.0|last_reward_at:   39|Elapsed Time: 0:00:00||"
     ]
    },
    {
     "name": "stderr",
     "output_type": "stream",
     "text": [
      "\r",
      "Episode 2|Iteration 42|reward:  905.0|last_reward_at:   42|Elapsed Time: 0:00:00||"
     ]
    },
    {
     "name": "stderr",
     "output_type": "stream",
     "text": [
      "\r",
      "Episode 2|Iteration 43|reward: 1005.0|last_reward_at:   42|Elapsed Time: 0:00:00||"
     ]
    },
    {
     "name": "stderr",
     "output_type": "stream",
     "text": [
      "\r",
      "Episode 2|Iteration 43|reward: 1005.0|last_reward_at:   43|Elapsed Time: 0:00:00||"
     ]
    },
    {
     "name": "stderr",
     "output_type": "stream",
     "text": [
      "\r",
      "Episode 2|Iteration 51|reward: 6005.0|last_reward_at:   43|Elapsed Time: 0:00:00||"
     ]
    },
    {
     "name": "stderr",
     "output_type": "stream",
     "text": [
      "\r",
      "Episode 2|Iteration 51|reward: 6005.0|last_reward_at:   51|Elapsed Time: 0:00:00||"
     ]
    },
    {
     "name": "stderr",
     "output_type": "stream",
     "text": [
      "\n"
     ]
    },
    {
     "name": "stdout",
     "output_type": "stream",
     "text": [
      "  Episode 2 ended at t=51 \n",
      "  Breakdown [Reward/NoReward (Success rate)]\n",
      "    explore-local: 0/0 (NaN)\n",
      "    explore-remote: 0/0 (NaN)\n",
      "    explore-connect: 0/1 (0.00)\n",
      "    exploit-local: 13/0 (1.00)\n",
      "    exploit-remote: 0/0 (NaN)\n",
      "    exploit-connect: 10/27 (0.27)\n",
      "  exploit deflected to exploration: 1\n",
      "  ## Episode: 3/10 'Exploiting DQL' ϵ=0.0000, γ=0.15, lr=0.01, replaymemory=10000,\n",
      "batch=256, target_update=5\n"
     ]
    },
    {
     "name": "stderr",
     "output_type": "stream",
     "text": [
      "\r",
      "Episode 3|Iteration 0|reward: ------|last_reward_at: ----|Elapsed Time: 0:00:00||"
     ]
    },
    {
     "name": "stderr",
     "output_type": "stream",
     "text": [
      "\r",
      "Episode 3|Iteration 1|reward:    9.0|last_reward_at: ----|Elapsed Time: 0:00:00||"
     ]
    },
    {
     "name": "stderr",
     "output_type": "stream",
     "text": [
      "\r",
      "Episode 3|Iteration 1|reward:    9.0|last_reward_at:    1|Elapsed Time: 0:00:00||"
     ]
    },
    {
     "name": "stderr",
     "output_type": "stream",
     "text": [
      "\r",
      "Episode 3|Iteration 2|reward:  109.0|last_reward_at:    1|Elapsed Time: 0:00:00||"
     ]
    },
    {
     "name": "stderr",
     "output_type": "stream",
     "text": [
      "\r",
      "Episode 3|Iteration 2|reward:  109.0|last_reward_at:    2|Elapsed Time: 0:00:00||"
     ]
    },
    {
     "name": "stderr",
     "output_type": "stream",
     "text": [
      "\r",
      "Episode 3|Iteration 3|reward:  118.0|last_reward_at:    2|Elapsed Time: 0:00:00||"
     ]
    },
    {
     "name": "stderr",
     "output_type": "stream",
     "text": [
      "\r",
      "Episode 3|Iteration 3|reward:  118.0|last_reward_at:    3|Elapsed Time: 0:00:00||"
     ]
    },
    {
     "name": "stderr",
     "output_type": "stream",
     "text": [
      "\r",
      "Episode 3|Iteration 4|reward:  124.0|last_reward_at:    3|Elapsed Time: 0:00:00||"
     ]
    },
    {
     "name": "stderr",
     "output_type": "stream",
     "text": [
      "\r",
      "Episode 3|Iteration 4|reward:  124.0|last_reward_at:    4|Elapsed Time: 0:00:00||"
     ]
    },
    {
     "name": "stderr",
     "output_type": "stream",
     "text": [
      "\r",
      "Episode 3|Iteration 5|reward:  224.0|last_reward_at:    4|Elapsed Time: 0:00:00||"
     ]
    },
    {
     "name": "stderr",
     "output_type": "stream",
     "text": [
      "\r",
      "Episode 3|Iteration 5|reward:  224.0|last_reward_at:    5|Elapsed Time: 0:00:00||"
     ]
    },
    {
     "name": "stderr",
     "output_type": "stream",
     "text": [
      "\r",
      "Episode 3|Iteration 6|reward:  233.0|last_reward_at:    5|Elapsed Time: 0:00:00||"
     ]
    },
    {
     "name": "stderr",
     "output_type": "stream",
     "text": [
      "\r",
      "Episode 3|Iteration 6|reward:  233.0|last_reward_at:    6|Elapsed Time: 0:00:00||"
     ]
    },
    {
     "name": "stderr",
     "output_type": "stream",
     "text": [
      "\r",
      "Episode 3|Iteration 7|reward:  333.0|last_reward_at:    6|Elapsed Time: 0:00:00||"
     ]
    },
    {
     "name": "stderr",
     "output_type": "stream",
     "text": [
      "\r",
      "Episode 3|Iteration 7|reward:  333.0|last_reward_at:    7|Elapsed Time: 0:00:00||"
     ]
    },
    {
     "name": "stderr",
     "output_type": "stream",
     "text": [
      "\r",
      "Episode 3|Iteration 8|reward:  342.0|last_reward_at:    7|Elapsed Time: 0:00:00||"
     ]
    },
    {
     "name": "stderr",
     "output_type": "stream",
     "text": [
      "\r",
      "Episode 3|Iteration 8|reward:  342.0|last_reward_at:    8|Elapsed Time: 0:00:00||"
     ]
    },
    {
     "name": "stderr",
     "output_type": "stream",
     "text": [
      "\r",
      "Episode 3|Iteration 9|reward:  348.0|last_reward_at:    8|Elapsed Time: 0:00:00||"
     ]
    },
    {
     "name": "stderr",
     "output_type": "stream",
     "text": [
      "\r",
      "Episode 3|Iteration 9|reward:  348.0|last_reward_at:    9|Elapsed Time: 0:00:00||"
     ]
    },
    {
     "name": "stderr",
     "output_type": "stream",
     "text": [
      "\r",
      "Episode 3|Iteration 10|reward:  448.0|last_reward_at:    9|Elapsed Time: 0:00:00||"
     ]
    },
    {
     "name": "stderr",
     "output_type": "stream",
     "text": [
      "\r",
      "Episode 3|Iteration 10|reward:  448.0|last_reward_at:   10|Elapsed Time: 0:00:00||"
     ]
    },
    {
     "name": "stderr",
     "output_type": "stream",
     "text": [
      "\r",
      "Episode 3|Iteration 11|reward:  457.0|last_reward_at:   10|Elapsed Time: 0:00:00||"
     ]
    },
    {
     "name": "stderr",
     "output_type": "stream",
     "text": [
      "\r",
      "Episode 3|Iteration 11|reward:  457.0|last_reward_at:   11|Elapsed Time: 0:00:00||"
     ]
    },
    {
     "name": "stderr",
     "output_type": "stream",
     "text": [
      "\r",
      "Episode 3|Iteration 21|reward:  457.0|last_reward_at:   11|Elapsed Time: 0:00:00||"
     ]
    },
    {
     "name": "stderr",
     "output_type": "stream",
     "text": [
      "\r",
      "Episode 3|Iteration 28|reward:  457.0|last_reward_at:   11|Elapsed Time: 0:00:00||"
     ]
    },
    {
     "name": "stderr",
     "output_type": "stream",
     "text": [
      "\r",
      "Episode 3|Iteration 33|reward:  557.0|last_reward_at:   11|Elapsed Time: 0:00:00||"
     ]
    },
    {
     "name": "stderr",
     "output_type": "stream",
     "text": [
      "\r",
      "Episode 3|Iteration 33|reward:  557.0|last_reward_at:   33|Elapsed Time: 0:00:00||"
     ]
    },
    {
     "name": "stderr",
     "output_type": "stream",
     "text": [
      "\r",
      "Episode 3|Iteration 34|reward:  566.0|last_reward_at:   33|Elapsed Time: 0:00:00||"
     ]
    },
    {
     "name": "stderr",
     "output_type": "stream",
     "text": [
      "\r",
      "Episode 3|Iteration 34|reward:  566.0|last_reward_at:   34|Elapsed Time: 0:00:00||"
     ]
    },
    {
     "name": "stderr",
     "output_type": "stream",
     "text": [
      "\r",
      "Episode 3|Iteration 36|reward:  666.0|last_reward_at:   34|Elapsed Time: 0:00:00||"
     ]
    },
    {
     "name": "stderr",
     "output_type": "stream",
     "text": [
      "\r",
      "Episode 3|Iteration 36|reward:  666.0|last_reward_at:   36|Elapsed Time: 0:00:00||"
     ]
    },
    {
     "name": "stderr",
     "output_type": "stream",
     "text": [
      "\r",
      "Episode 3|Iteration 38|reward:  675.0|last_reward_at:   36|Elapsed Time: 0:00:00||"
     ]
    },
    {
     "name": "stderr",
     "output_type": "stream",
     "text": [
      "\r",
      "Episode 3|Iteration 38|reward:  675.0|last_reward_at:   38|Elapsed Time: 0:00:00||"
     ]
    },
    {
     "name": "stderr",
     "output_type": "stream",
     "text": [
      "\r",
      "Episode 3|Iteration 42|reward:  775.0|last_reward_at:   38|Elapsed Time: 0:00:00||"
     ]
    },
    {
     "name": "stderr",
     "output_type": "stream",
     "text": [
      "\r",
      "Episode 3|Iteration 42|reward:  775.0|last_reward_at:   42|Elapsed Time: 0:00:00||"
     ]
    },
    {
     "name": "stderr",
     "output_type": "stream",
     "text": [
      "\r",
      "Episode 3|Iteration 45|reward:  781.0|last_reward_at:   42|Elapsed Time: 0:00:00||"
     ]
    },
    {
     "name": "stderr",
     "output_type": "stream",
     "text": [
      "\r",
      "Episode 3|Iteration 45|reward:  781.0|last_reward_at:   45|Elapsed Time: 0:00:00||"
     ]
    },
    {
     "name": "stderr",
     "output_type": "stream",
     "text": [
      "\r",
      "Episode 3|Iteration 46|reward: 5781.0|last_reward_at:   45|Elapsed Time: 0:00:00||"
     ]
    },
    {
     "name": "stderr",
     "output_type": "stream",
     "text": [
      "\r",
      "Episode 3|Iteration 46|reward: 5781.0|last_reward_at:   46|Elapsed Time: 0:00:00||"
     ]
    },
    {
     "name": "stderr",
     "output_type": "stream",
     "text": [
      "\n"
     ]
    },
    {
     "name": "stdout",
     "output_type": "stream",
     "text": [
      "  Episode 3 ended at t=46 \n",
      "  Breakdown [Reward/NoReward (Success rate)]\n",
      "    explore-local: 0/0 (NaN)\n",
      "    explore-remote: 0/0 (NaN)\n",
      "    explore-connect: 0/0 (NaN)\n",
      "    exploit-local: 10/11 (0.48)\n",
      "    exploit-remote: 1/0 (1.00)\n",
      "    exploit-connect: 7/17 (0.29)\n",
      "  exploit deflected to exploration: 0\n",
      "  ## Episode: 4/10 'Exploiting DQL' ϵ=0.0000, γ=0.15, lr=0.01, replaymemory=10000,\n",
      "batch=256, target_update=5\n"
     ]
    },
    {
     "name": "stderr",
     "output_type": "stream",
     "text": [
      "\r",
      "Episode 4|Iteration 0|reward: ------|last_reward_at: ----|Elapsed Time: 0:00:00||"
     ]
    },
    {
     "name": "stderr",
     "output_type": "stream",
     "text": [
      "\r",
      "Episode 4|Iteration 1|reward:    9.0|last_reward_at: ----|Elapsed Time: 0:00:00||"
     ]
    },
    {
     "name": "stderr",
     "output_type": "stream",
     "text": [
      "\r",
      "Episode 4|Iteration 1|reward:    9.0|last_reward_at:    1|Elapsed Time: 0:00:00||"
     ]
    },
    {
     "name": "stderr",
     "output_type": "stream",
     "text": [
      "\r",
      "Episode 4|Iteration 2|reward:  109.0|last_reward_at:    1|Elapsed Time: 0:00:00||"
     ]
    },
    {
     "name": "stderr",
     "output_type": "stream",
     "text": [
      "\r",
      "Episode 4|Iteration 2|reward:  109.0|last_reward_at:    2|Elapsed Time: 0:00:00||"
     ]
    },
    {
     "name": "stderr",
     "output_type": "stream",
     "text": [
      "\r",
      "Episode 4|Iteration 3|reward:  118.0|last_reward_at:    2|Elapsed Time: 0:00:00||"
     ]
    },
    {
     "name": "stderr",
     "output_type": "stream",
     "text": [
      "\r",
      "Episode 4|Iteration 3|reward:  118.0|last_reward_at:    3|Elapsed Time: 0:00:00||"
     ]
    },
    {
     "name": "stderr",
     "output_type": "stream",
     "text": [
      "\r",
      "Episode 4|Iteration 4|reward:  124.0|last_reward_at:    3|Elapsed Time: 0:00:00||"
     ]
    },
    {
     "name": "stderr",
     "output_type": "stream",
     "text": [
      "\r",
      "Episode 4|Iteration 4|reward:  124.0|last_reward_at:    4|Elapsed Time: 0:00:00||"
     ]
    },
    {
     "name": "stderr",
     "output_type": "stream",
     "text": [
      "\r",
      "Episode 4|Iteration 5|reward:  224.0|last_reward_at:    4|Elapsed Time: 0:00:00||"
     ]
    },
    {
     "name": "stderr",
     "output_type": "stream",
     "text": [
      "\r",
      "Episode 4|Iteration 5|reward:  224.0|last_reward_at:    5|Elapsed Time: 0:00:00||"
     ]
    },
    {
     "name": "stderr",
     "output_type": "stream",
     "text": [
      "\r",
      "Episode 4|Iteration 6|reward:  233.0|last_reward_at:    5|Elapsed Time: 0:00:00||"
     ]
    },
    {
     "name": "stderr",
     "output_type": "stream",
     "text": [
      "\r",
      "Episode 4|Iteration 6|reward:  233.0|last_reward_at:    6|Elapsed Time: 0:00:00||"
     ]
    },
    {
     "name": "stderr",
     "output_type": "stream",
     "text": [
      "\r",
      "Episode 4|Iteration 7|reward:  333.0|last_reward_at:    6|Elapsed Time: 0:00:00||"
     ]
    },
    {
     "name": "stderr",
     "output_type": "stream",
     "text": [
      "\r",
      "Episode 4|Iteration 7|reward:  333.0|last_reward_at:    7|Elapsed Time: 0:00:00||"
     ]
    },
    {
     "name": "stderr",
     "output_type": "stream",
     "text": [
      "\r",
      "Episode 4|Iteration 8|reward:  342.0|last_reward_at:    7|Elapsed Time: 0:00:00||"
     ]
    },
    {
     "name": "stderr",
     "output_type": "stream",
     "text": [
      "\r",
      "Episode 4|Iteration 8|reward:  342.0|last_reward_at:    8|Elapsed Time: 0:00:00||"
     ]
    },
    {
     "name": "stderr",
     "output_type": "stream",
     "text": [
      "\r",
      "Episode 4|Iteration 9|reward:  348.0|last_reward_at:    8|Elapsed Time: 0:00:00||"
     ]
    },
    {
     "name": "stderr",
     "output_type": "stream",
     "text": [
      "\r",
      "Episode 4|Iteration 9|reward:  348.0|last_reward_at:    9|Elapsed Time: 0:00:00||"
     ]
    },
    {
     "name": "stderr",
     "output_type": "stream",
     "text": [
      "\r",
      "Episode 4|Iteration 10|reward:  448.0|last_reward_at:    9|Elapsed Time: 0:00:00||"
     ]
    },
    {
     "name": "stderr",
     "output_type": "stream",
     "text": [
      "\r",
      "Episode 4|Iteration 10|reward:  448.0|last_reward_at:   10|Elapsed Time: 0:00:00||"
     ]
    },
    {
     "name": "stderr",
     "output_type": "stream",
     "text": [
      "\r",
      "Episode 4|Iteration 11|reward:  457.0|last_reward_at:   10|Elapsed Time: 0:00:00||"
     ]
    },
    {
     "name": "stderr",
     "output_type": "stream",
     "text": [
      "\r",
      "Episode 4|Iteration 11|reward:  457.0|last_reward_at:   11|Elapsed Time: 0:00:00||"
     ]
    },
    {
     "name": "stderr",
     "output_type": "stream",
     "text": [
      "\r",
      "Episode 4|Iteration 16|reward:  557.0|last_reward_at:   11|Elapsed Time: 0:00:00||"
     ]
    },
    {
     "name": "stderr",
     "output_type": "stream",
     "text": [
      "\r",
      "Episode 4|Iteration 16|reward:  557.0|last_reward_at:   16|Elapsed Time: 0:00:00||"
     ]
    },
    {
     "name": "stderr",
     "output_type": "stream",
     "text": [
      "\r",
      "Episode 4|Iteration 17|reward:  566.0|last_reward_at:   16|Elapsed Time: 0:00:00||"
     ]
    },
    {
     "name": "stderr",
     "output_type": "stream",
     "text": [
      "\r",
      "Episode 4|Iteration 17|reward:  566.0|last_reward_at:   17|Elapsed Time: 0:00:00||"
     ]
    },
    {
     "name": "stderr",
     "output_type": "stream",
     "text": [
      "\r",
      "Episode 4|Iteration 18|reward:  666.0|last_reward_at:   17|Elapsed Time: 0:00:00||"
     ]
    },
    {
     "name": "stderr",
     "output_type": "stream",
     "text": [
      "\r",
      "Episode 4|Iteration 18|reward:  666.0|last_reward_at:   18|Elapsed Time: 0:00:00||"
     ]
    },
    {
     "name": "stderr",
     "output_type": "stream",
     "text": [
      "\r",
      "Episode 4|Iteration 26|reward:  675.0|last_reward_at:   18|Elapsed Time: 0:00:00||"
     ]
    },
    {
     "name": "stderr",
     "output_type": "stream",
     "text": [
      "\r",
      "Episode 4|Iteration 26|reward:  675.0|last_reward_at:   26|Elapsed Time: 0:00:00||"
     ]
    },
    {
     "name": "stderr",
     "output_type": "stream",
     "text": [
      "\r",
      "Episode 4|Iteration 27|reward:  775.0|last_reward_at:   26|Elapsed Time: 0:00:00||"
     ]
    },
    {
     "name": "stderr",
     "output_type": "stream",
     "text": [
      "\r",
      "Episode 4|Iteration 27|reward:  775.0|last_reward_at:   27|Elapsed Time: 0:00:00||"
     ]
    },
    {
     "name": "stderr",
     "output_type": "stream",
     "text": [
      "\r",
      "Episode 4|Iteration 33|reward:  784.0|last_reward_at:   27|Elapsed Time: 0:00:00||"
     ]
    },
    {
     "name": "stderr",
     "output_type": "stream",
     "text": [
      "\r",
      "Episode 4|Iteration 33|reward:  784.0|last_reward_at:   33|Elapsed Time: 0:00:00||"
     ]
    },
    {
     "name": "stderr",
     "output_type": "stream",
     "text": [
      "\r",
      "Episode 4|Iteration 35|reward:  884.0|last_reward_at:   33|Elapsed Time: 0:00:00||"
     ]
    },
    {
     "name": "stderr",
     "output_type": "stream",
     "text": [
      "\r",
      "Episode 4|Iteration 35|reward:  884.0|last_reward_at:   35|Elapsed Time: 0:00:00||"
     ]
    },
    {
     "name": "stderr",
     "output_type": "stream",
     "text": [
      "\r",
      "Episode 4|Iteration 39|reward:  893.0|last_reward_at:   35|Elapsed Time: 0:00:00||"
     ]
    },
    {
     "name": "stderr",
     "output_type": "stream",
     "text": [
      "\r",
      "Episode 4|Iteration 39|reward:  893.0|last_reward_at:   39|Elapsed Time: 0:00:00||"
     ]
    },
    {
     "name": "stderr",
     "output_type": "stream",
     "text": [
      "\r",
      "Episode 4|Iteration 40|reward:  993.0|last_reward_at:   39|Elapsed Time: 0:00:00||"
     ]
    },
    {
     "name": "stderr",
     "output_type": "stream",
     "text": [
      "\r",
      "Episode 4|Iteration 40|reward:  993.0|last_reward_at:   40|Elapsed Time: 0:00:00||"
     ]
    },
    {
     "name": "stderr",
     "output_type": "stream",
     "text": [
      "\r",
      "Episode 4|Iteration 46|reward:  993.0|last_reward_at:   40|Elapsed Time: 0:00:00||"
     ]
    },
    {
     "name": "stderr",
     "output_type": "stream",
     "text": [
      "\r",
      "Episode 4|Iteration 47|reward: 1002.0|last_reward_at:   40|Elapsed Time: 0:00:00||"
     ]
    },
    {
     "name": "stderr",
     "output_type": "stream",
     "text": [
      "\r",
      "Episode 4|Iteration 47|reward: 1002.0|last_reward_at:   47|Elapsed Time: 0:00:00||"
     ]
    },
    {
     "name": "stderr",
     "output_type": "stream",
     "text": [
      "\r",
      "Episode 4|Iteration 51|reward: 6002.0|last_reward_at:   47|Elapsed Time: 0:00:00||"
     ]
    },
    {
     "name": "stderr",
     "output_type": "stream",
     "text": [
      "\r",
      "Episode 4|Iteration 51|reward: 6002.0|last_reward_at:   51|Elapsed Time: 0:00:00||"
     ]
    },
    {
     "name": "stderr",
     "output_type": "stream",
     "text": [
      "\n"
     ]
    },
    {
     "name": "stdout",
     "output_type": "stream",
     "text": [
      "  Episode 4 ended at t=51 \n",
      "  Breakdown [Reward/NoReward (Success rate)]\n",
      "    explore-local: 0/0 (NaN)\n",
      "    explore-remote: 0/0 (NaN)\n",
      "    explore-connect: 0/0 (NaN)\n",
      "    exploit-local: 12/2 (0.86)\n",
      "    exploit-remote: 0/0 (NaN)\n",
      "    exploit-connect: 10/27 (0.27)\n",
      "  exploit deflected to exploration: 0\n",
      "  ## Episode: 5/10 'Exploiting DQL' ϵ=0.0000, γ=0.15, lr=0.01, replaymemory=10000,\n",
      "batch=256, target_update=5\n"
     ]
    },
    {
     "name": "stderr",
     "output_type": "stream",
     "text": [
      "\r",
      "Episode 5|Iteration 0|reward: ------|last_reward_at: ----|Elapsed Time: 0:00:00||"
     ]
    },
    {
     "name": "stderr",
     "output_type": "stream",
     "text": [
      "\r",
      "Episode 5|Iteration 1|reward:    9.0|last_reward_at: ----|Elapsed Time: 0:00:00||"
     ]
    },
    {
     "name": "stderr",
     "output_type": "stream",
     "text": [
      "\r",
      "Episode 5|Iteration 1|reward:    9.0|last_reward_at:    1|Elapsed Time: 0:00:00||"
     ]
    },
    {
     "name": "stderr",
     "output_type": "stream",
     "text": [
      "\r",
      "Episode 5|Iteration 2|reward:  109.0|last_reward_at:    1|Elapsed Time: 0:00:00||"
     ]
    },
    {
     "name": "stderr",
     "output_type": "stream",
     "text": [
      "\r",
      "Episode 5|Iteration 2|reward:  109.0|last_reward_at:    2|Elapsed Time: 0:00:00||"
     ]
    },
    {
     "name": "stderr",
     "output_type": "stream",
     "text": [
      "\r",
      "Episode 5|Iteration 3|reward:  118.0|last_reward_at:    2|Elapsed Time: 0:00:00||"
     ]
    },
    {
     "name": "stderr",
     "output_type": "stream",
     "text": [
      "\r",
      "Episode 5|Iteration 3|reward:  118.0|last_reward_at:    3|Elapsed Time: 0:00:00||"
     ]
    },
    {
     "name": "stderr",
     "output_type": "stream",
     "text": [
      "\r",
      "Episode 5|Iteration 4|reward:  218.0|last_reward_at:    3|Elapsed Time: 0:00:00||"
     ]
    },
    {
     "name": "stderr",
     "output_type": "stream",
     "text": [
      "\r",
      "Episode 5|Iteration 4|reward:  218.0|last_reward_at:    4|Elapsed Time: 0:00:00||"
     ]
    },
    {
     "name": "stderr",
     "output_type": "stream",
     "text": [
      "\r",
      "Episode 5|Iteration 5|reward:  227.0|last_reward_at:    4|Elapsed Time: 0:00:00||"
     ]
    },
    {
     "name": "stderr",
     "output_type": "stream",
     "text": [
      "\r",
      "Episode 5|Iteration 5|reward:  227.0|last_reward_at:    5|Elapsed Time: 0:00:00||"
     ]
    },
    {
     "name": "stderr",
     "output_type": "stream",
     "text": [
      "\r",
      "Episode 5|Iteration 6|reward:  327.0|last_reward_at:    5|Elapsed Time: 0:00:00||"
     ]
    },
    {
     "name": "stderr",
     "output_type": "stream",
     "text": [
      "\r",
      "Episode 5|Iteration 6|reward:  327.0|last_reward_at:    6|Elapsed Time: 0:00:00||"
     ]
    },
    {
     "name": "stderr",
     "output_type": "stream",
     "text": [
      "\r",
      "Episode 5|Iteration 7|reward:  336.0|last_reward_at:    6|Elapsed Time: 0:00:00||"
     ]
    },
    {
     "name": "stderr",
     "output_type": "stream",
     "text": [
      "\r",
      "Episode 5|Iteration 7|reward:  336.0|last_reward_at:    7|Elapsed Time: 0:00:00||"
     ]
    },
    {
     "name": "stderr",
     "output_type": "stream",
     "text": [
      "\r",
      "Episode 5|Iteration 8|reward:  342.0|last_reward_at:    7|Elapsed Time: 0:00:00||"
     ]
    },
    {
     "name": "stderr",
     "output_type": "stream",
     "text": [
      "\r",
      "Episode 5|Iteration 8|reward:  342.0|last_reward_at:    8|Elapsed Time: 0:00:00||"
     ]
    },
    {
     "name": "stderr",
     "output_type": "stream",
     "text": [
      "\r",
      "Episode 5|Iteration 9|reward:  442.0|last_reward_at:    8|Elapsed Time: 0:00:00||"
     ]
    },
    {
     "name": "stderr",
     "output_type": "stream",
     "text": [
      "\r",
      "Episode 5|Iteration 9|reward:  442.0|last_reward_at:    9|Elapsed Time: 0:00:00||"
     ]
    },
    {
     "name": "stderr",
     "output_type": "stream",
     "text": [
      "\r",
      "Episode 5|Iteration 10|reward:  451.0|last_reward_at:    9|Elapsed Time: 0:00:00||"
     ]
    },
    {
     "name": "stderr",
     "output_type": "stream",
     "text": [
      "\r",
      "Episode 5|Iteration 10|reward:  451.0|last_reward_at:   10|Elapsed Time: 0:00:00||"
     ]
    },
    {
     "name": "stderr",
     "output_type": "stream",
     "text": [
      "\r",
      "Episode 5|Iteration 11|reward:  551.0|last_reward_at:   10|Elapsed Time: 0:00:00||"
     ]
    },
    {
     "name": "stderr",
     "output_type": "stream",
     "text": [
      "\r",
      "Episode 5|Iteration 11|reward:  551.0|last_reward_at:   11|Elapsed Time: 0:00:00||"
     ]
    },
    {
     "name": "stderr",
     "output_type": "stream",
     "text": [
      "\r",
      "Episode 5|Iteration 12|reward:  560.0|last_reward_at:   11|Elapsed Time: 0:00:00||"
     ]
    },
    {
     "name": "stderr",
     "output_type": "stream",
     "text": [
      "\r",
      "Episode 5|Iteration 12|reward:  560.0|last_reward_at:   12|Elapsed Time: 0:00:00||"
     ]
    },
    {
     "name": "stderr",
     "output_type": "stream",
     "text": [
      "\r",
      "Episode 5|Iteration 13|reward:  660.0|last_reward_at:   12|Elapsed Time: 0:00:00||"
     ]
    },
    {
     "name": "stderr",
     "output_type": "stream",
     "text": [
      "\r",
      "Episode 5|Iteration 13|reward:  660.0|last_reward_at:   13|Elapsed Time: 0:00:00||"
     ]
    },
    {
     "name": "stderr",
     "output_type": "stream",
     "text": [
      "\r",
      "Episode 5|Iteration 14|reward:  666.0|last_reward_at:   13|Elapsed Time: 0:00:00||"
     ]
    },
    {
     "name": "stderr",
     "output_type": "stream",
     "text": [
      "\r",
      "Episode 5|Iteration 14|reward:  666.0|last_reward_at:   14|Elapsed Time: 0:00:00||"
     ]
    },
    {
     "name": "stderr",
     "output_type": "stream",
     "text": [
      "\r",
      "Episode 5|Iteration 18|reward:  675.0|last_reward_at:   14|Elapsed Time: 0:00:00||"
     ]
    },
    {
     "name": "stderr",
     "output_type": "stream",
     "text": [
      "\r",
      "Episode 5|Iteration 18|reward:  675.0|last_reward_at:   18|Elapsed Time: 0:00:00||"
     ]
    },
    {
     "name": "stderr",
     "output_type": "stream",
     "text": [
      "\r",
      "Episode 5|Iteration 21|reward:  775.0|last_reward_at:   18|Elapsed Time: 0:00:00||"
     ]
    },
    {
     "name": "stderr",
     "output_type": "stream",
     "text": [
      "\r",
      "Episode 5|Iteration 21|reward:  775.0|last_reward_at:   21|Elapsed Time: 0:00:00||"
     ]
    },
    {
     "name": "stderr",
     "output_type": "stream",
     "text": [
      "\r",
      "Episode 5|Iteration 26|reward:  784.0|last_reward_at:   21|Elapsed Time: 0:00:00||"
     ]
    },
    {
     "name": "stderr",
     "output_type": "stream",
     "text": [
      "\r",
      "Episode 5|Iteration 26|reward:  784.0|last_reward_at:   26|Elapsed Time: 0:00:00||"
     ]
    },
    {
     "name": "stderr",
     "output_type": "stream",
     "text": [
      "\r",
      "Episode 5|Iteration 33|reward:  786.0|last_reward_at:   26|Elapsed Time: 0:00:00||"
     ]
    },
    {
     "name": "stderr",
     "output_type": "stream",
     "text": [
      "\r",
      "Episode 5|Iteration 33|reward:  786.0|last_reward_at:   33|Elapsed Time: 0:00:00||"
     ]
    },
    {
     "name": "stderr",
     "output_type": "stream",
     "text": [
      "\r",
      "Episode 5|Iteration 37|reward:  792.0|last_reward_at:   33|Elapsed Time: 0:00:00||"
     ]
    },
    {
     "name": "stderr",
     "output_type": "stream",
     "text": [
      "\r",
      "Episode 5|Iteration 37|reward:  792.0|last_reward_at:   37|Elapsed Time: 0:00:00||"
     ]
    },
    {
     "name": "stderr",
     "output_type": "stream",
     "text": [
      "\r",
      "Episode 5|Iteration 40|reward:  794.0|last_reward_at:   37|Elapsed Time: 0:00:00||"
     ]
    },
    {
     "name": "stderr",
     "output_type": "stream",
     "text": [
      "\r",
      "Episode 5|Iteration 40|reward:  794.0|last_reward_at:   40|Elapsed Time: 0:00:00||"
     ]
    },
    {
     "name": "stderr",
     "output_type": "stream",
     "text": [
      "\r",
      "Episode 5|Iteration 43|reward:  894.0|last_reward_at:   40|Elapsed Time: 0:00:00||"
     ]
    },
    {
     "name": "stderr",
     "output_type": "stream",
     "text": [
      "\r",
      "Episode 5|Iteration 43|reward:  894.0|last_reward_at:   43|Elapsed Time: 0:00:00||"
     ]
    },
    {
     "name": "stderr",
     "output_type": "stream",
     "text": [
      "\r",
      "Episode 5|Iteration 44|reward:  903.0|last_reward_at:   43|Elapsed Time: 0:00:00||"
     ]
    },
    {
     "name": "stderr",
     "output_type": "stream",
     "text": [
      "\r",
      "Episode 5|Iteration 44|reward:  903.0|last_reward_at:   44|Elapsed Time: 0:00:00||"
     ]
    },
    {
     "name": "stderr",
     "output_type": "stream",
     "text": [
      "\r",
      "Episode 5|Iteration 51|reward:  903.0|last_reward_at:   44|Elapsed Time: 0:00:00||"
     ]
    },
    {
     "name": "stderr",
     "output_type": "stream",
     "text": [
      "\r",
      "Episode 5|Iteration 53|reward:  909.0|last_reward_at:   44|Elapsed Time: 0:00:00||"
     ]
    },
    {
     "name": "stderr",
     "output_type": "stream",
     "text": [
      "\r",
      "Episode 5|Iteration 53|reward:  909.0|last_reward_at:   53|Elapsed Time: 0:00:00||"
     ]
    },
    {
     "name": "stderr",
     "output_type": "stream",
     "text": [
      "\r",
      "Episode 5|Iteration 61|reward:  909.0|last_reward_at:   53|Elapsed Time: 0:00:00||"
     ]
    },
    {
     "name": "stderr",
     "output_type": "stream",
     "text": [
      "\r",
      "Episode 5|Iteration 67|reward:  909.0|last_reward_at:   53|Elapsed Time: 0:00:00||"
     ]
    },
    {
     "name": "stderr",
     "output_type": "stream",
     "text": [
      "\r",
      "Episode 5|Iteration 74|reward: 1009.0|last_reward_at:   53|Elapsed Time: 0:00:00||"
     ]
    },
    {
     "name": "stderr",
     "output_type": "stream",
     "text": [
      "\r",
      "Episode 5|Iteration 74|reward: 1009.0|last_reward_at:   74|Elapsed Time: 0:00:00||"
     ]
    },
    {
     "name": "stderr",
     "output_type": "stream",
     "text": [
      "\r",
      "Episode 5|Iteration 75|reward: 1018.0|last_reward_at:   74|Elapsed Time: 0:00:01||"
     ]
    },
    {
     "name": "stderr",
     "output_type": "stream",
     "text": [
      "\r",
      "Episode 5|Iteration 75|reward: 1018.0|last_reward_at:   75|Elapsed Time: 0:00:01||"
     ]
    },
    {
     "name": "stderr",
     "output_type": "stream",
     "text": [
      "\r",
      "Episode 5|Iteration 76|reward: 1118.0|last_reward_at:   75|Elapsed Time: 0:00:01||"
     ]
    },
    {
     "name": "stderr",
     "output_type": "stream",
     "text": [
      "\r",
      "Episode 5|Iteration 76|reward: 1118.0|last_reward_at:   76|Elapsed Time: 0:00:01||"
     ]
    },
    {
     "name": "stderr",
     "output_type": "stream",
     "text": [
      "\r",
      "Episode 5|Iteration 77|reward: 1127.0|last_reward_at:   76|Elapsed Time: 0:00:01||"
     ]
    },
    {
     "name": "stderr",
     "output_type": "stream",
     "text": [
      "\r",
      "Episode 5|Iteration 77|reward: 1127.0|last_reward_at:   77|Elapsed Time: 0:00:01||"
     ]
    },
    {
     "name": "stderr",
     "output_type": "stream",
     "text": [
      "\r",
      "Episode 5|Iteration 78|reward: 1133.0|last_reward_at:   77|Elapsed Time: 0:00:01||"
     ]
    },
    {
     "name": "stderr",
     "output_type": "stream",
     "text": [
      "\r",
      "Episode 5|Iteration 78|reward: 1133.0|last_reward_at:   78|Elapsed Time: 0:00:01||"
     ]
    },
    {
     "name": "stderr",
     "output_type": "stream",
     "text": [
      "\r",
      "Episode 5|Iteration 84|reward: 1133.0|last_reward_at:   78|Elapsed Time: 0:00:01||"
     ]
    },
    {
     "name": "stderr",
     "output_type": "stream",
     "text": [
      "\r",
      "Episode 5|Iteration 88|reward: 1139.0|last_reward_at:   78|Elapsed Time: 0:00:01||"
     ]
    },
    {
     "name": "stderr",
     "output_type": "stream",
     "text": [
      "\r",
      "Episode 5|Iteration 88|reward: 1139.0|last_reward_at:   88|Elapsed Time: 0:00:01||"
     ]
    },
    {
     "name": "stderr",
     "output_type": "stream",
     "text": [
      "\r",
      "Episode 5|Iteration 92|reward: 1141.0|last_reward_at:   88|Elapsed Time: 0:00:01||"
     ]
    },
    {
     "name": "stderr",
     "output_type": "stream",
     "text": [
      "\r",
      "Episode 5|Iteration 92|reward: 1141.0|last_reward_at:   92|Elapsed Time: 0:00:01||"
     ]
    },
    {
     "name": "stderr",
     "output_type": "stream",
     "text": [
      "\r",
      "Episode 5|Iteration 99|reward: 1141.0|last_reward_at:   92|Elapsed Time: 0:00:01||"
     ]
    },
    {
     "name": "stderr",
     "output_type": "stream",
     "text": [
      "\r",
      "Episode 5|Iteration 107|reward: 1141.0|last_reward_at:   92|Elapsed Time: 0:00:01||"
     ]
    },
    {
     "name": "stderr",
     "output_type": "stream",
     "text": [
      "\r",
      "Episode 5|Iteration 114|reward: 1141.0|last_reward_at:   92|Elapsed Time: 0:00:01||"
     ]
    },
    {
     "name": "stderr",
     "output_type": "stream",
     "text": [
      "\r",
      "Episode 5|Iteration 122|reward: 1141.0|last_reward_at:   92|Elapsed Time: 0:00:01||"
     ]
    },
    {
     "name": "stderr",
     "output_type": "stream",
     "text": [
      "\r",
      "Episode 5|Iteration 122|reward: 2141.0|last_reward_at:   92|Elapsed Time: 0:00:01||"
     ]
    },
    {
     "name": "stderr",
     "output_type": "stream",
     "text": [
      "\r",
      "Episode 5|Iteration 122|reward: 2141.0|last_reward_at:  122|Elapsed Time: 0:00:01||"
     ]
    },
    {
     "name": "stderr",
     "output_type": "stream",
     "text": [
      "\r",
      "Episode 5|Iteration 130|reward: 2141.0|last_reward_at:  122|Elapsed Time: 0:00:01||"
     ]
    },
    {
     "name": "stderr",
     "output_type": "stream",
     "text": [
      "\r",
      "Episode 5|Iteration 133|reward: 2147.0|last_reward_at:  122|Elapsed Time: 0:00:01||"
     ]
    },
    {
     "name": "stderr",
     "output_type": "stream",
     "text": [
      "\r",
      "Episode 5|Iteration 133|reward: 2147.0|last_reward_at:  133|Elapsed Time: 0:00:01||"
     ]
    },
    {
     "name": "stderr",
     "output_type": "stream",
     "text": [
      "\r",
      "Episode 5|Iteration 134|reward: 2153.0|last_reward_at:  133|Elapsed Time: 0:00:01||"
     ]
    },
    {
     "name": "stderr",
     "output_type": "stream",
     "text": [
      "\r",
      "Episode 5|Iteration 134|reward: 2153.0|last_reward_at:  134|Elapsed Time: 0:00:01||"
     ]
    },
    {
     "name": "stderr",
     "output_type": "stream",
     "text": [
      "\r",
      "Episode 5|Iteration 145|reward: 2153.0|last_reward_at:  134|Elapsed Time: 0:00:01||"
     ]
    },
    {
     "name": "stderr",
     "output_type": "stream",
     "text": [
      "\r",
      "Episode 5|Iteration 145|reward: 2155.0|last_reward_at:  134|Elapsed Time: 0:00:01||"
     ]
    },
    {
     "name": "stderr",
     "output_type": "stream",
     "text": [
      "\r",
      "Episode 5|Iteration 145|reward: 2155.0|last_reward_at:  145|Elapsed Time: 0:00:01||"
     ]
    },
    {
     "name": "stderr",
     "output_type": "stream",
     "text": [
      "\r",
      "Episode 5|Iteration 152|reward: 2155.0|last_reward_at:  145|Elapsed Time: 0:00:01||"
     ]
    },
    {
     "name": "stderr",
     "output_type": "stream",
     "text": [
      "\r",
      "Episode 5|Iteration 160|reward: 2155.0|last_reward_at:  145|Elapsed Time: 0:00:01||"
     ]
    },
    {
     "name": "stderr",
     "output_type": "stream",
     "text": [
      "\r",
      "Episode 5|Iteration 168|reward: 2155.0|last_reward_at:  145|Elapsed Time: 0:00:02||"
     ]
    },
    {
     "name": "stderr",
     "output_type": "stream",
     "text": [
      "\r",
      "Episode 5|Iteration 169|reward: 2157.0|last_reward_at:  145|Elapsed Time: 0:00:02||"
     ]
    },
    {
     "name": "stderr",
     "output_type": "stream",
     "text": [
      "\r",
      "Episode 5|Iteration 169|reward: 2157.0|last_reward_at:  169|Elapsed Time: 0:00:02||"
     ]
    },
    {
     "name": "stderr",
     "output_type": "stream",
     "text": [
      "\r",
      "Episode 5|Iteration 171|reward: 2159.0|last_reward_at:  169|Elapsed Time: 0:00:02||"
     ]
    },
    {
     "name": "stderr",
     "output_type": "stream",
     "text": [
      "\r",
      "Episode 5|Iteration 171|reward: 2159.0|last_reward_at:  171|Elapsed Time: 0:00:02||"
     ]
    },
    {
     "name": "stderr",
     "output_type": "stream",
     "text": [
      "\r",
      "Episode 5|Iteration 175|reward: 2159.0|last_reward_at:  171|Elapsed Time: 0:00:02||"
     ]
    },
    {
     "name": "stderr",
     "output_type": "stream",
     "text": [
      "\r",
      "Episode 5|Iteration 181|reward: 2159.0|last_reward_at:  171|Elapsed Time: 0:00:02||"
     ]
    },
    {
     "name": "stderr",
     "output_type": "stream",
     "text": [
      "\r",
      "Episode 5|Iteration 189|reward: 2159.0|last_reward_at:  171|Elapsed Time: 0:00:02||"
     ]
    },
    {
     "name": "stderr",
     "output_type": "stream",
     "text": [
      "\r",
      "Episode 5|Iteration 196|reward: 2159.0|last_reward_at:  171|Elapsed Time: 0:00:02||"
     ]
    },
    {
     "name": "stderr",
     "output_type": "stream",
     "text": [
      "\r",
      "Episode 5|Iteration 198|reward: 2165.0|last_reward_at:  171|Elapsed Time: 0:00:02||"
     ]
    },
    {
     "name": "stderr",
     "output_type": "stream",
     "text": [
      "\r",
      "Episode 5|Iteration 198|reward: 2165.0|last_reward_at:  198|Elapsed Time: 0:00:02||"
     ]
    },
    {
     "name": "stderr",
     "output_type": "stream",
     "text": [
      "\r",
      "Episode 5|Iteration 202|reward: 2167.0|last_reward_at:  198|Elapsed Time: 0:00:02||"
     ]
    },
    {
     "name": "stderr",
     "output_type": "stream",
     "text": [
      "\r",
      "Episode 5|Iteration 202|reward: 2167.0|last_reward_at:  202|Elapsed Time: 0:00:02||"
     ]
    },
    {
     "name": "stderr",
     "output_type": "stream",
     "text": [
      "\r",
      "Episode 5|Iteration 203|reward: 2169.0|last_reward_at:  202|Elapsed Time: 0:00:02||"
     ]
    },
    {
     "name": "stderr",
     "output_type": "stream",
     "text": [
      "\r",
      "Episode 5|Iteration 203|reward: 2169.0|last_reward_at:  203|Elapsed Time: 0:00:02||"
     ]
    },
    {
     "name": "stderr",
     "output_type": "stream",
     "text": [
      "\r",
      "Episode 5|Iteration 210|reward: 2169.0|last_reward_at:  203|Elapsed Time: 0:00:02||"
     ]
    },
    {
     "name": "stderr",
     "output_type": "stream",
     "text": [
      "\r",
      "Episode 5|Iteration 219|reward: 2169.0|last_reward_at:  203|Elapsed Time: 0:00:02||"
     ]
    },
    {
     "name": "stderr",
     "output_type": "stream",
     "text": [
      "\r",
      "Episode 5|Iteration 227|reward: 2175.0|last_reward_at:  203|Elapsed Time: 0:00:02||"
     ]
    },
    {
     "name": "stderr",
     "output_type": "stream",
     "text": [
      "\r",
      "Episode 5|Iteration 227|reward: 2175.0|last_reward_at:  227|Elapsed Time: 0:00:02||"
     ]
    },
    {
     "name": "stderr",
     "output_type": "stream",
     "text": [
      "\r",
      "Episode 5|Iteration 228|reward: 2181.0|last_reward_at:  227|Elapsed Time: 0:00:02||"
     ]
    },
    {
     "name": "stderr",
     "output_type": "stream",
     "text": [
      "\r",
      "Episode 5|Iteration 228|reward: 2181.0|last_reward_at:  228|Elapsed Time: 0:00:02||"
     ]
    },
    {
     "name": "stderr",
     "output_type": "stream",
     "text": [
      "\r",
      "Episode 5|Iteration 235|reward: 2187.0|last_reward_at:  228|Elapsed Time: 0:00:02||"
     ]
    },
    {
     "name": "stderr",
     "output_type": "stream",
     "text": [
      "\r",
      "Episode 5|Iteration 235|reward: 2187.0|last_reward_at:  235|Elapsed Time: 0:00:02||"
     ]
    },
    {
     "name": "stderr",
     "output_type": "stream",
     "text": [
      "\r",
      "Episode 5|Iteration 244|reward: 2187.0|last_reward_at:  235|Elapsed Time: 0:00:03||"
     ]
    },
    {
     "name": "stderr",
     "output_type": "stream",
     "text": [
      "\r",
      "Episode 5|Iteration 251|reward: 2187.0|last_reward_at:  235|Elapsed Time: 0:00:03||"
     ]
    },
    {
     "name": "stderr",
     "output_type": "stream",
     "text": [
      "\r",
      "Episode 5|Iteration 259|reward: 2187.0|last_reward_at:  235|Elapsed Time: 0:00:03||"
     ]
    },
    {
     "name": "stderr",
     "output_type": "stream",
     "text": [
      "\r",
      "Episode 5|Iteration 266|reward: 2187.0|last_reward_at:  235|Elapsed Time: 0:00:03||"
     ]
    },
    {
     "name": "stderr",
     "output_type": "stream",
     "text": [
      "\r",
      "Episode 5|Iteration 269|reward: 2189.0|last_reward_at:  235|Elapsed Time: 0:00:03||"
     ]
    },
    {
     "name": "stderr",
     "output_type": "stream",
     "text": [
      "\r",
      "Episode 5|Iteration 269|reward: 2189.0|last_reward_at:  269|Elapsed Time: 0:00:03||"
     ]
    },
    {
     "name": "stderr",
     "output_type": "stream",
     "text": [
      "\r",
      "Episode 5|Iteration 280|reward: 2189.0|last_reward_at:  269|Elapsed Time: 0:00:03||"
     ]
    },
    {
     "name": "stderr",
     "output_type": "stream",
     "text": [
      "\r",
      "Episode 5|Iteration 289|reward: 2189.0|last_reward_at:  269|Elapsed Time: 0:00:03||"
     ]
    },
    {
     "name": "stderr",
     "output_type": "stream",
     "text": [
      "\r",
      "Episode 5|Iteration 297|reward: 2189.0|last_reward_at:  269|Elapsed Time: 0:00:03||"
     ]
    },
    {
     "name": "stderr",
     "output_type": "stream",
     "text": [
      "\r",
      "Episode 5|Iteration 304|reward: 2189.0|last_reward_at:  269|Elapsed Time: 0:00:03||"
     ]
    },
    {
     "name": "stderr",
     "output_type": "stream",
     "text": [
      "\r",
      "Episode 5|Iteration 312|reward: 2189.0|last_reward_at:  269|Elapsed Time: 0:00:03||"
     ]
    },
    {
     "name": "stderr",
     "output_type": "stream",
     "text": [
      "\r",
      "Episode 5|Iteration 319|reward: 2189.0|last_reward_at:  269|Elapsed Time: 0:00:03||"
     ]
    },
    {
     "name": "stderr",
     "output_type": "stream",
     "text": [
      "\r",
      "Episode 5|Iteration 327|reward: 2189.0|last_reward_at:  269|Elapsed Time: 0:00:03||"
     ]
    },
    {
     "name": "stderr",
     "output_type": "stream",
     "text": [
      "\r",
      "Episode 5|Iteration 327|reward: 2195.0|last_reward_at:  269|Elapsed Time: 0:00:03||"
     ]
    },
    {
     "name": "stderr",
     "output_type": "stream",
     "text": [
      "\r",
      "Episode 5|Iteration 327|reward: 2195.0|last_reward_at:  327|Elapsed Time: 0:00:03||"
     ]
    },
    {
     "name": "stderr",
     "output_type": "stream",
     "text": [
      "\r",
      "Episode 5|Iteration 335|reward: 2195.0|last_reward_at:  327|Elapsed Time: 0:00:04||"
     ]
    },
    {
     "name": "stderr",
     "output_type": "stream",
     "text": [
      "\r",
      "Episode 5|Iteration 340|reward: 2201.0|last_reward_at:  327|Elapsed Time: 0:00:04||"
     ]
    },
    {
     "name": "stderr",
     "output_type": "stream",
     "text": [
      "\r",
      "Episode 5|Iteration 340|reward: 2201.0|last_reward_at:  340|Elapsed Time: 0:00:04||"
     ]
    },
    {
     "name": "stderr",
     "output_type": "stream",
     "text": [
      "\r",
      "Episode 5|Iteration 350|reward: 2201.0|last_reward_at:  340|Elapsed Time: 0:00:04||"
     ]
    },
    {
     "name": "stderr",
     "output_type": "stream",
     "text": [
      "\r",
      "Episode 5|Iteration 357|reward: 2201.0|last_reward_at:  340|Elapsed Time: 0:00:04||"
     ]
    },
    {
     "name": "stderr",
     "output_type": "stream",
     "text": [
      "\r",
      "Episode 5|Iteration 364|reward: 2201.0|last_reward_at:  340|Elapsed Time: 0:00:04||"
     ]
    },
    {
     "name": "stderr",
     "output_type": "stream",
     "text": [
      "\r",
      "Episode 5|Iteration 371|reward: 2201.0|last_reward_at:  340|Elapsed Time: 0:00:04||"
     ]
    },
    {
     "name": "stderr",
     "output_type": "stream",
     "text": [
      "\r",
      "Episode 5|Iteration 380|reward: 2201.0|last_reward_at:  340|Elapsed Time: 0:00:04||"
     ]
    },
    {
     "name": "stderr",
     "output_type": "stream",
     "text": [
      "\r",
      "Episode 5|Iteration 388|reward: 2201.0|last_reward_at:  340|Elapsed Time: 0:00:04||"
     ]
    },
    {
     "name": "stderr",
     "output_type": "stream",
     "text": [
      "\r",
      "Episode 5|Iteration 395|reward: 2201.0|last_reward_at:  340|Elapsed Time: 0:00:04||"
     ]
    },
    {
     "name": "stderr",
     "output_type": "stream",
     "text": [
      "\r",
      "Episode 5|Iteration 403|reward: 2201.0|last_reward_at:  340|Elapsed Time: 0:00:04||"
     ]
    },
    {
     "name": "stderr",
     "output_type": "stream",
     "text": [
      "\r",
      "Episode 5|Iteration 411|reward: 2201.0|last_reward_at:  340|Elapsed Time: 0:00:04||"
     ]
    },
    {
     "name": "stderr",
     "output_type": "stream",
     "text": [
      "\r",
      "Episode 5|Iteration 418|reward: 2201.0|last_reward_at:  340|Elapsed Time: 0:00:04||"
     ]
    },
    {
     "name": "stderr",
     "output_type": "stream",
     "text": [
      "\r",
      "Episode 5|Iteration 424|reward: 2201.0|last_reward_at:  340|Elapsed Time: 0:00:05||"
     ]
    },
    {
     "name": "stderr",
     "output_type": "stream",
     "text": [
      "\r",
      "Episode 5|Iteration 430|reward: 2203.0|last_reward_at:  340|Elapsed Time: 0:00:05||"
     ]
    },
    {
     "name": "stderr",
     "output_type": "stream",
     "text": [
      "\r",
      "Episode 5|Iteration 430|reward: 2203.0|last_reward_at:  430|Elapsed Time: 0:00:05||"
     ]
    },
    {
     "name": "stderr",
     "output_type": "stream",
     "text": [
      "\r",
      "Episode 5|Iteration 441|reward: 2203.0|last_reward_at:  430|Elapsed Time: 0:00:05||"
     ]
    },
    {
     "name": "stderr",
     "output_type": "stream",
     "text": [
      "\r",
      "Episode 5|Iteration 449|reward: 2203.0|last_reward_at:  430|Elapsed Time: 0:00:05||"
     ]
    },
    {
     "name": "stderr",
     "output_type": "stream",
     "text": [
      "\r",
      "Episode 5|Iteration 456|reward: 2203.0|last_reward_at:  430|Elapsed Time: 0:00:05||"
     ]
    },
    {
     "name": "stderr",
     "output_type": "stream",
     "text": [
      "\r",
      "Episode 5|Iteration 464|reward: 2203.0|last_reward_at:  430|Elapsed Time: 0:00:05||"
     ]
    },
    {
     "name": "stderr",
     "output_type": "stream",
     "text": [
      "\r",
      "Episode 5|Iteration 471|reward: 2203.0|last_reward_at:  430|Elapsed Time: 0:00:05||"
     ]
    },
    {
     "name": "stderr",
     "output_type": "stream",
     "text": [
      "\r",
      "Episode 5|Iteration 479|reward: 2203.0|last_reward_at:  430|Elapsed Time: 0:00:05||"
     ]
    },
    {
     "name": "stderr",
     "output_type": "stream",
     "text": [
      "\r",
      "Episode 5|Iteration 487|reward: 2203.0|last_reward_at:  430|Elapsed Time: 0:00:05||"
     ]
    },
    {
     "name": "stderr",
     "output_type": "stream",
     "text": [
      "\r",
      "Episode 5|Iteration 494|reward: 2203.0|last_reward_at:  430|Elapsed Time: 0:00:05||"
     ]
    },
    {
     "name": "stderr",
     "output_type": "stream",
     "text": [
      "\r",
      "Episode 5|Iteration 502|reward: 2203.0|last_reward_at:  430|Elapsed Time: 0:00:05||"
     ]
    },
    {
     "name": "stderr",
     "output_type": "stream",
     "text": [
      "\r",
      "Episode 5|Iteration 509|reward: 2203.0|last_reward_at:  430|Elapsed Time: 0:00:05||"
     ]
    },
    {
     "name": "stderr",
     "output_type": "stream",
     "text": [
      "\r",
      "Episode 5|Iteration 515|reward: 2203.0|last_reward_at:  430|Elapsed Time: 0:00:06||"
     ]
    },
    {
     "name": "stderr",
     "output_type": "stream",
     "text": [
      "\r",
      "Episode 5|Iteration 524|reward: 2203.0|last_reward_at:  430|Elapsed Time: 0:00:06||"
     ]
    },
    {
     "name": "stderr",
     "output_type": "stream",
     "text": [
      "\r",
      "Episode 5|Iteration 532|reward: 2203.0|last_reward_at:  430|Elapsed Time: 0:00:06||"
     ]
    },
    {
     "name": "stderr",
     "output_type": "stream",
     "text": [
      "\r",
      "Episode 5|Iteration 540|reward: 2203.0|last_reward_at:  430|Elapsed Time: 0:00:06||"
     ]
    },
    {
     "name": "stderr",
     "output_type": "stream",
     "text": [
      "\r",
      "Episode 5|Iteration 547|reward: 2203.0|last_reward_at:  430|Elapsed Time: 0:00:06||"
     ]
    },
    {
     "name": "stderr",
     "output_type": "stream",
     "text": [
      "\r",
      "Episode 5|Iteration 555|reward: 2203.0|last_reward_at:  430|Elapsed Time: 0:00:06||"
     ]
    },
    {
     "name": "stderr",
     "output_type": "stream",
     "text": [
      "\r",
      "Episode 5|Iteration 563|reward: 2203.0|last_reward_at:  430|Elapsed Time: 0:00:06||"
     ]
    },
    {
     "name": "stderr",
     "output_type": "stream",
     "text": [
      "\r",
      "Episode 5|Iteration 570|reward: 2203.0|last_reward_at:  430|Elapsed Time: 0:00:06||"
     ]
    },
    {
     "name": "stderr",
     "output_type": "stream",
     "text": [
      "\r",
      "Episode 5|Iteration 578|reward: 2203.0|last_reward_at:  430|Elapsed Time: 0:00:06||"
     ]
    },
    {
     "name": "stderr",
     "output_type": "stream",
     "text": [
      "\r",
      "Episode 5|Iteration 585|reward: 2203.0|last_reward_at:  430|Elapsed Time: 0:00:06||"
     ]
    },
    {
     "name": "stderr",
     "output_type": "stream",
     "text": [
      "\r",
      "Episode 5|Iteration 593|reward: 2203.0|last_reward_at:  430|Elapsed Time: 0:00:06||"
     ]
    },
    {
     "name": "stderr",
     "output_type": "stream",
     "text": [
      "\r",
      "Episode 5|Iteration 600|reward: 2203.0|last_reward_at:  430|Elapsed Time: 0:00:06||"
     ]
    },
    {
     "name": "stderr",
     "output_type": "stream",
     "text": [
      "\r",
      "Episode 5|Iteration 600|reward: 2203.0|last_reward_at:  430|Elapsed Time: 0:00:06||"
     ]
    },
    {
     "name": "stderr",
     "output_type": "stream",
     "text": [
      "\n"
     ]
    },
    {
     "name": "stdout",
     "output_type": "stream",
     "text": [
      "  Episode 5 stopped at t=600 \n",
      "  Breakdown [Reward/NoReward (Success rate)]\n",
      "    explore-local: 0/10 (0.00)\n",
      "    explore-remote: 6/35 (0.15)\n",
      "    explore-connect: 0/41 (0.00)\n",
      "    exploit-local: 15/35 (0.30)\n",
      "    exploit-remote: 14/141 (0.09)\n",
      "    exploit-connect: 11/292 (0.04)\n",
      "  exploit deflected to exploration: 92\n",
      "  ## Episode: 6/10 'Exploiting DQL' ϵ=0.0000, γ=0.15, lr=0.01, replaymemory=10000,\n",
      "batch=256, target_update=5\n"
     ]
    },
    {
     "name": "stderr",
     "output_type": "stream",
     "text": [
      "\r",
      "Episode 6|Iteration 0|reward: ------|last_reward_at: ----|Elapsed Time: 0:00:00||"
     ]
    },
    {
     "name": "stderr",
     "output_type": "stream",
     "text": [
      "\r",
      "Episode 6|Iteration 1|reward:    0.0|last_reward_at: ----|Elapsed Time: 0:00:00||"
     ]
    },
    {
     "name": "stderr",
     "output_type": "stream",
     "text": [
      "\r",
      "Episode 6|Iteration 2|reward:    9.0|last_reward_at: ----|Elapsed Time: 0:00:00||"
     ]
    },
    {
     "name": "stderr",
     "output_type": "stream",
     "text": [
      "\r",
      "Episode 6|Iteration 2|reward:    9.0|last_reward_at:    2|Elapsed Time: 0:00:00||"
     ]
    },
    {
     "name": "stderr",
     "output_type": "stream",
     "text": [
      "\r",
      "Episode 6|Iteration 3|reward:  109.0|last_reward_at:    2|Elapsed Time: 0:00:00||"
     ]
    },
    {
     "name": "stderr",
     "output_type": "stream",
     "text": [
      "\r",
      "Episode 6|Iteration 3|reward:  109.0|last_reward_at:    3|Elapsed Time: 0:00:00||"
     ]
    },
    {
     "name": "stderr",
     "output_type": "stream",
     "text": [
      "\r",
      "Episode 6|Iteration 4|reward:  118.0|last_reward_at:    3|Elapsed Time: 0:00:00||"
     ]
    },
    {
     "name": "stderr",
     "output_type": "stream",
     "text": [
      "\r",
      "Episode 6|Iteration 4|reward:  118.0|last_reward_at:    4|Elapsed Time: 0:00:00||"
     ]
    },
    {
     "name": "stderr",
     "output_type": "stream",
     "text": [
      "\r",
      "Episode 6|Iteration 5|reward:  218.0|last_reward_at:    4|Elapsed Time: 0:00:00||"
     ]
    },
    {
     "name": "stderr",
     "output_type": "stream",
     "text": [
      "\r",
      "Episode 6|Iteration 5|reward:  218.0|last_reward_at:    5|Elapsed Time: 0:00:00||"
     ]
    },
    {
     "name": "stderr",
     "output_type": "stream",
     "text": [
      "\r",
      "Episode 6|Iteration 6|reward:  227.0|last_reward_at:    5|Elapsed Time: 0:00:00||"
     ]
    },
    {
     "name": "stderr",
     "output_type": "stream",
     "text": [
      "\r",
      "Episode 6|Iteration 6|reward:  227.0|last_reward_at:    6|Elapsed Time: 0:00:00||"
     ]
    },
    {
     "name": "stderr",
     "output_type": "stream",
     "text": [
      "\r",
      "Episode 6|Iteration 7|reward:  327.0|last_reward_at:    6|Elapsed Time: 0:00:00||"
     ]
    },
    {
     "name": "stderr",
     "output_type": "stream",
     "text": [
      "\r",
      "Episode 6|Iteration 7|reward:  327.0|last_reward_at:    7|Elapsed Time: 0:00:00||"
     ]
    },
    {
     "name": "stderr",
     "output_type": "stream",
     "text": [
      "\r",
      "Episode 6|Iteration 8|reward:  336.0|last_reward_at:    7|Elapsed Time: 0:00:00||"
     ]
    },
    {
     "name": "stderr",
     "output_type": "stream",
     "text": [
      "\r",
      "Episode 6|Iteration 8|reward:  336.0|last_reward_at:    8|Elapsed Time: 0:00:00||"
     ]
    },
    {
     "name": "stderr",
     "output_type": "stream",
     "text": [
      "\r",
      "Episode 6|Iteration 9|reward:  436.0|last_reward_at:    8|Elapsed Time: 0:00:00||"
     ]
    },
    {
     "name": "stderr",
     "output_type": "stream",
     "text": [
      "\r",
      "Episode 6|Iteration 9|reward:  436.0|last_reward_at:    9|Elapsed Time: 0:00:00||"
     ]
    },
    {
     "name": "stderr",
     "output_type": "stream",
     "text": [
      "\r",
      "Episode 6|Iteration 10|reward:  445.0|last_reward_at:    9|Elapsed Time: 0:00:00||"
     ]
    },
    {
     "name": "stderr",
     "output_type": "stream",
     "text": [
      "\r",
      "Episode 6|Iteration 10|reward:  445.0|last_reward_at:   10|Elapsed Time: 0:00:00||"
     ]
    },
    {
     "name": "stderr",
     "output_type": "stream",
     "text": [
      "\r",
      "Episode 6|Iteration 11|reward:  545.0|last_reward_at:   10|Elapsed Time: 0:00:00||"
     ]
    },
    {
     "name": "stderr",
     "output_type": "stream",
     "text": [
      "\r",
      "Episode 6|Iteration 11|reward:  545.0|last_reward_at:   11|Elapsed Time: 0:00:00||"
     ]
    },
    {
     "name": "stderr",
     "output_type": "stream",
     "text": [
      "\r",
      "Episode 6|Iteration 12|reward:  554.0|last_reward_at:   11|Elapsed Time: 0:00:00||"
     ]
    },
    {
     "name": "stderr",
     "output_type": "stream",
     "text": [
      "\r",
      "Episode 6|Iteration 12|reward:  554.0|last_reward_at:   12|Elapsed Time: 0:00:00||"
     ]
    },
    {
     "name": "stderr",
     "output_type": "stream",
     "text": [
      "\r",
      "Episode 6|Iteration 13|reward:  654.0|last_reward_at:   12|Elapsed Time: 0:00:00||"
     ]
    },
    {
     "name": "stderr",
     "output_type": "stream",
     "text": [
      "\r",
      "Episode 6|Iteration 13|reward:  654.0|last_reward_at:   13|Elapsed Time: 0:00:00||"
     ]
    },
    {
     "name": "stderr",
     "output_type": "stream",
     "text": [
      "\r",
      "Episode 6|Iteration 14|reward:  663.0|last_reward_at:   13|Elapsed Time: 0:00:00||"
     ]
    },
    {
     "name": "stderr",
     "output_type": "stream",
     "text": [
      "\r",
      "Episode 6|Iteration 14|reward:  663.0|last_reward_at:   14|Elapsed Time: 0:00:00||"
     ]
    },
    {
     "name": "stderr",
     "output_type": "stream",
     "text": [
      "\r",
      "Episode 6|Iteration 15|reward:  763.0|last_reward_at:   14|Elapsed Time: 0:00:00||"
     ]
    },
    {
     "name": "stderr",
     "output_type": "stream",
     "text": [
      "\r",
      "Episode 6|Iteration 15|reward:  763.0|last_reward_at:   15|Elapsed Time: 0:00:00||"
     ]
    },
    {
     "name": "stderr",
     "output_type": "stream",
     "text": [
      "\r",
      "Episode 6|Iteration 16|reward:  772.0|last_reward_at:   15|Elapsed Time: 0:00:00||"
     ]
    },
    {
     "name": "stderr",
     "output_type": "stream",
     "text": [
      "\r",
      "Episode 6|Iteration 16|reward:  772.0|last_reward_at:   16|Elapsed Time: 0:00:00||"
     ]
    },
    {
     "name": "stderr",
     "output_type": "stream",
     "text": [
      "\r",
      "Episode 6|Iteration 17|reward:  872.0|last_reward_at:   16|Elapsed Time: 0:00:00||"
     ]
    },
    {
     "name": "stderr",
     "output_type": "stream",
     "text": [
      "\r",
      "Episode 6|Iteration 17|reward:  872.0|last_reward_at:   17|Elapsed Time: 0:00:00||"
     ]
    },
    {
     "name": "stderr",
     "output_type": "stream",
     "text": [
      "\r",
      "Episode 6|Iteration 19|reward:  881.0|last_reward_at:   17|Elapsed Time: 0:00:00||"
     ]
    },
    {
     "name": "stderr",
     "output_type": "stream",
     "text": [
      "\r",
      "Episode 6|Iteration 19|reward:  881.0|last_reward_at:   19|Elapsed Time: 0:00:00||"
     ]
    },
    {
     "name": "stderr",
     "output_type": "stream",
     "text": [
      "\r",
      "Episode 6|Iteration 21|reward: 5881.0|last_reward_at:   19|Elapsed Time: 0:00:00||"
     ]
    },
    {
     "name": "stderr",
     "output_type": "stream",
     "text": [
      "\r",
      "Episode 6|Iteration 21|reward: 5881.0|last_reward_at:   21|Elapsed Time: 0:00:00||"
     ]
    },
    {
     "name": "stderr",
     "output_type": "stream",
     "text": [
      "\n"
     ]
    },
    {
     "name": "stdout",
     "output_type": "stream",
     "text": [
      "  Episode 6 ended at t=21 \n",
      "  Breakdown [Reward/NoReward (Success rate)]\n",
      "    explore-local: 1/0 (1.00)\n",
      "    explore-remote: 0/1 (0.00)\n",
      "    explore-connect: 0/0 (NaN)\n",
      "    exploit-local: 8/1 (0.89)\n",
      "    exploit-remote: 0/0 (NaN)\n",
      "    exploit-connect: 9/1 (0.90)\n",
      "  exploit deflected to exploration: 2\n",
      "  ## Episode: 7/10 'Exploiting DQL' ϵ=0.0000, γ=0.15, lr=0.01, replaymemory=10000,\n",
      "batch=256, target_update=5\n"
     ]
    },
    {
     "name": "stderr",
     "output_type": "stream",
     "text": [
      "\r",
      "Episode 7|Iteration 0|reward: ------|last_reward_at: ----|Elapsed Time: 0:00:00||"
     ]
    },
    {
     "name": "stderr",
     "output_type": "stream",
     "text": [
      "\r",
      "Episode 7|Iteration 1|reward:    9.0|last_reward_at: ----|Elapsed Time: 0:00:00||"
     ]
    },
    {
     "name": "stderr",
     "output_type": "stream",
     "text": [
      "\r",
      "Episode 7|Iteration 1|reward:    9.0|last_reward_at:    1|Elapsed Time: 0:00:00||"
     ]
    },
    {
     "name": "stderr",
     "output_type": "stream",
     "text": [
      "\r",
      "Episode 7|Iteration 2|reward:  109.0|last_reward_at:    1|Elapsed Time: 0:00:00||"
     ]
    },
    {
     "name": "stderr",
     "output_type": "stream",
     "text": [
      "\r",
      "Episode 7|Iteration 2|reward:  109.0|last_reward_at:    2|Elapsed Time: 0:00:00||"
     ]
    },
    {
     "name": "stderr",
     "output_type": "stream",
     "text": [
      "\r",
      "Episode 7|Iteration 3|reward:  118.0|last_reward_at:    2|Elapsed Time: 0:00:00||"
     ]
    },
    {
     "name": "stderr",
     "output_type": "stream",
     "text": [
      "\r",
      "Episode 7|Iteration 3|reward:  118.0|last_reward_at:    3|Elapsed Time: 0:00:00||"
     ]
    },
    {
     "name": "stderr",
     "output_type": "stream",
     "text": [
      "\r",
      "Episode 7|Iteration 4|reward:  124.0|last_reward_at:    3|Elapsed Time: 0:00:00||"
     ]
    },
    {
     "name": "stderr",
     "output_type": "stream",
     "text": [
      "\r",
      "Episode 7|Iteration 4|reward:  124.0|last_reward_at:    4|Elapsed Time: 0:00:00||"
     ]
    },
    {
     "name": "stderr",
     "output_type": "stream",
     "text": [
      "\r",
      "Episode 7|Iteration 5|reward:  224.0|last_reward_at:    4|Elapsed Time: 0:00:00||"
     ]
    },
    {
     "name": "stderr",
     "output_type": "stream",
     "text": [
      "\r",
      "Episode 7|Iteration 5|reward:  224.0|last_reward_at:    5|Elapsed Time: 0:00:00||"
     ]
    },
    {
     "name": "stderr",
     "output_type": "stream",
     "text": [
      "\r",
      "Episode 7|Iteration 6|reward:  233.0|last_reward_at:    5|Elapsed Time: 0:00:00||"
     ]
    },
    {
     "name": "stderr",
     "output_type": "stream",
     "text": [
      "\r",
      "Episode 7|Iteration 6|reward:  233.0|last_reward_at:    6|Elapsed Time: 0:00:00||"
     ]
    },
    {
     "name": "stderr",
     "output_type": "stream",
     "text": [
      "\r",
      "Episode 7|Iteration 7|reward:  333.0|last_reward_at:    6|Elapsed Time: 0:00:00||"
     ]
    },
    {
     "name": "stderr",
     "output_type": "stream",
     "text": [
      "\r",
      "Episode 7|Iteration 7|reward:  333.0|last_reward_at:    7|Elapsed Time: 0:00:00||"
     ]
    },
    {
     "name": "stderr",
     "output_type": "stream",
     "text": [
      "\r",
      "Episode 7|Iteration 8|reward:  342.0|last_reward_at:    7|Elapsed Time: 0:00:00||"
     ]
    },
    {
     "name": "stderr",
     "output_type": "stream",
     "text": [
      "\r",
      "Episode 7|Iteration 8|reward:  342.0|last_reward_at:    8|Elapsed Time: 0:00:00||"
     ]
    },
    {
     "name": "stderr",
     "output_type": "stream",
     "text": [
      "\r",
      "Episode 7|Iteration 9|reward:  348.0|last_reward_at:    8|Elapsed Time: 0:00:00||"
     ]
    },
    {
     "name": "stderr",
     "output_type": "stream",
     "text": [
      "\r",
      "Episode 7|Iteration 9|reward:  348.0|last_reward_at:    9|Elapsed Time: 0:00:00||"
     ]
    },
    {
     "name": "stderr",
     "output_type": "stream",
     "text": [
      "\r",
      "Episode 7|Iteration 10|reward:  448.0|last_reward_at:    9|Elapsed Time: 0:00:00||"
     ]
    },
    {
     "name": "stderr",
     "output_type": "stream",
     "text": [
      "\r",
      "Episode 7|Iteration 10|reward:  448.0|last_reward_at:   10|Elapsed Time: 0:00:00||"
     ]
    },
    {
     "name": "stderr",
     "output_type": "stream",
     "text": [
      "\r",
      "Episode 7|Iteration 11|reward:  457.0|last_reward_at:   10|Elapsed Time: 0:00:00||"
     ]
    },
    {
     "name": "stderr",
     "output_type": "stream",
     "text": [
      "\r",
      "Episode 7|Iteration 11|reward:  457.0|last_reward_at:   11|Elapsed Time: 0:00:00||"
     ]
    },
    {
     "name": "stderr",
     "output_type": "stream",
     "text": [
      "\r",
      "Episode 7|Iteration 12|reward:  463.0|last_reward_at:   11|Elapsed Time: 0:00:00||"
     ]
    },
    {
     "name": "stderr",
     "output_type": "stream",
     "text": [
      "\r",
      "Episode 7|Iteration 12|reward:  463.0|last_reward_at:   12|Elapsed Time: 0:00:00||"
     ]
    },
    {
     "name": "stderr",
     "output_type": "stream",
     "text": [
      "\r",
      "Episode 7|Iteration 13|reward:  563.0|last_reward_at:   12|Elapsed Time: 0:00:00||"
     ]
    },
    {
     "name": "stderr",
     "output_type": "stream",
     "text": [
      "\r",
      "Episode 7|Iteration 13|reward:  563.0|last_reward_at:   13|Elapsed Time: 0:00:00||"
     ]
    },
    {
     "name": "stderr",
     "output_type": "stream",
     "text": [
      "\r",
      "Episode 7|Iteration 14|reward:  572.0|last_reward_at:   13|Elapsed Time: 0:00:00||"
     ]
    },
    {
     "name": "stderr",
     "output_type": "stream",
     "text": [
      "\r",
      "Episode 7|Iteration 14|reward:  572.0|last_reward_at:   14|Elapsed Time: 0:00:00||"
     ]
    },
    {
     "name": "stderr",
     "output_type": "stream",
     "text": [
      "\r",
      "Episode 7|Iteration 15|reward:  672.0|last_reward_at:   14|Elapsed Time: 0:00:00||"
     ]
    },
    {
     "name": "stderr",
     "output_type": "stream",
     "text": [
      "\r",
      "Episode 7|Iteration 15|reward:  672.0|last_reward_at:   15|Elapsed Time: 0:00:00||"
     ]
    },
    {
     "name": "stderr",
     "output_type": "stream",
     "text": [
      "\r",
      "Episode 7|Iteration 16|reward: 5672.0|last_reward_at:   15|Elapsed Time: 0:00:00||"
     ]
    },
    {
     "name": "stderr",
     "output_type": "stream",
     "text": [
      "\r",
      "Episode 7|Iteration 16|reward: 5672.0|last_reward_at:   16|Elapsed Time: 0:00:00||"
     ]
    },
    {
     "name": "stderr",
     "output_type": "stream",
     "text": [
      "\n"
     ]
    },
    {
     "name": "stdout",
     "output_type": "stream",
     "text": [
      "  Episode 7 ended at t=16 \n",
      "  Breakdown [Reward/NoReward (Success rate)]\n",
      "    explore-local: 0/0 (NaN)\n",
      "    explore-remote: 0/0 (NaN)\n",
      "    explore-connect: 0/0 (NaN)\n",
      "    exploit-local: 9/0 (1.00)\n",
      "    exploit-remote: 0/0 (NaN)\n",
      "    exploit-connect: 7/0 (1.00)\n",
      "  exploit deflected to exploration: 0\n",
      "  ## Episode: 8/10 'Exploiting DQL' ϵ=0.0000, γ=0.15, lr=0.01, replaymemory=10000,\n",
      "batch=256, target_update=5\n"
     ]
    },
    {
     "name": "stderr",
     "output_type": "stream",
     "text": [
      "\r",
      "Episode 8|Iteration 0|reward: ------|last_reward_at: ----|Elapsed Time: 0:00:00||"
     ]
    },
    {
     "name": "stderr",
     "output_type": "stream",
     "text": [
      "\r",
      "Episode 8|Iteration 1|reward:    0.0|last_reward_at: ----|Elapsed Time: 0:00:00||"
     ]
    },
    {
     "name": "stderr",
     "output_type": "stream",
     "text": [
      "\r",
      "Episode 8|Iteration 3|reward:    9.0|last_reward_at: ----|Elapsed Time: 0:00:00||"
     ]
    },
    {
     "name": "stderr",
     "output_type": "stream",
     "text": [
      "\r",
      "Episode 8|Iteration 3|reward:    9.0|last_reward_at:    3|Elapsed Time: 0:00:00||"
     ]
    },
    {
     "name": "stderr",
     "output_type": "stream",
     "text": [
      "\r",
      "Episode 8|Iteration 4|reward:  109.0|last_reward_at:    3|Elapsed Time: 0:00:00||"
     ]
    },
    {
     "name": "stderr",
     "output_type": "stream",
     "text": [
      "\r",
      "Episode 8|Iteration 4|reward:  109.0|last_reward_at:    4|Elapsed Time: 0:00:00||"
     ]
    },
    {
     "name": "stderr",
     "output_type": "stream",
     "text": [
      "\r",
      "Episode 8|Iteration 5|reward:  118.0|last_reward_at:    4|Elapsed Time: 0:00:00||"
     ]
    },
    {
     "name": "stderr",
     "output_type": "stream",
     "text": [
      "\r",
      "Episode 8|Iteration 5|reward:  118.0|last_reward_at:    5|Elapsed Time: 0:00:00||"
     ]
    },
    {
     "name": "stderr",
     "output_type": "stream",
     "text": [
      "\r",
      "Episode 8|Iteration 6|reward:  218.0|last_reward_at:    5|Elapsed Time: 0:00:00||"
     ]
    },
    {
     "name": "stderr",
     "output_type": "stream",
     "text": [
      "\r",
      "Episode 8|Iteration 6|reward:  218.0|last_reward_at:    6|Elapsed Time: 0:00:00||"
     ]
    },
    {
     "name": "stderr",
     "output_type": "stream",
     "text": [
      "\r",
      "Episode 8|Iteration 7|reward:  227.0|last_reward_at:    6|Elapsed Time: 0:00:00||"
     ]
    },
    {
     "name": "stderr",
     "output_type": "stream",
     "text": [
      "\r",
      "Episode 8|Iteration 7|reward:  227.0|last_reward_at:    7|Elapsed Time: 0:00:00||"
     ]
    },
    {
     "name": "stderr",
     "output_type": "stream",
     "text": [
      "\r",
      "Episode 8|Iteration 8|reward:  327.0|last_reward_at:    7|Elapsed Time: 0:00:00||"
     ]
    },
    {
     "name": "stderr",
     "output_type": "stream",
     "text": [
      "\r",
      "Episode 8|Iteration 8|reward:  327.0|last_reward_at:    8|Elapsed Time: 0:00:00||"
     ]
    },
    {
     "name": "stderr",
     "output_type": "stream",
     "text": [
      "\r",
      "Episode 8|Iteration 9|reward:  336.0|last_reward_at:    8|Elapsed Time: 0:00:00||"
     ]
    },
    {
     "name": "stderr",
     "output_type": "stream",
     "text": [
      "\r",
      "Episode 8|Iteration 9|reward:  336.0|last_reward_at:    9|Elapsed Time: 0:00:00||"
     ]
    },
    {
     "name": "stderr",
     "output_type": "stream",
     "text": [
      "\r",
      "Episode 8|Iteration 10|reward:  436.0|last_reward_at:    9|Elapsed Time: 0:00:00||"
     ]
    },
    {
     "name": "stderr",
     "output_type": "stream",
     "text": [
      "\r",
      "Episode 8|Iteration 10|reward:  436.0|last_reward_at:   10|Elapsed Time: 0:00:00||"
     ]
    },
    {
     "name": "stderr",
     "output_type": "stream",
     "text": [
      "\r",
      "Episode 8|Iteration 11|reward:  445.0|last_reward_at:   10|Elapsed Time: 0:00:00||"
     ]
    },
    {
     "name": "stderr",
     "output_type": "stream",
     "text": [
      "\r",
      "Episode 8|Iteration 11|reward:  445.0|last_reward_at:   11|Elapsed Time: 0:00:00||"
     ]
    },
    {
     "name": "stderr",
     "output_type": "stream",
     "text": [
      "\r",
      "Episode 8|Iteration 12|reward:  451.0|last_reward_at:   11|Elapsed Time: 0:00:00||"
     ]
    },
    {
     "name": "stderr",
     "output_type": "stream",
     "text": [
      "\r",
      "Episode 8|Iteration 12|reward:  451.0|last_reward_at:   12|Elapsed Time: 0:00:00||"
     ]
    },
    {
     "name": "stderr",
     "output_type": "stream",
     "text": [
      "\r",
      "Episode 8|Iteration 21|reward: 5451.0|last_reward_at:   12|Elapsed Time: 0:00:00||"
     ]
    },
    {
     "name": "stderr",
     "output_type": "stream",
     "text": [
      "\r",
      "Episode 8|Iteration 21|reward: 5451.0|last_reward_at:   21|Elapsed Time: 0:00:00||"
     ]
    },
    {
     "name": "stderr",
     "output_type": "stream",
     "text": [
      "\n"
     ]
    },
    {
     "name": "stdout",
     "output_type": "stream",
     "text": [
      "  Episode 8 ended at t=21 \n",
      "  Breakdown [Reward/NoReward (Success rate)]\n",
      "    explore-local: 0/0 (NaN)\n",
      "    explore-remote: 0/2 (0.00)\n",
      "    explore-connect: 0/0 (NaN)\n",
      "    exploit-local: 6/3 (0.67)\n",
      "    exploit-remote: 0/0 (NaN)\n",
      "    exploit-connect: 5/5 (0.50)\n",
      "  exploit deflected to exploration: 2\n",
      "  ## Episode: 9/10 'Exploiting DQL' ϵ=0.0000, γ=0.15, lr=0.01, replaymemory=10000,\n",
      "batch=256, target_update=5\n"
     ]
    },
    {
     "name": "stderr",
     "output_type": "stream",
     "text": [
      "\r",
      "Episode 9|Iteration 0|reward: ------|last_reward_at: ----|Elapsed Time: 0:00:00||"
     ]
    },
    {
     "name": "stderr",
     "output_type": "stream",
     "text": [
      "\r",
      "Episode 9|Iteration 1|reward:    9.0|last_reward_at: ----|Elapsed Time: 0:00:00||"
     ]
    },
    {
     "name": "stderr",
     "output_type": "stream",
     "text": [
      "\r",
      "Episode 9|Iteration 1|reward:    9.0|last_reward_at:    1|Elapsed Time: 0:00:00||"
     ]
    },
    {
     "name": "stderr",
     "output_type": "stream",
     "text": [
      "\r",
      "Episode 9|Iteration 2|reward:  109.0|last_reward_at:    1|Elapsed Time: 0:00:00||"
     ]
    },
    {
     "name": "stderr",
     "output_type": "stream",
     "text": [
      "\r",
      "Episode 9|Iteration 2|reward:  109.0|last_reward_at:    2|Elapsed Time: 0:00:00||"
     ]
    },
    {
     "name": "stderr",
     "output_type": "stream",
     "text": [
      "\r",
      "Episode 9|Iteration 3|reward:  118.0|last_reward_at:    2|Elapsed Time: 0:00:00||"
     ]
    },
    {
     "name": "stderr",
     "output_type": "stream",
     "text": [
      "\r",
      "Episode 9|Iteration 3|reward:  118.0|last_reward_at:    3|Elapsed Time: 0:00:00||"
     ]
    },
    {
     "name": "stderr",
     "output_type": "stream",
     "text": [
      "\r",
      "Episode 9|Iteration 4|reward:  218.0|last_reward_at:    3|Elapsed Time: 0:00:00||"
     ]
    },
    {
     "name": "stderr",
     "output_type": "stream",
     "text": [
      "\r",
      "Episode 9|Iteration 4|reward:  218.0|last_reward_at:    4|Elapsed Time: 0:00:00||"
     ]
    },
    {
     "name": "stderr",
     "output_type": "stream",
     "text": [
      "\r",
      "Episode 9|Iteration 5|reward:  227.0|last_reward_at:    4|Elapsed Time: 0:00:00||"
     ]
    },
    {
     "name": "stderr",
     "output_type": "stream",
     "text": [
      "\r",
      "Episode 9|Iteration 5|reward:  227.0|last_reward_at:    5|Elapsed Time: 0:00:00||"
     ]
    },
    {
     "name": "stderr",
     "output_type": "stream",
     "text": [
      "\r",
      "Episode 9|Iteration 6|reward:  327.0|last_reward_at:    5|Elapsed Time: 0:00:00||"
     ]
    },
    {
     "name": "stderr",
     "output_type": "stream",
     "text": [
      "\r",
      "Episode 9|Iteration 6|reward:  327.0|last_reward_at:    6|Elapsed Time: 0:00:00||"
     ]
    },
    {
     "name": "stderr",
     "output_type": "stream",
     "text": [
      "\r",
      "Episode 9|Iteration 7|reward:  336.0|last_reward_at:    6|Elapsed Time: 0:00:00||"
     ]
    },
    {
     "name": "stderr",
     "output_type": "stream",
     "text": [
      "\r",
      "Episode 9|Iteration 7|reward:  336.0|last_reward_at:    7|Elapsed Time: 0:00:00||"
     ]
    },
    {
     "name": "stderr",
     "output_type": "stream",
     "text": [
      "\r",
      "Episode 9|Iteration 8|reward:  436.0|last_reward_at:    7|Elapsed Time: 0:00:00||"
     ]
    },
    {
     "name": "stderr",
     "output_type": "stream",
     "text": [
      "\r",
      "Episode 9|Iteration 8|reward:  436.0|last_reward_at:    8|Elapsed Time: 0:00:00||"
     ]
    },
    {
     "name": "stderr",
     "output_type": "stream",
     "text": [
      "\r",
      "Episode 9|Iteration 9|reward:  445.0|last_reward_at:    8|Elapsed Time: 0:00:00||"
     ]
    },
    {
     "name": "stderr",
     "output_type": "stream",
     "text": [
      "\r",
      "Episode 9|Iteration 9|reward:  445.0|last_reward_at:    9|Elapsed Time: 0:00:00||"
     ]
    },
    {
     "name": "stderr",
     "output_type": "stream",
     "text": [
      "\r",
      "Episode 9|Iteration 10|reward:  545.0|last_reward_at:    9|Elapsed Time: 0:00:00||"
     ]
    },
    {
     "name": "stderr",
     "output_type": "stream",
     "text": [
      "\r",
      "Episode 9|Iteration 10|reward:  545.0|last_reward_at:   10|Elapsed Time: 0:00:00||"
     ]
    },
    {
     "name": "stderr",
     "output_type": "stream",
     "text": [
      "\r",
      "Episode 9|Iteration 11|reward:  554.0|last_reward_at:   10|Elapsed Time: 0:00:00||"
     ]
    },
    {
     "name": "stderr",
     "output_type": "stream",
     "text": [
      "\r",
      "Episode 9|Iteration 11|reward:  554.0|last_reward_at:   11|Elapsed Time: 0:00:00||"
     ]
    },
    {
     "name": "stderr",
     "output_type": "stream",
     "text": [
      "\r",
      "Episode 9|Iteration 12|reward:  654.0|last_reward_at:   11|Elapsed Time: 0:00:00||"
     ]
    },
    {
     "name": "stderr",
     "output_type": "stream",
     "text": [
      "\r",
      "Episode 9|Iteration 12|reward:  654.0|last_reward_at:   12|Elapsed Time: 0:00:00||"
     ]
    },
    {
     "name": "stderr",
     "output_type": "stream",
     "text": [
      "\r",
      "Episode 9|Iteration 13|reward:  663.0|last_reward_at:   12|Elapsed Time: 0:00:00||"
     ]
    },
    {
     "name": "stderr",
     "output_type": "stream",
     "text": [
      "\r",
      "Episode 9|Iteration 13|reward:  663.0|last_reward_at:   13|Elapsed Time: 0:00:00||"
     ]
    },
    {
     "name": "stderr",
     "output_type": "stream",
     "text": [
      "\r",
      "Episode 9|Iteration 14|reward:  763.0|last_reward_at:   13|Elapsed Time: 0:00:00||"
     ]
    },
    {
     "name": "stderr",
     "output_type": "stream",
     "text": [
      "\r",
      "Episode 9|Iteration 14|reward:  763.0|last_reward_at:   14|Elapsed Time: 0:00:00||"
     ]
    },
    {
     "name": "stderr",
     "output_type": "stream",
     "text": [
      "\r",
      "Episode 9|Iteration 15|reward:  772.0|last_reward_at:   14|Elapsed Time: 0:00:00||"
     ]
    },
    {
     "name": "stderr",
     "output_type": "stream",
     "text": [
      "\r",
      "Episode 9|Iteration 15|reward:  772.0|last_reward_at:   15|Elapsed Time: 0:00:00||"
     ]
    },
    {
     "name": "stderr",
     "output_type": "stream",
     "text": [
      "\r",
      "Episode 9|Iteration 21|reward:  872.0|last_reward_at:   15|Elapsed Time: 0:00:00||"
     ]
    },
    {
     "name": "stderr",
     "output_type": "stream",
     "text": [
      "\r",
      "Episode 9|Iteration 21|reward:  872.0|last_reward_at:   21|Elapsed Time: 0:00:00||"
     ]
    },
    {
     "name": "stderr",
     "output_type": "stream",
     "text": [
      "\r",
      "Episode 9|Iteration 23|reward:  881.0|last_reward_at:   21|Elapsed Time: 0:00:00||"
     ]
    },
    {
     "name": "stderr",
     "output_type": "stream",
     "text": [
      "\r",
      "Episode 9|Iteration 23|reward:  881.0|last_reward_at:   23|Elapsed Time: 0:00:00||"
     ]
    },
    {
     "name": "stderr",
     "output_type": "stream",
     "text": [
      "\r",
      "Episode 9|Iteration 26|reward: 5881.0|last_reward_at:   23|Elapsed Time: 0:00:00||"
     ]
    },
    {
     "name": "stderr",
     "output_type": "stream",
     "text": [
      "\r",
      "Episode 9|Iteration 26|reward: 5881.0|last_reward_at:   26|Elapsed Time: 0:00:00||"
     ]
    },
    {
     "name": "stderr",
     "output_type": "stream",
     "text": [
      "\n"
     ]
    },
    {
     "name": "stdout",
     "output_type": "stream",
     "text": [
      "  Episode 9 ended at t=26 \n",
      "  Breakdown [Reward/NoReward (Success rate)]\n",
      "    explore-local: 0/0 (NaN)\n",
      "    explore-remote: 0/0 (NaN)\n",
      "    explore-connect: 0/0 (NaN)\n",
      "    exploit-local: 9/2 (0.82)\n",
      "    exploit-remote: 0/0 (NaN)\n",
      "    exploit-connect: 9/6 (0.60)\n",
      "  exploit deflected to exploration: 0\n",
      "  ## Episode: 10/10 'Exploiting DQL' ϵ=0.0000, γ=0.15, lr=0.01, replaymemory=10000,\n",
      "batch=256, target_update=5\n"
     ]
    },
    {
     "name": "stderr",
     "output_type": "stream",
     "text": [
      "\r",
      "Episode 10|Iteration 0|reward: ------|last_reward_at: ----|Elapsed Time: 0:00:00||"
     ]
    },
    {
     "name": "stderr",
     "output_type": "stream",
     "text": [
      "\r",
      "Episode 10|Iteration 1|reward:    9.0|last_reward_at: ----|Elapsed Time: 0:00:00||"
     ]
    },
    {
     "name": "stderr",
     "output_type": "stream",
     "text": [
      "\r",
      "Episode 10|Iteration 1|reward:    9.0|last_reward_at:    1|Elapsed Time: 0:00:00||"
     ]
    },
    {
     "name": "stderr",
     "output_type": "stream",
     "text": [
      "\r",
      "Episode 10|Iteration 2|reward:  109.0|last_reward_at:    1|Elapsed Time: 0:00:00||"
     ]
    },
    {
     "name": "stderr",
     "output_type": "stream",
     "text": [
      "\r",
      "Episode 10|Iteration 2|reward:  109.0|last_reward_at:    2|Elapsed Time: 0:00:00||"
     ]
    },
    {
     "name": "stderr",
     "output_type": "stream",
     "text": [
      "\r",
      "Episode 10|Iteration 3|reward:  118.0|last_reward_at:    2|Elapsed Time: 0:00:00||"
     ]
    },
    {
     "name": "stderr",
     "output_type": "stream",
     "text": [
      "\r",
      "Episode 10|Iteration 3|reward:  118.0|last_reward_at:    3|Elapsed Time: 0:00:00||"
     ]
    },
    {
     "name": "stderr",
     "output_type": "stream",
     "text": [
      "\r",
      "Episode 10|Iteration 4|reward:  218.0|last_reward_at:    3|Elapsed Time: 0:00:00||"
     ]
    },
    {
     "name": "stderr",
     "output_type": "stream",
     "text": [
      "\r",
      "Episode 10|Iteration 4|reward:  218.0|last_reward_at:    4|Elapsed Time: 0:00:00||"
     ]
    },
    {
     "name": "stderr",
     "output_type": "stream",
     "text": [
      "\r",
      "Episode 10|Iteration 5|reward:  227.0|last_reward_at:    4|Elapsed Time: 0:00:00||"
     ]
    },
    {
     "name": "stderr",
     "output_type": "stream",
     "text": [
      "\r",
      "Episode 10|Iteration 5|reward:  227.0|last_reward_at:    5|Elapsed Time: 0:00:00||"
     ]
    },
    {
     "name": "stderr",
     "output_type": "stream",
     "text": [
      "\r",
      "Episode 10|Iteration 6|reward:  327.0|last_reward_at:    5|Elapsed Time: 0:00:00||"
     ]
    },
    {
     "name": "stderr",
     "output_type": "stream",
     "text": [
      "\r",
      "Episode 10|Iteration 6|reward:  327.0|last_reward_at:    6|Elapsed Time: 0:00:00||"
     ]
    },
    {
     "name": "stderr",
     "output_type": "stream",
     "text": [
      "\r",
      "Episode 10|Iteration 7|reward:  336.0|last_reward_at:    6|Elapsed Time: 0:00:00||"
     ]
    },
    {
     "name": "stderr",
     "output_type": "stream",
     "text": [
      "\r",
      "Episode 10|Iteration 7|reward:  336.0|last_reward_at:    7|Elapsed Time: 0:00:00||"
     ]
    },
    {
     "name": "stderr",
     "output_type": "stream",
     "text": [
      "\r",
      "Episode 10|Iteration 8|reward:  436.0|last_reward_at:    7|Elapsed Time: 0:00:00||"
     ]
    },
    {
     "name": "stderr",
     "output_type": "stream",
     "text": [
      "\r",
      "Episode 10|Iteration 8|reward:  436.0|last_reward_at:    8|Elapsed Time: 0:00:00||"
     ]
    },
    {
     "name": "stderr",
     "output_type": "stream",
     "text": [
      "\r",
      "Episode 10|Iteration 9|reward:  445.0|last_reward_at:    8|Elapsed Time: 0:00:00||"
     ]
    },
    {
     "name": "stderr",
     "output_type": "stream",
     "text": [
      "\r",
      "Episode 10|Iteration 9|reward:  445.0|last_reward_at:    9|Elapsed Time: 0:00:00||"
     ]
    },
    {
     "name": "stderr",
     "output_type": "stream",
     "text": [
      "\r",
      "Episode 10|Iteration 10|reward:  545.0|last_reward_at:    9|Elapsed Time: 0:00:00||"
     ]
    },
    {
     "name": "stderr",
     "output_type": "stream",
     "text": [
      "\r",
      "Episode 10|Iteration 10|reward:  545.0|last_reward_at:   10|Elapsed Time: 0:00:00||"
     ]
    },
    {
     "name": "stderr",
     "output_type": "stream",
     "text": [
      "\r",
      "Episode 10|Iteration 11|reward:  554.0|last_reward_at:   10|Elapsed Time: 0:00:00||"
     ]
    },
    {
     "name": "stderr",
     "output_type": "stream",
     "text": [
      "\r",
      "Episode 10|Iteration 11|reward:  554.0|last_reward_at:   11|Elapsed Time: 0:00:00||"
     ]
    },
    {
     "name": "stderr",
     "output_type": "stream",
     "text": [
      "\r",
      "Episode 10|Iteration 12|reward:  654.0|last_reward_at:   11|Elapsed Time: 0:00:00||"
     ]
    },
    {
     "name": "stderr",
     "output_type": "stream",
     "text": [
      "\r",
      "Episode 10|Iteration 12|reward:  654.0|last_reward_at:   12|Elapsed Time: 0:00:00||"
     ]
    },
    {
     "name": "stderr",
     "output_type": "stream",
     "text": [
      "\r",
      "Episode 10|Iteration 13|reward:  663.0|last_reward_at:   12|Elapsed Time: 0:00:00||"
     ]
    },
    {
     "name": "stderr",
     "output_type": "stream",
     "text": [
      "\r",
      "Episode 10|Iteration 13|reward:  663.0|last_reward_at:   13|Elapsed Time: 0:00:00||"
     ]
    },
    {
     "name": "stderr",
     "output_type": "stream",
     "text": [
      "\r",
      "Episode 10|Iteration 14|reward:  763.0|last_reward_at:   13|Elapsed Time: 0:00:00||"
     ]
    },
    {
     "name": "stderr",
     "output_type": "stream",
     "text": [
      "\r",
      "Episode 10|Iteration 14|reward:  763.0|last_reward_at:   14|Elapsed Time: 0:00:00||"
     ]
    },
    {
     "name": "stderr",
     "output_type": "stream",
     "text": [
      "\r",
      "Episode 10|Iteration 15|reward:  772.0|last_reward_at:   14|Elapsed Time: 0:00:00||"
     ]
    },
    {
     "name": "stderr",
     "output_type": "stream",
     "text": [
      "\r",
      "Episode 10|Iteration 15|reward:  772.0|last_reward_at:   15|Elapsed Time: 0:00:00||"
     ]
    },
    {
     "name": "stderr",
     "output_type": "stream",
     "text": [
      "\r",
      "Episode 10|Iteration 16|reward:  872.0|last_reward_at:   15|Elapsed Time: 0:00:00||"
     ]
    },
    {
     "name": "stderr",
     "output_type": "stream",
     "text": [
      "\r",
      "Episode 10|Iteration 16|reward:  872.0|last_reward_at:   16|Elapsed Time: 0:00:00||"
     ]
    },
    {
     "name": "stderr",
     "output_type": "stream",
     "text": [
      "\r",
      "Episode 10|Iteration 17|reward:  881.0|last_reward_at:   16|Elapsed Time: 0:00:00||"
     ]
    },
    {
     "name": "stderr",
     "output_type": "stream",
     "text": [
      "\r",
      "Episode 10|Iteration 17|reward:  881.0|last_reward_at:   17|Elapsed Time: 0:00:00||"
     ]
    },
    {
     "name": "stderr",
     "output_type": "stream",
     "text": [
      "\r",
      "Episode 10|Iteration 18|reward:  887.0|last_reward_at:   17|Elapsed Time: 0:00:00||"
     ]
    },
    {
     "name": "stderr",
     "output_type": "stream",
     "text": [
      "\r",
      "Episode 10|Iteration 18|reward:  887.0|last_reward_at:   18|Elapsed Time: 0:00:00||"
     ]
    },
    {
     "name": "stderr",
     "output_type": "stream",
     "text": [
      "\r",
      "Episode 10|Iteration 19|reward:  987.0|last_reward_at:   18|Elapsed Time: 0:00:00||"
     ]
    },
    {
     "name": "stderr",
     "output_type": "stream",
     "text": [
      "\r",
      "Episode 10|Iteration 19|reward:  987.0|last_reward_at:   19|Elapsed Time: 0:00:00||"
     ]
    },
    {
     "name": "stderr",
     "output_type": "stream",
     "text": [
      "\r",
      "Episode 10|Iteration 20|reward:  996.0|last_reward_at:   19|Elapsed Time: 0:00:00||"
     ]
    },
    {
     "name": "stderr",
     "output_type": "stream",
     "text": [
      "\r",
      "Episode 10|Iteration 20|reward:  996.0|last_reward_at:   20|Elapsed Time: 0:00:00||"
     ]
    },
    {
     "name": "stderr",
     "output_type": "stream",
     "text": [
      "\r",
      "Episode 10|Iteration 22|reward: 1096.0|last_reward_at:   20|Elapsed Time: 0:00:00||"
     ]
    },
    {
     "name": "stderr",
     "output_type": "stream",
     "text": [
      "\r",
      "Episode 10|Iteration 22|reward: 1096.0|last_reward_at:   22|Elapsed Time: 0:00:00||"
     ]
    },
    {
     "name": "stderr",
     "output_type": "stream",
     "text": [
      "\r",
      "Episode 10|Iteration 24|reward: 1105.0|last_reward_at:   22|Elapsed Time: 0:00:00||"
     ]
    },
    {
     "name": "stderr",
     "output_type": "stream",
     "text": [
      "\r",
      "Episode 10|Iteration 24|reward: 1105.0|last_reward_at:   24|Elapsed Time: 0:00:00||"
     ]
    },
    {
     "name": "stderr",
     "output_type": "stream",
     "text": [
      "\r",
      "Episode 10|Iteration 26|reward: 6105.0|last_reward_at:   24|Elapsed Time: 0:00:00||"
     ]
    },
    {
     "name": "stderr",
     "output_type": "stream",
     "text": [
      "\r",
      "Episode 10|Iteration 26|reward: 6105.0|last_reward_at:   26|Elapsed Time: 0:00:00||"
     ]
    },
    {
     "name": "stderr",
     "output_type": "stream",
     "text": [
      "\n"
     ]
    },
    {
     "name": "stdout",
     "output_type": "stream",
     "text": [
      "  Episode 10 ended at t=26 \n",
      "  Breakdown [Reward/NoReward (Success rate)]\n",
      "    explore-local: 0/0 (NaN)\n",
      "    explore-remote: 0/0 (NaN)\n",
      "    explore-connect: 0/0 (NaN)\n",
      "    exploit-local: 13/0 (1.00)\n",
      "    exploit-remote: 0/0 (NaN)\n",
      "    exploit-connect: 10/3 (0.77)\n",
      "  exploit deflected to exploration: 0\n",
      "simulation ended\n"
     ]
    },
    {
     "data": {
      "image/png": "[encoded data removed]",
      "text/plain": [
       "<Figure size 432x288 with 1 Axes>"
      ]
     },
     "metadata": {
      "needs_background": "light"
     },
     "output_type": "display_data"
    }
   ],
   "source": [
    "dql_exploit_run = learner.epsilon_greedy_search(\n",
    "    cyberbattlechain_defender,\n",
    "    ep,\n",
    "    learner=dqn_with_defender['learner'],\n",
    "    episode_count=training_episode_count,\n",
    "    iteration_count=iteration_count,\n",
    "    epsilon=0.0,  # 0.35,\n",
    "    render=False,\n",
    "    # render_last_episode_rewards_to='images/chain10',\n",
    "    verbosity=Verbosity.Quiet,\n",
    "    title=\"Exploiting DQL\"\n",
    ")"
   ]
  },
  {
   "cell_type": "code",
   "execution_count": 5,
   "id": "canadian-newton",
   "metadata": {
    "execution": {
     "iopub.execute_input": "2021-09-06T21:31:36.354048Z",
     "iopub.status.busy": "2021-09-06T21:31:36.353431Z",
     "iopub.status.idle": "2021-09-06T21:31:45.689693Z",
     "shell.execute_reply": "2021-09-06T21:31:45.690187Z"
    },
    "lines_to_next_cell": 2,
    "papermill": {
     "duration": 9.770547,
     "end_time": "2021-09-06T21:31:45.690348",
     "exception": false,
     "start_time": "2021-09-06T21:31:35.919801",
     "status": "completed"
    },
    "tags": []
   },
   "outputs": [
    {
     "name": "stdout",
     "output_type": "stream",
     "text": [
      "###### Credential lookups (ϵ-greedy)\n",
      "Learning with: episode_count=10,iteration_count=600,ϵ=0.9,ϵ_min=0.1, ϵ_expdecay=10000,\n",
      "  ## Episode: 1/10 'Credential lookups (ϵ-greedy)' ϵ=0.9000, \n"
     ]
    },
    {
     "name": "stderr",
     "output_type": "stream",
     "text": [
      "\r",
      "Episode 1|Iteration 0|reward: ------|last_reward_at: ----|Elapsed Time: 0:00:00||"
     ]
    },
    {
     "name": "stderr",
     "output_type": "stream",
     "text": [
      "\r",
      "Episode 1|Iteration 1|reward:    0.0|last_reward_at: ----|Elapsed Time: 0:00:00||"
     ]
    },
    {
     "name": "stderr",
     "output_type": "stream",
     "text": [
      "\r",
      "Episode 1|Iteration 6|reward:    9.0|last_reward_at: ----|Elapsed Time: 0:00:00||"
     ]
    },
    {
     "name": "stderr",
     "output_type": "stream",
     "text": [
      "\r",
      "Episode 1|Iteration 6|reward:    9.0|last_reward_at:    6|Elapsed Time: 0:00:00||"
     ]
    },
    {
     "name": "stderr",
     "output_type": "stream",
     "text": [
      "\r",
      "Episode 1|Iteration 10|reward:   11.0|last_reward_at:    6|Elapsed Time: 0:00:00||"
     ]
    },
    {
     "name": "stderr",
     "output_type": "stream",
     "text": [
      "\r",
      "Episode 1|Iteration 10|reward:   11.0|last_reward_at:   10|Elapsed Time: 0:00:00||"
     ]
    },
    {
     "name": "stderr",
     "output_type": "stream",
     "text": [
      "\r",
      "Episode 1|Iteration 14|reward:  111.0|last_reward_at:   10|Elapsed Time: 0:00:00||"
     ]
    },
    {
     "name": "stderr",
     "output_type": "stream",
     "text": [
      "\r",
      "Episode 1|Iteration 14|reward:  111.0|last_reward_at:   14|Elapsed Time: 0:00:00||"
     ]
    },
    {
     "name": "stderr",
     "output_type": "stream",
     "text": [
      "\r",
      "Episode 1|Iteration 16|reward:  117.0|last_reward_at:   14|Elapsed Time: 0:00:00||"
     ]
    },
    {
     "name": "stderr",
     "output_type": "stream",
     "text": [
      "\r",
      "Episode 1|Iteration 16|reward:  117.0|last_reward_at:   16|Elapsed Time: 0:00:00||"
     ]
    },
    {
     "name": "stderr",
     "output_type": "stream",
     "text": [
      "\r",
      "Episode 1|Iteration 17|reward:  119.0|last_reward_at:   16|Elapsed Time: 0:00:00||"
     ]
    },
    {
     "name": "stderr",
     "output_type": "stream",
     "text": [
      "\r",
      "Episode 1|Iteration 17|reward:  119.0|last_reward_at:   17|Elapsed Time: 0:00:00||"
     ]
    },
    {
     "name": "stderr",
     "output_type": "stream",
     "text": [
      "\r",
      "Episode 1|Iteration 22|reward:  127.0|last_reward_at:   17|Elapsed Time: 0:00:00||"
     ]
    },
    {
     "name": "stderr",
     "output_type": "stream",
     "text": [
      "\r",
      "Episode 1|Iteration 22|reward:  127.0|last_reward_at:   22|Elapsed Time: 0:00:00||"
     ]
    },
    {
     "name": "stderr",
     "output_type": "stream",
     "text": [
      "\r",
      "Episode 1|Iteration 29|reward:  133.0|last_reward_at:   22|Elapsed Time: 0:00:00||"
     ]
    },
    {
     "name": "stderr",
     "output_type": "stream",
     "text": [
      "\r",
      "Episode 1|Iteration 29|reward:  133.0|last_reward_at:   29|Elapsed Time: 0:00:00||"
     ]
    },
    {
     "name": "stderr",
     "output_type": "stream",
     "text": [
      "\r",
      "Episode 1|Iteration 34|reward:  142.0|last_reward_at:   29|Elapsed Time: 0:00:00||"
     ]
    },
    {
     "name": "stderr",
     "output_type": "stream",
     "text": [
      "\r",
      "Episode 1|Iteration 34|reward:  142.0|last_reward_at:   34|Elapsed Time: 0:00:00||"
     ]
    },
    {
     "name": "stderr",
     "output_type": "stream",
     "text": [
      "\r",
      "Episode 1|Iteration 39|reward:  242.0|last_reward_at:   34|Elapsed Time: 0:00:00||"
     ]
    },
    {
     "name": "stderr",
     "output_type": "stream",
     "text": [
      "\r",
      "Episode 1|Iteration 39|reward:  242.0|last_reward_at:   39|Elapsed Time: 0:00:00||"
     ]
    },
    {
     "name": "stderr",
     "output_type": "stream",
     "text": [
      "\r",
      "Episode 1|Iteration 45|reward:  251.0|last_reward_at:   39|Elapsed Time: 0:00:00||"
     ]
    },
    {
     "name": "stderr",
     "output_type": "stream",
     "text": [
      "\r",
      "Episode 1|Iteration 45|reward:  251.0|last_reward_at:   45|Elapsed Time: 0:00:00||"
     ]
    },
    {
     "name": "stderr",
     "output_type": "stream",
     "text": [
      "\r",
      "Episode 1|Iteration 47|reward:  253.0|last_reward_at:   45|Elapsed Time: 0:00:00||"
     ]
    },
    {
     "name": "stderr",
     "output_type": "stream",
     "text": [
      "\r",
      "Episode 1|Iteration 47|reward:  253.0|last_reward_at:   47|Elapsed Time: 0:00:00||"
     ]
    },
    {
     "name": "stderr",
     "output_type": "stream",
     "text": [
      "\r",
      "Episode 1|Iteration 48|reward:  353.0|last_reward_at:   47|Elapsed Time: 0:00:00||"
     ]
    },
    {
     "name": "stderr",
     "output_type": "stream",
     "text": [
      "\r",
      "Episode 1|Iteration 48|reward:  353.0|last_reward_at:   48|Elapsed Time: 0:00:00||"
     ]
    },
    {
     "name": "stderr",
     "output_type": "stream",
     "text": [
      "\r",
      "Episode 1|Iteration 49|reward:  362.0|last_reward_at:   48|Elapsed Time: 0:00:00||"
     ]
    },
    {
     "name": "stderr",
     "output_type": "stream",
     "text": [
      "\r",
      "Episode 1|Iteration 49|reward:  362.0|last_reward_at:   49|Elapsed Time: 0:00:00||"
     ]
    },
    {
     "name": "stderr",
     "output_type": "stream",
     "text": [
      "\r",
      "Episode 1|Iteration 52|reward:  462.0|last_reward_at:   49|Elapsed Time: 0:00:00||"
     ]
    },
    {
     "name": "stderr",
     "output_type": "stream",
     "text": [
      "\r",
      "Episode 1|Iteration 52|reward:  462.0|last_reward_at:   52|Elapsed Time: 0:00:00||"
     ]
    },
    {
     "name": "stderr",
     "output_type": "stream",
     "text": [
      "\r",
      "Episode 1|Iteration 65|reward:  468.0|last_reward_at:   52|Elapsed Time: 0:00:00||"
     ]
    },
    {
     "name": "stderr",
     "output_type": "stream",
     "text": [
      "\r",
      "Episode 1|Iteration 65|reward:  468.0|last_reward_at:   65|Elapsed Time: 0:00:00||"
     ]
    },
    {
     "name": "stderr",
     "output_type": "stream",
     "text": [
      "\r",
      "Episode 1|Iteration 71|reward:  474.0|last_reward_at:   65|Elapsed Time: 0:00:00||"
     ]
    },
    {
     "name": "stderr",
     "output_type": "stream",
     "text": [
      "\r",
      "Episode 1|Iteration 71|reward:  474.0|last_reward_at:   71|Elapsed Time: 0:00:00||"
     ]
    },
    {
     "name": "stderr",
     "output_type": "stream",
     "text": [
      "\r",
      "Episode 1|Iteration 75|reward:  480.0|last_reward_at:   71|Elapsed Time: 0:00:00||"
     ]
    },
    {
     "name": "stderr",
     "output_type": "stream",
     "text": [
      "\r",
      "Episode 1|Iteration 75|reward:  480.0|last_reward_at:   75|Elapsed Time: 0:00:00||"
     ]
    },
    {
     "name": "stderr",
     "output_type": "stream",
     "text": [
      "\r",
      "Episode 1|Iteration 83|reward:  484.0|last_reward_at:   75|Elapsed Time: 0:00:00||"
     ]
    },
    {
     "name": "stderr",
     "output_type": "stream",
     "text": [
      "\r",
      "Episode 1|Iteration 83|reward:  484.0|last_reward_at:   83|Elapsed Time: 0:00:00||"
     ]
    },
    {
     "name": "stderr",
     "output_type": "stream",
     "text": [
      "\r",
      "Episode 1|Iteration 85|reward:  493.0|last_reward_at:   83|Elapsed Time: 0:00:00||"
     ]
    },
    {
     "name": "stderr",
     "output_type": "stream",
     "text": [
      "\r",
      "Episode 1|Iteration 85|reward:  493.0|last_reward_at:   85|Elapsed Time: 0:00:00||"
     ]
    },
    {
     "name": "stderr",
     "output_type": "stream",
     "text": [
      "\r",
      "Episode 1|Iteration 87|reward:  495.0|last_reward_at:   85|Elapsed Time: 0:00:00||"
     ]
    },
    {
     "name": "stderr",
     "output_type": "stream",
     "text": [
      "\r",
      "Episode 1|Iteration 87|reward:  495.0|last_reward_at:   87|Elapsed Time: 0:00:00||"
     ]
    },
    {
     "name": "stderr",
     "output_type": "stream",
     "text": [
      "\r",
      "Episode 1|Iteration 89|reward:  595.0|last_reward_at:   87|Elapsed Time: 0:00:00||"
     ]
    },
    {
     "name": "stderr",
     "output_type": "stream",
     "text": [
      "\r",
      "Episode 1|Iteration 89|reward:  595.0|last_reward_at:   89|Elapsed Time: 0:00:00||"
     ]
    },
    {
     "name": "stderr",
     "output_type": "stream",
     "text": [
      "\r",
      "Episode 1|Iteration 90|reward:  597.0|last_reward_at:   89|Elapsed Time: 0:00:00||"
     ]
    },
    {
     "name": "stderr",
     "output_type": "stream",
     "text": [
      "\r",
      "Episode 1|Iteration 90|reward:  597.0|last_reward_at:   90|Elapsed Time: 0:00:00||"
     ]
    },
    {
     "name": "stderr",
     "output_type": "stream",
     "text": [
      "\r",
      "Episode 1|Iteration 96|reward:  603.0|last_reward_at:   90|Elapsed Time: 0:00:00||"
     ]
    },
    {
     "name": "stderr",
     "output_type": "stream",
     "text": [
      "\r",
      "Episode 1|Iteration 96|reward:  603.0|last_reward_at:   96|Elapsed Time: 0:00:00||"
     ]
    },
    {
     "name": "stderr",
     "output_type": "stream",
     "text": [
      "\r",
      "Episode 1|Iteration 97|reward:  609.0|last_reward_at:   96|Elapsed Time: 0:00:00||"
     ]
    },
    {
     "name": "stderr",
     "output_type": "stream",
     "text": [
      "\r",
      "Episode 1|Iteration 97|reward:  609.0|last_reward_at:   97|Elapsed Time: 0:00:00||"
     ]
    },
    {
     "name": "stderr",
     "output_type": "stream",
     "text": [
      "\r",
      "Episode 1|Iteration 99|reward:  618.0|last_reward_at:   97|Elapsed Time: 0:00:00||"
     ]
    },
    {
     "name": "stderr",
     "output_type": "stream",
     "text": [
      "\r",
      "Episode 1|Iteration 99|reward:  618.0|last_reward_at:   99|Elapsed Time: 0:00:00||"
     ]
    },
    {
     "name": "stderr",
     "output_type": "stream",
     "text": [
      "\r",
      "Episode 1|Iteration 107|reward:  626.0|last_reward_at:   99|Elapsed Time: 0:00:00||"
     ]
    },
    {
     "name": "stderr",
     "output_type": "stream",
     "text": [
      "\r",
      "Episode 1|Iteration 107|reward:  626.0|last_reward_at:  107|Elapsed Time: 0:00:00||"
     ]
    },
    {
     "name": "stderr",
     "output_type": "stream",
     "text": [
      "\r",
      "Episode 1|Iteration 117|reward:  726.0|last_reward_at:  107|Elapsed Time: 0:00:00||"
     ]
    },
    {
     "name": "stderr",
     "output_type": "stream",
     "text": [
      "\r",
      "Episode 1|Iteration 117|reward:  726.0|last_reward_at:  117|Elapsed Time: 0:00:00||"
     ]
    },
    {
     "name": "stderr",
     "output_type": "stream",
     "text": [
      "\r",
      "Episode 1|Iteration 122|reward:  732.0|last_reward_at:  117|Elapsed Time: 0:00:00||"
     ]
    },
    {
     "name": "stderr",
     "output_type": "stream",
     "text": [
      "\r",
      "Episode 1|Iteration 122|reward:  732.0|last_reward_at:  122|Elapsed Time: 0:00:00||"
     ]
    },
    {
     "name": "stderr",
     "output_type": "stream",
     "text": [
      "\r",
      "Episode 1|Iteration 127|reward:  736.0|last_reward_at:  122|Elapsed Time: 0:00:00||"
     ]
    },
    {
     "name": "stderr",
     "output_type": "stream",
     "text": [
      "\r",
      "Episode 1|Iteration 127|reward:  736.0|last_reward_at:  127|Elapsed Time: 0:00:00||"
     ]
    },
    {
     "name": "stderr",
     "output_type": "stream",
     "text": [
      "\r",
      "Episode 1|Iteration 141|reward:  742.0|last_reward_at:  127|Elapsed Time: 0:00:00||"
     ]
    },
    {
     "name": "stderr",
     "output_type": "stream",
     "text": [
      "\r",
      "Episode 1|Iteration 141|reward:  742.0|last_reward_at:  141|Elapsed Time: 0:00:00||"
     ]
    },
    {
     "name": "stderr",
     "output_type": "stream",
     "text": [
      "\r",
      "Episode 1|Iteration 163|reward:  744.0|last_reward_at:  141|Elapsed Time: 0:00:00||"
     ]
    },
    {
     "name": "stderr",
     "output_type": "stream",
     "text": [
      "\r",
      "Episode 1|Iteration 163|reward:  744.0|last_reward_at:  163|Elapsed Time: 0:00:00||"
     ]
    },
    {
     "name": "stderr",
     "output_type": "stream",
     "text": [
      "\r",
      "Episode 1|Iteration 171|reward:  753.0|last_reward_at:  163|Elapsed Time: 0:00:00||"
     ]
    },
    {
     "name": "stderr",
     "output_type": "stream",
     "text": [
      "\r",
      "Episode 1|Iteration 171|reward:  753.0|last_reward_at:  171|Elapsed Time: 0:00:00||"
     ]
    },
    {
     "name": "stderr",
     "output_type": "stream",
     "text": [
      "\r",
      "Episode 1|Iteration 176|reward:  853.0|last_reward_at:  171|Elapsed Time: 0:00:00||"
     ]
    },
    {
     "name": "stderr",
     "output_type": "stream",
     "text": [
      "\r",
      "Episode 1|Iteration 176|reward:  853.0|last_reward_at:  176|Elapsed Time: 0:00:00||"
     ]
    },
    {
     "name": "stderr",
     "output_type": "stream",
     "text": [
      "\r",
      "Episode 1|Iteration 180|reward:  859.0|last_reward_at:  176|Elapsed Time: 0:00:00||"
     ]
    },
    {
     "name": "stderr",
     "output_type": "stream",
     "text": [
      "\r",
      "Episode 1|Iteration 180|reward:  859.0|last_reward_at:  180|Elapsed Time: 0:00:00||"
     ]
    },
    {
     "name": "stderr",
     "output_type": "stream",
     "text": [
      "\r",
      "Episode 1|Iteration 191|reward: 5859.0|last_reward_at:  180|Elapsed Time: 0:00:00||"
     ]
    },
    {
     "name": "stderr",
     "output_type": "stream",
     "text": [
      "\r",
      "Episode 1|Iteration 191|reward: 5859.0|last_reward_at:  191|Elapsed Time: 0:00:00||"
     ]
    },
    {
     "name": "stderr",
     "output_type": "stream",
     "text": [
      "\n"
     ]
    },
    {
     "name": "stdout",
     "output_type": "stream",
     "text": [
      "  Episode 1 ended at t=191 \n",
      "  Breakdown [Reward/NoReward (Success rate)]\n",
      "    explore-local: 14/55 (0.20)\n",
      "    explore-remote: 14/97 (0.13)\n",
      "    explore-connect: 0/0 (NaN)\n",
      "    exploit-local: 0/0 (NaN)\n",
      "    exploit-remote: 0/0 (NaN)\n",
      "    exploit-connect: 7/4 (0.64)\n",
      "  exploit deflected to exploration: 2\n",
      "  ## Episode: 2/10 'Credential lookups (ϵ-greedy)' ϵ=0.8849, \n"
     ]
    },
    {
     "name": "stderr",
     "output_type": "stream",
     "text": [
      "\r",
      "Episode 2|Iteration 0|reward: ------|last_reward_at: ----|Elapsed Time: 0:00:00||"
     ]
    },
    {
     "name": "stderr",
     "output_type": "stream",
     "text": [
      "\r",
      "Episode 2|Iteration 1|reward:    0.0|last_reward_at: ----|Elapsed Time: 0:00:00||"
     ]
    },
    {
     "name": "stderr",
     "output_type": "stream",
     "text": [
      "\r",
      "Episode 2|Iteration 10|reward:    9.0|last_reward_at: ----|Elapsed Time: 0:00:00||"
     ]
    },
    {
     "name": "stderr",
     "output_type": "stream",
     "text": [
      "\r",
      "Episode 2|Iteration 10|reward:    9.0|last_reward_at:   10|Elapsed Time: 0:00:00||"
     ]
    },
    {
     "name": "stderr",
     "output_type": "stream",
     "text": [
      "\r",
      "Episode 2|Iteration 11|reward:  109.0|last_reward_at:   10|Elapsed Time: 0:00:00||"
     ]
    },
    {
     "name": "stderr",
     "output_type": "stream",
     "text": [
      "\r",
      "Episode 2|Iteration 11|reward:  109.0|last_reward_at:   11|Elapsed Time: 0:00:00||"
     ]
    },
    {
     "name": "stderr",
     "output_type": "stream",
     "text": [
      "\r",
      "Episode 2|Iteration 12|reward:  118.0|last_reward_at:   11|Elapsed Time: 0:00:00||"
     ]
    },
    {
     "name": "stderr",
     "output_type": "stream",
     "text": [
      "\r",
      "Episode 2|Iteration 12|reward:  118.0|last_reward_at:   12|Elapsed Time: 0:00:00||"
     ]
    },
    {
     "name": "stderr",
     "output_type": "stream",
     "text": [
      "\r",
      "Episode 2|Iteration 13|reward:  126.0|last_reward_at:   12|Elapsed Time: 0:00:00||"
     ]
    },
    {
     "name": "stderr",
     "output_type": "stream",
     "text": [
      "\r",
      "Episode 2|Iteration 13|reward:  126.0|last_reward_at:   13|Elapsed Time: 0:00:00||"
     ]
    },
    {
     "name": "stderr",
     "output_type": "stream",
     "text": [
      "\r",
      "Episode 2|Iteration 16|reward:  128.0|last_reward_at:   13|Elapsed Time: 0:00:00||"
     ]
    },
    {
     "name": "stderr",
     "output_type": "stream",
     "text": [
      "\r",
      "Episode 2|Iteration 16|reward:  128.0|last_reward_at:   16|Elapsed Time: 0:00:00||"
     ]
    },
    {
     "name": "stderr",
     "output_type": "stream",
     "text": [
      "\r",
      "Episode 2|Iteration 17|reward:  130.0|last_reward_at:   16|Elapsed Time: 0:00:00||"
     ]
    },
    {
     "name": "stderr",
     "output_type": "stream",
     "text": [
      "\r",
      "Episode 2|Iteration 17|reward:  130.0|last_reward_at:   17|Elapsed Time: 0:00:00||"
     ]
    },
    {
     "name": "stderr",
     "output_type": "stream",
     "text": [
      "\r",
      "Episode 2|Iteration 32|reward:  136.0|last_reward_at:   17|Elapsed Time: 0:00:00||"
     ]
    },
    {
     "name": "stderr",
     "output_type": "stream",
     "text": [
      "\r",
      "Episode 2|Iteration 32|reward:  136.0|last_reward_at:   32|Elapsed Time: 0:00:00||"
     ]
    },
    {
     "name": "stderr",
     "output_type": "stream",
     "text": [
      "\r",
      "Episode 2|Iteration 36|reward:  236.0|last_reward_at:   32|Elapsed Time: 0:00:00||"
     ]
    },
    {
     "name": "stderr",
     "output_type": "stream",
     "text": [
      "\r",
      "Episode 2|Iteration 36|reward:  236.0|last_reward_at:   36|Elapsed Time: 0:00:00||"
     ]
    },
    {
     "name": "stderr",
     "output_type": "stream",
     "text": [
      "\r",
      "Episode 2|Iteration 49|reward:  242.0|last_reward_at:   36|Elapsed Time: 0:00:00||"
     ]
    },
    {
     "name": "stderr",
     "output_type": "stream",
     "text": [
      "\r",
      "Episode 2|Iteration 49|reward:  242.0|last_reward_at:   49|Elapsed Time: 0:00:00||"
     ]
    },
    {
     "name": "stderr",
     "output_type": "stream",
     "text": [
      "\r",
      "Episode 2|Iteration 58|reward:  251.0|last_reward_at:   49|Elapsed Time: 0:00:00||"
     ]
    },
    {
     "name": "stderr",
     "output_type": "stream",
     "text": [
      "\r",
      "Episode 2|Iteration 58|reward:  251.0|last_reward_at:   58|Elapsed Time: 0:00:00||"
     ]
    },
    {
     "name": "stderr",
     "output_type": "stream",
     "text": [
      "\r",
      "Episode 2|Iteration 63|reward:  257.0|last_reward_at:   58|Elapsed Time: 0:00:00||"
     ]
    },
    {
     "name": "stderr",
     "output_type": "stream",
     "text": [
      "\r",
      "Episode 2|Iteration 63|reward:  257.0|last_reward_at:   63|Elapsed Time: 0:00:00||"
     ]
    },
    {
     "name": "stderr",
     "output_type": "stream",
     "text": [
      "\r",
      "Episode 2|Iteration 68|reward:  357.0|last_reward_at:   63|Elapsed Time: 0:00:00||"
     ]
    },
    {
     "name": "stderr",
     "output_type": "stream",
     "text": [
      "\r",
      "Episode 2|Iteration 68|reward:  357.0|last_reward_at:   68|Elapsed Time: 0:00:00||"
     ]
    },
    {
     "name": "stderr",
     "output_type": "stream",
     "text": [
      "\r",
      "Episode 2|Iteration 70|reward:  359.0|last_reward_at:   68|Elapsed Time: 0:00:00||"
     ]
    },
    {
     "name": "stderr",
     "output_type": "stream",
     "text": [
      "\r",
      "Episode 2|Iteration 70|reward:  359.0|last_reward_at:   70|Elapsed Time: 0:00:00||"
     ]
    },
    {
     "name": "stderr",
     "output_type": "stream",
     "text": [
      "\r",
      "Episode 2|Iteration 81|reward:  365.0|last_reward_at:   70|Elapsed Time: 0:00:00||"
     ]
    },
    {
     "name": "stderr",
     "output_type": "stream",
     "text": [
      "\r",
      "Episode 2|Iteration 81|reward:  365.0|last_reward_at:   81|Elapsed Time: 0:00:00||"
     ]
    },
    {
     "name": "stderr",
     "output_type": "stream",
     "text": [
      "\r",
      "Episode 2|Iteration 82|reward:  371.0|last_reward_at:   81|Elapsed Time: 0:00:00||"
     ]
    },
    {
     "name": "stderr",
     "output_type": "stream",
     "text": [
      "\r",
      "Episode 2|Iteration 82|reward:  371.0|last_reward_at:   82|Elapsed Time: 0:00:00||"
     ]
    },
    {
     "name": "stderr",
     "output_type": "stream",
     "text": [
      "\r",
      "Episode 2|Iteration 107|reward:  379.0|last_reward_at:   82|Elapsed Time: 0:00:00||"
     ]
    },
    {
     "name": "stderr",
     "output_type": "stream",
     "text": [
      "\r",
      "Episode 2|Iteration 107|reward:  379.0|last_reward_at:  107|Elapsed Time: 0:00:00||"
     ]
    },
    {
     "name": "stderr",
     "output_type": "stream",
     "text": [
      "\r",
      "Episode 2|Iteration 110|reward:  381.0|last_reward_at:  107|Elapsed Time: 0:00:00||"
     ]
    },
    {
     "name": "stderr",
     "output_type": "stream",
     "text": [
      "\r",
      "Episode 2|Iteration 110|reward:  381.0|last_reward_at:  110|Elapsed Time: 0:00:00||"
     ]
    },
    {
     "name": "stderr",
     "output_type": "stream",
     "text": [
      "\r",
      "Episode 2|Iteration 145|reward:  381.0|last_reward_at:  110|Elapsed Time: 0:00:00||"
     ]
    },
    {
     "name": "stderr",
     "output_type": "stream",
     "text": [
      "\r",
      "Episode 2|Iteration 183|reward:  381.0|last_reward_at:  110|Elapsed Time: 0:00:00||"
     ]
    },
    {
     "name": "stderr",
     "output_type": "stream",
     "text": [
      "\r",
      "Episode 2|Iteration 221|reward:  381.0|last_reward_at:  110|Elapsed Time: 0:00:00||"
     ]
    },
    {
     "name": "stderr",
     "output_type": "stream",
     "text": [
      "\r",
      "Episode 2|Iteration 259|reward:  381.0|last_reward_at:  110|Elapsed Time: 0:00:00||"
     ]
    },
    {
     "name": "stderr",
     "output_type": "stream",
     "text": [
      "\r",
      "Episode 2|Iteration 297|reward:  381.0|last_reward_at:  110|Elapsed Time: 0:00:00||"
     ]
    },
    {
     "name": "stderr",
     "output_type": "stream",
     "text": [
      "\r",
      "Episode 2|Iteration 335|reward:  381.0|last_reward_at:  110|Elapsed Time: 0:00:00||"
     ]
    },
    {
     "name": "stderr",
     "output_type": "stream",
     "text": [
      "\r",
      "Episode 2|Iteration 373|reward:  381.0|last_reward_at:  110|Elapsed Time: 0:00:00||"
     ]
    },
    {
     "name": "stderr",
     "output_type": "stream",
     "text": [
      "\r",
      "Episode 2|Iteration 403|reward:  381.0|last_reward_at:  110|Elapsed Time: 0:00:00||"
     ]
    },
    {
     "name": "stderr",
     "output_type": "stream",
     "text": [
      "\r",
      "Episode 2|Iteration 433|reward:  381.0|last_reward_at:  110|Elapsed Time: 0:00:00||"
     ]
    },
    {
     "name": "stderr",
     "output_type": "stream",
     "text": [
      "\r",
      "Episode 2|Iteration 464|reward:  381.0|last_reward_at:  110|Elapsed Time: 0:00:00||"
     ]
    },
    {
     "name": "stderr",
     "output_type": "stream",
     "text": [
      "\r",
      "Episode 2|Iteration 502|reward:  381.0|last_reward_at:  110|Elapsed Time: 0:00:00||"
     ]
    },
    {
     "name": "stderr",
     "output_type": "stream",
     "text": [
      "\r",
      "Episode 2|Iteration 540|reward:  381.0|last_reward_at:  110|Elapsed Time: 0:00:00||"
     ]
    },
    {
     "name": "stderr",
     "output_type": "stream",
     "text": [
      "\r",
      "Episode 2|Iteration 570|reward:  381.0|last_reward_at:  110|Elapsed Time: 0:00:00||"
     ]
    },
    {
     "name": "stderr",
     "output_type": "stream",
     "text": [
      "\r",
      "Episode 2|Iteration 600|reward:  381.0|last_reward_at:  110|Elapsed Time: 0:00:01||"
     ]
    },
    {
     "name": "stderr",
     "output_type": "stream",
     "text": [
      "\n"
     ]
    },
    {
     "name": "stdout",
     "output_type": "stream",
     "text": [
      "  Episode 2 stopped at t=600 \n",
      "  Breakdown [Reward/NoReward (Success rate)]\n",
      "    explore-local: 6/109 (0.05)\n",
      "    explore-remote: 8/408 (0.02)\n",
      "    explore-connect: 0/0 (NaN)\n",
      "    exploit-local: 0/0 (NaN)\n",
      "    exploit-remote: 0/0 (NaN)\n",
      "    exploit-connect: 3/66 (0.04)\n",
      "  exploit deflected to exploration: 6\n",
      "  ## Episode: 3/10 'Credential lookups (ϵ-greedy)' ϵ=0.8392, \n"
     ]
    },
    {
     "name": "stderr",
     "output_type": "stream",
     "text": [
      "\r",
      "Episode 3|Iteration 0|reward: ------|last_reward_at: ----|Elapsed Time: 0:00:00||"
     ]
    },
    {
     "name": "stderr",
     "output_type": "stream",
     "text": [
      "\r",
      "Episode 3|Iteration 1|reward:    0.0|last_reward_at: ----|Elapsed Time: 0:00:00||"
     ]
    },
    {
     "name": "stderr",
     "output_type": "stream",
     "text": [
      "\r",
      "Episode 3|Iteration 10|reward:    9.0|last_reward_at: ----|Elapsed Time: 0:00:00||"
     ]
    },
    {
     "name": "stderr",
     "output_type": "stream",
     "text": [
      "\r",
      "Episode 3|Iteration 10|reward:    9.0|last_reward_at:   10|Elapsed Time: 0:00:00||"
     ]
    },
    {
     "name": "stderr",
     "output_type": "stream",
     "text": [
      "\r",
      "Episode 3|Iteration 11|reward:  109.0|last_reward_at:   10|Elapsed Time: 0:00:00||"
     ]
    },
    {
     "name": "stderr",
     "output_type": "stream",
     "text": [
      "\r",
      "Episode 3|Iteration 11|reward:  109.0|last_reward_at:   11|Elapsed Time: 0:00:00||"
     ]
    },
    {
     "name": "stderr",
     "output_type": "stream",
     "text": [
      "\r",
      "Episode 3|Iteration 12|reward:  111.0|last_reward_at:   11|Elapsed Time: 0:00:00||"
     ]
    },
    {
     "name": "stderr",
     "output_type": "stream",
     "text": [
      "\r",
      "Episode 3|Iteration 12|reward:  111.0|last_reward_at:   12|Elapsed Time: 0:00:00||"
     ]
    },
    {
     "name": "stderr",
     "output_type": "stream",
     "text": [
      "\r",
      "Episode 3|Iteration 13|reward:  113.0|last_reward_at:   12|Elapsed Time: 0:00:00||"
     ]
    },
    {
     "name": "stderr",
     "output_type": "stream",
     "text": [
      "\r",
      "Episode 3|Iteration 13|reward:  113.0|last_reward_at:   13|Elapsed Time: 0:00:00||"
     ]
    },
    {
     "name": "stderr",
     "output_type": "stream",
     "text": [
      "\r",
      "Episode 3|Iteration 18|reward:  119.0|last_reward_at:   13|Elapsed Time: 0:00:00||"
     ]
    },
    {
     "name": "stderr",
     "output_type": "stream",
     "text": [
      "\r",
      "Episode 3|Iteration 18|reward:  119.0|last_reward_at:   18|Elapsed Time: 0:00:00||"
     ]
    },
    {
     "name": "stderr",
     "output_type": "stream",
     "text": [
      "\r",
      "Episode 3|Iteration 23|reward:  127.0|last_reward_at:   18|Elapsed Time: 0:00:00||"
     ]
    },
    {
     "name": "stderr",
     "output_type": "stream",
     "text": [
      "\r",
      "Episode 3|Iteration 23|reward:  127.0|last_reward_at:   23|Elapsed Time: 0:00:00||"
     ]
    },
    {
     "name": "stderr",
     "output_type": "stream",
     "text": [
      "\r",
      "Episode 3|Iteration 55|reward:  133.0|last_reward_at:   23|Elapsed Time: 0:00:00||"
     ]
    },
    {
     "name": "stderr",
     "output_type": "stream",
     "text": [
      "\r",
      "Episode 3|Iteration 55|reward:  133.0|last_reward_at:   55|Elapsed Time: 0:00:00||"
     ]
    },
    {
     "name": "stderr",
     "output_type": "stream",
     "text": [
      "\r",
      "Episode 3|Iteration 92|reward:  133.0|last_reward_at:   55|Elapsed Time: 0:00:00||"
     ]
    },
    {
     "name": "stderr",
     "output_type": "stream",
     "text": [
      "\r",
      "Episode 3|Iteration 130|reward:  133.0|last_reward_at:   55|Elapsed Time: 0:00:00||"
     ]
    },
    {
     "name": "stderr",
     "output_type": "stream",
     "text": [
      "\r",
      "Episode 3|Iteration 168|reward:  133.0|last_reward_at:   55|Elapsed Time: 0:00:00||"
     ]
    },
    {
     "name": "stderr",
     "output_type": "stream",
     "text": [
      "\r",
      "Episode 3|Iteration 206|reward:  133.0|last_reward_at:   55|Elapsed Time: 0:00:00||"
     ]
    },
    {
     "name": "stderr",
     "output_type": "stream",
     "text": [
      "\r",
      "Episode 3|Iteration 244|reward:  133.0|last_reward_at:   55|Elapsed Time: 0:00:00||"
     ]
    },
    {
     "name": "stderr",
     "output_type": "stream",
     "text": [
      "\r",
      "Episode 3|Iteration 282|reward:  133.0|last_reward_at:   55|Elapsed Time: 0:00:00||"
     ]
    },
    {
     "name": "stderr",
     "output_type": "stream",
     "text": [
      "\r",
      "Episode 3|Iteration 319|reward:  133.0|last_reward_at:   55|Elapsed Time: 0:00:00||"
     ]
    },
    {
     "name": "stderr",
     "output_type": "stream",
     "text": [
      "\r",
      "Episode 3|Iteration 357|reward:  133.0|last_reward_at:   55|Elapsed Time: 0:00:00||"
     ]
    },
    {
     "name": "stderr",
     "output_type": "stream",
     "text": [
      "\r",
      "Episode 3|Iteration 395|reward:  133.0|last_reward_at:   55|Elapsed Time: 0:00:00||"
     ]
    },
    {
     "name": "stderr",
     "output_type": "stream",
     "text": [
      "\r",
      "Episode 3|Iteration 433|reward:  133.0|last_reward_at:   55|Elapsed Time: 0:00:00||"
     ]
    },
    {
     "name": "stderr",
     "output_type": "stream",
     "text": [
      "\r",
      "Episode 3|Iteration 471|reward:  133.0|last_reward_at:   55|Elapsed Time: 0:00:00||"
     ]
    },
    {
     "name": "stderr",
     "output_type": "stream",
     "text": [
      "\r",
      "Episode 3|Iteration 509|reward:  133.0|last_reward_at:   55|Elapsed Time: 0:00:00||"
     ]
    },
    {
     "name": "stderr",
     "output_type": "stream",
     "text": [
      "\r",
      "Episode 3|Iteration 547|reward:  133.0|last_reward_at:   55|Elapsed Time: 0:00:00||"
     ]
    },
    {
     "name": "stderr",
     "output_type": "stream",
     "text": [
      "\r",
      "Episode 3|Iteration 585|reward:  133.0|last_reward_at:   55|Elapsed Time: 0:00:00||"
     ]
    },
    {
     "name": "stderr",
     "output_type": "stream",
     "text": [
      "\r",
      "Episode 3|Iteration 600|reward:  133.0|last_reward_at:   55|Elapsed Time: 0:00:00||"
     ]
    },
    {
     "name": "stderr",
     "output_type": "stream",
     "text": [
      "\n"
     ]
    },
    {
     "name": "stdout",
     "output_type": "stream",
     "text": [
      "  Episode 3 stopped at t=600 \n",
      "  Breakdown [Reward/NoReward (Success rate)]\n",
      "    explore-local: 2/76 (0.03)\n",
      "    explore-remote: 4/408 (0.01)\n",
      "    explore-connect: 0/0 (NaN)\n",
      "    exploit-local: 0/0 (NaN)\n",
      "    exploit-remote: 0/0 (NaN)\n",
      "    exploit-connect: 1/109 (0.01)\n",
      "  exploit deflected to exploration: 4\n",
      "  ## Episode: 4/10 'Credential lookups (ϵ-greedy)' ϵ=0.7962, \n"
     ]
    },
    {
     "name": "stderr",
     "output_type": "stream",
     "text": [
      "\r",
      "Episode 4|Iteration 0|reward: ------|last_reward_at: ----|Elapsed Time: 0:00:00||"
     ]
    },
    {
     "name": "stderr",
     "output_type": "stream",
     "text": [
      "\r",
      "Episode 4|Iteration 1|reward:    9.0|last_reward_at: ----|Elapsed Time: 0:00:00||"
     ]
    },
    {
     "name": "stderr",
     "output_type": "stream",
     "text": [
      "\r",
      "Episode 4|Iteration 1|reward:    9.0|last_reward_at:    1|Elapsed Time: 0:00:00||"
     ]
    },
    {
     "name": "stderr",
     "output_type": "stream",
     "text": [
      "\r",
      "Episode 4|Iteration 2|reward:   13.0|last_reward_at:    1|Elapsed Time: 0:00:00||"
     ]
    },
    {
     "name": "stderr",
     "output_type": "stream",
     "text": [
      "\r",
      "Episode 4|Iteration 2|reward:   13.0|last_reward_at:    2|Elapsed Time: 0:00:00||"
     ]
    },
    {
     "name": "stderr",
     "output_type": "stream",
     "text": [
      "\r",
      "Episode 4|Iteration 4|reward:  113.0|last_reward_at:    2|Elapsed Time: 0:00:00||"
     ]
    },
    {
     "name": "stderr",
     "output_type": "stream",
     "text": [
      "\r",
      "Episode 4|Iteration 4|reward:  113.0|last_reward_at:    4|Elapsed Time: 0:00:00||"
     ]
    },
    {
     "name": "stderr",
     "output_type": "stream",
     "text": [
      "\r",
      "Episode 4|Iteration 15|reward:  115.0|last_reward_at:    4|Elapsed Time: 0:00:00||"
     ]
    },
    {
     "name": "stderr",
     "output_type": "stream",
     "text": [
      "\r",
      "Episode 4|Iteration 15|reward:  115.0|last_reward_at:   15|Elapsed Time: 0:00:00||"
     ]
    },
    {
     "name": "stderr",
     "output_type": "stream",
     "text": [
      "\r",
      "Episode 4|Iteration 21|reward:  124.0|last_reward_at:   15|Elapsed Time: 0:00:00||"
     ]
    },
    {
     "name": "stderr",
     "output_type": "stream",
     "text": [
      "\r",
      "Episode 4|Iteration 21|reward:  124.0|last_reward_at:   21|Elapsed Time: 0:00:00||"
     ]
    },
    {
     "name": "stderr",
     "output_type": "stream",
     "text": [
      "\r",
      "Episode 4|Iteration 22|reward:  130.0|last_reward_at:   21|Elapsed Time: 0:00:00||"
     ]
    },
    {
     "name": "stderr",
     "output_type": "stream",
     "text": [
      "\r",
      "Episode 4|Iteration 22|reward:  130.0|last_reward_at:   22|Elapsed Time: 0:00:00||"
     ]
    },
    {
     "name": "stderr",
     "output_type": "stream",
     "text": [
      "\r",
      "Episode 4|Iteration 23|reward:  230.0|last_reward_at:   22|Elapsed Time: 0:00:00||"
     ]
    },
    {
     "name": "stderr",
     "output_type": "stream",
     "text": [
      "\r",
      "Episode 4|Iteration 23|reward:  230.0|last_reward_at:   23|Elapsed Time: 0:00:00||"
     ]
    },
    {
     "name": "stderr",
     "output_type": "stream",
     "text": [
      "\r",
      "Episode 4|Iteration 30|reward:  236.0|last_reward_at:   23|Elapsed Time: 0:00:00||"
     ]
    },
    {
     "name": "stderr",
     "output_type": "stream",
     "text": [
      "\r",
      "Episode 4|Iteration 30|reward:  236.0|last_reward_at:   30|Elapsed Time: 0:00:00||"
     ]
    },
    {
     "name": "stderr",
     "output_type": "stream",
     "text": [
      "\r",
      "Episode 4|Iteration 36|reward:  242.0|last_reward_at:   30|Elapsed Time: 0:00:00||"
     ]
    },
    {
     "name": "stderr",
     "output_type": "stream",
     "text": [
      "\r",
      "Episode 4|Iteration 36|reward:  242.0|last_reward_at:   36|Elapsed Time: 0:00:00||"
     ]
    },
    {
     "name": "stderr",
     "output_type": "stream",
     "text": [
      "\r",
      "Episode 4|Iteration 50|reward:  246.0|last_reward_at:   36|Elapsed Time: 0:00:00||"
     ]
    },
    {
     "name": "stderr",
     "output_type": "stream",
     "text": [
      "\r",
      "Episode 4|Iteration 50|reward:  246.0|last_reward_at:   50|Elapsed Time: 0:00:00||"
     ]
    },
    {
     "name": "stderr",
     "output_type": "stream",
     "text": [
      "\r",
      "Episode 4|Iteration 71|reward:  248.0|last_reward_at:   50|Elapsed Time: 0:00:00||"
     ]
    },
    {
     "name": "stderr",
     "output_type": "stream",
     "text": [
      "\r",
      "Episode 4|Iteration 71|reward:  248.0|last_reward_at:   71|Elapsed Time: 0:00:00||"
     ]
    },
    {
     "name": "stderr",
     "output_type": "stream",
     "text": [
      "\r",
      "Episode 4|Iteration 107|reward:  248.0|last_reward_at:   71|Elapsed Time: 0:00:00||"
     ]
    },
    {
     "name": "stderr",
     "output_type": "stream",
     "text": [
      "\r",
      "Episode 4|Iteration 145|reward:  248.0|last_reward_at:   71|Elapsed Time: 0:00:00||"
     ]
    },
    {
     "name": "stderr",
     "output_type": "stream",
     "text": [
      "\r",
      "Episode 4|Iteration 183|reward:  248.0|last_reward_at:   71|Elapsed Time: 0:00:00||"
     ]
    },
    {
     "name": "stderr",
     "output_type": "stream",
     "text": [
      "\r",
      "Episode 4|Iteration 221|reward:  248.0|last_reward_at:   71|Elapsed Time: 0:00:00||"
     ]
    },
    {
     "name": "stderr",
     "output_type": "stream",
     "text": [
      "\r",
      "Episode 4|Iteration 251|reward:  248.0|last_reward_at:   71|Elapsed Time: 0:00:00||"
     ]
    },
    {
     "name": "stderr",
     "output_type": "stream",
     "text": [
      "\r",
      "Episode 4|Iteration 289|reward:  248.0|last_reward_at:   71|Elapsed Time: 0:00:00||"
     ]
    },
    {
     "name": "stderr",
     "output_type": "stream",
     "text": [
      "\r",
      "Episode 4|Iteration 327|reward:  248.0|last_reward_at:   71|Elapsed Time: 0:00:00||"
     ]
    },
    {
     "name": "stderr",
     "output_type": "stream",
     "text": [
      "\r",
      "Episode 4|Iteration 365|reward:  248.0|last_reward_at:   71|Elapsed Time: 0:00:00||"
     ]
    },
    {
     "name": "stderr",
     "output_type": "stream",
     "text": [
      "\r",
      "Episode 4|Iteration 403|reward:  248.0|last_reward_at:   71|Elapsed Time: 0:00:00||"
     ]
    },
    {
     "name": "stderr",
     "output_type": "stream",
     "text": [
      "\r",
      "Episode 4|Iteration 441|reward:  248.0|last_reward_at:   71|Elapsed Time: 0:00:00||"
     ]
    },
    {
     "name": "stderr",
     "output_type": "stream",
     "text": [
      "\r",
      "Episode 4|Iteration 479|reward:  248.0|last_reward_at:   71|Elapsed Time: 0:00:00||"
     ]
    },
    {
     "name": "stderr",
     "output_type": "stream",
     "text": [
      "\r",
      "Episode 4|Iteration 517|reward:  248.0|last_reward_at:   71|Elapsed Time: 0:00:00||"
     ]
    },
    {
     "name": "stderr",
     "output_type": "stream",
     "text": [
      "\r",
      "Episode 4|Iteration 555|reward:  248.0|last_reward_at:   71|Elapsed Time: 0:00:00||"
     ]
    },
    {
     "name": "stderr",
     "output_type": "stream",
     "text": [
      "\r",
      "Episode 4|Iteration 593|reward:  248.0|last_reward_at:   71|Elapsed Time: 0:00:00||"
     ]
    },
    {
     "name": "stderr",
     "output_type": "stream",
     "text": [
      "\r",
      "Episode 4|Iteration 600|reward:  248.0|last_reward_at:   71|Elapsed Time: 0:00:00||"
     ]
    },
    {
     "name": "stderr",
     "output_type": "stream",
     "text": [
      "\n"
     ]
    },
    {
     "name": "stdout",
     "output_type": "stream",
     "text": [
      "  Episode 4 stopped at t=600 \n",
      "  Breakdown [Reward/NoReward (Success rate)]\n",
      "    explore-local: 3/75 (0.04)\n",
      "    explore-remote: 6/391 (0.02)\n",
      "    explore-connect: 0/0 (NaN)\n",
      "    exploit-local: 0/0 (NaN)\n",
      "    exploit-remote: 0/0 (NaN)\n",
      "    exploit-connect: 2/123 (0.02)\n",
      "  exploit deflected to exploration: 6\n",
      "  ## Episode: 5/10 'Credential lookups (ϵ-greedy)' ϵ=0.7556, \n"
     ]
    },
    {
     "name": "stderr",
     "output_type": "stream",
     "text": [
      "\r",
      "Episode 5|Iteration 0|reward: ------|last_reward_at: ----|Elapsed Time: 0:00:00||"
     ]
    },
    {
     "name": "stderr",
     "output_type": "stream",
     "text": [
      "\r",
      "Episode 5|Iteration 1|reward:    0.0|last_reward_at: ----|Elapsed Time: 0:00:00||"
     ]
    },
    {
     "name": "stderr",
     "output_type": "stream",
     "text": [
      "\r",
      "Episode 5|Iteration 21|reward:    9.0|last_reward_at: ----|Elapsed Time: 0:00:00||"
     ]
    },
    {
     "name": "stderr",
     "output_type": "stream",
     "text": [
      "\r",
      "Episode 5|Iteration 21|reward:    9.0|last_reward_at:   21|Elapsed Time: 0:00:00||"
     ]
    },
    {
     "name": "stderr",
     "output_type": "stream",
     "text": [
      "\r",
      "Episode 5|Iteration 22|reward:   13.0|last_reward_at:   21|Elapsed Time: 0:00:00||"
     ]
    },
    {
     "name": "stderr",
     "output_type": "stream",
     "text": [
      "\r",
      "Episode 5|Iteration 22|reward:   13.0|last_reward_at:   22|Elapsed Time: 0:00:00||"
     ]
    },
    {
     "name": "stderr",
     "output_type": "stream",
     "text": [
      "\r",
      "Episode 5|Iteration 24|reward:   15.0|last_reward_at:   22|Elapsed Time: 0:00:00||"
     ]
    },
    {
     "name": "stderr",
     "output_type": "stream",
     "text": [
      "\r",
      "Episode 5|Iteration 24|reward:   15.0|last_reward_at:   24|Elapsed Time: 0:00:00||"
     ]
    },
    {
     "name": "stderr",
     "output_type": "stream",
     "text": [
      "\r",
      "Episode 5|Iteration 25|reward:  115.0|last_reward_at:   24|Elapsed Time: 0:00:00||"
     ]
    },
    {
     "name": "stderr",
     "output_type": "stream",
     "text": [
      "\r",
      "Episode 5|Iteration 25|reward:  115.0|last_reward_at:   25|Elapsed Time: 0:00:00||"
     ]
    },
    {
     "name": "stderr",
     "output_type": "stream",
     "text": [
      "\r",
      "Episode 5|Iteration 27|reward:  121.0|last_reward_at:   25|Elapsed Time: 0:00:00||"
     ]
    },
    {
     "name": "stderr",
     "output_type": "stream",
     "text": [
      "\r",
      "Episode 5|Iteration 27|reward:  121.0|last_reward_at:   27|Elapsed Time: 0:00:00||"
     ]
    },
    {
     "name": "stderr",
     "output_type": "stream",
     "text": [
      "\r",
      "Episode 5|Iteration 29|reward:  127.0|last_reward_at:   27|Elapsed Time: 0:00:00||"
     ]
    },
    {
     "name": "stderr",
     "output_type": "stream",
     "text": [
      "\r",
      "Episode 5|Iteration 29|reward:  127.0|last_reward_at:   29|Elapsed Time: 0:00:00||"
     ]
    },
    {
     "name": "stderr",
     "output_type": "stream",
     "text": [
      "\r",
      "Episode 5|Iteration 31|reward:  135.0|last_reward_at:   29|Elapsed Time: 0:00:00||"
     ]
    },
    {
     "name": "stderr",
     "output_type": "stream",
     "text": [
      "\r",
      "Episode 5|Iteration 31|reward:  135.0|last_reward_at:   31|Elapsed Time: 0:00:00||"
     ]
    },
    {
     "name": "stderr",
     "output_type": "stream",
     "text": [
      "\r",
      "Episode 5|Iteration 52|reward:  144.0|last_reward_at:   31|Elapsed Time: 0:00:00||"
     ]
    },
    {
     "name": "stderr",
     "output_type": "stream",
     "text": [
      "\r",
      "Episode 5|Iteration 52|reward:  144.0|last_reward_at:   52|Elapsed Time: 0:00:00||"
     ]
    },
    {
     "name": "stderr",
     "output_type": "stream",
     "text": [
      "\r",
      "Episode 5|Iteration 54|reward:  244.0|last_reward_at:   52|Elapsed Time: 0:00:00||"
     ]
    },
    {
     "name": "stderr",
     "output_type": "stream",
     "text": [
      "\r",
      "Episode 5|Iteration 54|reward:  244.0|last_reward_at:   54|Elapsed Time: 0:00:00||"
     ]
    },
    {
     "name": "stderr",
     "output_type": "stream",
     "text": [
      "\r",
      "Episode 5|Iteration 59|reward:  253.0|last_reward_at:   54|Elapsed Time: 0:00:00||"
     ]
    },
    {
     "name": "stderr",
     "output_type": "stream",
     "text": [
      "\r",
      "Episode 5|Iteration 59|reward:  253.0|last_reward_at:   59|Elapsed Time: 0:00:00||"
     ]
    },
    {
     "name": "stderr",
     "output_type": "stream",
     "text": [
      "\r",
      "Episode 5|Iteration 61|reward:  255.0|last_reward_at:   59|Elapsed Time: 0:00:00||"
     ]
    },
    {
     "name": "stderr",
     "output_type": "stream",
     "text": [
      "\r",
      "Episode 5|Iteration 61|reward:  255.0|last_reward_at:   61|Elapsed Time: 0:00:00||"
     ]
    },
    {
     "name": "stderr",
     "output_type": "stream",
     "text": [
      "\r",
      "Episode 5|Iteration 66|reward:  355.0|last_reward_at:   61|Elapsed Time: 0:00:00||"
     ]
    },
    {
     "name": "stderr",
     "output_type": "stream",
     "text": [
      "\r",
      "Episode 5|Iteration 66|reward:  355.0|last_reward_at:   66|Elapsed Time: 0:00:00||"
     ]
    },
    {
     "name": "stderr",
     "output_type": "stream",
     "text": [
      "\r",
      "Episode 5|Iteration 75|reward:  364.0|last_reward_at:   66|Elapsed Time: 0:00:00||"
     ]
    },
    {
     "name": "stderr",
     "output_type": "stream",
     "text": [
      "\r",
      "Episode 5|Iteration 75|reward:  364.0|last_reward_at:   75|Elapsed Time: 0:00:00||"
     ]
    },
    {
     "name": "stderr",
     "output_type": "stream",
     "text": [
      "\r",
      "Episode 5|Iteration 76|reward:  370.0|last_reward_at:   75|Elapsed Time: 0:00:00||"
     ]
    },
    {
     "name": "stderr",
     "output_type": "stream",
     "text": [
      "\r",
      "Episode 5|Iteration 76|reward:  370.0|last_reward_at:   76|Elapsed Time: 0:00:00||"
     ]
    },
    {
     "name": "stderr",
     "output_type": "stream",
     "text": [
      "\r",
      "Episode 5|Iteration 77|reward:  376.0|last_reward_at:   76|Elapsed Time: 0:00:00||"
     ]
    },
    {
     "name": "stderr",
     "output_type": "stream",
     "text": [
      "\r",
      "Episode 5|Iteration 77|reward:  376.0|last_reward_at:   77|Elapsed Time: 0:00:00||"
     ]
    },
    {
     "name": "stderr",
     "output_type": "stream",
     "text": [
      "\r",
      "Episode 5|Iteration 80|reward:  384.0|last_reward_at:   77|Elapsed Time: 0:00:00||"
     ]
    },
    {
     "name": "stderr",
     "output_type": "stream",
     "text": [
      "\r",
      "Episode 5|Iteration 80|reward:  384.0|last_reward_at:   80|Elapsed Time: 0:00:00||"
     ]
    },
    {
     "name": "stderr",
     "output_type": "stream",
     "text": [
      "\r",
      "Episode 5|Iteration 90|reward:  386.0|last_reward_at:   80|Elapsed Time: 0:00:00||"
     ]
    },
    {
     "name": "stderr",
     "output_type": "stream",
     "text": [
      "\r",
      "Episode 5|Iteration 90|reward:  386.0|last_reward_at:   90|Elapsed Time: 0:00:00||"
     ]
    },
    {
     "name": "stderr",
     "output_type": "stream",
     "text": [
      "\r",
      "Episode 5|Iteration 91|reward:  486.0|last_reward_at:   90|Elapsed Time: 0:00:00||"
     ]
    },
    {
     "name": "stderr",
     "output_type": "stream",
     "text": [
      "\r",
      "Episode 5|Iteration 91|reward:  486.0|last_reward_at:   91|Elapsed Time: 0:00:00||"
     ]
    },
    {
     "name": "stderr",
     "output_type": "stream",
     "text": [
      "\r",
      "Episode 5|Iteration 122|reward:  486.0|last_reward_at:   91|Elapsed Time: 0:00:00||"
     ]
    },
    {
     "name": "stderr",
     "output_type": "stream",
     "text": [
      "\r",
      "Episode 5|Iteration 137|reward:  492.0|last_reward_at:   91|Elapsed Time: 0:00:00||"
     ]
    },
    {
     "name": "stderr",
     "output_type": "stream",
     "text": [
      "\r",
      "Episode 5|Iteration 137|reward:  492.0|last_reward_at:  137|Elapsed Time: 0:00:00||"
     ]
    },
    {
     "name": "stderr",
     "output_type": "stream",
     "text": [
      "\r",
      "Episode 5|Iteration 168|reward:  492.0|last_reward_at:  137|Elapsed Time: 0:00:00||"
     ]
    },
    {
     "name": "stderr",
     "output_type": "stream",
     "text": [
      "\r",
      "Episode 5|Iteration 206|reward:  492.0|last_reward_at:  137|Elapsed Time: 0:00:00||"
     ]
    },
    {
     "name": "stderr",
     "output_type": "stream",
     "text": [
      "\r",
      "Episode 5|Iteration 228|reward:  492.0|last_reward_at:  137|Elapsed Time: 0:00:00||"
     ]
    },
    {
     "name": "stderr",
     "output_type": "stream",
     "text": [
      "\r",
      "Episode 5|Iteration 259|reward:  492.0|last_reward_at:  137|Elapsed Time: 0:00:00||"
     ]
    },
    {
     "name": "stderr",
     "output_type": "stream",
     "text": [
      "\r",
      "Episode 5|Iteration 297|reward:  492.0|last_reward_at:  137|Elapsed Time: 0:00:00||"
     ]
    },
    {
     "name": "stderr",
     "output_type": "stream",
     "text": [
      "\r",
      "Episode 5|Iteration 335|reward:  492.0|last_reward_at:  137|Elapsed Time: 0:00:00||"
     ]
    },
    {
     "name": "stderr",
     "output_type": "stream",
     "text": [
      "\r",
      "Episode 5|Iteration 373|reward:  492.0|last_reward_at:  137|Elapsed Time: 0:00:00||"
     ]
    },
    {
     "name": "stderr",
     "output_type": "stream",
     "text": [
      "\r",
      "Episode 5|Iteration 403|reward:  492.0|last_reward_at:  137|Elapsed Time: 0:00:00||"
     ]
    },
    {
     "name": "stderr",
     "output_type": "stream",
     "text": [
      "\r",
      "Episode 5|Iteration 441|reward:  492.0|last_reward_at:  137|Elapsed Time: 0:00:00||"
     ]
    },
    {
     "name": "stderr",
     "output_type": "stream",
     "text": [
      "\r",
      "Episode 5|Iteration 479|reward:  492.0|last_reward_at:  137|Elapsed Time: 0:00:00||"
     ]
    },
    {
     "name": "stderr",
     "output_type": "stream",
     "text": [
      "\r",
      "Episode 5|Iteration 517|reward:  492.0|last_reward_at:  137|Elapsed Time: 0:00:00||"
     ]
    },
    {
     "name": "stderr",
     "output_type": "stream",
     "text": [
      "\r",
      "Episode 5|Iteration 555|reward:  492.0|last_reward_at:  137|Elapsed Time: 0:00:00||"
     ]
    },
    {
     "name": "stderr",
     "output_type": "stream",
     "text": [
      "\r",
      "Episode 5|Iteration 585|reward:  492.0|last_reward_at:  137|Elapsed Time: 0:00:01||"
     ]
    },
    {
     "name": "stderr",
     "output_type": "stream",
     "text": [
      "\r",
      "Episode 5|Iteration 600|reward:  492.0|last_reward_at:  137|Elapsed Time: 0:00:01||"
     ]
    },
    {
     "name": "stderr",
     "output_type": "stream",
     "text": [
      "\n"
     ]
    },
    {
     "name": "stdout",
     "output_type": "stream",
     "text": [
      "  Episode 5 stopped at t=600 \n",
      "  Breakdown [Reward/NoReward (Success rate)]\n",
      "    explore-local: 7/82 (0.08)\n",
      "    explore-remote: 8/363 (0.02)\n",
      "    explore-connect: 0/0 (NaN)\n",
      "    exploit-local: 0/0 (NaN)\n",
      "    exploit-remote: 0/0 (NaN)\n",
      "    exploit-connect: 4/136 (0.03)\n",
      "  exploit deflected to exploration: 9\n",
      "  ## Episode: 6/10 'Credential lookups (ϵ-greedy)' ϵ=0.7175, \n"
     ]
    },
    {
     "name": "stderr",
     "output_type": "stream",
     "text": [
      "\r",
      "Episode 6|Iteration 0|reward: ------|last_reward_at: ----|Elapsed Time: 0:00:00||"
     ]
    },
    {
     "name": "stderr",
     "output_type": "stream",
     "text": [
      "\r",
      "Episode 6|Iteration 1|reward:    0.0|last_reward_at: ----|Elapsed Time: 0:00:00||"
     ]
    },
    {
     "name": "stderr",
     "output_type": "stream",
     "text": [
      "\r",
      "Episode 6|Iteration 8|reward:    9.0|last_reward_at: ----|Elapsed Time: 0:00:00||"
     ]
    },
    {
     "name": "stderr",
     "output_type": "stream",
     "text": [
      "\r",
      "Episode 6|Iteration 8|reward:    9.0|last_reward_at:    8|Elapsed Time: 0:00:00||"
     ]
    },
    {
     "name": "stderr",
     "output_type": "stream",
     "text": [
      "\r",
      "Episode 6|Iteration 9|reward:  109.0|last_reward_at:    8|Elapsed Time: 0:00:00||"
     ]
    },
    {
     "name": "stderr",
     "output_type": "stream",
     "text": [
      "\r",
      "Episode 6|Iteration 9|reward:  109.0|last_reward_at:    9|Elapsed Time: 0:00:00||"
     ]
    },
    {
     "name": "stderr",
     "output_type": "stream",
     "text": [
      "\r",
      "Episode 6|Iteration 12|reward:  111.0|last_reward_at:    9|Elapsed Time: 0:00:00||"
     ]
    },
    {
     "name": "stderr",
     "output_type": "stream",
     "text": [
      "\r",
      "Episode 6|Iteration 12|reward:  111.0|last_reward_at:   12|Elapsed Time: 0:00:00||"
     ]
    },
    {
     "name": "stderr",
     "output_type": "stream",
     "text": [
      "\r",
      "Episode 6|Iteration 13|reward:  113.0|last_reward_at:   12|Elapsed Time: 0:00:00||"
     ]
    },
    {
     "name": "stderr",
     "output_type": "stream",
     "text": [
      "\r",
      "Episode 6|Iteration 13|reward:  113.0|last_reward_at:   13|Elapsed Time: 0:00:00||"
     ]
    },
    {
     "name": "stderr",
     "output_type": "stream",
     "text": [
      "\r",
      "Episode 6|Iteration 15|reward:  119.0|last_reward_at:   13|Elapsed Time: 0:00:00||"
     ]
    },
    {
     "name": "stderr",
     "output_type": "stream",
     "text": [
      "\r",
      "Episode 6|Iteration 15|reward:  119.0|last_reward_at:   15|Elapsed Time: 0:00:00||"
     ]
    },
    {
     "name": "stderr",
     "output_type": "stream",
     "text": [
      "\r",
      "Episode 6|Iteration 20|reward:  125.0|last_reward_at:   15|Elapsed Time: 0:00:00||"
     ]
    },
    {
     "name": "stderr",
     "output_type": "stream",
     "text": [
      "\r",
      "Episode 6|Iteration 20|reward:  125.0|last_reward_at:   20|Elapsed Time: 0:00:00||"
     ]
    },
    {
     "name": "stderr",
     "output_type": "stream",
     "text": [
      "\r",
      "Episode 6|Iteration 24|reward:  133.0|last_reward_at:   20|Elapsed Time: 0:00:00||"
     ]
    },
    {
     "name": "stderr",
     "output_type": "stream",
     "text": [
      "\r",
      "Episode 6|Iteration 24|reward:  133.0|last_reward_at:   24|Elapsed Time: 0:00:00||"
     ]
    },
    {
     "name": "stderr",
     "output_type": "stream",
     "text": [
      "\r",
      "Episode 6|Iteration 35|reward:  142.0|last_reward_at:   24|Elapsed Time: 0:00:00||"
     ]
    },
    {
     "name": "stderr",
     "output_type": "stream",
     "text": [
      "\r",
      "Episode 6|Iteration 35|reward:  142.0|last_reward_at:   35|Elapsed Time: 0:00:00||"
     ]
    },
    {
     "name": "stderr",
     "output_type": "stream",
     "text": [
      "\r",
      "Episode 6|Iteration 37|reward:  242.0|last_reward_at:   35|Elapsed Time: 0:00:00||"
     ]
    },
    {
     "name": "stderr",
     "output_type": "stream",
     "text": [
      "\r",
      "Episode 6|Iteration 37|reward:  242.0|last_reward_at:   37|Elapsed Time: 0:00:00||"
     ]
    },
    {
     "name": "stderr",
     "output_type": "stream",
     "text": [
      "\r",
      "Episode 6|Iteration 40|reward:  248.0|last_reward_at:   37|Elapsed Time: 0:00:00||"
     ]
    },
    {
     "name": "stderr",
     "output_type": "stream",
     "text": [
      "\r",
      "Episode 6|Iteration 40|reward:  248.0|last_reward_at:   40|Elapsed Time: 0:00:00||"
     ]
    },
    {
     "name": "stderr",
     "output_type": "stream",
     "text": [
      "\r",
      "Episode 6|Iteration 56|reward:  250.0|last_reward_at:   40|Elapsed Time: 0:00:00||"
     ]
    },
    {
     "name": "stderr",
     "output_type": "stream",
     "text": [
      "\r",
      "Episode 6|Iteration 56|reward:  250.0|last_reward_at:   56|Elapsed Time: 0:00:00||"
     ]
    },
    {
     "name": "stderr",
     "output_type": "stream",
     "text": [
      "\r",
      "Episode 6|Iteration 65|reward:  254.0|last_reward_at:   56|Elapsed Time: 0:00:00||"
     ]
    },
    {
     "name": "stderr",
     "output_type": "stream",
     "text": [
      "\r",
      "Episode 6|Iteration 65|reward:  254.0|last_reward_at:   65|Elapsed Time: 0:00:00||"
     ]
    },
    {
     "name": "stderr",
     "output_type": "stream",
     "text": [
      "\r",
      "Episode 6|Iteration 77|reward:  263.0|last_reward_at:   65|Elapsed Time: 0:00:00||"
     ]
    },
    {
     "name": "stderr",
     "output_type": "stream",
     "text": [
      "\r",
      "Episode 6|Iteration 77|reward:  263.0|last_reward_at:   77|Elapsed Time: 0:00:00||"
     ]
    },
    {
     "name": "stderr",
     "output_type": "stream",
     "text": [
      "\r",
      "Episode 6|Iteration 80|reward:  363.0|last_reward_at:   77|Elapsed Time: 0:00:00||"
     ]
    },
    {
     "name": "stderr",
     "output_type": "stream",
     "text": [
      "\r",
      "Episode 6|Iteration 80|reward:  363.0|last_reward_at:   80|Elapsed Time: 0:00:00||"
     ]
    },
    {
     "name": "stderr",
     "output_type": "stream",
     "text": [
      "\r",
      "Episode 6|Iteration 81|reward:  369.0|last_reward_at:   80|Elapsed Time: 0:00:00||"
     ]
    },
    {
     "name": "stderr",
     "output_type": "stream",
     "text": [
      "\r",
      "Episode 6|Iteration 81|reward:  369.0|last_reward_at:   81|Elapsed Time: 0:00:00||"
     ]
    },
    {
     "name": "stderr",
     "output_type": "stream",
     "text": [
      "\r",
      "Episode 6|Iteration 93|reward:  377.0|last_reward_at:   81|Elapsed Time: 0:00:00||"
     ]
    },
    {
     "name": "stderr",
     "output_type": "stream",
     "text": [
      "\r",
      "Episode 6|Iteration 93|reward:  377.0|last_reward_at:   93|Elapsed Time: 0:00:00||"
     ]
    },
    {
     "name": "stderr",
     "output_type": "stream",
     "text": [
      "\r",
      "Episode 6|Iteration 105|reward:  383.0|last_reward_at:   93|Elapsed Time: 0:00:00||"
     ]
    },
    {
     "name": "stderr",
     "output_type": "stream",
     "text": [
      "\r",
      "Episode 6|Iteration 105|reward:  383.0|last_reward_at:  105|Elapsed Time: 0:00:00||"
     ]
    },
    {
     "name": "stderr",
     "output_type": "stream",
     "text": [
      "\r",
      "Episode 6|Iteration 137|reward:  383.0|last_reward_at:  105|Elapsed Time: 0:00:00||"
     ]
    },
    {
     "name": "stderr",
     "output_type": "stream",
     "text": [
      "\r",
      "Episode 6|Iteration 175|reward:  383.0|last_reward_at:  105|Elapsed Time: 0:00:00||"
     ]
    },
    {
     "name": "stderr",
     "output_type": "stream",
     "text": [
      "\r",
      "Episode 6|Iteration 213|reward:  383.0|last_reward_at:  105|Elapsed Time: 0:00:00||"
     ]
    },
    {
     "name": "stderr",
     "output_type": "stream",
     "text": [
      "\r",
      "Episode 6|Iteration 244|reward:  383.0|last_reward_at:  105|Elapsed Time: 0:00:00||"
     ]
    },
    {
     "name": "stderr",
     "output_type": "stream",
     "text": [
      "\r",
      "Episode 6|Iteration 274|reward:  383.0|last_reward_at:  105|Elapsed Time: 0:00:00||"
     ]
    },
    {
     "name": "stderr",
     "output_type": "stream",
     "text": [
      "\r",
      "Episode 6|Iteration 304|reward:  383.0|last_reward_at:  105|Elapsed Time: 0:00:00||"
     ]
    },
    {
     "name": "stderr",
     "output_type": "stream",
     "text": [
      "\r",
      "Episode 6|Iteration 335|reward:  383.0|last_reward_at:  105|Elapsed Time: 0:00:00||"
     ]
    },
    {
     "name": "stderr",
     "output_type": "stream",
     "text": [
      "\r",
      "Episode 6|Iteration 373|reward:  383.0|last_reward_at:  105|Elapsed Time: 0:00:00||"
     ]
    },
    {
     "name": "stderr",
     "output_type": "stream",
     "text": [
      "\r",
      "Episode 6|Iteration 411|reward:  383.0|last_reward_at:  105|Elapsed Time: 0:00:00||"
     ]
    },
    {
     "name": "stderr",
     "output_type": "stream",
     "text": [
      "\r",
      "Episode 6|Iteration 441|reward:  383.0|last_reward_at:  105|Elapsed Time: 0:00:00||"
     ]
    },
    {
     "name": "stderr",
     "output_type": "stream",
     "text": [
      "\r",
      "Episode 6|Iteration 479|reward:  383.0|last_reward_at:  105|Elapsed Time: 0:00:00||"
     ]
    },
    {
     "name": "stderr",
     "output_type": "stream",
     "text": [
      "\r",
      "Episode 6|Iteration 517|reward:  383.0|last_reward_at:  105|Elapsed Time: 0:00:00||"
     ]
    },
    {
     "name": "stderr",
     "output_type": "stream",
     "text": [
      "\r",
      "Episode 6|Iteration 555|reward:  383.0|last_reward_at:  105|Elapsed Time: 0:00:00||"
     ]
    },
    {
     "name": "stderr",
     "output_type": "stream",
     "text": [
      "\r",
      "Episode 6|Iteration 593|reward:  383.0|last_reward_at:  105|Elapsed Time: 0:00:01||"
     ]
    },
    {
     "name": "stderr",
     "output_type": "stream",
     "text": [
      "\r",
      "Episode 6|Iteration 600|reward:  383.0|last_reward_at:  105|Elapsed Time: 0:00:01||"
     ]
    },
    {
     "name": "stderr",
     "output_type": "stream",
     "text": [
      "\n"
     ]
    },
    {
     "name": "stdout",
     "output_type": "stream",
     "text": [
      "  Episode 6 stopped at t=600 \n",
      "  Breakdown [Reward/NoReward (Success rate)]\n",
      "    explore-local: 6/67 (0.08)\n",
      "    explore-remote: 8/343 (0.02)\n",
      "    explore-connect: 0/0 (NaN)\n",
      "    exploit-local: 0/0 (NaN)\n",
      "    exploit-remote: 0/0 (NaN)\n",
      "    exploit-connect: 3/173 (0.02)\n",
      "  exploit deflected to exploration: 10\n",
      "  ## Episode: 7/10 'Credential lookups (ϵ-greedy)' ϵ=0.6815, \n"
     ]
    },
    {
     "name": "stderr",
     "output_type": "stream",
     "text": [
      "\r",
      "Episode 7|Iteration 0|reward: ------|last_reward_at: ----|Elapsed Time: 0:00:00||"
     ]
    },
    {
     "name": "stderr",
     "output_type": "stream",
     "text": [
      "\r",
      "Episode 7|Iteration 1|reward:    0.0|last_reward_at: ----|Elapsed Time: 0:00:00||"
     ]
    },
    {
     "name": "stderr",
     "output_type": "stream",
     "text": [
      "\r",
      "Episode 7|Iteration 4|reward:    9.0|last_reward_at: ----|Elapsed Time: 0:00:00||"
     ]
    },
    {
     "name": "stderr",
     "output_type": "stream",
     "text": [
      "\r",
      "Episode 7|Iteration 4|reward:    9.0|last_reward_at:    4|Elapsed Time: 0:00:00||"
     ]
    },
    {
     "name": "stderr",
     "output_type": "stream",
     "text": [
      "\r",
      "Episode 7|Iteration 6|reward:  109.0|last_reward_at:    4|Elapsed Time: 0:00:00||"
     ]
    },
    {
     "name": "stderr",
     "output_type": "stream",
     "text": [
      "\r",
      "Episode 7|Iteration 6|reward:  109.0|last_reward_at:    6|Elapsed Time: 0:00:00||"
     ]
    },
    {
     "name": "stderr",
     "output_type": "stream",
     "text": [
      "\r",
      "Episode 7|Iteration 8|reward:  111.0|last_reward_at:    6|Elapsed Time: 0:00:00||"
     ]
    },
    {
     "name": "stderr",
     "output_type": "stream",
     "text": [
      "\r",
      "Episode 7|Iteration 8|reward:  111.0|last_reward_at:    8|Elapsed Time: 0:00:00||"
     ]
    },
    {
     "name": "stderr",
     "output_type": "stream",
     "text": [
      "\r",
      "Episode 7|Iteration 12|reward:  113.0|last_reward_at:    8|Elapsed Time: 0:00:00||"
     ]
    },
    {
     "name": "stderr",
     "output_type": "stream",
     "text": [
      "\r",
      "Episode 7|Iteration 12|reward:  113.0|last_reward_at:   12|Elapsed Time: 0:00:00||"
     ]
    },
    {
     "name": "stderr",
     "output_type": "stream",
     "text": [
      "\r",
      "Episode 7|Iteration 17|reward:  119.0|last_reward_at:   12|Elapsed Time: 0:00:00||"
     ]
    },
    {
     "name": "stderr",
     "output_type": "stream",
     "text": [
      "\r",
      "Episode 7|Iteration 17|reward:  119.0|last_reward_at:   17|Elapsed Time: 0:00:00||"
     ]
    },
    {
     "name": "stderr",
     "output_type": "stream",
     "text": [
      "\r",
      "Episode 7|Iteration 19|reward:  127.0|last_reward_at:   17|Elapsed Time: 0:00:00||"
     ]
    },
    {
     "name": "stderr",
     "output_type": "stream",
     "text": [
      "\r",
      "Episode 7|Iteration 19|reward:  127.0|last_reward_at:   19|Elapsed Time: 0:00:00||"
     ]
    },
    {
     "name": "stderr",
     "output_type": "stream",
     "text": [
      "\r",
      "Episode 7|Iteration 20|reward:  136.0|last_reward_at:   19|Elapsed Time: 0:00:00||"
     ]
    },
    {
     "name": "stderr",
     "output_type": "stream",
     "text": [
      "\r",
      "Episode 7|Iteration 20|reward:  136.0|last_reward_at:   20|Elapsed Time: 0:00:00||"
     ]
    },
    {
     "name": "stderr",
     "output_type": "stream",
     "text": [
      "\r",
      "Episode 7|Iteration 21|reward:  236.0|last_reward_at:   20|Elapsed Time: 0:00:00||"
     ]
    },
    {
     "name": "stderr",
     "output_type": "stream",
     "text": [
      "\r",
      "Episode 7|Iteration 21|reward:  236.0|last_reward_at:   21|Elapsed Time: 0:00:00||"
     ]
    },
    {
     "name": "stderr",
     "output_type": "stream",
     "text": [
      "\r",
      "Episode 7|Iteration 25|reward:  242.0|last_reward_at:   21|Elapsed Time: 0:00:00||"
     ]
    },
    {
     "name": "stderr",
     "output_type": "stream",
     "text": [
      "\r",
      "Episode 7|Iteration 25|reward:  242.0|last_reward_at:   25|Elapsed Time: 0:00:00||"
     ]
    },
    {
     "name": "stderr",
     "output_type": "stream",
     "text": [
      "\r",
      "Episode 7|Iteration 69|reward:  242.0|last_reward_at:   25|Elapsed Time: 0:00:00||"
     ]
    },
    {
     "name": "stderr",
     "output_type": "stream",
     "text": [
      "\r",
      "Episode 7|Iteration 107|reward:  242.0|last_reward_at:   25|Elapsed Time: 0:00:00||"
     ]
    },
    {
     "name": "stderr",
     "output_type": "stream",
     "text": [
      "\r",
      "Episode 7|Iteration 145|reward:  242.0|last_reward_at:   25|Elapsed Time: 0:00:00||"
     ]
    },
    {
     "name": "stderr",
     "output_type": "stream",
     "text": [
      "\r",
      "Episode 7|Iteration 183|reward:  242.0|last_reward_at:   25|Elapsed Time: 0:00:00||"
     ]
    },
    {
     "name": "stderr",
     "output_type": "stream",
     "text": [
      "\r",
      "Episode 7|Iteration 221|reward:  242.0|last_reward_at:   25|Elapsed Time: 0:00:00||"
     ]
    },
    {
     "name": "stderr",
     "output_type": "stream",
     "text": [
      "\r",
      "Episode 7|Iteration 259|reward:  242.0|last_reward_at:   25|Elapsed Time: 0:00:00||"
     ]
    },
    {
     "name": "stderr",
     "output_type": "stream",
     "text": [
      "\r",
      "Episode 7|Iteration 297|reward:  242.0|last_reward_at:   25|Elapsed Time: 0:00:00||"
     ]
    },
    {
     "name": "stderr",
     "output_type": "stream",
     "text": [
      "\r",
      "Episode 7|Iteration 335|reward:  242.0|last_reward_at:   25|Elapsed Time: 0:00:00||"
     ]
    },
    {
     "name": "stderr",
     "output_type": "stream",
     "text": [
      "\r",
      "Episode 7|Iteration 365|reward:  242.0|last_reward_at:   25|Elapsed Time: 0:00:00||"
     ]
    },
    {
     "name": "stderr",
     "output_type": "stream",
     "text": [
      "\r",
      "Episode 7|Iteration 403|reward:  242.0|last_reward_at:   25|Elapsed Time: 0:00:00||"
     ]
    },
    {
     "name": "stderr",
     "output_type": "stream",
     "text": [
      "\r",
      "Episode 7|Iteration 441|reward:  242.0|last_reward_at:   25|Elapsed Time: 0:00:00||"
     ]
    },
    {
     "name": "stderr",
     "output_type": "stream",
     "text": [
      "\r",
      "Episode 7|Iteration 479|reward:  242.0|last_reward_at:   25|Elapsed Time: 0:00:00||"
     ]
    },
    {
     "name": "stderr",
     "output_type": "stream",
     "text": [
      "\r",
      "Episode 7|Iteration 517|reward:  242.0|last_reward_at:   25|Elapsed Time: 0:00:00||"
     ]
    },
    {
     "name": "stderr",
     "output_type": "stream",
     "text": [
      "\r",
      "Episode 7|Iteration 555|reward:  242.0|last_reward_at:   25|Elapsed Time: 0:00:00||"
     ]
    },
    {
     "name": "stderr",
     "output_type": "stream",
     "text": [
      "\r",
      "Episode 7|Iteration 593|reward:  242.0|last_reward_at:   25|Elapsed Time: 0:00:00||"
     ]
    },
    {
     "name": "stderr",
     "output_type": "stream",
     "text": [
      "\r",
      "Episode 7|Iteration 600|reward:  242.0|last_reward_at:   25|Elapsed Time: 0:00:00||"
     ]
    },
    {
     "name": "stderr",
     "output_type": "stream",
     "text": [
      "\n"
     ]
    },
    {
     "name": "stdout",
     "output_type": "stream",
     "text": [
      "  Episode 7 stopped at t=600 \n",
      "  Breakdown [Reward/NoReward (Success rate)]\n",
      "    explore-local: 3/47 (0.06)\n",
      "    explore-remote: 4/352 (0.01)\n",
      "    explore-connect: 0/0 (NaN)\n",
      "    exploit-local: 0/0 (NaN)\n",
      "    exploit-remote: 0/0 (NaN)\n",
      "    exploit-connect: 2/192 (0.01)\n",
      "  exploit deflected to exploration: 14\n",
      "  ## Episode: 8/10 'Credential lookups (ϵ-greedy)' ϵ=0.6476, \n"
     ]
    },
    {
     "name": "stderr",
     "output_type": "stream",
     "text": [
      "\r",
      "Episode 8|Iteration 0|reward: ------|last_reward_at: ----|Elapsed Time: 0:00:00||"
     ]
    },
    {
     "name": "stderr",
     "output_type": "stream",
     "text": [
      "\r",
      "Episode 8|Iteration 1|reward:    9.0|last_reward_at: ----|Elapsed Time: 0:00:00||"
     ]
    },
    {
     "name": "stderr",
     "output_type": "stream",
     "text": [
      "\r",
      "Episode 8|Iteration 1|reward:    9.0|last_reward_at:    1|Elapsed Time: 0:00:00||"
     ]
    },
    {
     "name": "stderr",
     "output_type": "stream",
     "text": [
      "\r",
      "Episode 8|Iteration 6|reward:  109.0|last_reward_at:    1|Elapsed Time: 0:00:00||"
     ]
    },
    {
     "name": "stderr",
     "output_type": "stream",
     "text": [
      "\r",
      "Episode 8|Iteration 6|reward:  109.0|last_reward_at:    6|Elapsed Time: 0:00:00||"
     ]
    },
    {
     "name": "stderr",
     "output_type": "stream",
     "text": [
      "\r",
      "Episode 8|Iteration 9|reward:  118.0|last_reward_at:    6|Elapsed Time: 0:00:00||"
     ]
    },
    {
     "name": "stderr",
     "output_type": "stream",
     "text": [
      "\r",
      "Episode 8|Iteration 9|reward:  118.0|last_reward_at:    9|Elapsed Time: 0:00:00||"
     ]
    },
    {
     "name": "stderr",
     "output_type": "stream",
     "text": [
      "\r",
      "Episode 8|Iteration 10|reward:  218.0|last_reward_at:    9|Elapsed Time: 0:00:00||"
     ]
    },
    {
     "name": "stderr",
     "output_type": "stream",
     "text": [
      "\r",
      "Episode 8|Iteration 10|reward:  218.0|last_reward_at:   10|Elapsed Time: 0:00:00||"
     ]
    },
    {
     "name": "stderr",
     "output_type": "stream",
     "text": [
      "\r",
      "Episode 8|Iteration 11|reward:  220.0|last_reward_at:   10|Elapsed Time: 0:00:00||"
     ]
    },
    {
     "name": "stderr",
     "output_type": "stream",
     "text": [
      "\r",
      "Episode 8|Iteration 11|reward:  220.0|last_reward_at:   11|Elapsed Time: 0:00:00||"
     ]
    },
    {
     "name": "stderr",
     "output_type": "stream",
     "text": [
      "\r",
      "Episode 8|Iteration 13|reward:  226.0|last_reward_at:   11|Elapsed Time: 0:00:00||"
     ]
    },
    {
     "name": "stderr",
     "output_type": "stream",
     "text": [
      "\r",
      "Episode 8|Iteration 13|reward:  226.0|last_reward_at:   13|Elapsed Time: 0:00:00||"
     ]
    },
    {
     "name": "stderr",
     "output_type": "stream",
     "text": [
      "\r",
      "Episode 8|Iteration 15|reward:  228.0|last_reward_at:   13|Elapsed Time: 0:00:00||"
     ]
    },
    {
     "name": "stderr",
     "output_type": "stream",
     "text": [
      "\r",
      "Episode 8|Iteration 15|reward:  228.0|last_reward_at:   15|Elapsed Time: 0:00:00||"
     ]
    },
    {
     "name": "stderr",
     "output_type": "stream",
     "text": [
      "\r",
      "Episode 8|Iteration 27|reward:  234.0|last_reward_at:   15|Elapsed Time: 0:00:00||"
     ]
    },
    {
     "name": "stderr",
     "output_type": "stream",
     "text": [
      "\r",
      "Episode 8|Iteration 27|reward:  234.0|last_reward_at:   27|Elapsed Time: 0:00:00||"
     ]
    },
    {
     "name": "stderr",
     "output_type": "stream",
     "text": [
      "\r",
      "Episode 8|Iteration 29|reward:  240.0|last_reward_at:   27|Elapsed Time: 0:00:00||"
     ]
    },
    {
     "name": "stderr",
     "output_type": "stream",
     "text": [
      "\r",
      "Episode 8|Iteration 29|reward:  240.0|last_reward_at:   29|Elapsed Time: 0:00:00||"
     ]
    },
    {
     "name": "stderr",
     "output_type": "stream",
     "text": [
      "\r",
      "Episode 8|Iteration 69|reward:  240.0|last_reward_at:   29|Elapsed Time: 0:00:00||"
     ]
    },
    {
     "name": "stderr",
     "output_type": "stream",
     "text": [
      "\r",
      "Episode 8|Iteration 107|reward:  240.0|last_reward_at:   29|Elapsed Time: 0:00:00||"
     ]
    },
    {
     "name": "stderr",
     "output_type": "stream",
     "text": [
      "\r",
      "Episode 8|Iteration 145|reward:  240.0|last_reward_at:   29|Elapsed Time: 0:00:00||"
     ]
    },
    {
     "name": "stderr",
     "output_type": "stream",
     "text": [
      "\r",
      "Episode 8|Iteration 183|reward:  240.0|last_reward_at:   29|Elapsed Time: 0:00:00||"
     ]
    },
    {
     "name": "stderr",
     "output_type": "stream",
     "text": [
      "\r",
      "Episode 8|Iteration 221|reward:  240.0|last_reward_at:   29|Elapsed Time: 0:00:00||"
     ]
    },
    {
     "name": "stderr",
     "output_type": "stream",
     "text": [
      "\r",
      "Episode 8|Iteration 266|reward:  240.0|last_reward_at:   29|Elapsed Time: 0:00:00||"
     ]
    },
    {
     "name": "stderr",
     "output_type": "stream",
     "text": [
      "\r",
      "Episode 8|Iteration 304|reward:  240.0|last_reward_at:   29|Elapsed Time: 0:00:00||"
     ]
    },
    {
     "name": "stderr",
     "output_type": "stream",
     "text": [
      "\r",
      "Episode 8|Iteration 342|reward:  240.0|last_reward_at:   29|Elapsed Time: 0:00:00||"
     ]
    },
    {
     "name": "stderr",
     "output_type": "stream",
     "text": [
      "\r",
      "Episode 8|Iteration 380|reward:  240.0|last_reward_at:   29|Elapsed Time: 0:00:00||"
     ]
    },
    {
     "name": "stderr",
     "output_type": "stream",
     "text": [
      "\r",
      "Episode 8|Iteration 418|reward:  240.0|last_reward_at:   29|Elapsed Time: 0:00:00||"
     ]
    },
    {
     "name": "stderr",
     "output_type": "stream",
     "text": [
      "\r",
      "Episode 8|Iteration 456|reward:  240.0|last_reward_at:   29|Elapsed Time: 0:00:00||"
     ]
    },
    {
     "name": "stderr",
     "output_type": "stream",
     "text": [
      "\r",
      "Episode 8|Iteration 494|reward:  240.0|last_reward_at:   29|Elapsed Time: 0:00:00||"
     ]
    },
    {
     "name": "stderr",
     "output_type": "stream",
     "text": [
      "\r",
      "Episode 8|Iteration 532|reward:  240.0|last_reward_at:   29|Elapsed Time: 0:00:00||"
     ]
    },
    {
     "name": "stderr",
     "output_type": "stream",
     "text": [
      "\r",
      "Episode 8|Iteration 570|reward:  240.0|last_reward_at:   29|Elapsed Time: 0:00:00||"
     ]
    },
    {
     "name": "stderr",
     "output_type": "stream",
     "text": [
      "\r",
      "Episode 8|Iteration 600|reward:  240.0|last_reward_at:   29|Elapsed Time: 0:00:00||"
     ]
    },
    {
     "name": "stderr",
     "output_type": "stream",
     "text": [
      "\n"
     ]
    },
    {
     "name": "stdout",
     "output_type": "stream",
     "text": [
      "  Episode 8 stopped at t=600 \n",
      "  Breakdown [Reward/NoReward (Success rate)]\n",
      "    explore-local: 3/92 (0.03)\n",
      "    explore-remote: 4/288 (0.01)\n",
      "    explore-connect: 0/0 (NaN)\n",
      "    exploit-local: 0/0 (NaN)\n",
      "    exploit-remote: 0/0 (NaN)\n",
      "    exploit-connect: 2/211 (0.01)\n",
      "  exploit deflected to exploration: 2\n",
      "  ## Episode: 9/10 'Credential lookups (ϵ-greedy)' ϵ=0.6157, \n"
     ]
    },
    {
     "name": "stderr",
     "output_type": "stream",
     "text": [
      "\r",
      "Episode 9|Iteration 0|reward: ------|last_reward_at: ----|Elapsed Time: 0:00:00||"
     ]
    },
    {
     "name": "stderr",
     "output_type": "stream",
     "text": [
      "\r",
      "Episode 9|Iteration 1|reward:    0.0|last_reward_at: ----|Elapsed Time: 0:00:00||"
     ]
    },
    {
     "name": "stderr",
     "output_type": "stream",
     "text": [
      "\r",
      "Episode 9|Iteration 2|reward:    9.0|last_reward_at: ----|Elapsed Time: 0:00:00||"
     ]
    },
    {
     "name": "stderr",
     "output_type": "stream",
     "text": [
      "\r",
      "Episode 9|Iteration 2|reward:    9.0|last_reward_at:    2|Elapsed Time: 0:00:00||"
     ]
    },
    {
     "name": "stderr",
     "output_type": "stream",
     "text": [
      "\r",
      "Episode 9|Iteration 3|reward:  109.0|last_reward_at:    2|Elapsed Time: 0:00:00||"
     ]
    },
    {
     "name": "stderr",
     "output_type": "stream",
     "text": [
      "\r",
      "Episode 9|Iteration 3|reward:  109.0|last_reward_at:    3|Elapsed Time: 0:00:00||"
     ]
    },
    {
     "name": "stderr",
     "output_type": "stream",
     "text": [
      "\r",
      "Episode 9|Iteration 4|reward:  115.0|last_reward_at:    3|Elapsed Time: 0:00:00||"
     ]
    },
    {
     "name": "stderr",
     "output_type": "stream",
     "text": [
      "\r",
      "Episode 9|Iteration 4|reward:  115.0|last_reward_at:    4|Elapsed Time: 0:00:00||"
     ]
    },
    {
     "name": "stderr",
     "output_type": "stream",
     "text": [
      "\r",
      "Episode 9|Iteration 5|reward:  123.0|last_reward_at:    4|Elapsed Time: 0:00:00||"
     ]
    },
    {
     "name": "stderr",
     "output_type": "stream",
     "text": [
      "\r",
      "Episode 9|Iteration 5|reward:  123.0|last_reward_at:    5|Elapsed Time: 0:00:00||"
     ]
    },
    {
     "name": "stderr",
     "output_type": "stream",
     "text": [
      "\r",
      "Episode 9|Iteration 6|reward:  132.0|last_reward_at:    5|Elapsed Time: 0:00:00||"
     ]
    },
    {
     "name": "stderr",
     "output_type": "stream",
     "text": [
      "\r",
      "Episode 9|Iteration 6|reward:  132.0|last_reward_at:    6|Elapsed Time: 0:00:00||"
     ]
    },
    {
     "name": "stderr",
     "output_type": "stream",
     "text": [
      "\r",
      "Episode 9|Iteration 7|reward:  232.0|last_reward_at:    6|Elapsed Time: 0:00:00||"
     ]
    },
    {
     "name": "stderr",
     "output_type": "stream",
     "text": [
      "\r",
      "Episode 9|Iteration 7|reward:  232.0|last_reward_at:    7|Elapsed Time: 0:00:00||"
     ]
    },
    {
     "name": "stderr",
     "output_type": "stream",
     "text": [
      "\r",
      "Episode 9|Iteration 11|reward:  238.0|last_reward_at:    7|Elapsed Time: 0:00:00||"
     ]
    },
    {
     "name": "stderr",
     "output_type": "stream",
     "text": [
      "\r",
      "Episode 9|Iteration 11|reward:  238.0|last_reward_at:   11|Elapsed Time: 0:00:00||"
     ]
    },
    {
     "name": "stderr",
     "output_type": "stream",
     "text": [
      "\r",
      "Episode 9|Iteration 16|reward:  240.0|last_reward_at:   11|Elapsed Time: 0:00:00||"
     ]
    },
    {
     "name": "stderr",
     "output_type": "stream",
     "text": [
      "\r",
      "Episode 9|Iteration 16|reward:  240.0|last_reward_at:   16|Elapsed Time: 0:00:00||"
     ]
    },
    {
     "name": "stderr",
     "output_type": "stream",
     "text": [
      "\r",
      "Episode 9|Iteration 28|reward:  242.0|last_reward_at:   16|Elapsed Time: 0:00:00||"
     ]
    },
    {
     "name": "stderr",
     "output_type": "stream",
     "text": [
      "\r",
      "Episode 9|Iteration 28|reward:  242.0|last_reward_at:   28|Elapsed Time: 0:00:00||"
     ]
    },
    {
     "name": "stderr",
     "output_type": "stream",
     "text": [
      "\r",
      "Episode 9|Iteration 31|reward:  251.0|last_reward_at:   28|Elapsed Time: 0:00:00||"
     ]
    },
    {
     "name": "stderr",
     "output_type": "stream",
     "text": [
      "\r",
      "Episode 9|Iteration 31|reward:  251.0|last_reward_at:   31|Elapsed Time: 0:00:00||"
     ]
    },
    {
     "name": "stderr",
     "output_type": "stream",
     "text": [
      "\r",
      "Episode 9|Iteration 33|reward:  351.0|last_reward_at:   31|Elapsed Time: 0:00:00||"
     ]
    },
    {
     "name": "stderr",
     "output_type": "stream",
     "text": [
      "\r",
      "Episode 9|Iteration 33|reward:  351.0|last_reward_at:   33|Elapsed Time: 0:00:00||"
     ]
    },
    {
     "name": "stderr",
     "output_type": "stream",
     "text": [
      "\r",
      "Episode 9|Iteration 34|reward:  353.0|last_reward_at:   33|Elapsed Time: 0:00:00||"
     ]
    },
    {
     "name": "stderr",
     "output_type": "stream",
     "text": [
      "\r",
      "Episode 9|Iteration 34|reward:  353.0|last_reward_at:   34|Elapsed Time: 0:00:00||"
     ]
    },
    {
     "name": "stderr",
     "output_type": "stream",
     "text": [
      "\r",
      "Episode 9|Iteration 37|reward:  359.0|last_reward_at:   34|Elapsed Time: 0:00:00||"
     ]
    },
    {
     "name": "stderr",
     "output_type": "stream",
     "text": [
      "\r",
      "Episode 9|Iteration 37|reward:  359.0|last_reward_at:   37|Elapsed Time: 0:00:00||"
     ]
    },
    {
     "name": "stderr",
     "output_type": "stream",
     "text": [
      "\r",
      "Episode 9|Iteration 42|reward:  365.0|last_reward_at:   37|Elapsed Time: 0:00:00||"
     ]
    },
    {
     "name": "stderr",
     "output_type": "stream",
     "text": [
      "\r",
      "Episode 9|Iteration 42|reward:  365.0|last_reward_at:   42|Elapsed Time: 0:00:00||"
     ]
    },
    {
     "name": "stderr",
     "output_type": "stream",
     "text": [
      "\r",
      "Episode 9|Iteration 63|reward:  367.0|last_reward_at:   42|Elapsed Time: 0:00:00||"
     ]
    },
    {
     "name": "stderr",
     "output_type": "stream",
     "text": [
      "\r",
      "Episode 9|Iteration 63|reward:  367.0|last_reward_at:   63|Elapsed Time: 0:00:00||"
     ]
    },
    {
     "name": "stderr",
     "output_type": "stream",
     "text": [
      "\r",
      "Episode 9|Iteration 65|reward:  376.0|last_reward_at:   63|Elapsed Time: 0:00:00||"
     ]
    },
    {
     "name": "stderr",
     "output_type": "stream",
     "text": [
      "\r",
      "Episode 9|Iteration 65|reward:  376.0|last_reward_at:   65|Elapsed Time: 0:00:00||"
     ]
    },
    {
     "name": "stderr",
     "output_type": "stream",
     "text": [
      "\r",
      "Episode 9|Iteration 71|reward:  476.0|last_reward_at:   65|Elapsed Time: 0:00:00||"
     ]
    },
    {
     "name": "stderr",
     "output_type": "stream",
     "text": [
      "\r",
      "Episode 9|Iteration 71|reward:  476.0|last_reward_at:   71|Elapsed Time: 0:00:00||"
     ]
    },
    {
     "name": "stderr",
     "output_type": "stream",
     "text": [
      "\r",
      "Episode 9|Iteration 73|reward:  482.0|last_reward_at:   71|Elapsed Time: 0:00:00||"
     ]
    },
    {
     "name": "stderr",
     "output_type": "stream",
     "text": [
      "\r",
      "Episode 9|Iteration 73|reward:  482.0|last_reward_at:   73|Elapsed Time: 0:00:00||"
     ]
    },
    {
     "name": "stderr",
     "output_type": "stream",
     "text": [
      "\r",
      "Episode 9|Iteration 80|reward:  491.0|last_reward_at:   73|Elapsed Time: 0:00:00||"
     ]
    },
    {
     "name": "stderr",
     "output_type": "stream",
     "text": [
      "\r",
      "Episode 9|Iteration 80|reward:  491.0|last_reward_at:   80|Elapsed Time: 0:00:00||"
     ]
    },
    {
     "name": "stderr",
     "output_type": "stream",
     "text": [
      "\r",
      "Episode 9|Iteration 82|reward:  497.0|last_reward_at:   80|Elapsed Time: 0:00:00||"
     ]
    },
    {
     "name": "stderr",
     "output_type": "stream",
     "text": [
      "\r",
      "Episode 9|Iteration 82|reward:  497.0|last_reward_at:   82|Elapsed Time: 0:00:00||"
     ]
    },
    {
     "name": "stderr",
     "output_type": "stream",
     "text": [
      "\r",
      "Episode 9|Iteration 94|reward:  501.0|last_reward_at:   82|Elapsed Time: 0:00:00||"
     ]
    },
    {
     "name": "stderr",
     "output_type": "stream",
     "text": [
      "\r",
      "Episode 9|Iteration 94|reward:  501.0|last_reward_at:   94|Elapsed Time: 0:00:00||"
     ]
    },
    {
     "name": "stderr",
     "output_type": "stream",
     "text": [
      "\r",
      "Episode 9|Iteration 100|reward:  601.0|last_reward_at:   94|Elapsed Time: 0:00:00||"
     ]
    },
    {
     "name": "stderr",
     "output_type": "stream",
     "text": [
      "\r",
      "Episode 9|Iteration 100|reward:  601.0|last_reward_at:  100|Elapsed Time: 0:00:00||"
     ]
    },
    {
     "name": "stderr",
     "output_type": "stream",
     "text": [
      "\r",
      "Episode 9|Iteration 102|reward:  610.0|last_reward_at:  100|Elapsed Time: 0:00:00||"
     ]
    },
    {
     "name": "stderr",
     "output_type": "stream",
     "text": [
      "\r",
      "Episode 9|Iteration 102|reward:  610.0|last_reward_at:  102|Elapsed Time: 0:00:00||"
     ]
    },
    {
     "name": "stderr",
     "output_type": "stream",
     "text": [
      "\r",
      "Episode 9|Iteration 103|reward:  710.0|last_reward_at:  102|Elapsed Time: 0:00:00||"
     ]
    },
    {
     "name": "stderr",
     "output_type": "stream",
     "text": [
      "\r",
      "Episode 9|Iteration 103|reward:  710.0|last_reward_at:  103|Elapsed Time: 0:00:00||"
     ]
    },
    {
     "name": "stderr",
     "output_type": "stream",
     "text": [
      "\r",
      "Episode 9|Iteration 109|reward:  712.0|last_reward_at:  103|Elapsed Time: 0:00:00||"
     ]
    },
    {
     "name": "stderr",
     "output_type": "stream",
     "text": [
      "\r",
      "Episode 9|Iteration 109|reward:  712.0|last_reward_at:  109|Elapsed Time: 0:00:00||"
     ]
    },
    {
     "name": "stderr",
     "output_type": "stream",
     "text": [
      "\r",
      "Episode 9|Iteration 116|reward:  718.0|last_reward_at:  109|Elapsed Time: 0:00:00||"
     ]
    },
    {
     "name": "stderr",
     "output_type": "stream",
     "text": [
      "\r",
      "Episode 9|Iteration 116|reward:  718.0|last_reward_at:  116|Elapsed Time: 0:00:00||"
     ]
    },
    {
     "name": "stderr",
     "output_type": "stream",
     "text": [
      "\r",
      "Episode 9|Iteration 130|reward:  724.0|last_reward_at:  116|Elapsed Time: 0:00:00||"
     ]
    },
    {
     "name": "stderr",
     "output_type": "stream",
     "text": [
      "\r",
      "Episode 9|Iteration 130|reward:  724.0|last_reward_at:  130|Elapsed Time: 0:00:00||"
     ]
    },
    {
     "name": "stderr",
     "output_type": "stream",
     "text": [
      "\r",
      "Episode 9|Iteration 168|reward:  724.0|last_reward_at:  130|Elapsed Time: 0:00:00||"
     ]
    },
    {
     "name": "stderr",
     "output_type": "stream",
     "text": [
      "\r",
      "Episode 9|Iteration 173|reward:  730.0|last_reward_at:  130|Elapsed Time: 0:00:00||"
     ]
    },
    {
     "name": "stderr",
     "output_type": "stream",
     "text": [
      "\r",
      "Episode 9|Iteration 173|reward:  730.0|last_reward_at:  173|Elapsed Time: 0:00:00||"
     ]
    },
    {
     "name": "stderr",
     "output_type": "stream",
     "text": [
      "\r",
      "Episode 9|Iteration 206|reward:  730.0|last_reward_at:  173|Elapsed Time: 0:00:00||"
     ]
    },
    {
     "name": "stderr",
     "output_type": "stream",
     "text": [
      "\r",
      "Episode 9|Iteration 236|reward:  730.0|last_reward_at:  173|Elapsed Time: 0:00:00||"
     ]
    },
    {
     "name": "stderr",
     "output_type": "stream",
     "text": [
      "\r",
      "Episode 9|Iteration 266|reward:  730.0|last_reward_at:  173|Elapsed Time: 0:00:00||"
     ]
    },
    {
     "name": "stderr",
     "output_type": "stream",
     "text": [
      "\r",
      "Episode 9|Iteration 297|reward:  730.0|last_reward_at:  173|Elapsed Time: 0:00:00||"
     ]
    },
    {
     "name": "stderr",
     "output_type": "stream",
     "text": [
      "\r",
      "Episode 9|Iteration 327|reward:  730.0|last_reward_at:  173|Elapsed Time: 0:00:00||"
     ]
    },
    {
     "name": "stderr",
     "output_type": "stream",
     "text": [
      "\r",
      "Episode 9|Iteration 357|reward:  730.0|last_reward_at:  173|Elapsed Time: 0:00:00||"
     ]
    },
    {
     "name": "stderr",
     "output_type": "stream",
     "text": [
      "\r",
      "Episode 9|Iteration 388|reward:  730.0|last_reward_at:  173|Elapsed Time: 0:00:00||"
     ]
    },
    {
     "name": "stderr",
     "output_type": "stream",
     "text": [
      "\r",
      "Episode 9|Iteration 418|reward:  730.0|last_reward_at:  173|Elapsed Time: 0:00:00||"
     ]
    },
    {
     "name": "stderr",
     "output_type": "stream",
     "text": [
      "\r",
      "Episode 9|Iteration 449|reward:  730.0|last_reward_at:  173|Elapsed Time: 0:00:00||"
     ]
    },
    {
     "name": "stderr",
     "output_type": "stream",
     "text": [
      "\r",
      "Episode 9|Iteration 479|reward:  730.0|last_reward_at:  173|Elapsed Time: 0:00:00||"
     ]
    },
    {
     "name": "stderr",
     "output_type": "stream",
     "text": [
      "\r",
      "Episode 9|Iteration 509|reward:  730.0|last_reward_at:  173|Elapsed Time: 0:00:00||"
     ]
    },
    {
     "name": "stderr",
     "output_type": "stream",
     "text": [
      "\r",
      "Episode 9|Iteration 532|reward:  730.0|last_reward_at:  173|Elapsed Time: 0:00:01||"
     ]
    },
    {
     "name": "stderr",
     "output_type": "stream",
     "text": [
      "\r",
      "Episode 9|Iteration 563|reward:  730.0|last_reward_at:  173|Elapsed Time: 0:00:01||"
     ]
    },
    {
     "name": "stderr",
     "output_type": "stream",
     "text": [
      "\r",
      "Episode 9|Iteration 600|reward:  730.0|last_reward_at:  173|Elapsed Time: 0:00:01||"
     ]
    },
    {
     "name": "stderr",
     "output_type": "stream",
     "text": [
      "\r",
      "Episode 9|Iteration 600|reward:  730.0|last_reward_at:  173|Elapsed Time: 0:00:01||"
     ]
    },
    {
     "name": "stderr",
     "output_type": "stream",
     "text": [
      "\n"
     ]
    },
    {
     "name": "stdout",
     "output_type": "stream",
     "text": [
      "  Episode 9 stopped at t=600 \n",
      "  Breakdown [Reward/NoReward (Success rate)]\n",
      "    explore-local: 10/74 (0.12)\n",
      "    explore-remote: 12/278 (0.04)\n",
      "    explore-connect: 0/0 (NaN)\n",
      "    exploit-local: 0/0 (NaN)\n",
      "    exploit-remote: 0/0 (NaN)\n",
      "    exploit-connect: 6/220 (0.03)\n",
      "  exploit deflected to exploration: 20\n",
      "  ## Episode: 10/10 'Credential lookups (ϵ-greedy)' ϵ=0.5857, \n"
     ]
    },
    {
     "name": "stderr",
     "output_type": "stream",
     "text": [
      "\r",
      "Episode 10|Iteration 0|reward: ------|last_reward_at: ----|Elapsed Time: 0:00:00||"
     ]
    },
    {
     "name": "stderr",
     "output_type": "stream",
     "text": [
      "\r",
      "Episode 10|Iteration 1|reward:    0.0|last_reward_at: ----|Elapsed Time: 0:00:00||"
     ]
    },
    {
     "name": "stderr",
     "output_type": "stream",
     "text": [
      "\r",
      "Episode 10|Iteration 13|reward:    9.0|last_reward_at: ----|Elapsed Time: 0:00:00||"
     ]
    },
    {
     "name": "stderr",
     "output_type": "stream",
     "text": [
      "\r",
      "Episode 10|Iteration 13|reward:    9.0|last_reward_at:   13|Elapsed Time: 0:00:00||"
     ]
    },
    {
     "name": "stderr",
     "output_type": "stream",
     "text": [
      "\r",
      "Episode 10|Iteration 14|reward:  109.0|last_reward_at:   13|Elapsed Time: 0:00:00||"
     ]
    },
    {
     "name": "stderr",
     "output_type": "stream",
     "text": [
      "\r",
      "Episode 10|Iteration 14|reward:  109.0|last_reward_at:   14|Elapsed Time: 0:00:00||"
     ]
    },
    {
     "name": "stderr",
     "output_type": "stream",
     "text": [
      "\r",
      "Episode 10|Iteration 16|reward:  118.0|last_reward_at:   14|Elapsed Time: 0:00:00||"
     ]
    },
    {
     "name": "stderr",
     "output_type": "stream",
     "text": [
      "\r",
      "Episode 10|Iteration 16|reward:  118.0|last_reward_at:   16|Elapsed Time: 0:00:00||"
     ]
    },
    {
     "name": "stderr",
     "output_type": "stream",
     "text": [
      "\r",
      "Episode 10|Iteration 17|reward:  126.0|last_reward_at:   16|Elapsed Time: 0:00:00||"
     ]
    },
    {
     "name": "stderr",
     "output_type": "stream",
     "text": [
      "\r",
      "Episode 10|Iteration 17|reward:  126.0|last_reward_at:   17|Elapsed Time: 0:00:00||"
     ]
    },
    {
     "name": "stderr",
     "output_type": "stream",
     "text": [
      "\r",
      "Episode 10|Iteration 18|reward:  226.0|last_reward_at:   17|Elapsed Time: 0:00:00||"
     ]
    },
    {
     "name": "stderr",
     "output_type": "stream",
     "text": [
      "\r",
      "Episode 10|Iteration 18|reward:  226.0|last_reward_at:   18|Elapsed Time: 0:00:00||"
     ]
    },
    {
     "name": "stderr",
     "output_type": "stream",
     "text": [
      "\r",
      "Episode 10|Iteration 19|reward:  232.0|last_reward_at:   18|Elapsed Time: 0:00:00||"
     ]
    },
    {
     "name": "stderr",
     "output_type": "stream",
     "text": [
      "\r",
      "Episode 10|Iteration 19|reward:  232.0|last_reward_at:   19|Elapsed Time: 0:00:00||"
     ]
    },
    {
     "name": "stderr",
     "output_type": "stream",
     "text": [
      "\r",
      "Episode 10|Iteration 21|reward:  234.0|last_reward_at:   19|Elapsed Time: 0:00:00||"
     ]
    },
    {
     "name": "stderr",
     "output_type": "stream",
     "text": [
      "\r",
      "Episode 10|Iteration 21|reward:  234.0|last_reward_at:   21|Elapsed Time: 0:00:00||"
     ]
    },
    {
     "name": "stderr",
     "output_type": "stream",
     "text": [
      "\r",
      "Episode 10|Iteration 22|reward:  236.0|last_reward_at:   21|Elapsed Time: 0:00:00||"
     ]
    },
    {
     "name": "stderr",
     "output_type": "stream",
     "text": [
      "\r",
      "Episode 10|Iteration 22|reward:  236.0|last_reward_at:   22|Elapsed Time: 0:00:00||"
     ]
    },
    {
     "name": "stderr",
     "output_type": "stream",
     "text": [
      "\r",
      "Episode 10|Iteration 49|reward:  242.0|last_reward_at:   22|Elapsed Time: 0:00:00||"
     ]
    },
    {
     "name": "stderr",
     "output_type": "stream",
     "text": [
      "\r",
      "Episode 10|Iteration 49|reward:  242.0|last_reward_at:   49|Elapsed Time: 0:00:00||"
     ]
    },
    {
     "name": "stderr",
     "output_type": "stream",
     "text": [
      "\r",
      "Episode 10|Iteration 92|reward:  242.0|last_reward_at:   49|Elapsed Time: 0:00:00||"
     ]
    },
    {
     "name": "stderr",
     "output_type": "stream",
     "text": [
      "\r",
      "Episode 10|Iteration 130|reward:  242.0|last_reward_at:   49|Elapsed Time: 0:00:00||"
     ]
    },
    {
     "name": "stderr",
     "output_type": "stream",
     "text": [
      "\r",
      "Episode 10|Iteration 168|reward:  242.0|last_reward_at:   49|Elapsed Time: 0:00:00||"
     ]
    },
    {
     "name": "stderr",
     "output_type": "stream",
     "text": [
      "\r",
      "Episode 10|Iteration 213|reward:  242.0|last_reward_at:   49|Elapsed Time: 0:00:00||"
     ]
    },
    {
     "name": "stderr",
     "output_type": "stream",
     "text": [
      "\r",
      "Episode 10|Iteration 251|reward:  242.0|last_reward_at:   49|Elapsed Time: 0:00:00||"
     ]
    },
    {
     "name": "stderr",
     "output_type": "stream",
     "text": [
      "\r",
      "Episode 10|Iteration 289|reward:  242.0|last_reward_at:   49|Elapsed Time: 0:00:00||"
     ]
    },
    {
     "name": "stderr",
     "output_type": "stream",
     "text": [
      "\r",
      "Episode 10|Iteration 327|reward:  242.0|last_reward_at:   49|Elapsed Time: 0:00:00||"
     ]
    },
    {
     "name": "stderr",
     "output_type": "stream",
     "text": [
      "\r",
      "Episode 10|Iteration 365|reward:  242.0|last_reward_at:   49|Elapsed Time: 0:00:00||"
     ]
    },
    {
     "name": "stderr",
     "output_type": "stream",
     "text": [
      "\r",
      "Episode 10|Iteration 403|reward:  242.0|last_reward_at:   49|Elapsed Time: 0:00:00||"
     ]
    },
    {
     "name": "stderr",
     "output_type": "stream",
     "text": [
      "\r",
      "Episode 10|Iteration 441|reward:  242.0|last_reward_at:   49|Elapsed Time: 0:00:00||"
     ]
    },
    {
     "name": "stderr",
     "output_type": "stream",
     "text": [
      "\r",
      "Episode 10|Iteration 487|reward:  242.0|last_reward_at:   49|Elapsed Time: 0:00:00||"
     ]
    },
    {
     "name": "stderr",
     "output_type": "stream",
     "text": [
      "\r",
      "Episode 10|Iteration 525|reward:  242.0|last_reward_at:   49|Elapsed Time: 0:00:00||"
     ]
    },
    {
     "name": "stderr",
     "output_type": "stream",
     "text": [
      "\r",
      "Episode 10|Iteration 570|reward:  242.0|last_reward_at:   49|Elapsed Time: 0:00:00||"
     ]
    },
    {
     "name": "stderr",
     "output_type": "stream",
     "text": [
      "\r",
      "Episode 10|Iteration 600|reward:  242.0|last_reward_at:   49|Elapsed Time: 0:00:00||"
     ]
    },
    {
     "name": "stderr",
     "output_type": "stream",
     "text": [
      "\r",
      "Episode 10|Iteration 600|reward:  242.0|last_reward_at:   49|Elapsed Time: 0:00:00||"
     ]
    },
    {
     "name": "stderr",
     "output_type": "stream",
     "text": [
      "\n"
     ]
    },
    {
     "name": "stdout",
     "output_type": "stream",
     "text": [
      "  Episode 10 stopped at t=600 \n",
      "  Breakdown [Reward/NoReward (Success rate)]\n",
      "    explore-local: 3/56 (0.05)\n",
      "    explore-remote: 4/269 (0.01)\n",
      "    explore-connect: 0/0 (NaN)\n",
      "    exploit-local: 0/0 (NaN)\n",
      "    exploit-remote: 0/0 (NaN)\n",
      "    exploit-connect: 2/266 (0.01)\n",
      "  exploit deflected to exploration: 11\n",
      "simulation ended\n"
     ]
    },
    {
     "data": {
      "image/png": "[encoded data removed]",
      "text/plain": [
       "<Figure size 432x288 with 1 Axes>"
      ]
     },
     "metadata": {
      "needs_background": "light"
     },
     "output_type": "display_data"
    }
   ],
   "source": [
    "credlookup_run = learner.epsilon_greedy_search(\n",
    "    cyberbattlechain_defender,\n",
    "    ep,\n",
    "    learner=rca.CredentialCacheExploiter(),\n",
    "    episode_count=10,\n",
    "    iteration_count=iteration_count,\n",
    "    epsilon=0.90,\n",
    "    render=False,\n",
    "    epsilon_exponential_decay=10000,\n",
    "    epsilon_minimum=0.10,\n",
    "    verbosity=Verbosity.Quiet,\n",
    "    title=\"Credential lookups (ϵ-greedy)\"\n",
    ")"
   ]
  },
  {
   "cell_type": "code",
   "execution_count": 6,
   "id": "straight-plenty",
   "metadata": {
    "execution": {
     "iopub.execute_input": "2021-09-06T21:31:46.796127Z",
     "iopub.status.busy": "2021-09-06T21:31:46.795214Z",
     "iopub.status.idle": "2021-09-06T21:31:47.329682Z",
     "shell.execute_reply": "2021-09-06T21:31:47.330174Z"
    },
    "papermill": {
     "duration": 1.098617,
     "end_time": "2021-09-06T21:31:47.330365",
     "exception": false,
     "start_time": "2021-09-06T21:31:46.231748",
     "status": "completed"
    },
    "tags": []
   },
   "outputs": [
    {
     "data": {
      "image/png": "[encoded data removed]",
      "text/plain": [
       "<Figure size 720x576 with 1 Axes>"
      ]
     },
     "metadata": {
      "needs_background": "light"
     },
     "output_type": "display_data"
    },
    {
     "data": {
      "image/png": "[encoded data removed]",
      "text/plain": [
       "<Figure size 720x576 with 1 Axes>"
      ]
     },
     "metadata": {
      "needs_background": "light"
     },
     "output_type": "display_data"
    }
   ],
   "source": [
    "# Plots\n",
    "all_runs = [\n",
    "    credlookup_run,\n",
    "    dqn_with_defender,\n",
    "    dql_exploit_run\n",
    "]\n",
    "p.plot_averaged_cummulative_rewards(\n",
    "    all_runs=all_runs,\n",
    "    title=f'Attacker agents vs Basic Defender -- rewards\\n env={cyberbattlechain_defender.name}, episodes={training_episode_count}'\n",
    ")\n",
    "\n",
    "# p.plot_episodes_length(all_runs)\n",
    "p.plot_averaged_availability(title=f\"Attacker agents vs Basic Defender -- availability\\n env={cyberbattlechain_defender.name}, episodes={training_episode_count}\", all_runs=all_runs)"
   ]
  },
  {
   "cell_type": "code",
   "execution_count": null,
   "id": "imposed-vietnam",
   "metadata": {
    "papermill": {
     "duration": 0.572345,
     "end_time": "2021-09-06T21:31:48.457429",
     "exception": false,
     "start_time": "2021-09-06T21:31:47.885084",
     "status": "completed"
    },
    "tags": []
   },
   "outputs": [],
   "source": []
  },
  {
   "cell_type": "code",
   "execution_count": null,
   "id": "august-quest",
   "metadata": {
    "papermill": {
     "duration": 0.542453,
     "end_time": "2021-09-06T21:31:49.551296",
     "exception": false,
     "start_time": "2021-09-06T21:31:49.008843",
     "status": "completed"
    },
    "tags": []
   },
   "outputs": [],
   "source": []
  },
  {
   "cell_type": "code",
   "execution_count": null,
   "id": "acceptable-killer",
   "metadata": {
    "papermill": {
     "duration": 0.562564,
     "end_time": "2021-09-06T21:31:50.669670",
     "exception": false,
     "start_time": "2021-09-06T21:31:50.107106",
     "status": "completed"
    },
    "tags": []
   },
   "outputs": [],
   "source": []
  },
  {
   "cell_type": "code",
   "execution_count": null,
   "id": "australian-pantyhose",
   "metadata": {
    "papermill": {
     "duration": 0.570383,
     "end_time": "2021-09-06T21:31:51.803874",
     "exception": false,
     "start_time": "2021-09-06T21:31:51.233491",
     "status": "completed"
    },
    "tags": []
   },
   "outputs": [],
   "source": []
  }
 ],
 "metadata": {
  "jupytext": {
   "cell_metadata_filter": "-all"
  },
  "kernelspec": {
   "display_name": "Python 2.7.12 64-bit",
   "language": "python",
   "name": "python271264bit467ff8c3aa8a4177808b84ed66cfa565"
  },
  "language_info": {
   "codemirror_mode": {
    "name": "ipython",
    "version": 3
   },
   "file_extension": ".py",
   "mimetype": "text/x-python",
   "name": "python",
   "nbconvert_exporter": "python",
   "pygments_lexer": "ipython3",
   "version": "3.8.9"
  },
  "papermill": {
   "default_parameters": {},
   "duration": 87.973455,
   "end_time": "2021-09-06T21:31:53.090053",
   "environment_variables": {},
   "exception": null,
   "input_path": "-",
   "output_path": "../../../../notebooks/notebook_withdefender.ipynb",
   "parameters": {},
   "start_time": "2021-09-06T21:30:25.116598",
   "version": "2.3.3"
  }
 },
 "nbformat": 4,
 "nbformat_minor": 5
}