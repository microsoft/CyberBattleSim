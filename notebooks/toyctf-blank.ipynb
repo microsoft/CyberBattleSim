{
 "cells": [
  {
   "cell_type": "markdown",
   "id": "41787289",
   "metadata": {},
   "source": [
    "pyright:  reportUnusedExpression=false"
   ]
  },
  {
   "cell_type": "markdown",
   "id": "5080c693",
   "metadata": {
    "papermill": {
     "duration": 0.00341,
     "end_time": "2024-08-05T18:48:25.576798",
     "exception": false,
     "start_time": "2024-08-05T18:48:25.573388",
     "status": "completed"
    }
   },
   "source": [
    "Copyright (c) Microsoft Corporation. All rights reserved. Licensed under the MIT License.\n",
    "\n",
    "# Capture the Flag Toy Example - Interactive (Human player)"
   ]
  },
  {
   "cell_type": "markdown",
   "id": "529d676c",
   "metadata": {
    "papermill": {
     "duration": 0.002058,
     "end_time": "2024-08-05T18:48:25.581534",
     "exception": false,
     "start_time": "2024-08-05T18:48:25.579476",
     "status": "completed"
    }
   },
   "source": [
    "This is a blank instantiaion of the Capture The Flag network to be played interactively by a human player (not via the gym envrionment).\n",
    "The interface exposed to the attacker is given by the following commands:\n",
    "    - c2.print_all_attacks()\n",
    "    - c2.run_attack(node, attack_id)\n",
    "    - c2.run_remote_attack(source_node, target_node, attack_id)\n",
    "    - c2.connect_and_infect(source_node, target_node, port_name, credential_id)"
   ]
  },
  {
   "cell_type": "code",
   "execution_count": null,
   "id": "6f8c5291",
   "metadata": {
    "papermill": {
     "duration": 1.046626,
     "end_time": "2024-08-05T18:48:26.629929",
     "exception": false,
     "start_time": "2024-08-05T18:48:25.583303",
     "status": "completed"
    }
   },
   "outputs": [],
   "source": [
    "import sys, logging\n",
    "import cyberbattle.simulation.model as model\n",
    "import cyberbattle.simulation.commandcontrol as commandcontrol\n",
    "import cyberbattle.samples.toyctf.toy_ctf as ctf\n",
    "import plotly.offline as plo\n",
    "\n",
    "plo.init_notebook_mode(connected=True) # type: ignore\n",
    "logging.basicConfig(stream=sys.stdout, level=logging.INFO, format=\"%(levelname)s: %(message)s\")\n",
    "%matplotlib inline"
   ]
  },
  {
   "cell_type": "code",
   "execution_count": null,
   "id": "a160b2d6",
   "metadata": {
    "papermill": {
     "duration": 0.015038,
     "end_time": "2024-08-05T18:48:26.647048",
     "exception": false,
     "start_time": "2024-08-05T18:48:26.632010",
     "status": "completed"
    }
   },
   "outputs": [],
   "source": [
    "network = model.create_network(ctf.nodes)\n",
    "env = model.Environment(network=network, vulnerability_library=dict([]), identifiers=ctf.ENV_IDENTIFIERS)\n",
    "env"
   ]
  },
  {
   "cell_type": "code",
   "execution_count": null,
   "id": "c566f12c",
   "metadata": {
    "papermill": {
     "duration": 0.169255,
     "end_time": "2024-08-05T18:48:26.818014",
     "exception": false,
     "start_time": "2024-08-05T18:48:26.648759",
     "status": "completed"
    }
   },
   "outputs": [],
   "source": [
    "env.plot_environment_graph()"
   ]
  },
  {
   "cell_type": "code",
   "execution_count": null,
   "id": "f5b48f48",
   "metadata": {
    "papermill": {
     "duration": 0.060746,
     "end_time": "2024-08-05T18:48:26.882562",
     "exception": false,
     "start_time": "2024-08-05T18:48:26.821816",
     "status": "completed"
    }
   },
   "outputs": [],
   "source": [
    "c2 = commandcontrol.CommandControl(env)\n",
    "dbg = commandcontrol.EnvironmentDebugging(c2)\n",
    "\n",
    "\n",
    "def plot():\n",
    "    dbg.plot_discovered_network()\n",
    "    c2.print_all_attacks()\n",
    "\n",
    "\n",
    "plot()"
   ]
  }
 ],
 "metadata": {
  "jupytext": {
   "formats": "ipynb,auto:percent"
  },
  "kernelspec": {
   "display_name": "Python 3 (ipykernel)",
   "language": "python",
   "name": "python3"
  },
  "language_info": {
   "codemirror_mode": {
    "name": "ipython",
    "version": 3
   },
   "file_extension": ".py",
   "mimetype": "text/x-python",
   "name": "python",
   "nbconvert_exporter": "python",
   "pygments_lexer": "ipython3",
   "version": "3.10.12"
  }
 },
 "nbformat": 4,
 "nbformat_minor": 5
}
