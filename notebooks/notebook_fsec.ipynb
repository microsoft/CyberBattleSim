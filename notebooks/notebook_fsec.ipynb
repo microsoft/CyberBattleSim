{
 "cells": [
  {
   "cell_type": "markdown",
   "metadata": {},
   "source": [
    "# 금융기관 네트워크 사이버 공격 시뮬레이션"
   ]
  },
  {
   "cell_type": "code",
   "execution_count": 1,
   "metadata": {},
   "outputs": [],
   "source": [
    "import sys\n",
    "sys.path.append('..')\n",
    "\n",
    "from pathlib import Path\n",
    "\n",
    "import logging as log\n",
    "import gymnasium as gym\n",
    "import cyberbattle.agents.baseline.agent_dql as agent\n",
    "import cyberbattle.agents.baseline.plotting as p\n",
    "import cyberbattle.agents.baseline.learner as learner\n",
    "from cyberbattle.agents.baseline.agent_wrapper import Verbosity\n",
    "from cyberbattle._env.cyberbattle_env import CyberBattleEnv"
   ]
  },
  {
   "cell_type": "markdown",
   "metadata": {},
   "source": [
    "## 기본 환경설정"
   ]
  },
  {
   "cell_type": "code",
   "execution_count": null,
   "metadata": {},
   "outputs": [],
   "source": [
    "log.basicConfig(stream=sys.stdout, level=log.ERROR, format='%(levelname)s: %(message)s')\n",
    "\n",
    "gymid = 'FinancialNetworkSim'\n",
    "iteration_count = 5000\n",
    "training_episode_count = 50\n",
    "eval_episode_count = 5\n",
    "plots_dir = 'output/plots'\n",
    "\n",
    "Path(plots_dir).mkdir(exist_ok=False)\n"
   ]
  }
 ],
 "metadata": {
  "kernelspec": {
   "display_name": "sim",
   "language": "python",
   "name": "python3"
  },
  "language_info": {
   "codemirror_mode": {
    "name": "ipython",
    "version": 3
   },
   "file_extension": ".py",
   "mimetype": "text/x-python",
   "name": "python",
   "nbconvert_exporter": "python",
   "pygments_lexer": "ipython3",
   "version": "3.9.19"
  }
 },
 "nbformat": 4,
 "nbformat_minor": 2
}
